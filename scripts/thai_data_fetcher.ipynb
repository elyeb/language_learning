{
 "cells": [
  {
   "cell_type": "code",
   "execution_count": null,
   "id": "05aba0c4",
   "metadata": {},
   "outputs": [],
   "source": [
    "\"\"\"\n",
    "\n",
    "Contents:\n",
    "-data intialization from csv file of words &\n",
    " build data structure to house info moving forward\n",
    "-write to .json formats\n",
    "-read from existing .json formats\n",
    "-get list of words to find\n",
    "-scrape BBC\n",
    "-scrape voiceTV\n",
    "\"\"\""
   ]
  },
  {
   "cell_type": "code",
   "execution_count": 1,
   "id": "ebdc6804",
   "metadata": {},
   "outputs": [
    {
     "name": "stderr",
     "output_type": "stream",
     "text": [
      "Using state Washington server backend.\n"
     ]
    }
   ],
   "source": [
    "import bs4, requests, sys, codecs, urllib.request, re\n",
    "from bs4 import SoupStrainer\n",
    "from bs4.element import Comment\n",
    "import random\n",
    "#import pythainlp\n",
    "from pythainlp.tokenize import word_tokenize, sent_tokenize\n",
    "import string\n",
    "import json\n",
    "import pandas as pd\n",
    "import os\n",
    "from os import listdir\n",
    "from os.path import isfile, join\n",
    "import pprint\n",
    "import translators as ts\n",
    "\n",
    "pp = pprint.PrettyPrinter()\n",
    "pd.set_option('display.max_rows', None)\n",
    "pd.set_option('display.max_colwidth', 0)\n",
    "\n",
    "path = \"/Users/elyebliss/Desktop/Vocabulary/language_learning/vocab_dfs/\"\n",
    "source_file = \"thai.json\""
   ]
  },
  {
   "cell_type": "code",
   "execution_count": 2,
   "id": "ce69b1b0",
   "metadata": {},
   "outputs": [],
   "source": [
    "##METHODS\n",
    "\n",
    "def tag_visible(element):\n",
    "    if element.parent.name in ['style', 'script', 'head', 'title', 'meta', '[document]']:\n",
    "        return False\n",
    "    if isinstance(element, Comment):\n",
    "        return False\n",
    "    return True\n",
    "\n",
    "\n",
    "def text_from_html(body):\n",
    "    soup = bs4.BeautifulSoup(body, 'html.parser')\n",
    "    texts = soup.findAll(text=True)\n",
    "    visible_texts = filter(tag_visible, texts)  \n",
    "    return u\" \".join(t.strip() for t in visible_texts)\n",
    "\n",
    "\n",
    "\n",
    "user_agent = 'Mozilla/5.0 (Windows NT 6.3; WOW64; rv:50.0) Gecko/20100101 Firefox/50.0'\n",
    "headers={'User-Agent':user_agent,}\n",
    "parser = 'html.parser'"
   ]
  },
  {
   "cell_type": "code",
   "execution_count": 3,
   "id": "63afba50",
   "metadata": {},
   "outputs": [],
   "source": [
    "def get_known(unknown_list):\n",
    "    \n",
    "    count_got = 0\n",
    "    known_list = []\n",
    "    for word in unknown_list:\n",
    "        decision = str(input(word+\"\\nKnown =k\"))\n",
    "        if decision =='k':\n",
    "            known_list.append(word)\n",
    "            count_got +=1\n",
    "            print(\"got \"+str(count_got))\n",
    "        elif decision=='q':\n",
    "            break\n",
    "        try:\n",
    "            print(ts.google(word))\n",
    "        except:\n",
    "            print('cant find')\n",
    "    return known_list"
   ]
  },
  {
   "cell_type": "code",
   "execution_count": 4,
   "id": "117b26f1",
   "metadata": {},
   "outputs": [],
   "source": [
    "def filter_text(webpage,start=None,stop=None,\\\n",
    "                print_word_lvl=False,percent_threshold=None,\\\n",
    "               return_percent=False):\n",
    "\n",
    "\n",
    "    try:\n",
    "        request=urllib.request.Request(webpage,None,headers) #The assembled request\n",
    "        response = urllib.request.urlopen(request)\n",
    "        data = response.read()\n",
    "        contents = text_from_html(data)\n",
    "\n",
    "        known_array = []\n",
    "        unk_array = []\n",
    "        contents_array = sent_tokenize(contents)\n",
    "\n",
    "        if (start is not None) and (stop is not None):\n",
    "            contents_array=contents_array[max(start,0):min(stop,len(contents_array))]\n",
    "\n",
    "        disallowed_words = set()\n",
    "\n",
    "        total_words = 0\n",
    "        unknown_words = 0\n",
    "        \n",
    "        lines = []\n",
    "        unknowns = []\n",
    "        for line in contents_array:\n",
    "\n",
    "\n",
    "            tokenized = word_tokenize(line)\n",
    "\n",
    "\n",
    "            add_line = True\n",
    "            line_total = 0\n",
    "            line_unks = 0\n",
    "\n",
    "            unk_str = \"\"\n",
    "            for word in tokenized:\n",
    "                \n",
    "                total_words +=1\n",
    "                line_total +=1\n",
    "\n",
    "                if bool(re.search('[\\u0E00-\\u0E7F]+', word, flags=re.UNICODE)) and not ((word in vocab['white_listed']) or\\\n",
    "                                                            (word in vocab['black_listed'])):\n",
    "\n",
    "                        unk_str += '\"'+word+'\"'+\", \"\n",
    "                        if not percent_threshold:\n",
    "                            add_line = False\n",
    "                        disallowed_words.add(word)\n",
    "                        unknown_words +=1\n",
    "                        line_unks +=1\n",
    "\n",
    "            if percent_threshold:\n",
    "                if line_total>0:\n",
    "                    if (1-(line_unks/line_total))<percent_threshold:\n",
    "                        add_line = False\n",
    "            if add_line:\n",
    "                known_array.append(line)\n",
    "                unk_array.append(\"...\")\n",
    "            else:\n",
    "                known_array.append(\"...\")\n",
    "                unk_array.append(line)\n",
    "\n",
    "            if len(unk_str)>0:\n",
    "                unk_str = unk_str[0:len(unk_str)-2]\n",
    "\n",
    "            unknowns.append(unk_str)\n",
    "\n",
    "        if print_word_lvl and total_words>0:\n",
    "            print(\"word-level % known = \"+str((1-(unknown_words/total_words))*100))\n",
    "        if return_percent and total_words>0:\n",
    "            return (1-(unknown_words/total_words))*100\n",
    "        return_pd = pd.DataFrame(list(zip(known_array,unk_array,unknowns)))\n",
    "        return_pd.columns = [\"knowns\",\"unknowns\",\"unk_words\"]\n",
    "\n",
    "        \n",
    "\n",
    "        with open(path+'unknown_thai_list.txt',\"w\") as outfile:\n",
    "            outfile.write(str(list(disallowed_words)))\n",
    "\n",
    "        return return_pd\n",
    "\n",
    "    except:\n",
    "        pass"
   ]
  },
  {
   "cell_type": "code",
   "execution_count": 73,
   "id": "826dae68",
   "metadata": {},
   "outputs": [
    {
     "name": "stdout",
     "output_type": "stream",
     "text": [
      "2209\n",
      "2533\n"
     ]
    }
   ],
   "source": [
    "\"\"\"read from existing .json formats\n",
    "uncovered, \n",
    "2209\n",
    "2533\n",
    "\"\"\"\n",
    "with open(path+source_file, \"r\") as path_in:\n",
    "    vocab = json.loads(path_in.read())\n",
    "vocab['white_listed'] = set(vocab['white_listed'])\n",
    "vocab['black_listed'] = set(vocab['black_listed'])\n",
    "print(len(vocab['white_listed'])) \n",
    "\n",
    "#get 4k freq word info:\n",
    "with open(path+'th_freq.csv','r') as infile:\n",
    "    freq_df = pd.read_csv(infile)\n",
    "uncovered = []\n",
    "for word in freq_df.word:\n",
    "    if word not in vocab['white_listed']:\n",
    "        uncovered.append(word)\n",
    "print(len(uncovered))\n",
    "\n"
   ]
  },
  {
   "cell_type": "code",
   "execution_count": 74,
   "id": "004a939d",
   "metadata": {},
   "outputs": [
    {
     "name": "stdout",
     "output_type": "stream",
     "text": [
      "Checking BBC Thai\n",
      "Checking VoiceTV\n"
     ]
    }
   ],
   "source": [
    "pages = []\n",
    "titles = []\n",
    "\n",
    "##BBC\n",
    "print(\"Checking BBC Thai\")\n",
    "parser = 'html.parser'  # or 'lxml' (preferred) or 'html5lib', if installed\n",
    "request=urllib.request.Request('https://www.bbc.com/thai/topics/cjgn73g98rqt',None,headers)\n",
    "resp = urllib.request.urlopen(request)\n",
    "soup = bs4.BeautifulSoup(resp, parser, from_encoding=resp.info().get_param('charset'))\n",
    "\n",
    "\n",
    "for link in soup.find_all('a', href=True):\n",
    "    if 'https://www.bbc.com/thai/thailand' in str(link['href']):\n",
    "        pages.append(str(link['href']))\n",
    "        request=urllib.request.Request(str(link['href']),None,headers) #The assembled request\n",
    "\n",
    "        response = urllib.request.urlopen(request)\n",
    "        data = response.read()\n",
    "        contents = text_from_html(data)\n",
    "        if bool(re.search(\"(?<=ยอดนิยม หน้าแรก ประเทศไทย ต่างประเทศ วิทยาศาสตร์ สุขภาพ โควิด-19 วิดีโอ ยอดนิยม).{30}\",contents)):\n",
    "            titles.append(re.findall(\"(?<=ยอดนิยม หน้าแรก ประเทศไทย ต่างประเทศ วิทยาศาสตร์ สุขภาพ โควิด-19 วิดีโอ ยอดนิยม).{30}\",contents)[0].strip())\n",
    "\n",
    "    elif '/thai/thailand' in str(link['href']):\n",
    "        pages.append('https://www.bbc.com'+str(link['href']))\n",
    "\n",
    "##VoiceTV\n",
    "print(\"Checking VoiceTV\")\n",
    "parser = 'html.parser'  # or 'lxml' (preferred) or 'html5lib', if installed\n",
    "request=urllib.request.Request('https://www.voicetv.co.th/topic/%E0%B8%81%E0%B8%B2%E0%B8%A3%E0%B9%80%E0%B8%A1%E0%B8%B7%E0%B8%AD%E0%B8%87',None,headers)\n",
    "resp = urllib.request.urlopen(request)\n",
    "soup = bs4.BeautifulSoup(resp, parser, from_encoding=resp.info().get_param('charset'))\n",
    "\n",
    " \n",
    "for link in soup.find_all('a', href=True):\n",
    "    str_page = 'https://www.voicetv.co.th'+str(link['href'])\n",
    "    if '/read/' in str(link['href']) and str_page not in pages:\n",
    "        pages.append(str_page)\n",
    "        request=urllib.request.Request(str_page,None,headers) #The assembled request\n",
    "\n",
    "        response = urllib.request.urlopen(request)\n",
    "        data = response.read()\n",
    "        contents = text_from_html(data)\n",
    "        titles.append(re.findall(\"(?<=  :).{30}\",contents)[0].strip())"
   ]
  },
  {
   "cell_type": "code",
   "execution_count": 75,
   "id": "411c6c9a",
   "metadata": {},
   "outputs": [
    {
     "data": {
      "text/plain": [
       "1232"
      ]
     },
     "execution_count": 75,
     "metadata": {},
     "output_type": "execute_result"
    }
   ],
   "source": [
    "#load prev corpus and add\n",
    "known_corpus = set()\n",
    "with open(path+\"all_known_thai_lines.txt\",\"r\",encoding='utf-8') as infile:\n",
    "    for line in infile.read().split('\\n'):\n",
    "        known_corpus.add(line)\n",
    "len(known_corpus)"
   ]
  },
  {
   "cell_type": "code",
   "execution_count": 76,
   "id": "bb6ee0f7",
   "metadata": {},
   "outputs": [
    {
     "name": "stdout",
     "output_type": "stream",
     "text": [
      "percent all known= 0.18558558558558558\n"
     ]
    }
   ],
   "source": [
    "#Find % of all sentences of news\n",
    "knowns = []\n",
    "all_lines = 0\n",
    "\n",
    "known_percents = []\n",
    "\n",
    "for webpage in pages:\n",
    "    \n",
    "    test_df = filter_text(webpage)\n",
    "    all_lines += len(list(test_df.knowns))\n",
    "    \n",
    "    known_percents.append(filter_text(webpage,return_percent=True))\n",
    "    \n",
    "    for item in list(test_df.knowns[test_df.knowns != '...']):\n",
    "        knowns.append(item)\n",
    "percent = len(knowns)/float(all_lines)\n",
    "print(\"percent all known= \"+str(percent))\n"
   ]
  },
  {
   "cell_type": "code",
   "execution_count": 77,
   "id": "1fa348ef",
   "metadata": {
    "collapsed": true
   },
   "outputs": [
    {
     "data": {
      "text/plain": [
       "['อาจจะด้วยการยกเลิกความร่วมมือหรือการดำเนินนโยบายต่างๆที่เกิดขึ้นในการประชุมเอเปคที่ผ่านมา ',\n",
       " 'ด้วยเหตุผลทาง ‘ข้อกฎหมาย’ ให้ ส.ส. ได้ย้ายพรรคหรือไม่ หรืออีกทางคืออยู่ ',\n",
       " 'ร่วมกันตรวจสอบข้อเท็จจริงและแสดงความคิดเห็นต่อสิ่งที่เกิดขึ้น ',\n",
       " 'เมื่อวันที่ 18 พฤศจิกายน ที่ผ่านมา ใน 4 ประเด็น ดังนี้ ',\n",
       " '“ผมไม่มีความขัดแย้งกันเลย อยู่กันมา 40-50 ปีแล้ว ',\n",
       " 'Last update Nov 28, 2022 07:36 )   ตำรวจรถไฟ ',\n",
       " 'พบว่า มีกรณีดังกล่าวเกิดขึ้นทั้งหมด 57 กรณี ',\n",
       " 'ในส่วนของสภาพจิตใจหลังเหตุการณ์ที่เกิดขึ้น ',\n",
       " 'ปัจจุบัน แต่ถ้ารัฐธรรมนูญเขียนไว้แบบนี้ ',\n",
       " 'สุดท้ายเป็นเพียง ‘กระแสข่าว’ เท่านั้น ',\n",
       " 'ซึ่งจะสามารถดูผลปฏิบัติหน้าที่ได้ ',\n",
       " 'ร่างแก้ไขรัฐธรรมนูญใหม่ ทั้งฉบับ ',\n",
       " 'ทั้งนี้มีการมองว่า พล.อ.ประยุทธ์ ',\n",
       " 'แม้ได้ขึ้นมามีอำนาจ แต่ก็ไม่เท่า ',\n",
       " 'เขาจะถูกจำกัดด้วยระยะเวลา 8 ปี ',\n",
       " 'มีความรุนแรงเกินกว่าเหตุ 3. ',\n",
       " '“การประชุมเอเปคที่เกิดขึ้น ',\n",
       " 'ต้องทำเพื่อพี่น้องประชาชน ',\n",
       " 'ช่วงปี 70 ซึ่งจะเป็นอีก ',\n",
       " 'ผมไม่ได้พูดถึงตัวนายกฯ ',\n",
       " 'อีกทั้ง พล.อ.ประยุทธ์ ',\n",
       " 'หัวหน้าพรรคเพื่อไทย ',\n",
       " 'ส่วน พล.อ.ประยุทธ์ ',\n",
       " 'ไม่เปิดหน้ามากนัก ',\n",
       " 'ทำให้มีการมองว่า ',\n",
       " 'รับเรื่องตรวจสอบ ',\n",
       " 'ผมไม่มีปัญหาอะไร ',\n",
       " 'จะกลับมาหรือไม่ ',\n",
       " 'แก้ไขเพิ่มเติม ',\n",
       " 'เปิดหน้าชัดเจน ',\n",
       " 'ซึ่งเรื่องนี้ ',\n",
       " 'ไม่ลงชนกันเอง ',\n",
       " 'เริ่มยิ้มได้ ',\n",
       " 'ชุดปัจจุบัน ',\n",
       " '‘ช่วงเวลา’ ',\n",
       " 'หัวเราะได้ ',\n",
       " 'ไม่มีอะไร ',\n",
       " 'ในปี2558 ',\n",
       " 'แล้วดูด ',\n",
       " 'ชุดนี้ ']"
      ]
     },
     "execution_count": 77,
     "metadata": {},
     "output_type": "execute_result"
    }
   ],
   "source": [
    "#sorted(list(set(knowns)),key=len,reverse=True)\n",
    "sorted(list(set(knowns).difference(known_corpus)),key=len,reverse=True)"
   ]
  },
  {
   "cell_type": "code",
   "execution_count": 78,
   "id": "1ee450fe",
   "metadata": {},
   "outputs": [
    {
     "data": {
      "text/plain": [
       "1272"
      ]
     },
     "execution_count": 78,
     "metadata": {},
     "output_type": "execute_result"
    }
   ],
   "source": [
    "for item in list(set(knowns)):\n",
    "    known_corpus.add(item)\n",
    "\n",
    "with open(path+\"all_known_thai_lines.txt\",\"w\",encoding='utf-8') as outfile:\n",
    "    for line in list(set(known_corpus)):\n",
    "        outfile.write(line+'\\n')\n",
    "len(known_corpus)"
   ]
  },
  {
   "cell_type": "code",
   "execution_count": 79,
   "id": "2d6948c1",
   "metadata": {},
   "outputs": [
    {
     "name": "stdout",
     "output_type": "stream",
     "text": [
      "19\n"
     ]
    }
   ],
   "source": [
    "websites = set()\n",
    "\n",
    "with open(path+'viewed_websites_th.txt',\"r\") as infile:\n",
    "    for line in infile.read().split('\\n'):\n",
    "        websites.add(line)\n",
    "print(len(websites))"
   ]
  },
  {
   "cell_type": "code",
   "execution_count": 80,
   "id": "2a643828",
   "metadata": {
    "collapsed": true
   },
   "outputs": [
    {
     "data": {
      "text/plain": [
       "[(4,\n",
       "  88.70967741935483,\n",
       "  '‘ประยุทธ์’ อวยพรปีใหม่สื่อทำเ',\n",
       "  'https://www.voicetv.co.th/read/nZh_0I_Gs'),\n",
       " (2,\n",
       "  88.67924528301887,\n",
       "  \"ร้อง 'เพื่อไทย' ปม 'กองบังคับ\",\n",
       "  'https://www.voicetv.co.th/read/eKYZVKder'),\n",
       " (3,\n",
       "  86.04651162790698,\n",
       "  \"'วิป 3 ฝ่าย' ไม่เลื่อนวาระ 'ป\",\n",
       "  'https://www.voicetv.co.th/read/hJnNl9Vu5'),\n",
       " (0,\n",
       "  85.43563068920676,\n",
       "  'ปฏิวัติเงียบ ‘พรรคเดียว’\\xa0แผนส',\n",
       "  'https://www.bbc.com/thai/thailand-63662204'),\n",
       " (1,\n",
       "  85.33400301356102,\n",
       "  \"'ราษฎรหยุดเอเปค' ยื่น 8 สถานท\",\n",
       "  'https://www.voicetv.co.th/read/HA24Ud8Qc'),\n",
       " (7,\n",
       "  80.78003120124805,\n",
       "  'จับตา ‘ราษฎรแรลลี่’ จาก ‘วังล',\n",
       "  'https://www.voicetv.co.th/read/rI-9LjhEh'),\n",
       " (5,\n",
       "  80.27923211169285,\n",
       "  '‘วิษณุ’แย้มประตูยุบสภาเปิดอยู',\n",
       "  'https://www.voicetv.co.th/read/bn95YMr0a')]"
      ]
     },
     "execution_count": 80,
     "metadata": {},
     "output_type": "execute_result"
    }
   ],
   "source": [
    "page_titles = list(zip(range(0,len(known_percents)),known_percents,titles,pages))\n",
    "# (sorted(list(zip(range(0,len(known_percents)),known_percents)),key = lambda x: x[1],reverse=True))\n",
    "page_titles = sorted(page_titles,key = lambda x: x[1],reverse=True)\n",
    "page_titles = [item for item in page_titles if not (item[3] in websites)]\n",
    "page_titles"
   ]
  },
  {
   "cell_type": "code",
   "execution_count": 81,
   "id": "1e2e7b73",
   "metadata": {},
   "outputs": [],
   "source": [
    "webpage = pages[4]\n",
    "if webpage in websites:\n",
    "    print(\"already scanned! choose another!\")\n",
    "websites.add(webpage)"
   ]
  },
  {
   "cell_type": "code",
   "execution_count": 82,
   "id": "f737a6dc",
   "metadata": {},
   "outputs": [],
   "source": [
    "\n",
    "with open(path+'viewed_websites_th.txt',\"w\") as outfile:\n",
    "    for line in websites:\n",
    "        outfile.write(line+'\\n')      \n"
   ]
  },
  {
   "cell_type": "code",
   "execution_count": 83,
   "id": "141ae514",
   "metadata": {},
   "outputs": [
    {
     "name": "stdout",
     "output_type": "stream",
     "text": [
      "word-level % known = 88.70967741935483\n"
     ]
    }
   ],
   "source": [
    "#display() #percent_threshold=0.95\n",
    "art=filter_text(webpage,print_word_lvl=True)"
   ]
  },
  {
   "cell_type": "code",
   "execution_count": 84,
   "id": "8bce1137",
   "metadata": {},
   "outputs": [
    {
     "name": "stdout",
     "output_type": "stream",
     "text": [
      "39\n"
     ]
    }
   ],
   "source": [
    "with open(path+'unknown_thai_list.txt',\"r\") as input_file:\n",
    "    new_words = input_file.read()\n",
    "    new_words = re.sub(\"[\\n\\'\\[\\]]\",\"\",new_words)\n",
    "    new_words = new_words.split(',')\n",
    "    new_words = [line.strip() for line in new_words] #update regex\n",
    "#new_words\n",
    "print(len(new_words))\n",
    "#known_manual = get_known(new_words)"
   ]
  },
  {
   "cell_type": "code",
   "execution_count": 85,
   "id": "efd86a33",
   "metadata": {},
   "outputs": [],
   "source": [
    "import mitosheet\n",
    "unk_df = pd.DataFrame(new_words)\n",
    "unk_df.columns = ['word']\n",
    "unk_df['status'] = pd.Series(['' for word in new_words])"
   ]
  },
  {
   "cell_type": "code",
   "execution_count": 86,
   "id": "3663bb4f",
   "metadata": {
    "collapsed": true
   },
   "outputs": [
    {
     "data": {
      "application/vnd.jupyter.widget-view+json": {
       "model_id": "ff08988e8a274684948a081263922668",
       "version_major": 2,
       "version_minor": 0
      },
      "text/plain": [
       "MitoWidget(analysis_data_json='{\"analysisName\": \"id-sfhsmlsijc\", \"analysisToReplay\": null, \"code\": [], \"stepSu…"
      ]
     },
     "metadata": {},
     "output_type": "display_data"
    }
   ],
   "source": [
    "mitosheet.sheet(unk_df, analysis_to_replay=\"id-sfhsmlsijc\") "
   ]
  },
  {
   "cell_type": "code",
   "execution_count": null,
   "id": "cd68bfeb",
   "metadata": {},
   "outputs": [],
   "source": []
  },
  {
   "cell_type": "code",
   "execution_count": 87,
   "id": "60d5d1ff",
   "metadata": {},
   "outputs": [],
   "source": [
    "add_ints = [1, 20, 26, 37]"
   ]
  },
  {
   "cell_type": "code",
   "execution_count": 88,
   "id": "77eb121a",
   "metadata": {},
   "outputs": [],
   "source": [
    "for i in add_ints:\n",
    "    # Set a cell value in status\n",
    "    unk_df.at[i, 'status'] = 'k'"
   ]
  },
  {
   "cell_type": "code",
   "execution_count": 89,
   "id": "71c577e6",
   "metadata": {},
   "outputs": [],
   "source": [
    "translations = []\n",
    "for i in range(0,len(unk_df)):\n",
    "    try:\n",
    "        translations.append(ts.google(unk_df.word.iloc[i]))\n",
    "    except:\n",
    "        translations.append('')\n",
    "unk_df['translations']=translations\n"
   ]
  },
  {
   "cell_type": "code",
   "execution_count": 90,
   "id": "fe5bce81",
   "metadata": {
    "collapsed": true
   },
   "outputs": [
    {
     "data": {
      "application/vnd.jupyter.widget-view+json": {
       "model_id": "86a92b094c9e422f8640f8d9cce74676",
       "version_major": 2,
       "version_minor": 0
      },
      "text/plain": [
       "MitoWidget(analysis_data_json='{\"analysisName\": \"id-snxqvcgubc\", \"analysisToReplay\": null, \"code\": [], \"stepSu…"
      ]
     },
     "metadata": {},
     "output_type": "display_data"
    }
   ],
   "source": [
    "mitosheet.sheet(unk_df, analysis_to_replay=\"id-snxqvcgubc\")"
   ]
  },
  {
   "cell_type": "code",
   "execution_count": 91,
   "id": "0db509ae",
   "metadata": {},
   "outputs": [],
   "source": [
    "from mitosheet import *; register_analysis(\"id-snxqvcgubc\");\n",
    "    \n",
    "# Set a cell value in status\n",
    "unk_df.at[26, 'status'] = None\n"
   ]
  },
  {
   "cell_type": "code",
   "execution_count": 92,
   "id": "455c3cdb",
   "metadata": {},
   "outputs": [
    {
     "name": "stdout",
     "output_type": "stream",
     "text": [
      "3\n"
     ]
    }
   ],
   "source": [
    "add_words = list(unk_df.word[unk_df['status']=='k'])\n",
    "print(len(add_words))\n",
    "for word in add_words:\n",
    "    vocab['white_listed'].add(word)"
   ]
  },
  {
   "cell_type": "code",
   "execution_count": 56,
   "id": "27b8e0f9",
   "metadata": {},
   "outputs": [],
   "source": [
    "#manually remove from white\n",
    "remove_from_white = []\n",
    "\n",
    "for word in remove_from_white:\n",
    "    if word in vocab['white_listed']:\n",
    "        vocab['white_listed'].remove(word)"
   ]
  },
  {
   "cell_type": "code",
   "execution_count": 55,
   "id": "2706f449",
   "metadata": {},
   "outputs": [],
   "source": [
    "#manually add to white\n",
    "add_to_white = []\n",
    "\n",
    "for word in add_to_white:\n",
    "    vocab['white_listed'].add(word)"
   ]
  },
  {
   "cell_type": "code",
   "execution_count": 93,
   "id": "02a15572",
   "metadata": {},
   "outputs": [
    {
     "name": "stdout",
     "output_type": "stream",
     "text": [
      "2212\n"
     ]
    }
   ],
   "source": [
    "#write to .json formats\n",
    "df = vocab\n",
    "df['white_listed'] = list(df['white_listed'])\n",
    "df['black_listed'] = list(df['black_listed'])\n",
    "with open(path+source_file, \"w\") as outfile:\n",
    "    json.dump(df,outfile)\n",
    "print(len(df['white_listed']))"
   ]
  },
  {
   "cell_type": "code",
   "execution_count": 94,
   "id": "c7f67a5d",
   "metadata": {},
   "outputs": [
    {
     "name": "stdout",
     "output_type": "stream",
     "text": [
      "2212\n"
     ]
    }
   ],
   "source": [
    "#read from existing .json formats\n",
    "with open(path+source_file, \"r\") as path_in:\n",
    "    vocab = json.loads(path_in.read())\n",
    "vocab['white_listed'] = set(vocab['white_listed'])\n",
    "vocab['black_listed'] = set(vocab['black_listed'])\n",
    "print(len(vocab['white_listed']))"
   ]
  },
  {
   "cell_type": "code",
   "execution_count": 95,
   "id": "4f09c08d",
   "metadata": {},
   "outputs": [
    {
     "name": "stdout",
     "output_type": "stream",
     "text": [
      "https://www.voicetv.co.th/read/nZh_0I_Gs\n",
      "word-level % known = 89.31451612903226\n"
     ]
    },
    {
     "data": {
      "text/html": [
       "<div><div id=d2ca96b6-066e-48a9-a87e-e5022fe35b2d style=\"display:none; background-color:#9D6CFF; color:white; width:200px; height:30px; padding-left:5px; border-radius:4px; flex-direction:row; justify-content:space-around; align-items:center;\" onmouseover=\"this.style.backgroundColor='#BA9BF8'\" onmouseout=\"this.style.backgroundColor='#9D6CFF'\" onclick=\"window.commands?.execute('create-mitosheet-from-dataframe-output');\">See Full Dataframe in Mito</div> <script> if (window.commands?.hasCommand('create-mitosheet-from-dataframe-output')) document.getElementById('d2ca96b6-066e-48a9-a87e-e5022fe35b2d').style.display = 'flex' </script> <table border=\"1\" class=\"dataframe\">\n",
       "  <thead>\n",
       "    <tr style=\"text-align: right;\">\n",
       "      <th></th>\n",
       "      <th>knowns</th>\n",
       "      <th>unknowns</th>\n",
       "      <th>unk_words</th>\n",
       "    </tr>\n",
       "  </thead>\n",
       "  <tbody>\n",
       "    <tr>\n",
       "      <th>0</th>\n",
       "      <td>POLITICS ECONOMICS WORLD ENTERTAINMENT WELL-BEING LOCAL NEWS BLOG VOICE PLAZA TV PROGRAMS LIVE POLITICS ECONOMICS WORLD ENTERTAINMENT WELL-BEING LOCAL NEWS BLOG VOICE PLAZA TV PROGRAMS ABOUT FAQ CONTACT TERM OF USE SCHEDULE ไม่พบผลการค้นหา</td>\n",
       "      <td>...</td>\n",
       "      <td></td>\n",
       "    </tr>\n",
       "    <tr>\n",
       "      <th>1</th>\n",
       "      <td>...</td>\n",
       "      <td>คุณกำลังอ่าน  : 'วิป 3 ฝ่าย'</td>\n",
       "      <td>\"วิป\"</td>\n",
       "    </tr>\n",
       "    <tr>\n",
       "      <th>2</th>\n",
       "      <td>...</td>\n",
       "      <td>ไม่เลื่อนวาระ 'ปลดล็อกท้องถิ่น' Share Tweet Share การเมือง 'วิป 3 ฝ่าย'</td>\n",
       "      <td>\"วาระ\", \"ปลดล็อก\", \"วิป\"</td>\n",
       "    </tr>\n",
       "    <tr>\n",
       "      <th>3</th>\n",
       "      <td>...</td>\n",
       "      <td>ไม่เลื่อนวาระ 'ปลดล็อกท้องถิ่น' Nov 28, 2022 (</td>\n",
       "      <td>\"วาระ\", \"ปลดล็อก\"</td>\n",
       "    </tr>\n",
       "    <tr>\n",
       "      <th>4</th>\n",
       "      <td>...</td>\n",
       "      <td>Last update Nov 28, 2022 07:45 )   'วิป 3 ฝ่าย'</td>\n",
       "      <td>\"วิป\"</td>\n",
       "    </tr>\n",
       "    <tr>\n",
       "      <th>...</th>\n",
       "      <td>...</td>\n",
       "      <td>...</td>\n",
       "      <td>...</td>\n",
       "    </tr>\n",
       "    <tr>\n",
       "      <th>16</th>\n",
       "      <td>...</td>\n",
       "      <td>และเชื่อว่า ส.ส. ยังคงสำนึกในหน้าที่ที่ปฏิญาณ</td>\n",
       "      <td>\"สำนึก\", \"ปฏิญาณ\"</td>\n",
       "    </tr>\n",
       "    <tr>\n",
       "      <th>17</th>\n",
       "      <td>...</td>\n",
       "      <td>ไม่อยู่ในอาณัติของใคร</td>\n",
       "      <td>\"อาณัติ\"</td>\n",
       "    </tr>\n",
       "    <tr>\n",
       "      <th>18</th>\n",
       "      <td>...</td>\n",
       "      <td>ส่วนกระแสยุบสภานั้น ชินวรณ์ กล่าวว่า ปัจจุบันมีการต่อรองทางการเมืองต่างจากเดิม</td>\n",
       "      <td>\"ชิน\", \"วรณ์\", \"ต่อรอง\"</td>\n",
       "    </tr>\n",
       "    <tr>\n",
       "      <th>19</th>\n",
       "      <td>...</td>\n",
       "      <td>รัฐบาลและฝ่ายค้าน ก็ไม่มีความเป็นเอกภาพทั้งคู่</td>\n",
       "      <td>\"ฝ่ายค้าน\", \"เอกภาพ\"</td>\n",
       "    </tr>\n",
       "    <tr>\n",
       "      <th>20</th>\n",
       "      <td>...</td>\n",
       "      <td>จึงต้องใช้วิธีแลกเปลี่ยนความเห็นเพื่อขับเคลื่อนการประชุมให้เดินหน้าไปได้ Topic การเมือง Author กองบรรณาธิการวอยซ์ออนไลน์ 51019 Article 1192 Video 10 Blog MOST VIEWED READ WATCH ABOUT FAQ CONTACT TERM OF USE SCHEDULE</td>\n",
       "      <td>\"ขับเคลื่อน\"</td>\n",
       "    </tr>\n",
       "  </tbody>\n",
       "</table></div>"
      ],
      "text/plain": [
       "                                                                                                                                                                                                                                                 knowns  \\\n",
       "0      POLITICS ECONOMICS WORLD ENTERTAINMENT WELL-BEING LOCAL NEWS BLOG VOICE PLAZA TV PROGRAMS LIVE POLITICS ECONOMICS WORLD ENTERTAINMENT WELL-BEING LOCAL NEWS BLOG VOICE PLAZA TV PROGRAMS ABOUT FAQ CONTACT TERM OF USE SCHEDULE ไม่พบผลการค้นหา    \n",
       "1   ...                                                                                                                                                                                                                                                   \n",
       "2   ...                                                                                                                                                                                                                                                   \n",
       "3   ...                                                                                                                                                                                                                                                   \n",
       "4   ...                                                                                                                                                                                                                                                   \n",
       "5   ...                                                                                                                                                                                                                                                   \n",
       "6   ...                                                                                                                                                                                                                                                   \n",
       "7   ...                                                                                                                                                                                                                                                   \n",
       "8   แก้ไขเพิ่มเติม                                                                                                                                                                                                                                        \n",
       "9   ...                                                                                                                                                                                                                                                   \n",
       "10  ...                                                                                                                                                                                                                                                   \n",
       "11  ...                                                                                                                                                                                                                                                   \n",
       "12  ...                                                                                                                                                                                                                                                   \n",
       "13  ...                                                                                                                                                                                                                                                   \n",
       "14  ...                                                                                                                                                                                                                                                   \n",
       "15  ...                                                                                                                                                                                                                                                   \n",
       "16  ...                                                                                                                                                                                                                                                   \n",
       "17  ...                                                                                                                                                                                                                                                   \n",
       "18  ...                                                                                                                                                                                                                                                   \n",
       "19  ...                                                                                                                                                                                                                                                   \n",
       "20  ...                                                                                                                                                                                                                                                   \n",
       "\n",
       "                                                                                                                                                                                                                                                                          unknowns  \\\n",
       "0   ...                                                                                                                                                                                                                                                                              \n",
       "1   คุณกำลังอ่าน  : 'วิป 3 ฝ่าย'                                                                                                                                                                                                                                                     \n",
       "2   ไม่เลื่อนวาระ 'ปลดล็อกท้องถิ่น' Share Tweet Share การเมือง 'วิป 3 ฝ่าย'                                                                                                                                                                                                          \n",
       "3   ไม่เลื่อนวาระ 'ปลดล็อกท้องถิ่น' Nov 28, 2022 (                                                                                                                                                                                                                                   \n",
       "4   Last update Nov 28, 2022 07:45 )   'วิป 3 ฝ่าย'                                                                                                                                                                                                                                  \n",
       "5   ไม่เลื่อนวาระ 'ปลดล็อกท้องถิ่น' มาพิจารณาก่อนในการประชุมร่วมฯ พรุ่งนี้ 'ชินวรณ์' ชี้เหตุสภาล่ม                                                                                                                                                                                   \n",
       "6   ต้องรับผิดชอบทั้งฝ่ายค้าน-ฝ่ายรัฐบาล วันที่ 28 พ.ย. ที่อาคารรัฐสภา ชินวรณ์ บุณยเกียรติ ส.ส. นครศรีธรรมราช พรรคประชาธิปัตย์ ในฐานะรองประธานคณะกรรมการประสานงานพรรคร่วมรัฐบาล (วิปรัฐบาล) เผยมติของที่ประชุมวิปสามฝ่ายเกี่ยวกับการประชุมร่วมกันของรัฐสภาในวันที่ 29-30 พ.ย. นี้    \n",
       "7   โดยเห็นควรให้ดำเนินการประชุมตามระเบียบวาระ แต่ยังมีความเห็นต่างเรื่องการเลื่อนร่างรัฐธรรมนูญ                                                                                                                                                                                     \n",
       "8   ...                                                                                                                                                                                                                                                                              \n",
       "9   หมวด 14 การปกครองส่วนท้องถิ่น                                                                                                                                                                                                                                                    \n",
       "10  ที่ ธนาธร จึงรุ่งเรืองกิจ หัวหน้าคณะก้าวหน้า เสนอขึ้นมาพิจารณาก่อน แต่มีข้อเสนอให้พิจารณาเรื่องอื่นก่อนในวันแรก                                                                                                                                                                  \n",
       "11  แล้วจึงนำร่างกฎหมายดังกล่าวมาพิจารณาวันที่ 2 เพื่อใช้เวลาอย่างเต็มที่ แต่ฝ่ายค้านขอไปหารืออีกครั้ง                                                                                                                                                                               \n",
       "12  ชินวรณ์ ย้ำถึงปัญหาองค์ประชุม ว่าขณะนี้มี ส.ส. 473 เสียง มีรัฐบาลที่เป็นเสียงข้างมากกว่า 230 เสียง ซึ่งต้องรับผิดชอบต่อเสียงข้างมาก แต่ฝ่ายค้านต้องร่วมรับผิดชอบด้วย                                                                                                             \n",
       "13  โดยเฉพาะสมัยประชุมสภาฯ                                                                                                                                                                                                                                                           \n",
       "14  สุดท้ายต้องช่วยกันแสดงผลงานด้านนิติบัญญัติ                                                                                                                                                                                                                                       \n",
       "15  ซึ่งขณะนี้ทำได้เพียงขอความร่วมมือจากทุกฝ่าย                                                                                                                                                                                                                                      \n",
       "16  และเชื่อว่า ส.ส. ยังคงสำนึกในหน้าที่ที่ปฏิญาณ                                                                                                                                                                                                                                    \n",
       "17  ไม่อยู่ในอาณัติของใคร                                                                                                                                                                                                                                                            \n",
       "18  ส่วนกระแสยุบสภานั้น ชินวรณ์ กล่าวว่า ปัจจุบันมีการต่อรองทางการเมืองต่างจากเดิม                                                                                                                                                                                                   \n",
       "19  รัฐบาลและฝ่ายค้าน ก็ไม่มีความเป็นเอกภาพทั้งคู่                                                                                                                                                                                                                                   \n",
       "20  จึงต้องใช้วิธีแลกเปลี่ยนความเห็นเพื่อขับเคลื่อนการประชุมให้เดินหน้าไปได้ Topic การเมือง Author กองบรรณาธิการวอยซ์ออนไลน์ 51019 Article 1192 Video 10 Blog MOST VIEWED READ WATCH ABOUT FAQ CONTACT TERM OF USE SCHEDULE                                                          \n",
       "\n",
       "                                                                                                                   unk_words  \n",
       "0                                                                                                                             \n",
       "1   \"วิป\"                                                                                                                     \n",
       "2   \"วาระ\", \"ปลดล็อก\", \"วิป\"                                                                                                  \n",
       "3   \"วาระ\", \"ปลดล็อก\"                                                                                                         \n",
       "4   \"วิป\"                                                                                                                     \n",
       "5   \"วาระ\", \"ปลดล็อก\", \"ชิน\", \"วรณ์'\", \"ล่ม\"                                                                                  \n",
       "6   \"ฝ่ายค้าน\", \"ชิน\", \"วรณ์\", \"บุ\", \"ณย\", \"เกียรติ\", \"พรรคประชาธิปัตย์\", \"ประสานงาน\", \"พรรคร่วมรัฐบาล\", \"วิป\", \"มติ\", \"วิป\"  \n",
       "7   \"เห็นควร\", \"ระเบียบวาระ\", \"ร่างรัฐธรรมนูญ\"                                                                                \n",
       "8                                                                                                                             \n",
       "9   \"หมวด\", \"ส่วนท้องถิ่น\"                                                                                                    \n",
       "10  \"ธนา\", \"ธร\", \"รุ่งเรือง\", \"กิจ\"                                                                                           \n",
       "11  \"แล้วจึง\", \"ฝ่ายค้าน\"                                                                                                     \n",
       "12  \"ชิน\", \"วรณ์\", \"องค์ประชุม\", \"เสียงข้างมาก\", \"เสียงข้างมาก\", \"ฝ่ายค้าน\"                                                   \n",
       "13  \"สมัยประชุม\"                                                                                                              \n",
       "14  \"นิติบัญญัติ\"                                                                                                             \n",
       "15  \"ขอความร่วมมือ\"                                                                                                           \n",
       "16  \"สำนึก\", \"ปฏิญาณ\"                                                                                                         \n",
       "17  \"อาณัติ\"                                                                                                                  \n",
       "18  \"ชิน\", \"วรณ์\", \"ต่อรอง\"                                                                                                   \n",
       "19  \"ฝ่ายค้าน\", \"เอกภาพ\"                                                                                                      \n",
       "20  \"ขับเคลื่อน\"                                                                                                              "
      ]
     },
     "execution_count": 95,
     "metadata": {},
     "output_type": "execute_result"
    }
   ],
   "source": [
    "print(webpage)\n",
    "filter_text(webpage,print_word_lvl=True)"
   ]
  },
  {
   "cell_type": "markdown",
   "id": "b04bfa91",
   "metadata": {},
   "source": [
    "##END"
   ]
  },
  {
   "cell_type": "code",
   "execution_count": 147,
   "id": "db36cdb8",
   "metadata": {
    "collapsed": true
   },
   "outputs": [
    {
     "name": "stdout",
     "output_type": "stream",
     "text": [
      "daily catch in word count:\n",
      "['เชิญ', 'ยิ้ม', 'ยินดี', 'รอย', 'เอกสาร', 'สนิท', 'กระดาษ', 'คอ', 'โรงพยาบาล', 'หิน', 'จด', 'ปืน', 'โต๊ะ', 'เสื้อผ้า', 'เลือด', 'สิทธิ์', 'นักเขียน', 'สนุกสนาน', 'หัวเราะ', 'หู', 'ยิง', 'สวยงาม', 'ล่า', 'แขก', 'ดอกไม้', 'ที่นั่ง', 'เสือ', 'ปกป้อง', 'รับประทาน', 'ไอ', 'สนุก', 'ลูกชาย', 'สหรัฐ', 'นิ้ว', 'ไอ้', 'รถไฟ', 'เล็กน้อย', 'โปรด', 'คะแนน', 'กรุณา', 'โรงแรม', 'จดหมาย', 'ขับ', 'ดื่ม', 'หอม', 'ระมัดระวัง', 'ฤดู', 'ฟัน', 'เท้า', 'หล่อน', 'วางแผน', 'ลับ', 'ลอย', 'ยกเว้น', 'ลูกค้า', 'ริม', 'ม้า', 'คอมพิวเตอร์']\n"
     ]
    }
   ],
   "source": [
    "#Upload from download\n",
    "with open(path+'known_thai_list.txt',\"r\") as input_file:\n",
    "    new_words = input_file.read().split(',')\n",
    "    print(\"daily catch in word count:\")\n",
    "    print(new_words)\n",
    "for line in new_words:   \n",
    "    vocab['white_listed'].add(line.replace(\"'\",\"\").strip())\n"
   ]
  },
  {
   "cell_type": "code",
   "execution_count": 154,
   "id": "0141a9c3",
   "metadata": {},
   "outputs": [
    {
     "name": "stdout",
     "output_type": "stream",
     "text": [
      "Hello Nong\n"
     ]
    }
   ],
   "source": [
    "\n",
    "wyw_text = 'สวัสดีครับน้อง'\n",
    "print(ts.google(wyw_text))\n",
    "#print(ts._google.language_map)\n",
    "#print(ts.google(wyw_text))"
   ]
  },
  {
   "cell_type": "code",
   "execution_count": 227,
   "id": "67b1cbb0",
   "metadata": {},
   "outputs": [
    {
     "name": "stdout",
     "output_type": "stream",
     "text": [
      "today's catch % of corpus:\n"
     ]
    },
    {
     "data": {
      "text/plain": [
       "'1.200344766395417%'"
      ]
     },
     "execution_count": 227,
     "metadata": {},
     "output_type": "execute_result"
    }
   ],
   "source": [
    "#Get after when adding in new words\n",
    "print(\"today's catch % of corpus:\")\n",
    "str(100*(percent-prev_percent))+\"%\""
   ]
  },
  {
   "cell_type": "code",
   "execution_count": null,
   "id": "3258e547",
   "metadata": {},
   "outputs": [],
   "source": [
    "#output newly knowns\n",
    "with open(path+\"new_known_thai_lines.txt\",\"w\") as outfile:\n",
    "    for line in list(set(knowns).difference(prev_knowns)):\n",
    "        outfile.write(line+'\\n')\n"
   ]
  },
  {
   "cell_type": "code",
   "execution_count": 105,
   "id": "1a9fb3c5",
   "metadata": {},
   "outputs": [
    {
     "name": "stdout",
     "output_type": "stream",
     "text": [
      "Sanity check. Current vocab size:\n"
     ]
    },
    {
     "data": {
      "text/plain": [
       "1462"
      ]
     },
     "execution_count": 105,
     "metadata": {},
     "output_type": "execute_result"
    }
   ],
   "source": [
    "print(\"Sanity check. Current vocab size:\")\n",
    "len(vocab['white_listed'])"
   ]
  },
  {
   "cell_type": "code",
   "execution_count": 117,
   "id": "564b37a8",
   "metadata": {},
   "outputs": [],
   "source": [
    "\"\"\"\n",
    "to do:\n",
    "\n",
    "\"\"\""
   ]
  },
  {
   "cell_type": "code",
   "execution_count": 7,
   "id": "d9799280",
   "metadata": {},
   "outputs": [
    {
     "data": {
      "text/plain": [
       "999"
      ]
     },
     "execution_count": 7,
     "metadata": {},
     "output_type": "execute_result"
    }
   ],
   "source": [
    "##INPUT-OUTPUT\n",
    "#vocab list:\n",
    "with open(\"/Users/elyebliss/Desktop/Vocabulary/vocab_dfs/thai_whitelisted.csv\",\"r\") as infile:\n",
    "    whitelisted_lemmas = infile.read()\n",
    "\n",
    "\n",
    "##VARIABLES\n",
    "vocab_all = set()\n",
    "\n",
    "\n",
    "for line in whitelisted_lemmas.split('\\n'):\n",
    "    if len(line) > 0:\n",
    "        \n",
    "        vocab = line.strip()\n",
    "        vocab_all.add(vocab)\n",
    "        \n",
    "len(whitelisted_lemmas.split('\\n'))            \n",
    "#pp.pprint(vocab_all)"
   ]
  },
  {
   "cell_type": "code",
   "execution_count": 8,
   "id": "3e37bfb9",
   "metadata": {},
   "outputs": [],
   "source": [
    "vocab = {}\n",
    "vocab['white_listed'] = list(vocab_all)\n",
    "vocab['black_listed'] = []"
   ]
  }
 ],
 "metadata": {
  "kernelspec": {
   "display_name": "Python 3 (ipykernel)",
   "language": "python",
   "name": "python3"
  },
  "language_info": {
   "codemirror_mode": {
    "name": "ipython",
    "version": 3
   },
   "file_extension": ".py",
   "mimetype": "text/x-python",
   "name": "python",
   "nbconvert_exporter": "python",
   "pygments_lexer": "ipython3",
   "version": "3.9.12"
  }
 },
 "nbformat": 4,
 "nbformat_minor": 5
}
