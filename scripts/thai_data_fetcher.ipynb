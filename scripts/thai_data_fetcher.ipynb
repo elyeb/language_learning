{
 "cells": [
  {
   "cell_type": "code",
   "execution_count": null,
   "id": "05aba0c4",
   "metadata": {},
   "outputs": [],
   "source": [
    "\"\"\"\n",
    "\n",
    "Contents:\n",
    "-data intialization from csv file of words &\n",
    " build data structure to house info moving forward\n",
    "-write to .json formats\n",
    "-read from existing .json formats\n",
    "-get list of words to find\n",
    "-scrape BBC\n",
    "-scrape voiceTV\n",
    "\"\"\""
   ]
  },
  {
   "cell_type": "code",
   "execution_count": 154,
   "id": "ebdc6804",
   "metadata": {},
   "outputs": [],
   "source": [
    "import bs4, requests, sys, codecs, urllib.request, re\n",
    "from bs4 import SoupStrainer\n",
    "from bs4.element import Comment\n",
    "import random\n",
    "#import pythainlp\n",
    "from pythainlp.tokenize import word_tokenize, sent_tokenize\n",
    "import string\n",
    "import json\n",
    "import pandas as pd\n",
    "import os\n",
    "from os import listdir\n",
    "from os.path import isfile, join\n",
    "import pprint\n",
    "import translators as ts\n",
    "\n",
    "pp = pprint.PrettyPrinter()\n",
    "pd.set_option('display.max_rows', None)\n",
    "pd.set_option('display.max_colwidth', 0)\n",
    "\n",
    "path = \"/Users/elyebliss/Desktop/Vocabulary/language_learning/vocab_dfs/\"\n",
    "source_file = \"thai.json\""
   ]
  },
  {
   "cell_type": "code",
   "execution_count": 155,
   "id": "ce69b1b0",
   "metadata": {},
   "outputs": [],
   "source": [
    "##METHODS\n",
    "\n",
    "def tag_visible(element):\n",
    "    if element.parent.name in ['style', 'script', 'head', 'title', 'meta', '[document]']:\n",
    "        return False\n",
    "    if isinstance(element, Comment):\n",
    "        return False\n",
    "    return True\n",
    "\n",
    "\n",
    "def text_from_html(body):\n",
    "    soup = bs4.BeautifulSoup(body, 'html.parser')\n",
    "    texts = soup.findAll(text=True)\n",
    "    visible_texts = filter(tag_visible, texts)  \n",
    "    return u\" \".join(t.strip() for t in visible_texts)\n",
    "\n",
    "\n",
    "\n",
    "user_agent = 'Mozilla/5.0 (Windows NT 6.3; WOW64; rv:50.0) Gecko/20100101 Firefox/50.0'\n",
    "headers={'User-Agent':user_agent,}\n",
    "parser = 'html.parser'"
   ]
  },
  {
   "cell_type": "code",
   "execution_count": 156,
   "id": "63afba50",
   "metadata": {},
   "outputs": [],
   "source": [
    "def get_known(unknown_list):\n",
    "    \n",
    "    count_got = 0\n",
    "    known_list = []\n",
    "    for word in unknown_list:\n",
    "        decision = str(input(word+\"\\nKnown =k\"))\n",
    "        if decision =='k':\n",
    "            known_list.append(word)\n",
    "            count_got +=1\n",
    "            print(\"got \"+str(count_got))\n",
    "        elif decision=='q':\n",
    "            break\n",
    "        try:\n",
    "            print(ts.google(word))\n",
    "        except:\n",
    "            print('cant find')\n",
    "    return known_list"
   ]
  },
  {
   "cell_type": "code",
   "execution_count": 157,
   "id": "117b26f1",
   "metadata": {},
   "outputs": [],
   "source": [
    "def filter_text(webpage,start=None,stop=None,\\\n",
    "                print_word_lvl=False,percent_threshold=None,\\\n",
    "               return_percent=False):\n",
    "\n",
    "\n",
    "    try:\n",
    "        request=urllib.request.Request(webpage,None,headers) #The assembled request\n",
    "        response = urllib.request.urlopen(request)\n",
    "        data = response.read()\n",
    "        contents = text_from_html(data)\n",
    "\n",
    "        known_array = []\n",
    "        unk_array = []\n",
    "        contents_array = sent_tokenize(contents)\n",
    "\n",
    "        if (start is not None) and (stop is not None):\n",
    "            contents_array=contents_array[max(start,0):min(stop,len(contents_array))]\n",
    "\n",
    "        disallowed_words = set()\n",
    "\n",
    "        total_words = 0\n",
    "        unknown_words = 0\n",
    "        \n",
    "        lines = []\n",
    "        unknowns = []\n",
    "        for line in contents_array:\n",
    "\n",
    "\n",
    "            tokenized = word_tokenize(line)\n",
    "\n",
    "\n",
    "            add_line = True\n",
    "            line_total = 0\n",
    "            line_unks = 0\n",
    "\n",
    "            unk_str = \"\"\n",
    "            for word in tokenized:\n",
    "                \n",
    "                total_words +=1\n",
    "                line_total +=1\n",
    "\n",
    "                if bool(re.search('[\\u0E00-\\u0E7F]+', word, flags=re.UNICODE)) and not ((word in vocab['white_listed']) or\\\n",
    "                                                            (word in vocab['black_listed'])):\n",
    "\n",
    "                        unk_str += '\"'+word+'\"'+\", \"\n",
    "                        if not percent_threshold:\n",
    "                            add_line = False\n",
    "                        disallowed_words.add(word)\n",
    "                        unknown_words +=1\n",
    "                        line_unks +=1\n",
    "\n",
    "            if percent_threshold:\n",
    "                if line_total>0:\n",
    "                    if (1-(line_unks/line_total))<percent_threshold:\n",
    "                        add_line = False\n",
    "            if add_line:\n",
    "                known_array.append(line)\n",
    "                unk_array.append(\"...\")\n",
    "            else:\n",
    "                known_array.append(\"...\")\n",
    "                unk_array.append(line)\n",
    "\n",
    "            if len(unk_str)>0:\n",
    "                unk_str = unk_str[0:len(unk_str)-2]\n",
    "\n",
    "            unknowns.append(unk_str)\n",
    "\n",
    "        if print_word_lvl and total_words>0:\n",
    "            print(\"word-level % known = \"+str((1-(unknown_words/total_words))*100))\n",
    "        if return_percent and total_words>0:\n",
    "            return (1-(unknown_words/total_words))*100\n",
    "        return_pd = pd.DataFrame(list(zip(known_array,unk_array,unknowns)))\n",
    "        return_pd.columns = [\"knowns\",\"unknowns\",\"unk_words\"]\n",
    "\n",
    "        \n",
    "\n",
    "        with open(path+'unknown_thai_list.txt',\"w\") as outfile:\n",
    "            outfile.write(str(list(disallowed_words)))\n",
    "\n",
    "        return return_pd\n",
    "\n",
    "    except:\n",
    "        pass"
   ]
  },
  {
   "cell_type": "code",
   "execution_count": 158,
   "id": "826dae68",
   "metadata": {},
   "outputs": [
    {
     "name": "stdout",
     "output_type": "stream",
     "text": [
      "2231\n",
      "2531\n"
     ]
    }
   ],
   "source": [
    "\"\"\"read from existing .json formats\n",
    "uncovered, \n",
    "2231\n",
    "2531\n",
    "\"\"\"\n",
    "with open(path+source_file, \"r\") as path_in:\n",
    "    vocab = json.loads(path_in.read())\n",
    "vocab['white_listed'] = set(vocab['white_listed'])\n",
    "vocab['black_listed'] = set(vocab['black_listed'])\n",
    "print(len(vocab['white_listed'])) \n",
    "\n",
    "#get 4k freq word info:\n",
    "with open(path+'th_freq.csv','r') as infile:\n",
    "    freq_df = pd.read_csv(infile)\n",
    "uncovered = []\n",
    "for word in freq_df.word:\n",
    "    if word not in vocab['white_listed']:\n",
    "        uncovered.append(word)\n",
    "print(len(uncovered))\n",
    "\n"
   ]
  },
  {
   "cell_type": "code",
   "execution_count": 159,
   "id": "004a939d",
   "metadata": {},
   "outputs": [
    {
     "name": "stdout",
     "output_type": "stream",
     "text": [
      "Checking BBC Thai\n",
      "Checking VoiceTV\n"
     ]
    }
   ],
   "source": [
    "pages = []\n",
    "titles = []\n",
    "\n",
    "##BBC\n",
    "print(\"Checking BBC Thai\")\n",
    "parser = 'html.parser'  # or 'lxml' (preferred) or 'html5lib', if installed\n",
    "request=urllib.request.Request('https://www.bbc.com/thai/topics/cjgn73g98rqt',None,headers)\n",
    "resp = urllib.request.urlopen(request)\n",
    "soup = bs4.BeautifulSoup(resp, parser, from_encoding=resp.info().get_param('charset'))\n",
    "\n",
    "\n",
    "for link in soup.find_all('a', href=True):\n",
    "    if 'https://www.bbc.com/thai/thailand' in str(link['href']):\n",
    "        pages.append(str(link['href']))\n",
    "        request=urllib.request.Request(str(link['href']),None,headers) #The assembled request\n",
    "\n",
    "        response = urllib.request.urlopen(request)\n",
    "        data = response.read()\n",
    "        contents = text_from_html(data)\n",
    "        if bool(re.search(\"(?<=ยอดนิยม หน้าแรก ประเทศไทย ต่างประเทศ วิทยาศาสตร์ สุขภาพ โควิด-19 วิดีโอ ยอดนิยม).{30}\",contents)):\n",
    "            titles.append(re.findall(\"(?<=ยอดนิยม หน้าแรก ประเทศไทย ต่างประเทศ วิทยาศาสตร์ สุขภาพ โควิด-19 วิดีโอ ยอดนิยม).{30}\",contents)[0].strip())\n",
    "\n",
    "    elif '/thai/thailand' in str(link['href']):\n",
    "        pages.append('https://www.bbc.com'+str(link['href']))\n",
    "\n",
    "##VoiceTV\n",
    "print(\"Checking VoiceTV\")\n",
    "parser = 'html.parser'  # or 'lxml' (preferred) or 'html5lib', if installed\n",
    "request=urllib.request.Request('https://www.voicetv.co.th/topic/%E0%B8%81%E0%B8%B2%E0%B8%A3%E0%B9%80%E0%B8%A1%E0%B8%B7%E0%B8%AD%E0%B8%87',None,headers)\n",
    "resp = urllib.request.urlopen(request)\n",
    "soup = bs4.BeautifulSoup(resp, parser, from_encoding=resp.info().get_param('charset'))\n",
    "\n",
    " \n",
    "for link in soup.find_all('a', href=True):\n",
    "    str_page = 'https://www.voicetv.co.th'+str(link['href'])\n",
    "    if '/read/' in str(link['href']) and str_page not in pages:\n",
    "        pages.append(str_page)\n",
    "        request=urllib.request.Request(str_page,None,headers) #The assembled request\n",
    "\n",
    "        response = urllib.request.urlopen(request)\n",
    "        data = response.read()\n",
    "        contents = text_from_html(data)\n",
    "        titles.append(re.findall(\"(?<=  :).{30}\",contents)[0].strip())"
   ]
  },
  {
   "cell_type": "code",
   "execution_count": 160,
   "id": "411c6c9a",
   "metadata": {},
   "outputs": [
    {
     "data": {
      "text/plain": [
       "1321"
      ]
     },
     "execution_count": 160,
     "metadata": {},
     "output_type": "execute_result"
    }
   ],
   "source": [
    "#load prev corpus and add\n",
    "known_corpus = set()\n",
    "with open(path+\"all_known_thai_lines.txt\",\"r\",encoding='utf-8') as infile:\n",
    "    for line in infile.read().split('\\n'):\n",
    "        known_corpus.add(line)\n",
    "len(known_corpus)"
   ]
  },
  {
   "cell_type": "code",
   "execution_count": 161,
   "id": "bb6ee0f7",
   "metadata": {},
   "outputs": [
    {
     "name": "stdout",
     "output_type": "stream",
     "text": [
      "percent all known= 0.16907216494845362\n"
     ]
    }
   ],
   "source": [
    "#Find % of all sentences of news\n",
    "knowns = []\n",
    "all_lines = 0\n",
    "\n",
    "known_percents = []\n",
    "\n",
    "for webpage in pages:\n",
    "    \n",
    "    test_df = filter_text(webpage)\n",
    "    all_lines += len(list(test_df.knowns))\n",
    "    \n",
    "    known_percents.append(filter_text(webpage,return_percent=True))\n",
    "    \n",
    "    for item in list(test_df.knowns[test_df.knowns != '...']):\n",
    "        knowns.append(item)\n",
    "percent = len(knowns)/float(all_lines)\n",
    "print(\"percent all known= \"+str(percent))\n"
   ]
  },
  {
   "cell_type": "code",
   "execution_count": 162,
   "id": "1fa348ef",
   "metadata": {},
   "outputs": [
    {
     "data": {
      "text/plain": [
       "['เมื่อถามว่าเป็นรัฐมนตรี แล้วยังทำหน้าที่ส.ส.เหมือนเดิมใช่หรือไม่ ',\n",
       " 'และที่เป็นห่วงว่าถ้ามีส.ส.ลาออกจนประชุมไม่ครบนั้น ',\n",
       " 'ขอย้ำว่าตนไม่เคยไปไหนและอยู่กับนายกฯมาตลอด ',\n",
       " 'เพราะหลายพื้นที่สถานการณ์ต่างๆเริ่มดีขึ้น ',\n",
       " 'เมื่อถามว่านายกฯเคยพูดเรื่องนี้หรือไม่ ',\n",
       " 'ไม่แน่ใจ แต่ไม่ว่างานตรงไหนก็ทำได้ ',\n",
       " 'คนที่ 1 จะย้ายกลับมาพรรคเพื่อไทย ',\n",
       " 'อันนี้เป็นสิ่งที่ยังไม่เกิดขึ้น ',\n",
       " 'อดีตรองนายกรัฐมนตรี สมัยรัฐบาล ',\n",
       " 'ในฐานะรองประธานสภาผู้แทนราษฎร ',\n",
       " 'โดยนายกฯได้แนะนำการทำงานตลอด ',\n",
       " 'เดินทางมาเข้าร่วมให้กำลังใจ ',\n",
       " 'เมื่อถามว่า ได้คุยกับนายกฯ ',\n",
       " 'เพราะนายกฯบอกแล้วยังมีเวลา ',\n",
       " 'ส่วนเรื่องการดูเสียงในสภา ',\n",
       " 'รองหัวหน้าพรรคไทยรักไทย ',\n",
       " 'มีผลงานเกิดขึ้นมาก ',\n",
       " 'ไม่รีบตัดสินใจ ',\n",
       " 'Dec 2, 2022 ( ']"
      ]
     },
     "execution_count": 162,
     "metadata": {},
     "output_type": "execute_result"
    }
   ],
   "source": [
    "#sorted(list(set(knowns)),key=len,reverse=True)\n",
    "sorted(list(set(knowns).difference(known_corpus)),key=len,reverse=True)"
   ]
  },
  {
   "cell_type": "code",
   "execution_count": 101,
   "id": "ac029f06",
   "metadata": {},
   "outputs": [],
   "source": [
    "#manually remove from white\n",
    "remove_from_white = []\n",
    "\n",
    "for word in remove_from_white:\n",
    "    if word in vocab['white_listed']:\n",
    "        vocab['white_listed'].remove(word)"
   ]
  },
  {
   "cell_type": "code",
   "execution_count": 163,
   "id": "1ee450fe",
   "metadata": {},
   "outputs": [
    {
     "data": {
      "text/plain": [
       "1340"
      ]
     },
     "execution_count": 163,
     "metadata": {},
     "output_type": "execute_result"
    }
   ],
   "source": [
    "for item in list(set(knowns)):\n",
    "    known_corpus.add(item)\n",
    "\n",
    "with open(path+\"all_known_thai_lines.txt\",\"w\",encoding='utf-8') as outfile:\n",
    "    for line in list(set(known_corpus)):\n",
    "        outfile.write(line+'\\n')\n",
    "len(known_corpus)"
   ]
  },
  {
   "cell_type": "code",
   "execution_count": 164,
   "id": "2d6948c1",
   "metadata": {},
   "outputs": [
    {
     "name": "stdout",
     "output_type": "stream",
     "text": [
      "22\n"
     ]
    }
   ],
   "source": [
    "websites = set()\n",
    "\n",
    "with open(path+'viewed_websites_th.txt',\"r\") as infile:\n",
    "    for line in infile.read().split('\\n'):\n",
    "        websites.add(line)\n",
    "print(len(websites))"
   ]
  },
  {
   "cell_type": "code",
   "execution_count": 165,
   "id": "2a643828",
   "metadata": {
    "collapsed": true
   },
   "outputs": [
    {
     "data": {
      "text/plain": [
       "[(3,\n",
       "  88.4963768115942,\n",
       "  '‘ลิณธิภรณ์’บี้ กกต.อย่าสองมาต',\n",
       "  'https://www.voicetv.co.th/read/_fk3baC4T'),\n",
       " (1,\n",
       "  86.50190114068441,\n",
       "  'รัฐบาลตั้งเป้าปี 68 ไทยปลอดโร',\n",
       "  'https://www.voicetv.co.th/read/Ns0mCPA4_'),\n",
       " (0,\n",
       "  85.03578399479505,\n",
       "  \"'มดดำ' ร่วมงานเปิดตัวว่าที่ ส\",\n",
       "  'https://www.bbc.com/thai/thailand-63662204'),\n",
       " (2,\n",
       "  83.43558282208589,\n",
       "  \"'ธนกร' ปัด 'ตู่' ตบรางวัลนั่ง\",\n",
       "  'https://www.voicetv.co.th/read/zONKJLbFK'),\n",
       " (4,\n",
       "  83.24468085106382,\n",
       "  '‘ประยุทธ์’ อวยพรปีใหม่สื่อทำเ',\n",
       "  'https://www.voicetv.co.th/read/H7Q1L4eAI'),\n",
       " (5,\n",
       "  81.50087260034904,\n",
       "  '‘วิษณุ’แย้มประตูยุบสภาเปิดอยู',\n",
       "  'https://www.voicetv.co.th/read/bn95YMr0a'),\n",
       " (7,\n",
       "  80.81123244929798,\n",
       "  'จับตา ‘ราษฎรแรลลี่’ จาก ‘วังล',\n",
       "  'https://www.voicetv.co.th/read/rI-9LjhEh')]"
      ]
     },
     "execution_count": 165,
     "metadata": {},
     "output_type": "execute_result"
    }
   ],
   "source": [
    "page_titles = list(zip(range(0,len(known_percents)),known_percents,titles,pages))\n",
    "# (sorted(list(zip(range(0,len(known_percents)),known_percents)),key = lambda x: x[1],reverse=True))\n",
    "page_titles = sorted(page_titles,key = lambda x: x[1],reverse=True)\n",
    "page_titles = [item for item in page_titles if not (item[3] in websites)]\n",
    "page_titles"
   ]
  },
  {
   "cell_type": "code",
   "execution_count": 166,
   "id": "1e2e7b73",
   "metadata": {},
   "outputs": [],
   "source": [
    "webpage = pages[3]\n",
    "if webpage in websites:\n",
    "    print(\"already scanned! choose another!\")\n",
    "websites.add(webpage)"
   ]
  },
  {
   "cell_type": "code",
   "execution_count": 167,
   "id": "f737a6dc",
   "metadata": {},
   "outputs": [],
   "source": [
    "\n",
    "with open(path+'viewed_websites_th.txt',\"w\") as outfile:\n",
    "    for line in websites:\n",
    "        outfile.write(line+'\\n')      \n"
   ]
  },
  {
   "cell_type": "code",
   "execution_count": 168,
   "id": "141ae514",
   "metadata": {},
   "outputs": [
    {
     "name": "stdout",
     "output_type": "stream",
     "text": [
      "word-level % known = 88.4963768115942\n"
     ]
    }
   ],
   "source": [
    "#display() #percent_threshold=0.95\n",
    "art=filter_text(webpage,print_word_lvl=True)"
   ]
  },
  {
   "cell_type": "code",
   "execution_count": 169,
   "id": "8bce1137",
   "metadata": {},
   "outputs": [
    {
     "name": "stdout",
     "output_type": "stream",
     "text": [
      "90\n"
     ]
    }
   ],
   "source": [
    "with open(path+'unknown_thai_list.txt',\"r\") as input_file:\n",
    "    new_words = input_file.read()\n",
    "    new_words = re.sub(\"[\\n\\'\\[\\]]\",\"\",new_words)\n",
    "    new_words = new_words.split(',')\n",
    "    new_words = [line.strip() for line in new_words] #update regex\n",
    "#new_words\n",
    "print(len(new_words))\n",
    "#known_manual = get_known(new_words)"
   ]
  },
  {
   "cell_type": "code",
   "execution_count": 170,
   "id": "efd86a33",
   "metadata": {},
   "outputs": [],
   "source": [
    "import mitosheet\n",
    "unk_df = pd.DataFrame(new_words)\n",
    "unk_df.columns = ['word']\n",
    "unk_df['status'] = pd.Series(['' for word in new_words])"
   ]
  },
  {
   "cell_type": "code",
   "execution_count": 171,
   "id": "3663bb4f",
   "metadata": {},
   "outputs": [
    {
     "data": {
      "application/vnd.jupyter.widget-view+json": {
       "model_id": "0b8c2590821543c5b394b68f022bfebc",
       "version_major": 2,
       "version_minor": 0
      },
      "text/plain": [
       "MitoWidget(analysis_data_json='{\"analysisName\": \"id-lbgztzoycm\", \"analysisToReplay\": null, \"code\": [], \"stepSu…"
      ]
     },
     "metadata": {},
     "output_type": "display_data"
    }
   ],
   "source": [
    "mitosheet.sheet(unk_df, analysis_to_replay=\"id-lbgztzoycm\") "
   ]
  },
  {
   "cell_type": "code",
   "execution_count": null,
   "id": "b442e3e7",
   "metadata": {},
   "outputs": [],
   "source": []
  },
  {
   "cell_type": "code",
   "execution_count": 172,
   "id": "60d5d1ff",
   "metadata": {},
   "outputs": [],
   "source": [
    "add_ints = [2, 7, 12, 28, 37, 41, 42, 47, 57, 62, 63, 66, 78, 79, 81]"
   ]
  },
  {
   "cell_type": "code",
   "execution_count": 173,
   "id": "77eb121a",
   "metadata": {},
   "outputs": [],
   "source": [
    "for i in add_ints:\n",
    "    # Set a cell value in status\n",
    "    unk_df.at[i, 'status'] = 'k'"
   ]
  },
  {
   "cell_type": "code",
   "execution_count": 174,
   "id": "71c577e6",
   "metadata": {},
   "outputs": [],
   "source": [
    "translations = []\n",
    "for i in range(0,len(unk_df)):\n",
    "    try:\n",
    "        translations.append(ts.google(unk_df.word.iloc[i]))\n",
    "    except:\n",
    "        translations.append('')\n",
    "unk_df['translations']=translations\n"
   ]
  },
  {
   "cell_type": "code",
   "execution_count": 175,
   "id": "fe5bce81",
   "metadata": {},
   "outputs": [
    {
     "data": {
      "application/vnd.jupyter.widget-view+json": {
       "model_id": "cef44e377907419bbcdc0ba9aad70b53",
       "version_major": 2,
       "version_minor": 0
      },
      "text/plain": [
       "MitoWidget(analysis_data_json='{\"analysisName\": \"id-brgsawcoll\", \"analysisToReplay\": null, \"code\": [], \"stepSu…"
      ]
     },
     "metadata": {},
     "output_type": "display_data"
    }
   ],
   "source": [
    "mitosheet.sheet(unk_df, analysis_to_replay=\"id-brgsawcoll\")"
   ]
  },
  {
   "cell_type": "code",
   "execution_count": 177,
   "id": "455c3cdb",
   "metadata": {},
   "outputs": [
    {
     "name": "stdout",
     "output_type": "stream",
     "text": [
      "18\n"
     ]
    }
   ],
   "source": [
    "add_words = list(unk_df.word[unk_df['status']=='k'])\n",
    "print(len(add_words))\n",
    "for word in add_words:\n",
    "    vocab['white_listed'].add(word)"
   ]
  },
  {
   "cell_type": "code",
   "execution_count": 178,
   "id": "02a15572",
   "metadata": {},
   "outputs": [
    {
     "name": "stdout",
     "output_type": "stream",
     "text": [
      "2249\n"
     ]
    }
   ],
   "source": [
    "#write to .json formats\n",
    "df = vocab\n",
    "df['white_listed'] = list(df['white_listed'])\n",
    "df['black_listed'] = list(df['black_listed'])\n",
    "with open(path+source_file, \"w\") as outfile:\n",
    "    json.dump(df,outfile)\n",
    "print(len(df['white_listed']))"
   ]
  },
  {
   "cell_type": "code",
   "execution_count": 179,
   "id": "c7f67a5d",
   "metadata": {},
   "outputs": [
    {
     "name": "stdout",
     "output_type": "stream",
     "text": [
      "2249\n"
     ]
    }
   ],
   "source": [
    "#read from existing .json formats\n",
    "with open(path+source_file, \"r\") as path_in:\n",
    "    vocab = json.loads(path_in.read())\n",
    "vocab['white_listed'] = set(vocab['white_listed'])\n",
    "vocab['black_listed'] = set(vocab['black_listed'])\n",
    "print(len(vocab['white_listed']))"
   ]
  },
  {
   "cell_type": "code",
   "execution_count": 180,
   "id": "4f09c08d",
   "metadata": {
    "collapsed": true
   },
   "outputs": [
    {
     "name": "stdout",
     "output_type": "stream",
     "text": [
      "https://www.voicetv.co.th/read/_fk3baC4T\n",
      "word-level % known = 90.57971014492753\n"
     ]
    },
    {
     "data": {
      "text/html": [
       "<div><div id=158a13a3-a90c-4f37-90ee-f2f1658be680 style=\"display:none; background-color:#9D6CFF; color:white; width:200px; height:30px; padding-left:5px; border-radius:4px; flex-direction:row; justify-content:space-around; align-items:center;\" onmouseover=\"this.style.backgroundColor='#BA9BF8'\" onmouseout=\"this.style.backgroundColor='#9D6CFF'\" onclick=\"window.commands?.execute('create-mitosheet-from-dataframe-output');\">See Full Dataframe in Mito</div> <script> if (window.commands?.hasCommand('create-mitosheet-from-dataframe-output')) document.getElementById('158a13a3-a90c-4f37-90ee-f2f1658be680').style.display = 'flex' </script> <table border=\"1\" class=\"dataframe\">\n",
       "  <thead>\n",
       "    <tr style=\"text-align: right;\">\n",
       "      <th></th>\n",
       "      <th>knowns</th>\n",
       "      <th>unknowns</th>\n",
       "      <th>unk_words</th>\n",
       "    </tr>\n",
       "  </thead>\n",
       "  <tbody>\n",
       "    <tr>\n",
       "      <th>0</th>\n",
       "      <td>POLITICS ECONOMICS WORLD ENTERTAINMENT WELL-BEING LOCAL NEWS BLOG VOICE PLAZA TV PROGRAMS LIVE POLITICS ECONOMICS WORLD ENTERTAINMENT WELL-BEING LOCAL NEWS BLOG VOICE PLAZA TV PROGRAMS ABOUT FAQ CONTACT TERM OF USE SCHEDULE ไม่พบผลการค้นหา</td>\n",
       "      <td>...</td>\n",
       "      <td></td>\n",
       "    </tr>\n",
       "    <tr>\n",
       "      <th>1</th>\n",
       "      <td>...</td>\n",
       "      <td>คุณกำลังอ่าน  : 'ธนกร' ปัด 'ตู่' ตบรางวัลนั่ง รมต. แจงเห็นศักยภาพทำงานเพื่อประเทศได้</td>\n",
       "      <td>\"'ธนกร'\", \"ปัด\", \"ตู่\", \"ตบ\", \"รางวัล\", \"รมต.\", \"แจง\", \"ศักยภาพ\"</td>\n",
       "    </tr>\n",
       "    <tr>\n",
       "      <th>2</th>\n",
       "      <td>...</td>\n",
       "      <td>Share Tweet Share การเมือง 'ธนกร' ปัด 'ตู่' ตบรางวัลนั่ง รมต. แจงเห็นศักยภาพทำงานเพื่อประเทศได้</td>\n",
       "      <td>\"'ธนกร'\", \"ปัด\", \"ตู่\", \"ตบ\", \"รางวัล\", \"รมต.\", \"แจง\", \"ศักยภาพ\"</td>\n",
       "    </tr>\n",
       "    <tr>\n",
       "      <th>3</th>\n",
       "      <td>Dec 2, 2022 (</td>\n",
       "      <td>...</td>\n",
       "      <td></td>\n",
       "    </tr>\n",
       "    <tr>\n",
       "      <th>4</th>\n",
       "      <td>...</td>\n",
       "      <td>Last update Dec 2, 2022 03:19 )   'ธนกร' ปัด 'ประยุทธ์' ตบรางวัลเก้าอี้ รมต.เหตุออกโรงป้องมาตลอด</td>\n",
       "      <td>\"'ธนกร'\", \"ปัด\", \"ตบ\", \"รางวัล\", \"รมต.\", \"ออกโรง\", \"ป้อง\"</td>\n",
       "    </tr>\n",
       "    <tr>\n",
       "      <th>...</th>\n",
       "      <td>...</td>\n",
       "      <td>...</td>\n",
       "      <td>...</td>\n",
       "    </tr>\n",
       "    <tr>\n",
       "      <th>59</th>\n",
       "      <td>...</td>\n",
       "      <td>เพราะปลายรัฐบาล สภาสล่มทุกสัปดาห์</td>\n",
       "      <td>\"ล่ม\"</td>\n",
       "    </tr>\n",
       "    <tr>\n",
       "      <th>60</th>\n",
       "      <td>...</td>\n",
       "      <td>ธนกร กล่าวว่า นายกฯเป็นห่วง</td>\n",
       "      <td>\"ธน\"</td>\n",
       "    </tr>\n",
       "    <tr>\n",
       "      <th>61</th>\n",
       "      <td>และที่เป็นห่วงว่าถ้ามีส.ส.ลาออกจนประชุมไม่ครบนั้น</td>\n",
       "      <td>...</td>\n",
       "      <td></td>\n",
       "    </tr>\n",
       "    <tr>\n",
       "      <th>62</th>\n",
       "      <td>อันนี้เป็นสิ่งที่ยังไม่เกิดขึ้น</td>\n",
       "      <td>...</td>\n",
       "      <td></td>\n",
       "    </tr>\n",
       "    <tr>\n",
       "      <th>63</th>\n",
       "      <td>...</td>\n",
       "      <td>ดังนั้นฝนไม่ตกอย่าเพิ่งไปกางร่ม Topic การเมือง Author กองบรรณาธิการวอยซ์ออนไลน์ 51073 Article 1192 Video 10 Blog MOST VIEWED READ WATCH ABOUT FAQ CONTACT TERM OF USE SCHEDULE</td>\n",
       "      <td>\"กางร่ม\"</td>\n",
       "    </tr>\n",
       "  </tbody>\n",
       "</table></div>"
      ],
      "text/plain": [
       "                                                                                                                                                                                                                                                 knowns  \\\n",
       "0      POLITICS ECONOMICS WORLD ENTERTAINMENT WELL-BEING LOCAL NEWS BLOG VOICE PLAZA TV PROGRAMS LIVE POLITICS ECONOMICS WORLD ENTERTAINMENT WELL-BEING LOCAL NEWS BLOG VOICE PLAZA TV PROGRAMS ABOUT FAQ CONTACT TERM OF USE SCHEDULE ไม่พบผลการค้นหา    \n",
       "1   ...                                                                                                                                                                                                                                                   \n",
       "2   ...                                                                                                                                                                                                                                                   \n",
       "3   Dec 2, 2022 (                                                                                                                                                                                                                                         \n",
       "4   ...                                                                                                                                                                                                                                                   \n",
       "5   ...                                                                                                                                                                                                                                                   \n",
       "6   ...                                                                                                                                                                                                                                                   \n",
       "7   ...                                                                                                                                                                                                                                                   \n",
       "8   ...                                                                                                                                                                                                                                                   \n",
       "9   ...                                                                                                                                                                                                                                                   \n",
       "10  ...                                                                                                                                                                                                                                                   \n",
       "11  ...                                                                                                                                                                                                                                                   \n",
       "12  ...                                                                                                                                                                                                                                                   \n",
       "13  ปกติเวลาทำงานที่ไหนหรือมีอะไรใหม่เข้ามาในชีวิต                                                                                                                                                                                                        \n",
       "14  จะโทรศัพท์ถามแม่ และแม่ได้ให้คำแนะนำว่าวันดีที่สุด คือวันพฤหัสบดี                                                                                                                                                                                     \n",
       "15  ...                                                                                                                                                                                                                                                   \n",
       "16  ...                                                                                                                                                                                                                                                   \n",
       "17  ...                                                                                                                                                                                                                                                   \n",
       "18  ...                                                                                                                                                                                                                                                   \n",
       "19  ...                                                                                                                                                                                                                                                   \n",
       "20  เมื่อถามว่า ได้คุยกับนายกฯ                                                                                                                                                                                                                            \n",
       "21  ...                                                                                                                                                                                                                                                   \n",
       "22  ...                                                                                                                                                                                                                                                   \n",
       "23  ...                                                                                                                                                                                                                                                   \n",
       "24  ...                                                                                                                                                                                                                                                   \n",
       "25  โดยนายกฯได้แนะนำการทำงานตลอด                                                                                                                                                                                                                          \n",
       "26  ...                                                                                                                                                                                                                                                   \n",
       "27  ...                                                                                                                                                                                                                                                   \n",
       "28  ...                                                                                                                                                                                                                                                   \n",
       "29  ไม่แน่ใจ แต่ไม่ว่างานตรงไหนก็ทำได้                                                                                                                                                                                                                    \n",
       "30  ...                                                                                                                                                                                                                                                   \n",
       "31  เพราะหลายพื้นที่สถานการณ์ต่างๆเริ่มดีขึ้น                                                                                                                                                                                                             \n",
       "32  ...                                                                                                                                                                                                                                                   \n",
       "33  ...                                                                                                                                                                                                                                                   \n",
       "34  ...                                                                                                                                                                                                                                                   \n",
       "35  ...                                                                                                                                                                                                                                                   \n",
       "36  ...                                                                                                                                                                                                                                                   \n",
       "37  เพราะนายกฯบอกแล้วยังมีเวลา                                                                                                                                                                                                                            \n",
       "38  ไม่รีบตัดสินใจ                                                                                                                                                                                                                                        \n",
       "39  ขอย้ำว่าตนไม่เคยไปไหนและอยู่กับนายกฯมาตลอด                                                                                                                                                                                                            \n",
       "40  ...                                                                                                                                                                                                                                                   \n",
       "41  ...                                                                                                                                                                                                                                                   \n",
       "42  ...                                                                                                                                                                                                                                                   \n",
       "43  ...                                                                                                                                                                                                                                                   \n",
       "44  ...                                                                                                                                                                                                                                                   \n",
       "45  มีผลงานเกิดขึ้นมาก                                                                                                                                                                                                                                    \n",
       "46  ...                                                                                                                                                                                                                                                   \n",
       "47  ...                                                                                                                                                                                                                                                   \n",
       "48  ...                                                                                                                                                                                                                                                   \n",
       "49  เมื่อถามว่าเป็นรัฐมนตรี แล้วยังทำหน้าที่ส.ส.เหมือนเดิมใช่หรือไม่                                                                                                                                                                                      \n",
       "50  ...                                                                                                                                                                                                                                                   \n",
       "51  ส่วนเรื่องการดูเสียงในสภา                                                                                                                                                                                                                             \n",
       "52  คงไม่เกี่ยวกัน                                                                                                                                                                                                                                        \n",
       "53  ...                                                                                                                                                                                                                                                   \n",
       "54  ...                                                                                                                                                                                                                                                   \n",
       "55  ...                                                                                                                                                                                                                                                   \n",
       "56  ...                                                                                                                                                                                                                                                   \n",
       "57  ...                                                                                                                                                                                                                                                   \n",
       "58  เมื่อถามว่านายกฯเคยพูดเรื่องนี้หรือไม่                                                                                                                                                                                                                \n",
       "59  ...                                                                                                                                                                                                                                                   \n",
       "60  ...                                                                                                                                                                                                                                                   \n",
       "61  และที่เป็นห่วงว่าถ้ามีส.ส.ลาออกจนประชุมไม่ครบนั้น                                                                                                                                                                                                     \n",
       "62  อันนี้เป็นสิ่งที่ยังไม่เกิดขึ้น                                                                                                                                                                                                                       \n",
       "63  ...                                                                                                                                                                                                                                                   \n",
       "\n",
       "                                                                                                                                                                                          unknowns  \\\n",
       "0   ...                                                                                                                                                                                              \n",
       "1   คุณกำลังอ่าน  : 'ธนกร' ปัด 'ตู่' ตบรางวัลนั่ง รมต. แจงเห็นศักยภาพทำงานเพื่อประเทศได้                                                                                                             \n",
       "2   Share Tweet Share การเมือง 'ธนกร' ปัด 'ตู่' ตบรางวัลนั่ง รมต. แจงเห็นศักยภาพทำงานเพื่อประเทศได้                                                                                                  \n",
       "3   ...                                                                                                                                                                                              \n",
       "4   Last update Dec 2, 2022 03:19 )   'ธนกร' ปัด 'ประยุทธ์' ตบรางวัลเก้าอี้ รมต.เหตุออกโรงป้องมาตลอด                                                                                                 \n",
       "5   แจงเห็นศักยภาพทำงานเพื่อประเทศได้                                                                                                                                                                \n",
       "6   ขอบคุณ 'ตู่-ป้อม'                                                                                                                                                                                \n",
       "7   ช่วยผลักดัน                                                                                                                                                                                      \n",
       "8   ยันไม่เกี่ยวช่วยปูทางการเมืองให้นายกฯ ที่จะไปรวมไทยสร้างชาติ                                                                                                                                     \n",
       "9   วันที่ 2 ธ.ค. เวลา 07.45 น. ที่ทำเนียบรัฐบาล                                                                                                                                                     \n",
       "10  ธนกร วังบุญคงชนะ                                                                                                                                                                                 \n",
       "11  รัฐมนตรีประจำสำนักนายกรัฐมนตรี เดินทางเข้าสักการะท้าวมหาพรหม บนตึกไทยคู่ฟ้า และศาลพระภูมิ และศาลตายาย สิ่งศักดิ์สิทธิ์ประจำทำเนียบรัฐบาล เพื่อเป็นสิริมงคล ก่อนเข้าปฎิบัติงานเป็นทางการวันแรก    \n",
       "12  จากนั้น ธนกร ให้สัมภาษณ์ว่า ไม่ได้ถือฤกษ์ในการทำงานวันแรก                                                                                                                                        \n",
       "13  ...                                                                                                                                                                                              \n",
       "14  ...                                                                                                                                                                                              \n",
       "15  และได้ให้พรให้ทำหน้าที่ให้กับประเทศชาติและประชาชน                                                                                                                                                \n",
       "16  และวันนี้เป็นฤกษ์ดีที่เข้ามาทำงานวันแรก                                                                                                                                                          \n",
       "17  ต้องขอบคุณพล.อ.ประยุทธ์ จันทร์โอชา นายกรัฐมนตรี และ รมว.กลาโหม รวมถึง พล.อ.ประวิตร วงษ์สุวรรณ รองนายกรัฐมนตรี ในฐานะหัวหน้าพรรคพลังประชารัฐ ที่ให้โอกาสและเมตตาตนมาตลอด                          \n",
       "18  ธนกร กล่าวว่า สำหรับการเข้าทำงานในวันแรกวันนี้ นายกฯยังไม่ได้มอบหมายงานอะไร แต่จะทำงานให้ดีที่สุด                                                                                                \n",
       "19  แม้ว่าเวลาที่เหลือของคณะรัฐมนตรีจะครบวาระในเดือนมีนาคม 2566 จะใช้เวลาที่เหลือให้มีค่าที่สุดในการทำงานรับใช้ประชาชน                                                                               \n",
       "20  ...                                                                                                                                                                                              \n",
       "21  อย่างไรบ้างก่อนที่จะได้รับตำแหน่ง                                                                                                                                                                \n",
       "22  เนื่องจากเก้าอี้นี้เป็นโควต้าของนายกฯ ฝธนกร กล่าวว่า สื่อจะถามตลอดว่าอยู่ตรงไหน                                                                                                                  \n",
       "23  ความจริงแล้วไม่เคยไปไหน และอยู่กับนายกฯมาตลอดตั้งแต่เป็นโฆษกประจำสำนักนายกรัฐมนตรี                                                                                                               \n",
       "24  แม้เป็นส.ส.ก็ยังมาแวะเวียนพูดคุยและหารือกับนายกฯ                                                                                                                                                 \n",
       "25  ...                                                                                                                                                                                              \n",
       "26  ฉะนั้นถือได้ว่าเป็นคนที่นายกฯให้ความเมตตา ให้มาทำหน้าที่ตรงนี้ โดยดูจากองค์ประกอบหลายๆ อย่าง                                                                                                     \n",
       "27  เมื่อถามว่า ได้รับแบ่งงานให้มากำกับดูแลสื่อหรือไม่                                                                                                                                               \n",
       "28  ธนกร กล่าวว่า                                                                                                                                                                                    \n",
       "29  ...                                                                                                                                                                                              \n",
       "30  โดยช่วงเวลานี้จะลงพื้นที่ในทำงานที่ได้รับมอบหมายให้มากขึ้น                                                                                                                                       \n",
       "31  ...                                                                                                                                                                                              \n",
       "32  เศรษฐกิจฟื้นตัวโดยเฉพาะการท่องเที่ยว                                                                                                                                                             \n",
       "33  ดังนั้นวันหยุดจะไปต่างจังหวัดบ่อยๆเพื่อให้เห็นว่าสิ่งที่นายกฯดำเนินนโบายกำลังออกดอกผล และประเทศฟื้นตัวแล้ว                                                                                       \n",
       "34  จึงต้องเดินหน้าทำในสิ่งที่นายกฯมอบหมาย ต่อไป                                                                                                                                                     \n",
       "35  เมื่อถามต่อว่า                                                                                                                                                                                   \n",
       "36  มีข้อสังเกตว่าการทำงานหน้าที่ของตนเป็นการปูทางการเมืองให้นายกฯ ที่จะไปทำงานให้พรรครวมไทยสร้างชาติ(รทสช.) ธนกร กล่าวว่า คงไม่เกี่ยวกัน                                                            \n",
       "37  ...                                                                                                                                                                                              \n",
       "38  ...                                                                                                                                                                                              \n",
       "39  ...                                                                                                                                                                                              \n",
       "40  เมื่อถามย้ำว่า หากนายกฯไปไหนจะตามไปด้วยใช่หรือไม่                                                                                                                                                \n",
       "41  ธนกร กล่าวว่า แน่นอน ตรงไหนที่ทำงานแล้วมีความสุขก็ไป และเชื่อมั่นว่า พล.อ.ประยุทธ์ เป็นคนรักชาติ บ้านเมือง ประชาชน และเทิดทูนสถาบัน                                                              \n",
       "42  สิ่งเหล่านี้ตนสัมผัสกับนายกฯมาและได้เห็นถึงหัวใจที่จะทำงานให้ประชาขนอย่างเต็มที่                                                                                                                 \n",
       "43  เชื่อว่าประชาชนคาดหวังกับ พล.อ.ประยุทธ์ ได้แน่นอน                                                                                                                                                \n",
       "44  และต้องให้ความเป็นธรรมว่าตลอดเวลาที่นายกฯทำงานให้ประชาชน                                                                                                                                         \n",
       "45  ...                                                                                                                                                                                              \n",
       "46  เมื่อถามย้ำว่า การทำงานใกล้ชิดและปกป้องนายกฯจนมีข้อสังเกตว่าการได้เป็นรัฐมนตรี เป็นการปูนบำเหน็จของนายกฯ                                                                                         \n",
       "47  ธนกร กล่าวว่า ไม่ใช่ นายกฯเป็นคนเก่งและดี คงไม่ได้ดูว่าจะแต่งตั้งใครมาปกป้องเท่านั้น                                                                                                             \n",
       "48  ไม่เกี่ยวกัน แต่คงมองหลายมิติและเห็นว่าตนทำงานให้ประเทศได้                                                                                                                                       \n",
       "49  ...                                                                                                                                                                                              \n",
       "50  ธนกร กล่าวว่า เหมือนเดิม ยังไปสภาเหมือนเดิม                                                                                                                                                      \n",
       "51  ...                                                                                                                                                                                              \n",
       "52  ...                                                                                                                                                                                              \n",
       "53  เพราะ อนุชา นาคาศัย รมต.ประจำจำนักนายกฯ รับผิดชอบเรื่องนี้และทำหน้าที่ได้ดีมาก                                                                                                                   \n",
       "54  ส่วนส.ส.ทุกคนในพรรคพลังประชารัฐ ก็ให้เกียรติเพราะท่านเข้าได้กับทุกคน                                                                                                                             \n",
       "55  เมื่อถามอีกว่าหลังจากนี้ฝ่ายค้าน จะเดินเกมไม่ร่วมเป็นองค์ประชุม รัฐบาล จะทำหน้าที่นี้อย่างไร                                                                                                     \n",
       "56  ธนกร กล่าวว่า เรื่องนี้ประชาชนต้องรู้ว่าการที่องค์ประชุมล่มเกิดจากอะไร                                                                                                                           \n",
       "57  ตนไม่โทษฝ่ายไหน แต่ส.ส.มีหน้าที่ประชุมสภา เหมือนที่นายกฯว่าไม่ควรมีการเล่นเกมต่างๆในเวลานี้แล้ว และประชาชนเฝ้าจับตาการทำหน้าที่ส.ส.                                                              \n",
       "58  ...                                                                                                                                                                                              \n",
       "59  เพราะปลายรัฐบาล สภาสล่มทุกสัปดาห์                                                                                                                                                                \n",
       "60  ธนกร กล่าวว่า นายกฯเป็นห่วง                                                                                                                                                                      \n",
       "61  ...                                                                                                                                                                                              \n",
       "62  ...                                                                                                                                                                                              \n",
       "63  ดังนั้นฝนไม่ตกอย่าเพิ่งไปกางร่ม Topic การเมือง Author กองบรรณาธิการวอยซ์ออนไลน์ 51073 Article 1192 Video 10 Blog MOST VIEWED READ WATCH ABOUT FAQ CONTACT TERM OF USE SCHEDULE                   \n",
       "\n",
       "                                                                                         unk_words  \n",
       "0                                                                                                   \n",
       "1   \"'ธนกร'\", \"ปัด\", \"ตู่\", \"ตบ\", \"รางวัล\", \"รมต.\", \"แจง\", \"ศักยภาพ\"                                \n",
       "2   \"'ธนกร'\", \"ปัด\", \"ตู่\", \"ตบ\", \"รางวัล\", \"รมต.\", \"แจง\", \"ศักยภาพ\"                                \n",
       "3                                                                                                   \n",
       "4   \"'ธนกร'\", \"ปัด\", \"ตบ\", \"รางวัล\", \"รมต.\", \"ออกโรง\", \"ป้อง\"                                       \n",
       "5   \"แจง\", \"ศักยภาพ\"                                                                                \n",
       "6   \"ตู่\", \"ป้อม\"                                                                                   \n",
       "7   \"ผลักดัน\"                                                                                       \n",
       "8   \"ยัน\"                                                                                           \n",
       "9   \"ทำเนียบรัฐบาล\"                                                                                 \n",
       "10  \"ธน\", \"วัง\"                                                                                     \n",
       "11  \"สักการะ\", \"ท้าวมหาพรหม\", \"ศาลพระภูมิ\", \"ยาย\", \"สิ่งศักดิ์สิทธิ์\", \"ทำเนียบรัฐบาล\", \"สิริมงคล\"  \n",
       "12  \"ธน\", \"ฤกษ์\"                                                                                    \n",
       "13                                                                                                  \n",
       "14                                                                                                  \n",
       "15  \"ให้พร\"                                                                                         \n",
       "16  \"ฤกษ์ดี\"                                                                                        \n",
       "17  \"รมว.\", \"ประวิตร\", \"วงษ์\", \"สุวรรณ\", \"พรรคพลังประชารัฐ\", \"เมตตา\"                                \n",
       "18  \"ธน\", \"มอบหมาย\"                                                                                 \n",
       "19  \"ครบวาระ\", \"มีนาคม\", \"มีค่า\", \"รับใช้\"                                                          \n",
       "20                                                                                                  \n",
       "21  \"อย่างไรบ้าง\"                                                                                   \n",
       "22  \"โควต้า\", \"ฝธนกร\"                                                                               \n",
       "23  \"โฆษก\"                                                                                          \n",
       "24  \"แวะเวียน\"                                                                                      \n",
       "25                                                                                                  \n",
       "26  \"ความเมตตา\", \"องค์ประกอบ\"                                                                       \n",
       "27  \"กำกับ\"                                                                                         \n",
       "28  \"ธน\"                                                                                            \n",
       "29                                                                                                  \n",
       "30  \"รับมอบหมาย\"                                                                                    \n",
       "31                                                                                                  \n",
       "32  \"ฟื้นตัว\"                                                                                       \n",
       "33  \"โบ\", \"าย\", \"ดอกผล\", \"ฟื้นตัว\"                                                                  \n",
       "34  \"มอบหมาย\"                                                                                       \n",
       "35  \"ต่อว่า\"                                                                                        \n",
       "36  \"(รท\", \"สช.\", \"ธน\"                                                                              \n",
       "37                                                                                                  \n",
       "38                                                                                                  \n",
       "39                                                                                                  \n",
       "40  \"ไหนจะ\"                                                                                         \n",
       "41  \"ธน\", \"เชื่อมั่น\", \"เทิดทูน\"                                                                    \n",
       "42  \"ประชา\"                                                                                         \n",
       "43  \"คาดหวัง\"                                                                                       \n",
       "44  \"ให้ความเป็นธรรม\"                                                                               \n",
       "45                                                                                                  \n",
       "46  \"ปูนบำเหน็จ\"                                                                                    \n",
       "47  \"ธน\", \" คง\", \"แต่งตั้ง\"                                                                         \n",
       "48  \"มิติ\"                                                                                          \n",
       "49                                                                                                  \n",
       "50  \"ธน\"                                                                                            \n",
       "51                                                                                                  \n",
       "52                                                                                                  \n",
       "53  \"อนุชา\", \"นาคา\", \"ศัย\", \"รมต.\"                                                                  \n",
       "54  \"พรรคพลังประชารัฐ\", \"ให้เกียรติ\"                                                                \n",
       "55  \"ฝ่ายค้าน\", \"องค์ประชุม\"                                                                        \n",
       "56  \"ธน\", \"องค์ประชุม\", \"ล่ม\"                                                                       \n",
       "57  \"มีหน้า\", \"เฝ้า\"                                                                                \n",
       "58                                                                                                  \n",
       "59  \"ล่ม\"                                                                                           \n",
       "60  \"ธน\"                                                                                            \n",
       "61                                                                                                  \n",
       "62                                                                                                  \n",
       "63  \"กางร่ม\"                                                                                        "
      ]
     },
     "execution_count": 180,
     "metadata": {},
     "output_type": "execute_result"
    }
   ],
   "source": [
    "print(webpage)\n",
    "filter_text(webpage,print_word_lvl=True)"
   ]
  },
  {
   "cell_type": "markdown",
   "id": "b04bfa91",
   "metadata": {},
   "source": [
    "##END"
   ]
  },
  {
   "cell_type": "code",
   "execution_count": 147,
   "id": "db36cdb8",
   "metadata": {
    "collapsed": true
   },
   "outputs": [
    {
     "name": "stdout",
     "output_type": "stream",
     "text": [
      "daily catch in word count:\n",
      "['เชิญ', 'ยิ้ม', 'ยินดี', 'รอย', 'เอกสาร', 'สนิท', 'กระดาษ', 'คอ', 'โรงพยาบาล', 'หิน', 'จด', 'ปืน', 'โต๊ะ', 'เสื้อผ้า', 'เลือด', 'สิทธิ์', 'นักเขียน', 'สนุกสนาน', 'หัวเราะ', 'หู', 'ยิง', 'สวยงาม', 'ล่า', 'แขก', 'ดอกไม้', 'ที่นั่ง', 'เสือ', 'ปกป้อง', 'รับประทาน', 'ไอ', 'สนุก', 'ลูกชาย', 'สหรัฐ', 'นิ้ว', 'ไอ้', 'รถไฟ', 'เล็กน้อย', 'โปรด', 'คะแนน', 'กรุณา', 'โรงแรม', 'จดหมาย', 'ขับ', 'ดื่ม', 'หอม', 'ระมัดระวัง', 'ฤดู', 'ฟัน', 'เท้า', 'หล่อน', 'วางแผน', 'ลับ', 'ลอย', 'ยกเว้น', 'ลูกค้า', 'ริม', 'ม้า', 'คอมพิวเตอร์']\n"
     ]
    }
   ],
   "source": [
    "#Upload from download\n",
    "with open(path+'known_thai_list.txt',\"r\") as input_file:\n",
    "    new_words = input_file.read().split(',')\n",
    "    print(\"daily catch in word count:\")\n",
    "    print(new_words)\n",
    "for line in new_words:   \n",
    "    vocab['white_listed'].add(line.replace(\"'\",\"\").strip())\n"
   ]
  },
  {
   "cell_type": "code",
   "execution_count": 154,
   "id": "0141a9c3",
   "metadata": {},
   "outputs": [
    {
     "name": "stdout",
     "output_type": "stream",
     "text": [
      "Hello Nong\n"
     ]
    }
   ],
   "source": [
    "\n",
    "wyw_text = 'สวัสดีครับน้อง'\n",
    "print(ts.google(wyw_text))\n",
    "#print(ts._google.language_map)\n",
    "#print(ts.google(wyw_text))"
   ]
  },
  {
   "cell_type": "code",
   "execution_count": 227,
   "id": "67b1cbb0",
   "metadata": {},
   "outputs": [
    {
     "name": "stdout",
     "output_type": "stream",
     "text": [
      "today's catch % of corpus:\n"
     ]
    },
    {
     "data": {
      "text/plain": [
       "'1.200344766395417%'"
      ]
     },
     "execution_count": 227,
     "metadata": {},
     "output_type": "execute_result"
    }
   ],
   "source": [
    "#Get after when adding in new words\n",
    "print(\"today's catch % of corpus:\")\n",
    "str(100*(percent-prev_percent))+\"%\""
   ]
  },
  {
   "cell_type": "code",
   "execution_count": null,
   "id": "3258e547",
   "metadata": {},
   "outputs": [],
   "source": [
    "#output newly knowns\n",
    "with open(path+\"new_known_thai_lines.txt\",\"w\") as outfile:\n",
    "    for line in list(set(knowns).difference(prev_knowns)):\n",
    "        outfile.write(line+'\\n')\n"
   ]
  },
  {
   "cell_type": "code",
   "execution_count": 105,
   "id": "1a9fb3c5",
   "metadata": {},
   "outputs": [
    {
     "name": "stdout",
     "output_type": "stream",
     "text": [
      "Sanity check. Current vocab size:\n"
     ]
    },
    {
     "data": {
      "text/plain": [
       "1462"
      ]
     },
     "execution_count": 105,
     "metadata": {},
     "output_type": "execute_result"
    }
   ],
   "source": [
    "print(\"Sanity check. Current vocab size:\")\n",
    "len(vocab['white_listed'])"
   ]
  },
  {
   "cell_type": "code",
   "execution_count": 117,
   "id": "564b37a8",
   "metadata": {},
   "outputs": [],
   "source": [
    "\"\"\"\n",
    "to do:\n",
    "\n",
    "\"\"\""
   ]
  },
  {
   "cell_type": "code",
   "execution_count": 7,
   "id": "d9799280",
   "metadata": {},
   "outputs": [
    {
     "data": {
      "text/plain": [
       "999"
      ]
     },
     "execution_count": 7,
     "metadata": {},
     "output_type": "execute_result"
    }
   ],
   "source": [
    "##INPUT-OUTPUT\n",
    "#vocab list:\n",
    "with open(\"/Users/elyebliss/Desktop/Vocabulary/vocab_dfs/thai_whitelisted.csv\",\"r\") as infile:\n",
    "    whitelisted_lemmas = infile.read()\n",
    "\n",
    "\n",
    "##VARIABLES\n",
    "vocab_all = set()\n",
    "\n",
    "\n",
    "for line in whitelisted_lemmas.split('\\n'):\n",
    "    if len(line) > 0:\n",
    "        \n",
    "        vocab = line.strip()\n",
    "        vocab_all.add(vocab)\n",
    "        \n",
    "len(whitelisted_lemmas.split('\\n'))            \n",
    "#pp.pprint(vocab_all)"
   ]
  },
  {
   "cell_type": "code",
   "execution_count": 8,
   "id": "3e37bfb9",
   "metadata": {},
   "outputs": [],
   "source": [
    "vocab = {}\n",
    "vocab['white_listed'] = list(vocab_all)\n",
    "vocab['black_listed'] = []"
   ]
  }
 ],
 "metadata": {
  "kernelspec": {
   "display_name": "Python 3 (ipykernel)",
   "language": "python",
   "name": "python3"
  },
  "language_info": {
   "codemirror_mode": {
    "name": "ipython",
    "version": 3
   },
   "file_extension": ".py",
   "mimetype": "text/x-python",
   "name": "python",
   "nbconvert_exporter": "python",
   "pygments_lexer": "ipython3",
   "version": "3.9.12"
  }
 },
 "nbformat": 4,
 "nbformat_minor": 5
}
