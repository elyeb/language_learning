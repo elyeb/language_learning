{
 "cells": [
  {
   "cell_type": "code",
   "execution_count": null,
   "id": "05aba0c4",
   "metadata": {},
   "outputs": [],
   "source": [
    "\"\"\"\n",
    "\n",
    "Contents:\n",
    "-data intialization from csv file of words &\n",
    " build data structure to house info moving forward\n",
    "-write to .json formats\n",
    "-read from existing .json formats\n",
    "-get list of words to find\n",
    "-scrape BBC\n",
    "-scrape voiceTV\n",
    "\"\"\""
   ]
  },
  {
   "cell_type": "code",
   "execution_count": 1,
   "id": "ebdc6804",
   "metadata": {},
   "outputs": [
    {
     "name": "stderr",
     "output_type": "stream",
     "text": [
      "Using state Washington server backend.\n"
     ]
    }
   ],
   "source": [
    "import bs4, requests, sys, codecs, urllib.request, re\n",
    "from bs4 import SoupStrainer\n",
    "from bs4.element import Comment\n",
    "import random\n",
    "#import pythainlp\n",
    "from pythainlp.tokenize import word_tokenize, sent_tokenize\n",
    "import string\n",
    "import json\n",
    "import pandas as pd\n",
    "import os\n",
    "from os import listdir\n",
    "from os.path import isfile, join\n",
    "import pprint\n",
    "import translators as ts\n",
    "\n",
    "pp = pprint.PrettyPrinter()\n",
    "pd.set_option('display.max_rows', None)\n",
    "pd.set_option('display.max_colwidth', 0)\n",
    "\n",
    "path = \"/Users/elyebliss/Desktop/Vocabulary/language_learning/vocab_dfs/\"\n",
    "source_file = \"thai.json\""
   ]
  },
  {
   "cell_type": "code",
   "execution_count": 2,
   "id": "ce69b1b0",
   "metadata": {},
   "outputs": [],
   "source": [
    "##METHODS\n",
    "\n",
    "def tag_visible(element):\n",
    "    if element.parent.name in ['style', 'script', 'head', 'title', 'meta', '[document]']:\n",
    "        return False\n",
    "    if isinstance(element, Comment):\n",
    "        return False\n",
    "    return True\n",
    "\n",
    "\n",
    "def text_from_html(body):\n",
    "    soup = bs4.BeautifulSoup(body, 'html.parser')\n",
    "    texts = soup.findAll(text=True)\n",
    "    visible_texts = filter(tag_visible, texts)  \n",
    "    return u\" \".join(t.strip() for t in visible_texts)\n",
    "\n",
    "\n",
    "\n",
    "user_agent = 'Mozilla/5.0 (Windows NT 6.3; WOW64; rv:50.0) Gecko/20100101 Firefox/50.0'\n",
    "headers={'User-Agent':user_agent,}\n",
    "parser = 'html.parser'"
   ]
  },
  {
   "cell_type": "code",
   "execution_count": 3,
   "id": "63afba50",
   "metadata": {},
   "outputs": [],
   "source": [
    "def get_known(unknown_list):\n",
    "    \n",
    "    count_got = 0\n",
    "    known_list = []\n",
    "    for word in unknown_list:\n",
    "        decision = str(input(word+\"\\nKnown =k\"))\n",
    "        if decision =='k':\n",
    "            known_list.append(word)\n",
    "            count_got +=1\n",
    "            print(\"got \"+str(count_got))\n",
    "        elif decision=='q':\n",
    "            break\n",
    "        try:\n",
    "            print(ts.google(word))\n",
    "        except:\n",
    "            print('cant find')\n",
    "    return known_list"
   ]
  },
  {
   "cell_type": "code",
   "execution_count": 4,
   "id": "117b26f1",
   "metadata": {},
   "outputs": [],
   "source": [
    "def filter_text(webpage,start=None,stop=None,\\\n",
    "                print_word_lvl=False,percent_threshold=None,\\\n",
    "               return_percent=False):\n",
    "\n",
    "\n",
    "    try:\n",
    "        request=urllib.request.Request(webpage,None,headers) #The assembled request\n",
    "        response = urllib.request.urlopen(request)\n",
    "        data = response.read()\n",
    "        contents = text_from_html(data)\n",
    "\n",
    "        known_array = []\n",
    "        unk_array = []\n",
    "        contents_array = sent_tokenize(contents)\n",
    "\n",
    "        if (start is not None) and (stop is not None):\n",
    "            contents_array=contents_array[max(start,0):min(stop,len(contents_array))]\n",
    "\n",
    "        disallowed_words = set()\n",
    "\n",
    "        total_words = 0\n",
    "        unknown_words = 0\n",
    "        \n",
    "        lines = []\n",
    "        unknowns = []\n",
    "        for line in contents_array:\n",
    "\n",
    "\n",
    "            tokenized = word_tokenize(line)\n",
    "\n",
    "\n",
    "            add_line = True\n",
    "            line_total = 0\n",
    "            line_unks = 0\n",
    "\n",
    "            unk_str = \"\"\n",
    "            for word in tokenized:\n",
    "                \n",
    "                total_words +=1\n",
    "                line_total +=1\n",
    "\n",
    "                if bool(re.search('[\\u0E00-\\u0E7F]+', word, flags=re.UNICODE)) and not ((word in vocab['white_listed']) or\\\n",
    "                                                            (word in vocab['black_listed'])):\n",
    "\n",
    "                        unk_str += '\"'+word+'\"'+\", \"\n",
    "                        if not percent_threshold:\n",
    "                            add_line = False\n",
    "                        disallowed_words.add(word)\n",
    "                        unknown_words +=1\n",
    "                        line_unks +=1\n",
    "\n",
    "            if percent_threshold:\n",
    "                if line_total>0:\n",
    "                    if (1-(line_unks/line_total))<percent_threshold:\n",
    "                        add_line = False\n",
    "            if add_line:\n",
    "                known_array.append(line)\n",
    "                unk_array.append(\"...\")\n",
    "            else:\n",
    "                known_array.append(\"...\")\n",
    "                unk_array.append(line)\n",
    "\n",
    "            if len(unk_str)>0:\n",
    "                unk_str = unk_str[0:len(unk_str)-2]\n",
    "\n",
    "            unknowns.append(unk_str)\n",
    "\n",
    "        if print_word_lvl and total_words>0:\n",
    "            print(\"word-level % known = \"+str((1-(unknown_words/total_words))*100))\n",
    "        if return_percent and total_words>0:\n",
    "            return (1-(unknown_words/total_words))*100\n",
    "        return_pd = pd.DataFrame(list(zip(known_array,unk_array,unknowns)))\n",
    "        return_pd.columns = [\"knowns\",\"unknowns\",\"unk_words\"]\n",
    "\n",
    "        \n",
    "\n",
    "        with open(path+'unknown_thai_list.txt',\"w\") as outfile:\n",
    "            outfile.write(str(list(disallowed_words)))\n",
    "\n",
    "        return return_pd\n",
    "\n",
    "    except:\n",
    "        pass"
   ]
  },
  {
   "cell_type": "code",
   "execution_count": 52,
   "id": "826dae68",
   "metadata": {},
   "outputs": [
    {
     "name": "stdout",
     "output_type": "stream",
     "text": [
      "2286\n",
      "2518\n"
     ]
    }
   ],
   "source": [
    "\"\"\"read from existing .json formats\n",
    "white-listed\n",
    "uncovered \n",
    "2286\n",
    "2518\n",
    "\"\"\"\n",
    "with open(path+source_file, \"r\") as path_in:\n",
    "    vocab = json.loads(path_in.read())\n",
    "vocab['white_listed'] = set(vocab['white_listed'])\n",
    "vocab['black_listed'] = set(vocab['black_listed'])\n",
    "print(len(vocab['white_listed'])) \n",
    "\n",
    "#get 4k freq word info:\n",
    "with open(path+'th_freq.csv','r') as infile:\n",
    "    freq_df = pd.read_csv(infile)\n",
    "uncovered = []\n",
    "for word in freq_df.word:\n",
    "    if word not in vocab['white_listed']:\n",
    "        uncovered.append(word)\n",
    "print(len(uncovered))\n",
    "\n"
   ]
  },
  {
   "cell_type": "code",
   "execution_count": 29,
   "id": "004a939d",
   "metadata": {},
   "outputs": [
    {
     "name": "stdout",
     "output_type": "stream",
     "text": [
      "Checking BBC Thai\n",
      "Checking VoiceTV\n"
     ]
    }
   ],
   "source": [
    "pages = []\n",
    "titles = []\n",
    "\n",
    "##BBC\n",
    "print(\"Checking BBC Thai\")\n",
    "parser = 'html.parser'  # or 'lxml' (preferred) or 'html5lib', if installed\n",
    "request=urllib.request.Request('https://www.bbc.com/thai/topics/cjgn73g98rqt',None,headers)\n",
    "resp = urllib.request.urlopen(request)\n",
    "soup = bs4.BeautifulSoup(resp, parser, from_encoding=resp.info().get_param('charset'))\n",
    "\n",
    "\n",
    "for link in soup.find_all('a', href=True):\n",
    "    if 'https://www.bbc.com/thai/thailand' in str(link['href']):\n",
    "        pages.append(str(link['href']))\n",
    "        request=urllib.request.Request(str(link['href']),None,headers) #The assembled request\n",
    "\n",
    "        response = urllib.request.urlopen(request)\n",
    "        data = response.read()\n",
    "        contents = text_from_html(data)\n",
    "        if bool(re.search(\"(?<=ยอดนิยม หน้าแรก ประเทศไทย ต่างประเทศ วิทยาศาสตร์ สุขภาพ โควิด-19 วิดีโอ ยอดนิยม).{30}\",contents)):\n",
    "            titles.append(re.findall(\"(?<=ยอดนิยม หน้าแรก ประเทศไทย ต่างประเทศ วิทยาศาสตร์ สุขภาพ โควิด-19 วิดีโอ ยอดนิยม).{30}\",contents)[0].strip())\n",
    "\n",
    "    elif '/thai/thailand' in str(link['href']):\n",
    "        pages.append('https://www.bbc.com'+str(link['href']))\n",
    "\n",
    "##VoiceTV\n",
    "print(\"Checking VoiceTV\")\n",
    "parser = 'html.parser'  # or 'lxml' (preferred) or 'html5lib', if installed\n",
    "request=urllib.request.Request('https://www.voicetv.co.th/topic/%E0%B8%81%E0%B8%B2%E0%B8%A3%E0%B9%80%E0%B8%A1%E0%B8%B7%E0%B8%AD%E0%B8%87',None,headers)\n",
    "resp = urllib.request.urlopen(request)\n",
    "soup = bs4.BeautifulSoup(resp, parser, from_encoding=resp.info().get_param('charset'))\n",
    "\n",
    " \n",
    "for link in soup.find_all('a', href=True):\n",
    "    str_page = 'https://www.voicetv.co.th'+str(link['href'])\n",
    "    if '/read/' in str(link['href']) and str_page not in pages:\n",
    "        pages.append(str_page)\n",
    "        request=urllib.request.Request(str_page,None,headers) #The assembled request\n",
    "\n",
    "        response = urllib.request.urlopen(request)\n",
    "        data = response.read()\n",
    "        contents = text_from_html(data)\n",
    "        titles.append(re.findall(\"(?<=  :).{30}\",contents)[0].strip())"
   ]
  },
  {
   "cell_type": "code",
   "execution_count": 31,
   "id": "411c6c9a",
   "metadata": {},
   "outputs": [
    {
     "data": {
      "text/plain": [
       "1535"
      ]
     },
     "execution_count": 31,
     "metadata": {},
     "output_type": "execute_result"
    }
   ],
   "source": [
    "#load prev corpus and add\n",
    "known_corpus = set()\n",
    "with open(path+\"all_known_thai_lines.txt\",\"r\",encoding='utf-8') as infile:\n",
    "    for line in infile.read().split('\\n'):\n",
    "        known_corpus.add(line)\n",
    "len(known_corpus)"
   ]
  },
  {
   "cell_type": "code",
   "execution_count": 32,
   "id": "bb6ee0f7",
   "metadata": {},
   "outputs": [
    {
     "name": "stdout",
     "output_type": "stream",
     "text": [
      "percent all known= 0.17448405253283303\n"
     ]
    }
   ],
   "source": [
    "#Find % of all sentences of news\n",
    "knowns = []\n",
    "all_lines = 0\n",
    "\n",
    "known_percents = []\n",
    "\n",
    "for webpage in pages:\n",
    "    \n",
    "    test_df = filter_text(webpage)\n",
    "    all_lines += len(list(test_df.knowns))\n",
    "    \n",
    "    known_percents.append(filter_text(webpage,return_percent=True))\n",
    "    \n",
    "    for item in list(test_df.knowns[test_df.knowns != '...']):\n",
    "        knowns.append(item)\n",
    "percent = len(knowns)/float(all_lines)\n",
    "print(\"percent all known= \"+str(percent))\n"
   ]
  },
  {
   "cell_type": "code",
   "execution_count": 33,
   "id": "1fa348ef",
   "metadata": {},
   "outputs": [
    {
     "data": {
      "text/plain": [
       "['วันนี้เราต้องเดินไปข้างหน้า” Topic การเมือง Author กองบรรณาธิการวอยซ์ออนไลน์ 51491 Article 1192 Video 10 Blog MOST VIEWED READ WATCH ABOUT FAQ CONTACT TERM OF USE SCHEDULE      ',\n",
       " '“แม้ขณะนี้จะยังไม่เกิดความเสียหาย แต่สิ่งที่เสียหายไปแล้ว คือความรู้สึกของประชาชน เพราะประชาชนรับรู้ว่าแค่เริ่มต้นก็คิดจะเอาเปรียบกันแล้ว ',\n",
       " 'กล่าวถึงกรณีที่ พล.อ.ประยุทธ์ จันทร์โอชา นายกรัฐมนตรี และรัฐมนตรีว่าการกระทรวงกลาโหม ',\n",
       " 'พล.อ.ประยุทธ์ต้องพิสูจน์ตัวเองว่าไม่ได้เอาเปรียบพรรคการเมืองอื่น ',\n",
       " 'เมื่อถามถึงบทบาทของ พล.อ.ประยุทธ์ ในพรรครวมไทยสร้างชาติ ',\n",
       " 'เมื่อถามว่า ด้วยสถานการณ์ปัจจุบันได้ประเมินหรือไม่ ',\n",
       " 'ครั้งนี้จึงอยากให้เกิดความชัดเจนที่สุด ',\n",
       " 'เพราะจากผลสำรวจแค่ภาคเดียวก็เกินแล้ว ',\n",
       " 'ดังนั้น ยิ่งมากันเยอะก็ไม่เป็นไร ',\n",
       " 'เรื่องนี้ต้องว่าหลังเลือกตั้ง ',\n",
       " 'ว่า พรรครวมไทยสร้างชาติ จะได้ ',\n",
       " 'ส.ส.เท่าไรก็เป็นเรื่องอนาคต ',\n",
       " 'เชื่อจะมี ส.ส. ตามมาอีกมาก ',\n",
       " 'เมื่อ พล.อ.ประยุทธ์ ชัดเจน ',\n",
       " 'ส่วนตัวมองว่าไม่เหมาะสม ',\n",
       " 'พรรคของตนยังโดนซื้อเลย ',\n",
       " 'ตนยืนยันว่า เกินแน่นอน ',\n",
       " 'จะเกิดอะไรกับอินเดีย ',\n",
       " 'ก็จะมีคนไหลเข้ามาอีก ',\n",
       " 'เมื่อ พล.อ.ประยุทธ์ ',\n",
       " 'ส.ส.ปัจจุบันเสียอีก ',\n",
       " 'ส.ส.เกิน 25 เสียง ',\n",
       " 'เหมือนการเข้าสอบ ',\n",
       " 'ส.ส.ประมาณเท่าไร ',\n",
       " '“มากันมากแค่ไหน ',\n",
       " 'เมื่อถามอีกว่า ',\n",
       " 'และที่ผ่านมา ',\n",
       " '“ไม่มีปัญหา ',\n",
       " 'เราจะได้ ',\n",
       " 'จะ 3 ปี ']"
      ]
     },
     "execution_count": 33,
     "metadata": {},
     "output_type": "execute_result"
    }
   ],
   "source": [
    "#sorted(list(set(knowns)),key=len,reverse=True)\n",
    "sorted(list(set(knowns).difference(known_corpus)),key=len,reverse=True)"
   ]
  },
  {
   "cell_type": "code",
   "execution_count": 10,
   "id": "ac029f06",
   "metadata": {},
   "outputs": [],
   "source": [
    "#manually remove from white\n",
    "remove_from_white = []\n",
    "\n",
    "for word in remove_from_white:\n",
    "    if word in vocab['white_listed']:\n",
    "        vocab['white_listed'].remove(word)"
   ]
  },
  {
   "cell_type": "code",
   "execution_count": 34,
   "id": "1ee450fe",
   "metadata": {},
   "outputs": [
    {
     "data": {
      "text/plain": [
       "1565"
      ]
     },
     "execution_count": 34,
     "metadata": {},
     "output_type": "execute_result"
    }
   ],
   "source": [
    "for item in list(set(knowns)):\n",
    "    known_corpus.add(item)\n",
    "\n",
    "with open(path+\"all_known_thai_lines.txt\",\"w\",encoding='utf-8') as outfile:\n",
    "    for line in list(set(known_corpus)):\n",
    "        outfile.write(line+'\\n')\n",
    "len(known_corpus)"
   ]
  },
  {
   "cell_type": "code",
   "execution_count": 35,
   "id": "2d6948c1",
   "metadata": {},
   "outputs": [
    {
     "name": "stdout",
     "output_type": "stream",
     "text": [
      "26\n"
     ]
    }
   ],
   "source": [
    "websites = set()\n",
    "\n",
    "with open(path+'viewed_websites_th.txt',\"r\") as infile:\n",
    "    for line in infile.read().split('\\n'):\n",
    "        websites.add(line)\n",
    "print(len(websites))"
   ]
  },
  {
   "cell_type": "code",
   "execution_count": 36,
   "id": "2a643828",
   "metadata": {
    "collapsed": true
   },
   "outputs": [
    {
     "data": {
      "text/plain": [
       "[(4,\n",
       "  91.0303928836175,\n",
       "  '‘ประยุทธ์’ อวยพรปีใหม่สื่อทำเ',\n",
       "  'https://www.voicetv.co.th/read/YzO2mlee8'),\n",
       " (3,\n",
       "  87.61904761904762,\n",
       "  \"'เอกนัฏ' หวัง 'รทสช.' กวาด 10\",\n",
       "  'https://www.voicetv.co.th/read/K3B7HBSOe'),\n",
       " (2,\n",
       "  86.01190476190477,\n",
       "  \"'สุทิน' จี้ กกต. จับตา 'ประยุ\",\n",
       "  'https://www.voicetv.co.th/read/t3ZbvGMm3'),\n",
       " (5,\n",
       "  81.67539267015707,\n",
       "  '‘วิษณุ’แย้มประตูยุบสภาเปิดอยู',\n",
       "  'https://www.voicetv.co.th/read/bn95YMr0a'),\n",
       " (7,\n",
       "  80.96723868954759,\n",
       "  'จับตา ‘ราษฎรแรลลี่’ จาก ‘วังล',\n",
       "  'https://www.voicetv.co.th/read/rI-9LjhEh'),\n",
       " (0,\n",
       "  80.6083650190114,\n",
       "  \"'ทุนมินรัต' เจอข้อหาหนักยาเสพ\",\n",
       "  'https://www.bbc.com/thai/thailand-64064173'),\n",
       " (1,\n",
       "  79.08902691511386,\n",
       "  '‘เสรีพิศุทธ์’ขอของขวัญปีใหม่ค',\n",
       "  'https://www.voicetv.co.th/read/443C3qqqM')]"
      ]
     },
     "execution_count": 36,
     "metadata": {},
     "output_type": "execute_result"
    }
   ],
   "source": [
    "page_titles = list(zip(range(0,len(known_percents)),known_percents,titles,pages))\n",
    "# (sorted(list(zip(range(0,len(known_percents)),known_percents)),key = lambda x: x[1],reverse=True))\n",
    "page_titles = sorted(page_titles,key = lambda x: x[1],reverse=True)\n",
    "page_titles = [item for item in page_titles if not (item[3] in websites)]\n",
    "page_titles"
   ]
  },
  {
   "cell_type": "code",
   "execution_count": 37,
   "id": "1e2e7b73",
   "metadata": {},
   "outputs": [],
   "source": [
    "webpage = pages[4]\n",
    "if webpage in websites:\n",
    "    print(\"already scanned! choose another!\")\n",
    "websites.add(webpage)"
   ]
  },
  {
   "cell_type": "code",
   "execution_count": 38,
   "id": "f737a6dc",
   "metadata": {},
   "outputs": [],
   "source": [
    "\n",
    "with open(path+'viewed_websites_th.txt',\"w\") as outfile:\n",
    "    for line in websites:\n",
    "        outfile.write(line+'\\n')      \n"
   ]
  },
  {
   "cell_type": "code",
   "execution_count": 39,
   "id": "141ae514",
   "metadata": {},
   "outputs": [
    {
     "name": "stdout",
     "output_type": "stream",
     "text": [
      "word-level % known = 91.0303928836175\n"
     ]
    }
   ],
   "source": [
    "#display() #percent_threshold=0.95\n",
    "art=filter_text(webpage,print_word_lvl=True)"
   ]
  },
  {
   "cell_type": "code",
   "execution_count": 40,
   "id": "8bce1137",
   "metadata": {},
   "outputs": [
    {
     "name": "stdout",
     "output_type": "stream",
     "text": [
      "85\n"
     ]
    }
   ],
   "source": [
    "with open(path+'unknown_thai_list.txt',\"r\") as input_file:\n",
    "    new_words = input_file.read()\n",
    "    new_words = re.sub(\"[\\n\\'\\[\\]]\",\"\",new_words)\n",
    "    new_words = new_words.split(',')\n",
    "    new_words = [line.strip() for line in new_words] #update regex\n",
    "#new_words\n",
    "print(len(new_words))\n",
    "#known_manual = get_known(new_words)"
   ]
  },
  {
   "cell_type": "code",
   "execution_count": 41,
   "id": "efd86a33",
   "metadata": {},
   "outputs": [],
   "source": [
    "import mitosheet\n",
    "unk_df = pd.DataFrame(new_words)\n",
    "unk_df.columns = ['word']\n",
    "unk_df['status'] = pd.Series(['' for word in new_words])"
   ]
  },
  {
   "cell_type": "code",
   "execution_count": 42,
   "id": "3663bb4f",
   "metadata": {},
   "outputs": [
    {
     "data": {
      "application/vnd.jupyter.widget-view+json": {
       "model_id": "f04bf32d562d4d24a3dd442a7f5e24c8",
       "version_major": 2,
       "version_minor": 0
      },
      "text/plain": [
       "MitoWidget(analysis_data_json='{\"analysisName\": \"id-crpzbnetma\", \"analysisToReplay\": null, \"code\": [], \"stepSu…"
      ]
     },
     "metadata": {},
     "output_type": "display_data"
    }
   ],
   "source": [
    "mitosheet.sheet(unk_df, analysis_to_replay=\"id-crpzbnetma\") "
   ]
  },
  {
   "cell_type": "code",
   "execution_count": null,
   "id": "d179786b",
   "metadata": {},
   "outputs": [],
   "source": []
  },
  {
   "cell_type": "code",
   "execution_count": 43,
   "id": "60d5d1ff",
   "metadata": {},
   "outputs": [],
   "source": [
    "add_ints = [6, 14,18,19,25,26,32,47,70,72,76]"
   ]
  },
  {
   "cell_type": "code",
   "execution_count": 44,
   "id": "77eb121a",
   "metadata": {},
   "outputs": [],
   "source": [
    "for i in add_ints:\n",
    "    # Set a cell value in status\n",
    "    unk_df.at[i, 'status'] = 'k'"
   ]
  },
  {
   "cell_type": "code",
   "execution_count": 45,
   "id": "71c577e6",
   "metadata": {},
   "outputs": [],
   "source": [
    "translations = []\n",
    "for i in range(0,len(unk_df)):\n",
    "    try:\n",
    "        translations.append(ts.google(unk_df.word.iloc[i]))\n",
    "    except:\n",
    "        translations.append('')\n",
    "unk_df['translations']=translations\n"
   ]
  },
  {
   "cell_type": "code",
   "execution_count": 46,
   "id": "fe5bce81",
   "metadata": {},
   "outputs": [
    {
     "data": {
      "application/vnd.jupyter.widget-view+json": {
       "model_id": "a084ec9991db4643875e8bdd6f139cb8",
       "version_major": 2,
       "version_minor": 0
      },
      "text/plain": [
       "MitoWidget(analysis_data_json='{\"analysisName\": \"id-nfsjeljowe\", \"analysisToReplay\": null, \"code\": [], \"stepSu…"
      ]
     },
     "metadata": {},
     "output_type": "display_data"
    }
   ],
   "source": [
    "mitosheet.sheet(unk_df, analysis_to_replay=\"id-nfsjeljowe\")"
   ]
  },
  {
   "cell_type": "code",
   "execution_count": 48,
   "id": "455c3cdb",
   "metadata": {},
   "outputs": [
    {
     "name": "stdout",
     "output_type": "stream",
     "text": [
      "13\n"
     ]
    }
   ],
   "source": [
    "add_words = list(unk_df.word[unk_df['status']=='k'])\n",
    "print(len(add_words))\n",
    "for word in add_words:\n",
    "    vocab['white_listed'].add(word)"
   ]
  },
  {
   "cell_type": "code",
   "execution_count": 49,
   "id": "02a15572",
   "metadata": {},
   "outputs": [
    {
     "name": "stdout",
     "output_type": "stream",
     "text": [
      "2286\n"
     ]
    }
   ],
   "source": [
    "#write to .json formats\n",
    "df = vocab\n",
    "df['white_listed'] = list(df['white_listed'])\n",
    "df['black_listed'] = list(df['black_listed'])\n",
    "with open(path+source_file, \"w\") as outfile:\n",
    "    json.dump(df,outfile)\n",
    "print(len(df['white_listed']))"
   ]
  },
  {
   "cell_type": "code",
   "execution_count": 50,
   "id": "c7f67a5d",
   "metadata": {},
   "outputs": [
    {
     "name": "stdout",
     "output_type": "stream",
     "text": [
      "2286\n"
     ]
    }
   ],
   "source": [
    "#read from existing .json formats\n",
    "with open(path+source_file, \"r\") as path_in:\n",
    "    vocab = json.loads(path_in.read())\n",
    "vocab['white_listed'] = set(vocab['white_listed'])\n",
    "vocab['black_listed'] = set(vocab['black_listed'])\n",
    "print(len(vocab['white_listed']))"
   ]
  },
  {
   "cell_type": "code",
   "execution_count": 51,
   "id": "4f09c08d",
   "metadata": {
    "collapsed": true
   },
   "outputs": [
    {
     "name": "stdout",
     "output_type": "stream",
     "text": [
      "https://www.voicetv.co.th/read/YzO2mlee8\n",
      "word-level % known = 92.36471460340994\n"
     ]
    },
    {
     "data": {
      "text/html": [
       "<div><div id=b2d6bc8b-fef9-4192-b4df-4f16499d30f6 style=\"display:none; background-color:#9D6CFF; color:white; width:200px; height:30px; padding-left:5px; border-radius:4px; flex-direction:row; justify-content:space-around; align-items:center;\" onmouseover=\"this.style.backgroundColor='#BA9BF8'\" onmouseout=\"this.style.backgroundColor='#9D6CFF'\" onclick=\"window.commands?.execute('create-mitosheet-from-dataframe-output');\">See Full Dataframe in Mito</div> <script> if (window.commands?.hasCommand('create-mitosheet-from-dataframe-output')) document.getElementById('b2d6bc8b-fef9-4192-b4df-4f16499d30f6').style.display = 'flex' </script> <table border=\"1\" class=\"dataframe\">\n",
       "  <thead>\n",
       "    <tr style=\"text-align: right;\">\n",
       "      <th></th>\n",
       "      <th>knowns</th>\n",
       "      <th>unknowns</th>\n",
       "      <th>unk_words</th>\n",
       "    </tr>\n",
       "  </thead>\n",
       "  <tbody>\n",
       "    <tr>\n",
       "      <th>0</th>\n",
       "      <td>POLITICS ECONOMICS WORLD ENTERTAINMENT WELL-BEING LOCAL NEWS BLOG VOICE PLAZA TV PROGRAMS LIVE POLITICS ECONOMICS WORLD ENTERTAINMENT WELL-BEING LOCAL NEWS BLOG VOICE PLAZA TV PROGRAMS ABOUT FAQ CONTACT TERM OF USE SCHEDULE ไม่พบผลการค้นหา</td>\n",
       "      <td>...</td>\n",
       "      <td></td>\n",
       "    </tr>\n",
       "    <tr>\n",
       "      <th>1</th>\n",
       "      <td>...</td>\n",
       "      <td>คุณกำลังอ่าน  : 'เอกนัฏ' หวัง 'รทสช.' กวาด 100 ที่นั่ง เชื่อรวมเสียงข้างมากจัดตั้งรัฐบาลได้ Share Tweet Share การเมือง 'เอกนัฏ' หวัง 'รทสช.' กวาด 100 ที่นั่ง เชื่อรวมเสียงข้างมากจัดตั้งรัฐบาลได้ Dec 24, 2022 (</td>\n",
       "      <td>\"นัฏ\", \"'รท\", \"สช.\", \"กวาด\", \"เสียงข้างมาก\", \"จัดตั้ง\", \"นัฏ\", \"'รท\", \"สช.\", \"กวาด\", \"เสียงข้างมาก\", \"จัดตั้ง\"</td>\n",
       "    </tr>\n",
       "    <tr>\n",
       "      <th>2</th>\n",
       "      <td>...</td>\n",
       "      <td>Last update Dec 24, 2022 10:05 )   เลขาธิการรวมไทยสร้างชาติ</td>\n",
       "      <td>\"เลขาธิการ\"</td>\n",
       "    </tr>\n",
       "    <tr>\n",
       "      <th>3</th>\n",
       "      <td>...</td>\n",
       "      <td>เผยหลังประยุทธ์ตอบรับร่วมงานกับพรรค</td>\n",
       "      <td>\"ตอบรับ\"</td>\n",
       "    </tr>\n",
       "    <tr>\n",
       "      <th>4</th>\n",
       "      <td>เชื่อจะมี ส.ส. ตามมาอีกมาก</td>\n",
       "      <td>...</td>\n",
       "      <td></td>\n",
       "    </tr>\n",
       "    <tr>\n",
       "      <th>...</th>\n",
       "      <td>...</td>\n",
       "      <td>...</td>\n",
       "      <td>...</td>\n",
       "    </tr>\n",
       "    <tr>\n",
       "      <th>70</th>\n",
       "      <td>เมื่อถามย้ำว่า ไม่ปิดทางร่วมงานกับพรรคเพื่อไทย หรือพรรคอื่นๆ ใช่หรือไม่</td>\n",
       "      <td>...</td>\n",
       "      <td></td>\n",
       "    </tr>\n",
       "    <tr>\n",
       "      <th>71</th>\n",
       "      <td>...</td>\n",
       "      <td>เอกนัฏ กล่าวว่า “จะไปปิดทางกันเร็วแบบนี้ไม่ได้</td>\n",
       "      <td>\"นัฏ\"</td>\n",
       "    </tr>\n",
       "    <tr>\n",
       "      <th>72</th>\n",
       "      <td>...</td>\n",
       "      <td>ผมไม่อยากพูดไป เดี๋ยวหาว่า เราปฏิเสธคนนั้นคนนี้</td>\n",
       "      <td>\"หาว่า\"</td>\n",
       "    </tr>\n",
       "    <tr>\n",
       "      <th>73</th>\n",
       "      <td>...</td>\n",
       "      <td>วนเวียนอยู่กับความขัดแย้งอีก</td>\n",
       "      <td>\"วนเวียน\"</td>\n",
       "    </tr>\n",
       "    <tr>\n",
       "      <th>74</th>\n",
       "      <td>วันนี้เราต้องเดินไปข้างหน้า” Topic การเมือง Author กองบรรณาธิการวอยซ์ออนไลน์ 51491 Article 1192 Video 10 Blog MOST VIEWED READ WATCH ABOUT FAQ CONTACT TERM OF USE SCHEDULE</td>\n",
       "      <td>...</td>\n",
       "      <td></td>\n",
       "    </tr>\n",
       "  </tbody>\n",
       "</table></div>"
      ],
      "text/plain": [
       "                                                                                                                                                                                                                                                 knowns  \\\n",
       "0      POLITICS ECONOMICS WORLD ENTERTAINMENT WELL-BEING LOCAL NEWS BLOG VOICE PLAZA TV PROGRAMS LIVE POLITICS ECONOMICS WORLD ENTERTAINMENT WELL-BEING LOCAL NEWS BLOG VOICE PLAZA TV PROGRAMS ABOUT FAQ CONTACT TERM OF USE SCHEDULE ไม่พบผลการค้นหา    \n",
       "1   ...                                                                                                                                                                                                                                                   \n",
       "2   ...                                                                                                                                                                                                                                                   \n",
       "3   ...                                                                                                                                                                                                                                                   \n",
       "4   เชื่อจะมี ส.ส. ตามมาอีกมาก                                                                                                                                                                                                                            \n",
       "5   ...                                                                                                                                                                                                                                                   \n",
       "6   ...                                                                                                                                                                                                                                                   \n",
       "7   ...                                                                                                                                                                                                                                                   \n",
       "8   ...                                                                                                                                                                                                                                                   \n",
       "9   ดังนั้น ยิ่งมากันเยอะก็ไม่เป็นไร                                                                                                                                                                                                                      \n",
       "10  ...                                                                                                                                                                                                                                                   \n",
       "11  “มากันมากแค่ไหน                                                                                                                                                                                                                                       \n",
       "12  ...                                                                                                                                                                                                                                                   \n",
       "13  และที่ผ่านมา                                                                                                                                                                                                                                          \n",
       "14  มีการพูดคุยกับ ส.ส.บิ๊กเนม                                                                                                                                                                                                                            \n",
       "15  ...                                                                                                                                                                                                                                                   \n",
       "16  เมื่อ พล.อ.ประยุทธ์ ชัดเจน                                                                                                                                                                                                                            \n",
       "17  ก็จะมีคนไหลเข้ามาอีก                                                                                                                                                                                                                                  \n",
       "18  ...                                                                                                                                                                                                                                                   \n",
       "19  ...                                                                                                                                                                                                                                                   \n",
       "20  ...                                                                                                                                                                                                                                                   \n",
       "21  ส.ส.ปัจจุบันเสียอีก                                                                                                                                                                                                                                   \n",
       "22  ...                                                                                                                                                                                                                                                   \n",
       "23  เมื่อถามว่า ด้วยสถานการณ์ปัจจุบันได้ประเมินหรือไม่                                                                                                                                                                                                    \n",
       "24  ว่า พรรครวมไทยสร้างชาติ จะได้                                                                                                                                                                                                                         \n",
       "25  ส.ส.ประมาณเท่าไร                                                                                                                                                                                                                                      \n",
       "26  ...                                                                                                                                                                                                                                                   \n",
       "27  ส.ส.เกิน 25 เสียง                                                                                                                                                                                                                                     \n",
       "28  ...                                                                                                                                                                                                                                                   \n",
       "29  ตนยืนยันว่า เกินแน่นอน                                                                                                                                                                                                                                \n",
       "30  เพราะจากผลสำรวจแค่ภาคเดียวก็เกินแล้ว                                                                                                                                                                                                                  \n",
       "31  ...                                                                                                                                                                                                                                                   \n",
       "32  ...                                                                                                                                                                                                                                                   \n",
       "33  ...                                                                                                                                                                                                                                                   \n",
       "34  ...                                                                                                                                                                                                                                                   \n",
       "35  ...                                                                                                                                                                                                                                                   \n",
       "36  ...                                                                                                                                                                                                                                                   \n",
       "37  ...                                                                                                                                                                                                                                                   \n",
       "38  เราจะได้                                                                                                                                                                                                                                              \n",
       "39  ...                                                                                                                                                                                                                                                   \n",
       "40  เมื่อถามถึงบทบาทของ พล.อ.ประยุทธ์ ในพรรครวมไทยสร้างชาติ                                                                                                                                                                                               \n",
       "41  ...                                                                                                                                                                                                                                                   \n",
       "42  ...                                                                                                                                                                                                                                                   \n",
       "43  ...                                                                                                                                                                                                                                                   \n",
       "44  ...                                                                                                                                                                                                                                                   \n",
       "45  ครั้งนี้จึงอยากให้เกิดความชัดเจนที่สุด                                                                                                                                                                                                                \n",
       "46  ...                                                                                                                                                                                                                                                   \n",
       "47  ...                                                                                                                                                                                                                                                   \n",
       "48  ...                                                                                                                                                                                                                                                   \n",
       "49  ...                                                                                                                                                                                                                                                   \n",
       "50  ...                                                                                                                                                                                                                                                   \n",
       "51  ...                                                                                                                                                                                                                                                   \n",
       "52  “ไม่มีปัญหา                                                                                                                                                                                                                                           \n",
       "53  ถ้าไม่พอใจก็ปรับใหม่ หรือหมดเวลาจะยุบสภาก็ทำได้ เวลา 2 ปีกว่า                                                                                                                                                                                         \n",
       "54  จะ 3 ปี                                                                                                                                                                                                                                               \n",
       "55  ...                                                                                                                                                                                                                                                   \n",
       "56  ...                                                                                                                                                                                                                                                   \n",
       "57  ...                                                                                                                                                                                                                                                   \n",
       "58  ...                                                                                                                                                                                                                                                   \n",
       "59  ส.ส.เท่าไรก็เป็นเรื่องอนาคต                                                                                                                                                                                                                           \n",
       "60  ...                                                                                                                                                                                                                                                   \n",
       "61  เรื่องนี้ต้องว่าหลังเลือกตั้ง                                                                                                                                                                                                                         \n",
       "62  เมื่อถามอีกว่า                                                                                                                                                                                                                                        \n",
       "63  ...                                                                                                                                                                                                                                                   \n",
       "64  ...                                                                                                                                                                                                                                                   \n",
       "65  ...                                                                                                                                                                                                                                                   \n",
       "66  ...                                                                                                                                                                                                                                                   \n",
       "67  ...                                                                                                                                                                                                                                                   \n",
       "68  ...                                                                                                                                                                                                                                                   \n",
       "69  ...                                                                                                                                                                                                                                                   \n",
       "70  เมื่อถามย้ำว่า ไม่ปิดทางร่วมงานกับพรรคเพื่อไทย หรือพรรคอื่นๆ ใช่หรือไม่                                                                                                                                                                               \n",
       "71  ...                                                                                                                                                                                                                                                   \n",
       "72  ...                                                                                                                                                                                                                                                   \n",
       "73  ...                                                                                                                                                                                                                                                   \n",
       "74  วันนี้เราต้องเดินไปข้างหน้า” Topic การเมือง Author กองบรรณาธิการวอยซ์ออนไลน์ 51491 Article 1192 Video 10 Blog MOST VIEWED READ WATCH ABOUT FAQ CONTACT TERM OF USE SCHEDULE                                                                           \n",
       "\n",
       "                                                                                                                                                                                                                                                                 unknowns  \\\n",
       "0   ...                                                                                                                                                                                                                                                                     \n",
       "1   คุณกำลังอ่าน  : 'เอกนัฏ' หวัง 'รทสช.' กวาด 100 ที่นั่ง เชื่อรวมเสียงข้างมากจัดตั้งรัฐบาลได้ Share Tweet Share การเมือง 'เอกนัฏ' หวัง 'รทสช.' กวาด 100 ที่นั่ง เชื่อรวมเสียงข้างมากจัดตั้งรัฐบาลได้ Dec 24, 2022 (                                                       \n",
       "2   Last update Dec 24, 2022 10:05 )   เลขาธิการรวมไทยสร้างชาติ                                                                                                                                                                                                             \n",
       "3   เผยหลังประยุทธ์ตอบรับร่วมงานกับพรรค                                                                                                                                                                                                                                     \n",
       "4   ...                                                                                                                                                                                                                                                                     \n",
       "5   นอกจากนี้ยังมีบิ๊กเนมพร้อมลงสมัครเพิ่ม                                                                                                                                                                                                                                  \n",
       "6   หวังกวาด 100 ที่นั่ง ส.ส. รวมเสียงข้างมากจัดตั้งรัฐบาลได้                                                                                                                                                                                                               \n",
       "7   เอกนัฏ พร้อมพันธุ์ เลขาธิการพรรครวมไทยสร้างชาติ เปิดเผยผ่านเพจเดอะรูม 44 กรณี พล.อ.ประยุทธ์ จันโอชา นายกฯ ตอบรับเข้าร่วมงานทางการเมืองกับพรรครวมไทยสร้างชาติ ว่า เชื่อว่า จะมีนักการเมือง และผู้ที่สนใจร่วมทำงานเพื่อประเทศชาติล้านเมืองไหลมาร่วมกับพรรคเป็นจำนวนมาก    \n",
       "8   ซึ่งมั่นใจว่า จะไม่เป็นปัญหาในการจัดสรรหน้าที่ความรับผิดชอบ เพราะโดยปกติความกังวลของพรรคที่ตั้งใหม่ คือ จะไม่มีคนมาร่วมงานมากกว่า                                                                                                                                       \n",
       "9   ...                                                                                                                                                                                                                                                                     \n",
       "10  มีวิธีบริหารจัดการให้ทุกคนมีบทบาทได้อย่างแน่นอน                                                                                                                                                                                                                         \n",
       "11  ...                                                                                                                                                                                                                                                                     \n",
       "12  ก็รับได้แน่นอน                                                                                                                                                                                                                                                          \n",
       "13  ...                                                                                                                                                                                                                                                                     \n",
       "14  ...                                                                                                                                                                                                                                                                     \n",
       "15  แต่ละพื้นที่ตอบรับกันจำนวนหนึ่งอยู่แล้ว                                                                                                                                                                                                                                 \n",
       "16  ...                                                                                                                                                                                                                                                                     \n",
       "17  ...                                                                                                                                                                                                                                                                     \n",
       "18  ซึ่งเรามีวิธีบริหารจัดการอยู่แล้ว” เอกนัฏ กล่าว ส่วนกระแสข่าวก่อนหน้านี้ ที่ระบุว่า จะมี ส.ส.ปัจจุบันเข้ามาร่วมงานกับพรรครวมไทยสร้างชาติ                                                                                                                                \n",
       "19  ประมาณ 40 คนนั้น เอกนัฏ กล่าวว่า คิดว่าไม่ได้คลาดเคลื่อนจากความจริงเท่าไร แต่อาจจะมากขึ้นก็ได้                                                                                                                                                                          \n",
       "20  อีกทั้งยังมีบิ๊กเนมที่ไม่ได้เป็น ส.ส. เช่น นายกองค์การบริหารส่วนจังหวัด (อบจ.) หรือนักการเมืองท้องถิ่น ที่มีแสงในตัวของจังหวัดต่างๆ ซึ่งบางพื้นที่ต้องยอมรับว่า มีโอกาสดีกว่า                                                                                           \n",
       "21  ...                                                                                                                                                                                                                                                                     \n",
       "22  หากนับส่วนของคนที่มีศักยภาพก็คงมากกว่า 100 คน ทำให้มั่นใจได้ว่า เราจะมีผู้สมัครที่สู้ได้ในทุกภาค                                                                                                                                                                        \n",
       "23  ...                                                                                                                                                                                                                                                                     \n",
       "24  ...                                                                                                                                                                                                                                                                     \n",
       "25  ...                                                                                                                                                                                                                                                                     \n",
       "26  ฃเอกนัฏ กล่าวว่า มีคนเคยถามว่าจะได้                                                                                                                                                                                                                                     \n",
       "27  ...                                                                                                                                                                                                                                                                     \n",
       "28  พอสำหรับการเสนอชื่อแคนดิเดตนายกฯในที่ประชุมรัฐสภาหรือไม่                                                                                                                                                                                                                \n",
       "29  ...                                                                                                                                                                                                                                                                     \n",
       "30  ...                                                                                                                                                                                                                                                                     \n",
       "31  อย่างไรก็ดี จำนวนที่นั่ง ส.ส.ก็เป็นเรื่องหนึ่ง                                                                                                                                                                                                                          \n",
       "32  สิ่งสำคัญกว่าการเป็นพรรคการเมือง คือ ต้องทำประโยชน์ให้ประเทศ เป็นสถาบันการเมือง                                                                                                                                                                                         \n",
       "33  ไม่ใช่พรรคเฉพาะกิจ “ใจผมหากได้แตะ 100 ที่นั่ง ก็เป็นเรื่องดี                                                                                                                                                                                                            \n",
       "34  จะเป็นพรรคที่ใหญ่ที่สุด จะได้มีกำลังผลักดันสิ่งที่เราบอกประชาชนไว้” เลขาฯ รวมไทยสร้างชาติ ระบุ เมื่อถามว่า มั่นใจหรือไม่                                                                                                                                                \n",
       "35  ว่า หลังการเลือกตั้งจะได้เป็นพรรคแกนนำจัดตั้งรัฐบาล เอกนัฏ กล่าวว่า การจะเป็นแกนนำจัดตั้งรัฐบาลต้องดูผลการเลือกตั้งก่อน แต่ถ้าวิเคราะห์จากสิ่งที่เกิดขึ้นหลัง พล.อ.ประยุทธ์                                                                                             \n",
       "36  ประกาศตัวชัดเจน และดูว่าที่ผู้สมัครทั่วประเทศ                                                                                                                                                                                                                           \n",
       "37  ถ้าทุกอย่างเป็นตามที่คาดการณ์                                                                                                                                                                                                                                           \n",
       "38  ...                                                                                                                                                                                                                                                                     \n",
       "39  ส.ส.ไม่น้อย มีโอกาสร่วมกับพรรคการเมืองอื่นจัดตั้งรัฐบาลได้                                                                                                                                                                                                              \n",
       "40  ...                                                                                                                                                                                                                                                                     \n",
       "41  นอกเหนือจากในส่วนแคนดิเดตนายกฯ เอกนัฏ กล่าวว่า เราคงต้องดำเนินการตามขั้นตอนก่อน                                                                                                                                                                                         \n",
       "42  คงเริ่มจากการเชิญ พล.อ.ประยุทธ์ มาเป็นสมาชิกพรรค เพื่อให้เกิดความชัดเจน                                                                                                                                                                                                 \n",
       "43  จะได้ร่วมแคมเปญหาเสียงได้อย่างเต็มตัว                                                                                                                                                                                                                                   \n",
       "44  ไม่ใช่เป็นแค่แคนดิเดตนายกฯ ลอยๆ เพราะที่ผ่านมาได้เห็นข้อจำกัดระหว่าง พล.อ.ประยุทธ์ กับพรรคการเมืองที่สนับสนุน                                                                                                                                                           \n",
       "45  ...                                                                                                                                                                                                                                                                     \n",
       "46  ส่วนกรณีที่ พล.อ.ประยุทธ์ จะเป็นนายกฯได้เพียง 2 ปี ตามรัฐธรรมนูญ 2560 จะกระทบต่อการหาเสียงหรือไม่                                                                                                                                                                       \n",
       "47  เอกนัฏ กล่าวว่า ไม่เป็นปัญหาเลย คนดี 1 ปี 2 ปี หรือ 4 ปี มีค่าเท่ากัน                                                                                                                                                                                                   \n",
       "48  และถ้าดูตามหลักวิทยาศาสตร์คำนวณแล้วพล.อ.ประยุทธ์ จะเหลือเกินเวลา 2 ปีครึ่ง น่าจะเกินค่าเฉลี่ยรัฐบาลที่ผ่านๆ มาของประเทศแล้ว                                                                                                                                             \n",
       "49  และหากไปถึงจุดนั้นก็ไม่ได้แปลว่า ท่านจะไม่มีส่วนขับเคลื่อนประเทศ                                                                                                                                                                                                        \n",
       "50  ยังเป็นกำลังสำคัญได้อยู่                                                                                                                                                                                                                                                \n",
       "51  ส่วนตำแหน่งนายกฯก็มีกลไก ถึงวันนั้นค่อยไปดูว่าใครเหมาะสม                                                                                                                                                                                                                \n",
       "52  ...                                                                                                                                                                                                                                                                     \n",
       "53  ...                                                                                                                                                                                                                                                                     \n",
       "54  ...                                                                                                                                                                                                                                                                     \n",
       "55  ถือว่ามากเกินพอที่ พล.อ.ประยุทธ์ จะสานต่อภารกิจที่ค้างคา และต่อยอดวางรากฐานสำหรับการเปลี่ยนแปลงในอนาคต” เลขาฯ รวมไทยสร้างชาติ กล่าว เมื่อถามอีกว่า ภายหลังเลือกตั้ง                                                                                                     \n",
       "56  พรรครวมไทยสร้างชาติ กับ พลังประชารัฐ จะจับมือร่วมกันทำงานได้หรือไม่                                                                                                                                                                                                     \n",
       "57  เอกนัฏ กล่าวว่า ตนยังไม่เห็นว่าจะมีปัญหาอะไร                                                                                                                                                                                                                            \n",
       "58  เวลานี้แต่ละพรรคต้องเร่งแสดงจุดยืนของตัวเองแล้วไปแข่งขันในสนามเลือกตั้ง ได้                                                                                                                                                                                             \n",
       "59  ...                                                                                                                                                                                                                                                                     \n",
       "60  และก็มีขั้นตอนที่ต้องเจรจาในการจัดตั้งรัฐบาล ว่า จุดยืน หรือนโยบายตรงกันหรือไม่                                                                                                                                                                                         \n",
       "61  ...                                                                                                                                                                                                                                                                     \n",
       "62  ...                                                                                                                                                                                                                                                                     \n",
       "63  หากมีความจำเป็นสามารถทำงานร่วมกับฝ่ายค้านในปัจจุบันได้หรือไม่                                                                                                                                                                                                           \n",
       "64  เอกนัฏ กล่าวว่า คนอาจมองว่า                                                                                                                                                                                                                                             \n",
       "65  เราเป็นพรรคพันธมิตรประชาชน หรือเป็นพรรค กปปส. แต่ปัจจุบันในพรรคเราก็มีคนเสื้อแดงมาร่วมงานจำนวนมาก                                                                                                                                                                       \n",
       "66  เราไม่ยึดติดความขัดแย้งในอดีต                                                                                                                                                                                                                                           \n",
       "67  เราคิดว่า ทุกคนที่มีแนวคิดตรงกันอยากเข้ามาทำการเมืองเพื่อส่วนรวม                                                                                                                                                                                                        \n",
       "68  อยากทำการเมืองอย่างสุจริต สร้างพรรคการเมืองเป็นที่พึ่งของประชาชน                                                                                                                                                                                                        \n",
       "69  ยึดมั่นในสถาบันหลักของชาติ ถ้าคิดแบบนี้ไปกันได้ แต่ถึงเวลานั้นก็ต้องมาทบทวนอีกทีว่าพรรคไหนคิดเหมือนเราหรือไม่                                                                                                                                                           \n",
       "70  ...                                                                                                                                                                                                                                                                     \n",
       "71  เอกนัฏ กล่าวว่า “จะไปปิดทางกันเร็วแบบนี้ไม่ได้                                                                                                                                                                                                                          \n",
       "72  ผมไม่อยากพูดไป เดี๋ยวหาว่า เราปฏิเสธคนนั้นคนนี้                                                                                                                                                                                                                         \n",
       "73  วนเวียนอยู่กับความขัดแย้งอีก                                                                                                                                                                                                                                            \n",
       "74  ...                                                                                                                                                                                                                                                                     \n",
       "\n",
       "                                                                                                         unk_words  \n",
       "0                                                                                                                   \n",
       "1   \"นัฏ\", \"'รท\", \"สช.\", \"กวาด\", \"เสียงข้างมาก\", \"จัดตั้ง\", \"นัฏ\", \"'รท\", \"สช.\", \"กวาด\", \"เสียงข้างมาก\", \"จัดตั้ง\"  \n",
       "2   \"เลขาธิการ\"                                                                                                     \n",
       "3   \"ตอบรับ\"                                                                                                        \n",
       "4                                                                                                                   \n",
       "5   \"ลงสมัคร\"                                                                                                       \n",
       "6   \"กวาด\", \"เสียงข้างมาก\", \"จัดตั้ง\"                                                                               \n",
       "7   \"นัฏ\", \"พันธุ์\", \"เลขาธิการ\", \"เพจ\", \"เดอะ\", \"รูม\", \"จัน\", \"ตอบรับ\"                                             \n",
       "8   \"จัดสรร\", \"โดยปกติ\", \"ตั้งใหม่\"                                                                                 \n",
       "9                                                                                                                   \n",
       "10  \"มีบทบาท\"                                                                                                       \n",
       "11                                                                                                                  \n",
       "12  \"รับได้\"                                                                                                        \n",
       "13                                                                                                                  \n",
       "14                                                                                                                  \n",
       "15  \"ตอบรับ\"                                                                                                        \n",
       "16                                                                                                                  \n",
       "17                                                                                                                  \n",
       "18  \"นัฏ\"                                                                                                           \n",
       "19  \"นัฏ\", \"คลาดเคลื่อน\"                                                                                            \n",
       "20  \"นายกองค์การบริหารส่วนจังหวัด\", \"อบจ.\"                                                                          \n",
       "21                                                                                                                  \n",
       "22  \"ศักยภาพ\"                                                                                                       \n",
       "23                                                                                                                  \n",
       "24                                                                                                                  \n",
       "25                                                                                                                  \n",
       "26  \"ฃ\", \"นัฏ\"                                                                                                      \n",
       "27                                                                                                                  \n",
       "28  \"เสนอชื่อ\"                                                                                                      \n",
       "29                                                                                                                  \n",
       "30                                                                                                                  \n",
       "31  \"อย่างไรก็ดี\"                                                                                                   \n",
       "32  \"ทำประโยชน์\"                                                                                                    \n",
       "33  \"เฉพาะกิจ\", \"แตะ\"                                                                                               \n",
       "34  \"ผลักดัน\", \"เลขาฯ\"                                                                                              \n",
       "35  \"แกนนำ\", \"จัดตั้ง\", \"นัฏ\", \"แกนนำ\", \"จัดตั้ง\"                                                                   \n",
       "36  \"ประกาศตัว\", \"ว่าที่\"                                                                                           \n",
       "37  \"ตามที่\", \"คาดการณ์\"                                                                                            \n",
       "38                                                                                                                  \n",
       "39  \"จัดตั้ง\"                                                                                                       \n",
       "40                                                                                                                  \n",
       "41  \"นอกเหนือจาก\", \"นัฏ\", \"ขั้นตอน\"                                                                                 \n",
       "42  \"เป็นสมาชิก\"                                                                                                    \n",
       "43  \"หาเสียง\"                                                                                                       \n",
       "44  \"ลอยๆ\", \"ข้อจำกัด\"                                                                                              \n",
       "45                                                                                                                  \n",
       "46  \"หาเสียง\"                                                                                                       \n",
       "47  \"นัฏ\"                                                                                                           \n",
       "48  \"คำนวณ\", \"เหลือเกิน\", \"ค่าเฉลี่ย\"                                                                               \n",
       "49  \"ขับเคลื่อน\"                                                                                                    \n",
       "50  \"เป็นกำลัง\"                                                                                                     \n",
       "51  \"กลไก\"                                                                                                          \n",
       "52                                                                                                                  \n",
       "53                                                                                                                  \n",
       "54                                                                                                                  \n",
       "55  \"พอที่\", \"สานต่อ\", \"ภารกิจ\", \"ค้างคา\", \"ต่อยอด\", \"วางรากฐาน\", \"เลขาฯ\"                                           \n",
       "56  \"ประชา\"                                                                                                         \n",
       "57  \"นัฏ\"                                                                                                           \n",
       "58  \"เร่ง\", \"จุดยืน\"                                                                                                \n",
       "59                                                                                                                  \n",
       "60  \"เจรจา\", \"จัดตั้ง\", \"จุดยืน\", \"ตรงกัน\"                                                                          \n",
       "61                                                                                                                  \n",
       "62                                                                                                                  \n",
       "63  \"ฝ่ายค้าน\"                                                                                                      \n",
       "64  \"นัฏ\"                                                                                                           \n",
       "65  \"พันธมิตร\", \"กป\", \"ปส.\"                                                                                         \n",
       "66  \"ยึดติด\"                                                                                                        \n",
       "67  \"ตรงกัน\", \"ส่วนรวม\"                                                                                             \n",
       "68  \"สุจริต\", \"ที่พึ่ง\"                                                                                             \n",
       "69  \"ยึดมั่น\", \"ไปกันได้\", \"ทบทวน\"                                                                                  \n",
       "70                                                                                                                  \n",
       "71  \"นัฏ\"                                                                                                           \n",
       "72  \"หาว่า\"                                                                                                         \n",
       "73  \"วนเวียน\"                                                                                                       \n",
       "74                                                                                                                  "
      ]
     },
     "execution_count": 51,
     "metadata": {},
     "output_type": "execute_result"
    }
   ],
   "source": [
    "print(webpage)\n",
    "filter_text(webpage,print_word_lvl=True)"
   ]
  },
  {
   "cell_type": "markdown",
   "id": "b04bfa91",
   "metadata": {},
   "source": [
    "##END"
   ]
  },
  {
   "cell_type": "code",
   "execution_count": 147,
   "id": "db36cdb8",
   "metadata": {
    "collapsed": true
   },
   "outputs": [
    {
     "name": "stdout",
     "output_type": "stream",
     "text": [
      "daily catch in word count:\n",
      "['เชิญ', 'ยิ้ม', 'ยินดี', 'รอย', 'เอกสาร', 'สนิท', 'กระดาษ', 'คอ', 'โรงพยาบาล', 'หิน', 'จด', 'ปืน', 'โต๊ะ', 'เสื้อผ้า', 'เลือด', 'สิทธิ์', 'นักเขียน', 'สนุกสนาน', 'หัวเราะ', 'หู', 'ยิง', 'สวยงาม', 'ล่า', 'แขก', 'ดอกไม้', 'ที่นั่ง', 'เสือ', 'ปกป้อง', 'รับประทาน', 'ไอ', 'สนุก', 'ลูกชาย', 'สหรัฐ', 'นิ้ว', 'ไอ้', 'รถไฟ', 'เล็กน้อย', 'โปรด', 'คะแนน', 'กรุณา', 'โรงแรม', 'จดหมาย', 'ขับ', 'ดื่ม', 'หอม', 'ระมัดระวัง', 'ฤดู', 'ฟัน', 'เท้า', 'หล่อน', 'วางแผน', 'ลับ', 'ลอย', 'ยกเว้น', 'ลูกค้า', 'ริม', 'ม้า', 'คอมพิวเตอร์']\n"
     ]
    }
   ],
   "source": [
    "#Upload from download\n",
    "with open(path+'known_thai_list.txt',\"r\") as input_file:\n",
    "    new_words = input_file.read().split(',')\n",
    "    print(\"daily catch in word count:\")\n",
    "    print(new_words)\n",
    "for line in new_words:   \n",
    "    vocab['white_listed'].add(line.replace(\"'\",\"\").strip())\n"
   ]
  },
  {
   "cell_type": "code",
   "execution_count": 154,
   "id": "0141a9c3",
   "metadata": {},
   "outputs": [
    {
     "name": "stdout",
     "output_type": "stream",
     "text": [
      "Hello Nong\n"
     ]
    }
   ],
   "source": [
    "\n",
    "wyw_text = 'สวัสดีครับน้อง'\n",
    "print(ts.google(wyw_text))\n",
    "#print(ts._google.language_map)\n",
    "#print(ts.google(wyw_text))"
   ]
  },
  {
   "cell_type": "code",
   "execution_count": 227,
   "id": "67b1cbb0",
   "metadata": {},
   "outputs": [
    {
     "name": "stdout",
     "output_type": "stream",
     "text": [
      "today's catch % of corpus:\n"
     ]
    },
    {
     "data": {
      "text/plain": [
       "'1.200344766395417%'"
      ]
     },
     "execution_count": 227,
     "metadata": {},
     "output_type": "execute_result"
    }
   ],
   "source": [
    "#Get after when adding in new words\n",
    "print(\"today's catch % of corpus:\")\n",
    "str(100*(percent-prev_percent))+\"%\""
   ]
  },
  {
   "cell_type": "code",
   "execution_count": null,
   "id": "3258e547",
   "metadata": {},
   "outputs": [],
   "source": [
    "#output newly knowns\n",
    "with open(path+\"new_known_thai_lines.txt\",\"w\") as outfile:\n",
    "    for line in list(set(knowns).difference(prev_knowns)):\n",
    "        outfile.write(line+'\\n')\n"
   ]
  },
  {
   "cell_type": "code",
   "execution_count": 105,
   "id": "1a9fb3c5",
   "metadata": {},
   "outputs": [
    {
     "name": "stdout",
     "output_type": "stream",
     "text": [
      "Sanity check. Current vocab size:\n"
     ]
    },
    {
     "data": {
      "text/plain": [
       "1462"
      ]
     },
     "execution_count": 105,
     "metadata": {},
     "output_type": "execute_result"
    }
   ],
   "source": [
    "print(\"Sanity check. Current vocab size:\")\n",
    "len(vocab['white_listed'])"
   ]
  },
  {
   "cell_type": "code",
   "execution_count": 117,
   "id": "564b37a8",
   "metadata": {},
   "outputs": [],
   "source": [
    "\"\"\"\n",
    "to do:\n",
    "\n",
    "\"\"\""
   ]
  },
  {
   "cell_type": "code",
   "execution_count": 7,
   "id": "d9799280",
   "metadata": {},
   "outputs": [
    {
     "data": {
      "text/plain": [
       "999"
      ]
     },
     "execution_count": 7,
     "metadata": {},
     "output_type": "execute_result"
    }
   ],
   "source": [
    "##INPUT-OUTPUT\n",
    "#vocab list:\n",
    "with open(\"/Users/elyebliss/Desktop/Vocabulary/vocab_dfs/thai_whitelisted.csv\",\"r\") as infile:\n",
    "    whitelisted_lemmas = infile.read()\n",
    "\n",
    "\n",
    "##VARIABLES\n",
    "vocab_all = set()\n",
    "\n",
    "\n",
    "for line in whitelisted_lemmas.split('\\n'):\n",
    "    if len(line) > 0:\n",
    "        \n",
    "        vocab = line.strip()\n",
    "        vocab_all.add(vocab)\n",
    "        \n",
    "len(whitelisted_lemmas.split('\\n'))            \n",
    "#pp.pprint(vocab_all)"
   ]
  },
  {
   "cell_type": "code",
   "execution_count": 8,
   "id": "3e37bfb9",
   "metadata": {},
   "outputs": [],
   "source": [
    "vocab = {}\n",
    "vocab['white_listed'] = list(vocab_all)\n",
    "vocab['black_listed'] = []"
   ]
  }
 ],
 "metadata": {
  "kernelspec": {
   "display_name": "Python 3 (ipykernel)",
   "language": "python",
   "name": "python3"
  },
  "language_info": {
   "codemirror_mode": {
    "name": "ipython",
    "version": 3
   },
   "file_extension": ".py",
   "mimetype": "text/x-python",
   "name": "python",
   "nbconvert_exporter": "python",
   "pygments_lexer": "ipython3",
   "version": "3.9.12"
  }
 },
 "nbformat": 4,
 "nbformat_minor": 5
}
