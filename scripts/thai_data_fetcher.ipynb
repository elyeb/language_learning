{
 "cells": [
  {
   "cell_type": "code",
   "execution_count": null,
   "id": "05aba0c4",
   "metadata": {},
   "outputs": [],
   "source": [
    "\"\"\"\n",
    "\n",
    "Contents:\n",
    "-data intialization from csv file of words &\n",
    " build data structure to house info moving forward\n",
    "-write to .json formats\n",
    "-read from existing .json formats\n",
    "-get list of words to find\n",
    "-scrape BBC\n",
    "-scrape voiceTV\n",
    "\"\"\""
   ]
  },
  {
   "cell_type": "code",
   "execution_count": 1,
   "id": "ebdc6804",
   "metadata": {},
   "outputs": [
    {
     "name": "stderr",
     "output_type": "stream",
     "text": [
      "Using state Washington server backend.\n"
     ]
    }
   ],
   "source": [
    "import bs4, requests, sys, codecs, urllib.request, re\n",
    "from bs4 import SoupStrainer\n",
    "from bs4.element import Comment\n",
    "import random\n",
    "#import pythainlp\n",
    "from pythainlp.tokenize import word_tokenize, sent_tokenize\n",
    "import string\n",
    "import json\n",
    "import pandas as pd\n",
    "import os\n",
    "from os import listdir\n",
    "from os.path import isfile, join\n",
    "import pprint\n",
    "import translators as ts\n",
    "\n",
    "pp = pprint.PrettyPrinter()\n",
    "pd.set_option('display.max_rows', None)\n",
    "pd.set_option('display.max_colwidth', 0)\n",
    "\n",
    "path = \"/Users/elyebliss/Desktop/Vocabulary/vocab_dfs/\"\n",
    "source_file = \"thai.json\""
   ]
  },
  {
   "cell_type": "code",
   "execution_count": 2,
   "id": "ce69b1b0",
   "metadata": {},
   "outputs": [],
   "source": [
    "##METHODS\n",
    "\n",
    "def tag_visible(element):\n",
    "    if element.parent.name in ['style', 'script', 'head', 'title', 'meta', '[document]']:\n",
    "        return False\n",
    "    if isinstance(element, Comment):\n",
    "        return False\n",
    "    return True\n",
    "\n",
    "\n",
    "def text_from_html(body):\n",
    "    soup = bs4.BeautifulSoup(body, 'html.parser')\n",
    "    texts = soup.findAll(text=True)\n",
    "    visible_texts = filter(tag_visible, texts)  \n",
    "    return u\" \".join(t.strip() for t in visible_texts)\n",
    "\n",
    "\n",
    "\n",
    "user_agent = 'Mozilla/5.0 (Windows NT 6.3; WOW64; rv:50.0) Gecko/20100101 Firefox/50.0'\n",
    "headers={'User-Agent':user_agent,}\n",
    "parser = 'html.parser'"
   ]
  },
  {
   "cell_type": "code",
   "execution_count": 3,
   "id": "63afba50",
   "metadata": {},
   "outputs": [],
   "source": [
    "def get_known(unknown_list):\n",
    "    \n",
    "    count_got = 0\n",
    "    known_list = []\n",
    "    for word in unknown_list:\n",
    "        decision = str(input(word+\"\\nKnown =k\"))\n",
    "        if decision =='k':\n",
    "            known_list.append(word)\n",
    "            count_got +=1\n",
    "            print(\"got \"+str(count_got))\n",
    "        elif decision=='q':\n",
    "            break\n",
    "        try:\n",
    "            print(ts.google(word))\n",
    "        except:\n",
    "            print('cant find')\n",
    "    return known_list"
   ]
  },
  {
   "cell_type": "code",
   "execution_count": 4,
   "id": "117b26f1",
   "metadata": {},
   "outputs": [],
   "source": [
    "def filter_text(webpage,start=None,stop=None,\\\n",
    "                print_word_lvl=False,percent_threshold=None,\\\n",
    "               return_percent=False):\n",
    "\n",
    "\n",
    "    try:\n",
    "        request=urllib.request.Request(webpage,None,headers) #The assembled request\n",
    "        response = urllib.request.urlopen(request)\n",
    "        data = response.read()\n",
    "        contents = text_from_html(data)\n",
    "\n",
    "        known_array = []\n",
    "        unk_array = []\n",
    "        contents_array = sent_tokenize(contents)\n",
    "\n",
    "        if (start is not None) and (stop is not None):\n",
    "            contents_array=contents_array[max(start,0):min(stop,len(contents_array))]\n",
    "\n",
    "        disallowed_words = set()\n",
    "\n",
    "        total_words = 0\n",
    "        unknown_words = 0\n",
    "        \n",
    "        lines = []\n",
    "        unknowns = []\n",
    "        for line in contents_array:\n",
    "\n",
    "\n",
    "            tokenized = word_tokenize(line)\n",
    "\n",
    "\n",
    "            add_line = True\n",
    "            line_total = 0\n",
    "            line_unks = 0\n",
    "\n",
    "            unk_str = \"\"\n",
    "            for word in tokenized:\n",
    "                \n",
    "                total_words +=1\n",
    "                line_total +=1\n",
    "\n",
    "                if bool(re.search('[\\u0E00-\\u0E7F]+', word, flags=re.UNICODE)) and not ((word in vocab['white_listed']) or\\\n",
    "                                                            (word in vocab['black_listed'])):\n",
    "\n",
    "                        unk_str += '\"'+word+'\"'+\", \"\n",
    "                        if not percent_threshold:\n",
    "                            add_line = False\n",
    "                        disallowed_words.add(word)\n",
    "                        unknown_words +=1\n",
    "                        line_unks +=1\n",
    "\n",
    "            if percent_threshold:\n",
    "                if line_total>0:\n",
    "                    if (1-(line_unks/line_total))<percent_threshold:\n",
    "                        add_line = False\n",
    "            if add_line:\n",
    "                known_array.append(line)\n",
    "                unk_array.append(\"...\")\n",
    "            else:\n",
    "                known_array.append(\"...\")\n",
    "                unk_array.append(line)\n",
    "\n",
    "            if len(unk_str)>0:\n",
    "                unk_str = unk_str[0:len(unk_str)-2]\n",
    "\n",
    "            unknowns.append(unk_str)\n",
    "\n",
    "        if print_word_lvl and total_words>0:\n",
    "            print(\"word-level % known = \"+str((1-(unknown_words/total_words))*100))\n",
    "        if return_percent and total_words>0:\n",
    "            return (1-(unknown_words/total_words))*100\n",
    "        return_pd = pd.DataFrame(list(zip(known_array,unk_array,unknowns)))\n",
    "        return_pd.columns = [\"knowns\",\"unknowns\",\"unk_words\"]\n",
    "\n",
    "        \n",
    "\n",
    "        with open(path+'unknown_thai_list.txt',\"w\") as outfile:\n",
    "            outfile.write(str(list(disallowed_words)))\n",
    "\n",
    "        return return_pd\n",
    "\n",
    "    except:\n",
    "        pass"
   ]
  },
  {
   "cell_type": "code",
   "execution_count": 29,
   "id": "826dae68",
   "metadata": {},
   "outputs": [
    {
     "name": "stdout",
     "output_type": "stream",
     "text": [
      "2155\n",
      "2544\n"
     ]
    }
   ],
   "source": [
    "\"\"\"read from existing .json formats\n",
    "uncovered, \n",
    "2155\n",
    "2544\n",
    "\"\"\"\n",
    "with open(path+source_file, \"r\") as path_in:\n",
    "    vocab = json.loads(path_in.read())\n",
    "vocab['white_listed'] = set(vocab['white_listed'])\n",
    "vocab['black_listed'] = set(vocab['black_listed'])\n",
    "print(len(vocab['white_listed'])) \n",
    "\n",
    "#get 4k freq word info:\n",
    "with open(path+'th_freq.csv','r') as infile:\n",
    "    freq_df = pd.read_csv(infile)\n",
    "uncovered = []\n",
    "for word in freq_df.word:\n",
    "    if word not in vocab['white_listed']:\n",
    "        uncovered.append(word)\n",
    "print(len(uncovered))\n",
    "\n"
   ]
  },
  {
   "cell_type": "code",
   "execution_count": 6,
   "id": "004a939d",
   "metadata": {},
   "outputs": [
    {
     "name": "stdout",
     "output_type": "stream",
     "text": [
      "Checking BBC Thai\n",
      "Checking VoiceTV\n"
     ]
    }
   ],
   "source": [
    "pages = []\n",
    "titles = []\n",
    "\n",
    "##BBC\n",
    "print(\"Checking BBC Thai\")\n",
    "parser = 'html.parser'  # or 'lxml' (preferred) or 'html5lib', if installed\n",
    "request=urllib.request.Request('https://www.bbc.com/thai/topics/cjgn73g98rqt',None,headers)\n",
    "resp = urllib.request.urlopen(request)\n",
    "soup = bs4.BeautifulSoup(resp, parser, from_encoding=resp.info().get_param('charset'))\n",
    "\n",
    "\n",
    "for link in soup.find_all('a', href=True):\n",
    "    if 'https://www.bbc.com/thai/thailand' in str(link['href']):\n",
    "        pages.append(str(link['href']))\n",
    "        request=urllib.request.Request(str(link['href']),None,headers) #The assembled request\n",
    "\n",
    "        response = urllib.request.urlopen(request)\n",
    "        data = response.read()\n",
    "        contents = text_from_html(data)\n",
    "        if bool(re.search(\"(?<=ยอดนิยม หน้าแรก ประเทศไทย ต่างประเทศ วิทยาศาสตร์ สุขภาพ โควิด-19 วิดีโอ ยอดนิยม).{30}\",contents)):\n",
    "            titles.append(re.findall(\"(?<=ยอดนิยม หน้าแรก ประเทศไทย ต่างประเทศ วิทยาศาสตร์ สุขภาพ โควิด-19 วิดีโอ ยอดนิยม).{30}\",contents)[0].strip())\n",
    "\n",
    "    elif '/thai/thailand' in str(link['href']):\n",
    "        pages.append('https://www.bbc.com'+str(link['href']))\n",
    "\n",
    "##VoiceTV\n",
    "print(\"Checking VoiceTV\")\n",
    "parser = 'html.parser'  # or 'lxml' (preferred) or 'html5lib', if installed\n",
    "request=urllib.request.Request('https://www.voicetv.co.th/topic/%E0%B8%81%E0%B8%B2%E0%B8%A3%E0%B9%80%E0%B8%A1%E0%B8%B7%E0%B8%AD%E0%B8%87',None,headers)\n",
    "resp = urllib.request.urlopen(request)\n",
    "soup = bs4.BeautifulSoup(resp, parser, from_encoding=resp.info().get_param('charset'))\n",
    "\n",
    " \n",
    "for link in soup.find_all('a', href=True):\n",
    "    str_page = 'https://www.voicetv.co.th'+str(link['href'])\n",
    "    if '/read/' in str(link['href']) and str_page not in pages:\n",
    "        pages.append(str_page)\n",
    "        request=urllib.request.Request(str_page,None,headers) #The assembled request\n",
    "\n",
    "        response = urllib.request.urlopen(request)\n",
    "        data = response.read()\n",
    "        contents = text_from_html(data)\n",
    "        titles.append(re.findall(\"(?<=  :).{30}\",contents)[0].strip())"
   ]
  },
  {
   "cell_type": "code",
   "execution_count": 30,
   "id": "411c6c9a",
   "metadata": {},
   "outputs": [
    {
     "data": {
      "text/plain": [
       "1123"
      ]
     },
     "execution_count": 30,
     "metadata": {},
     "output_type": "execute_result"
    }
   ],
   "source": [
    "#load prev corpus and add\n",
    "known_corpus = set()\n",
    "with open(path+\"all_known_thai_lines.txt\",\"r\",encoding='utf-8') as infile:\n",
    "    for line in infile.read().split('\\n'):\n",
    "        known_corpus.add(line)\n",
    "len(known_corpus)"
   ]
  },
  {
   "cell_type": "code",
   "execution_count": 31,
   "id": "bb6ee0f7",
   "metadata": {},
   "outputs": [
    {
     "name": "stdout",
     "output_type": "stream",
     "text": [
      "percent all known= 0.17065390749601275\n"
     ]
    }
   ],
   "source": [
    "#Find % of all sentences of news\n",
    "knowns = []\n",
    "all_lines = 0\n",
    "\n",
    "known_percents = []\n",
    "\n",
    "for webpage in pages:\n",
    "    \n",
    "    test_df = filter_text(webpage)\n",
    "    all_lines += len(list(test_df.knowns))\n",
    "    \n",
    "    known_percents.append(filter_text(webpage,return_percent=True))\n",
    "    \n",
    "    for item in list(test_df.knowns[test_df.knowns != '...']):\n",
    "        knowns.append(item)\n",
    "percent = len(knowns)/float(all_lines)\n",
    "print(\"percent all known= \"+str(percent))\n"
   ]
  },
  {
   "cell_type": "code",
   "execution_count": 32,
   "id": "1fa348ef",
   "metadata": {},
   "outputs": [
    {
     "data": {
      "text/plain": [
       "['คิดเป็น 62% ของคนไทยทั้งประเทศ หรือ 31.9 ล้านคน ซึ่งเพิ่มขึ้นจากปี 2565 ราว 7% ที่มาของภาพ, Getty Images สำหรับช่องทางในการรับชมกีฬาของคนไทยมีการเปลี่ยนแปลงไปครับ ',\n",
       " 'และพวก ในอังกฤษ เรียก 5.4 หมื่นล้านบาท 5 ฟุตบอลโลก : คนกลุ่มไหนที่ไม่ได้ดูฟรี ']"
      ]
     },
     "execution_count": 32,
     "metadata": {},
     "output_type": "execute_result"
    }
   ],
   "source": [
    "#sorted(list(set(knowns)),key=len,reverse=True)\n",
    "sorted(list(set(knowns).difference(known_corpus)),key=len,reverse=True)"
   ]
  },
  {
   "cell_type": "code",
   "execution_count": 33,
   "id": "1ee450fe",
   "metadata": {},
   "outputs": [
    {
     "data": {
      "text/plain": [
       "1125"
      ]
     },
     "execution_count": 33,
     "metadata": {},
     "output_type": "execute_result"
    }
   ],
   "source": [
    "for item in list(set(knowns)):\n",
    "    known_corpus.add(item)\n",
    "\n",
    "with open(path+\"all_known_thai_lines.txt\",\"w\",encoding='utf-8') as outfile:\n",
    "    for line in list(set(known_corpus)):\n",
    "        outfile.write(line+'\\n')\n",
    "len(known_corpus)"
   ]
  },
  {
   "cell_type": "code",
   "execution_count": 13,
   "id": "2d6948c1",
   "metadata": {},
   "outputs": [
    {
     "name": "stdout",
     "output_type": "stream",
     "text": [
      "16\n"
     ]
    }
   ],
   "source": [
    "websites = set()\n",
    "websites.add(webpage)\n",
    "with open(path+'viewed_websites_th.txt',\"r\") as infile:\n",
    "    for line in infile.read().split('\\n'):\n",
    "        websites.add(line)\n",
    "print(len(websites))"
   ]
  },
  {
   "cell_type": "code",
   "execution_count": 14,
   "id": "2a643828",
   "metadata": {
    "collapsed": true
   },
   "outputs": [
    {
     "data": {
      "text/plain": [
       "[(0,\n",
       "  84.47937131630648,\n",
       "  \"'ศิริกัญญา' จี้ กสทช. อย่าปล่\",\n",
       "  'https://www.bbc.com/thai/thailand-63662204'),\n",
       " (5,\n",
       "  83.91906283280085,\n",
       "  '‘วิษณุ’แย้มประตูยุบสภาเปิดอยู',\n",
       "  'https://www.voicetv.co.th/read/QMKt0KRCz'),\n",
       " (3,\n",
       "  83.7528604118993,\n",
       "  'ม็อบราษฎรร้อง กมธ.พัฒนาการเมื',\n",
       "  'https://www.voicetv.co.th/read/T_E4OEihx'),\n",
       " (2,\n",
       "  83.5742444152431,\n",
       "  \"'ประยุทธ์' ดอด\\u200bลงพื้นที่บางกะ\",\n",
       "  'https://www.voicetv.co.th/read/2ideneLm7'),\n",
       " (1,\n",
       "  80.40298992525187,\n",
       "  \"'ชินวรณ์' รับหนังสือ กลุ่ม YN\",\n",
       "  'https://www.bbc.com/thai/thailand-63566397'),\n",
       " (6,\n",
       "  80.27923211169285,\n",
       "  \"รีวิว 'Collective': นักข่าวไม\",\n",
       "  'https://www.voicetv.co.th/read/bn95YMr0a')]"
      ]
     },
     "execution_count": 14,
     "metadata": {},
     "output_type": "execute_result"
    }
   ],
   "source": [
    "page_titles = list(zip(range(0,len(known_percents)),known_percents,titles,pages))\n",
    "# (sorted(list(zip(range(0,len(known_percents)),known_percents)),key = lambda x: x[1],reverse=True))\n",
    "page_titles = sorted(page_titles,key = lambda x: x[1],reverse=True)\n",
    "page_titles = [item for item in page_titles if not (item[3] in websites)]\n",
    "page_titles"
   ]
  },
  {
   "cell_type": "code",
   "execution_count": 15,
   "id": "1e2e7b73",
   "metadata": {},
   "outputs": [],
   "source": [
    "webpage = pages[0]\n",
    "if webpage in websites:\n",
    "    print(\"already scanned! choose another!\")"
   ]
  },
  {
   "cell_type": "code",
   "execution_count": 16,
   "id": "f737a6dc",
   "metadata": {},
   "outputs": [],
   "source": [
    "\n",
    "with open(path+'viewed_websites_th.txt',\"w\") as outfile:\n",
    "    for line in websites:\n",
    "        outfile.write(line+'\\n')      \n"
   ]
  },
  {
   "cell_type": "code",
   "execution_count": 28,
   "id": "141ae514",
   "metadata": {
    "collapsed": true
   },
   "outputs": [
    {
     "name": "stdout",
     "output_type": "stream",
     "text": [
      "word-level % known = 86.90242305173544\n"
     ]
    },
    {
     "data": {
      "text/html": [
       "<div><div id=cb9faca3-654b-41d7-8dfd-33b6d28964bb style=\"display:none; background-color:#9D6CFF; color:white; width:200px; height:30px; padding-left:5px; border-radius:4px; flex-direction:row; justify-content:space-around; align-items:center;\" onmouseover=\"this.style.backgroundColor='#BA9BF8'\" onmouseout=\"this.style.backgroundColor='#9D6CFF'\" onclick=\"window.commands?.execute('create-mitosheet-from-dataframe-output');\">See Full Dataframe in Mito</div> <script> if (window.commands?.hasCommand('create-mitosheet-from-dataframe-output')) document.getElementById('cb9faca3-654b-41d7-8dfd-33b6d28964bb').style.display = 'flex' </script> <table border=\"1\" class=\"dataframe\">\n",
       "  <thead>\n",
       "    <tr style=\"text-align: right;\">\n",
       "      <th></th>\n",
       "      <th>knowns</th>\n",
       "      <th>unknowns</th>\n",
       "      <th>unk_words</th>\n",
       "    </tr>\n",
       "  </thead>\n",
       "  <tbody>\n",
       "    <tr>\n",
       "      <th>0</th>\n",
       "      <td>...</td>\n",
       "      <td>BBC News, ไทย ข้ามไปยังเนื้อหา</td>\n",
       "      <td>\"เนื้อหา\"</td>\n",
       "    </tr>\n",
       "    <tr>\n",
       "      <th>1</th>\n",
       "      <td>...</td>\n",
       "      <td>หมวดข่าว</td>\n",
       "      <td>\"หมวด\"</td>\n",
       "    </tr>\n",
       "    <tr>\n",
       "      <th>2</th>\n",
       "      <td>...</td>\n",
       "      <td>หน้าแรก ประเทศไทย ต่างประเทศ วิทยาศาสตร์ สุขภาพ วิดีโอ ยอดนิยม หน้าแรก ประเทศไทย ต่างประเทศ วิทยาศาสตร์ สุขภาพ วิดีโอ ยอดนิยม ฟุตบอลโลก 2022 : กกท. เผยบรรลุข้อตกลงถ่ายทอดสดแล้ว ได้ชมครบทุกนัด 17 พฤศจิกายน 2022 ที่มาของภาพ, KARIM JAAFAR/Getty Images เว็บไซต์ข่าวหลายแห่งรายงานตรงกันว่าประเทศไทยได้บรรลุข้อตกลงกับการซื้อลิขสิทธิ์ถ่ายทอดสดฟุตบอลโลก 2022 กับสหพันธ์ฟุตบอลนานาชาติ (ฟีฟ่า) จำนวน 64 แมตช์ เรียบร้อยแล้วในมูลค่า 33 ล้านเหรียญสหรัฐ หรือประมาณ 1,400 ล้านบาท</td>\n",
       "      <td>\"กกท.\", \"บรรลุ\", \"ถ่ายทอดสด\", \"ตรงกัน\", \"บรรลุ\", \"ลิขสิทธิ์\", \"ถ่ายทอดสด\", \"สหพันธ์\", \"แมตช์\", \"มูลค่า\", \"เหรียญ\"</td>\n",
       "    </tr>\n",
       "    <tr>\n",
       "      <th>3</th>\n",
       "      <td>...</td>\n",
       "      <td>เว็บไซต์มติชนรายงานเมื่อ 17 พ.ย. อ้างคำแถลงของ นายก้องศักด ยอดมณี ผู้ว่าการการกีฬาแห่งประเทศไทย (กกท.) ว่าคนไทยจะได้รับการถ่ายทอดสดครบ 64 แมตช์ ขั้นตอนต่อไปจะเป็นการเซ็นสัญญากับฟีฟ่า และดำเนินการเรื่องการเตรียมการถ่ายทอดสด</td>\n",
       "      <td>\"มติชน\", \"คำแถลง\", \"ก้อง\", \"ศักด\", \"มณี\", \"ผู้ว่าการ\", \"กกท.\", \"ถ่ายทอดสด\", \"แมตช์\", \"ขั้นตอน\", \"เตรียมการ\", \"ถ่ายทอดสด\"</td>\n",
       "    </tr>\n",
       "    <tr>\n",
       "      <th>4</th>\n",
       "      <td>จำนวนที่ต้องจ่ายทั้งหมดจะอยู่ที่ราว 1,400 ล้านบาท</td>\n",
       "      <td>...</td>\n",
       "      <td></td>\n",
       "    </tr>\n",
       "    <tr>\n",
       "      <th>...</th>\n",
       "      <td>...</td>\n",
       "      <td>...</td>\n",
       "      <td>...</td>\n",
       "    </tr>\n",
       "    <tr>\n",
       "      <th>47</th>\n",
       "      <td>ทำไมคุณจึงไว้วางใจ บีบีซี ได้</td>\n",
       "      <td>...</td>\n",
       "      <td></td>\n",
       "    </tr>\n",
       "    <tr>\n",
       "      <th>48</th>\n",
       "      <td>...</td>\n",
       "      <td>เงื่อนไขการใช้งานของ บีบีซี เกี่ยวกับบีบีซี นโยบายความเป็นส่วนตัว คุกกีส์ ติดต่อบีบีซี AdChoices / Do Not Sell My Info ©  2022 บีบีซี.</td>\n",
       "      <td>\"เงื่อนไข\", \"การใช้งาน\", \"กีส์\"</td>\n",
       "    </tr>\n",
       "    <tr>\n",
       "      <th>49</th>\n",
       "      <td>...</td>\n",
       "      <td>บีบีซีไม่มีส่วนรับผิดชอบต่อเนื้อหาของเว็บไซต์ภายนอก.</td>\n",
       "      <td>\"เนื้อหา\", \"นอ\", \"ก.\"</td>\n",
       "    </tr>\n",
       "    <tr>\n",
       "      <th>50</th>\n",
       "      <td>...</td>\n",
       "      <td>นโยบายของเราเรื่องการเชื่อมต่อไปยังลิงก์ภายนอก.</td>\n",
       "      <td>\"เชื่อม\", \"นอ\", \"ก.\"</td>\n",
       "    </tr>\n",
       "    <tr>\n",
       "      <th>51</th>\n",
       "      <td>อ่านเกี่ยวกับแนวทางของเราในการติดต่อกับลิงก์ภายนอก</td>\n",
       "      <td>...</td>\n",
       "      <td></td>\n",
       "    </tr>\n",
       "  </tbody>\n",
       "</table></div>"
      ],
      "text/plain": [
       "                                                                                                                                                                 knowns  \\\n",
       "0   ...                                                                                                                                                                   \n",
       "1   ...                                                                                                                                                                   \n",
       "2   ...                                                                                                                                                                   \n",
       "3   ...                                                                                                                                                                   \n",
       "4   จำนวนที่ต้องจ่ายทั้งหมดจะอยู่ที่ราว 1,400 ล้านบาท                                                                                                                     \n",
       "5   ...                                                                                                                                                                   \n",
       "6   ...                                                                                                                                                                   \n",
       "7   ...                                                                                                                                                                   \n",
       "8   ...                                                                                                                                                                   \n",
       "9   ...                                                                                                                                                                   \n",
       "10  ...                                                                                                                                                                   \n",
       "11  ...                                                                                                                                                                   \n",
       "12  ...                                                                                                                                                                   \n",
       "13  เว็บไซต์ฐานเศรษฐกิจ                                                                                                                                                   \n",
       "14  ...                                                                                                                                                                   \n",
       "15  ...                                                                                                                                                                   \n",
       "16  ...                                                                                                                                                                   \n",
       "17  ...                                                                                                                                                                   \n",
       "18  ...                                                                                                                                                                   \n",
       "19  คิดเป็น 62% ของคนไทยทั้งประเทศ หรือ 31.9 ล้านคน ซึ่งเพิ่มขึ้นจากปี 2565 ราว 7% ที่มาของภาพ, Getty Images สำหรับช่องทางในการรับชมกีฬาของคนไทยมีการเปลี่ยนแปลงไปครับ    \n",
       "20  ...                                                                                                                                                                   \n",
       "21  ...                                                                                                                                                                   \n",
       "22  ...                                                                                                                                                                   \n",
       "23  ...                                                                                                                                                                   \n",
       "24  ...                                                                                                                                                                   \n",
       "25  ...                                                                                                                                                                   \n",
       "26  ...                                                                                                                                                                   \n",
       "27  ...                                                                                                                                                                   \n",
       "28  ...                                                                                                                                                                   \n",
       "29  ข่าวที่เกี่ยวข้อง                                                                                                                                                     \n",
       "30  ฟุตบอลโลก 2022 ประเทศไทย                                                                                                                                              \n",
       "31  อ่านเรื่องที่เกี่ยวข้อง                                                                                                                                               \n",
       "32  ...                                                                                                                                                                   \n",
       "33  ...                                                                                                                                                                   \n",
       "34  ...                                                                                                                                                                   \n",
       "35  ...                                                                                                                                                                   \n",
       "36  ...                                                                                                                                                                   \n",
       "37  เมื่อ 4 ชั่วโมงที่แล้ว                                                                                                                                                \n",
       "38  ...                                                                                                                                                                   \n",
       "39  เรื่องน่าสนใจ                                                                                                                                                         \n",
       "40  ...                                                                                                                                                                   \n",
       "41  ...                                                                                                                                                                   \n",
       "42  ...                                                                                                                                                                   \n",
       "43  ...                                                                                                                                                                   \n",
       "44  และพวก ในอังกฤษ เรียก 5.4 หมื่นล้านบาท 5 ฟุตบอลโลก : คนกลุ่มไหนที่ไม่ได้ดูฟรี                                                                                         \n",
       "45  ...                                                                                                                                                                   \n",
       "46  ...                                                                                                                                                                   \n",
       "47  ทำไมคุณจึงไว้วางใจ บีบีซี ได้                                                                                                                                         \n",
       "48  ...                                                                                                                                                                   \n",
       "49  ...                                                                                                                                                                   \n",
       "50  ...                                                                                                                                                                   \n",
       "51  อ่านเกี่ยวกับแนวทางของเราในการติดต่อกับลิงก์ภายนอก                                                                                                                    \n",
       "\n",
       "                                                                                                                                                                                                                                                                                                                                                                                                                                                                             unknowns  \\\n",
       "0   BBC News, ไทย ข้ามไปยังเนื้อหา                                                                                                                                                                                                                                                                                                                                                                                                                                                      \n",
       "1   หมวดข่าว                                                                                                                                                                                                                                                                                                                                                                                                                                                                            \n",
       "2   หน้าแรก ประเทศไทย ต่างประเทศ วิทยาศาสตร์ สุขภาพ วิดีโอ ยอดนิยม หน้าแรก ประเทศไทย ต่างประเทศ วิทยาศาสตร์ สุขภาพ วิดีโอ ยอดนิยม ฟุตบอลโลก 2022 : กกท. เผยบรรลุข้อตกลงถ่ายทอดสดแล้ว ได้ชมครบทุกนัด 17 พฤศจิกายน 2022 ที่มาของภาพ, KARIM JAAFAR/Getty Images เว็บไซต์ข่าวหลายแห่งรายงานตรงกันว่าประเทศไทยได้บรรลุข้อตกลงกับการซื้อลิขสิทธิ์ถ่ายทอดสดฟุตบอลโลก 2022 กับสหพันธ์ฟุตบอลนานาชาติ (ฟีฟ่า) จำนวน 64 แมตช์ เรียบร้อยแล้วในมูลค่า 33 ล้านเหรียญสหรัฐ หรือประมาณ 1,400 ล้านบาท    \n",
       "3   เว็บไซต์มติชนรายงานเมื่อ 17 พ.ย. อ้างคำแถลงของ นายก้องศักด ยอดมณี ผู้ว่าการการกีฬาแห่งประเทศไทย (กกท.) ว่าคนไทยจะได้รับการถ่ายทอดสดครบ 64 แมตช์ ขั้นตอนต่อไปจะเป็นการเซ็นสัญญากับฟีฟ่า และดำเนินการเรื่องการเตรียมการถ่ายทอดสด                                                                                                                                                                                                                                                      \n",
       "4   ...                                                                                                                                                                                                                                                                                                                                                                                                                                                                                 \n",
       "5   แม้ค่าเงินลิขสิทธิ์                                                                                                                                                                                                                                                                                                                                                                                                                                                                 \n",
       "6   เมื่อคิดตามอัตราแลกเปลี่ยนจะอยู่ที่ราวๆ 1,180 ล้านบาท แต่ยังไม่คิดภาษีอีก 15% รวมทั้งต้องคิดตามอัตราแลกเปลี่ยนในวันที่มีการทำธุรกรรม และค่าใช้จ่ายอื่น ๆ นายก้องศักด                                                                                                                                                                                                                                                                                                                \n",
       "7   กล่าวขอบคุณ พล.อ.ประวิตร วงษ์สุวรรณ                                                                                                                                                                                                                                                                                                                                                                                                                                                 \n",
       "8   รองนายกรัฐมนตรีที่ประสานงานภาคเอกชนจนสำเร็จดังกล่าว รวมไปถึงคุณหญิงปัทมา ลีสวัสดิ์ตระกูล ไอโอซีเมมเบอร์ชาวไทย, คุณสมศักดิ์ ลีสวัสดิ์ตระกูล ที่ปรึกษาสภาโอลิมปิกแห่งเอเชีย (โอซีเอ) ที่ช่วยประสานงานอย่างเต็มที่                                                                                                                                                                                                                                                                     \n",
       "9   รวมไปถึงภาคเอกชนที่ให้การสนับสนุนเพื่อให้คนไทยได้รับชม เมื่อ 14 พ.ย. นายก้องศักด กล่าวว่า ราคาก่อนหน้าที่ 1,600 ล้านบาท \"เพราะเป็นราคาที่มากเกินควรในสายตาของพี่น้องประชาชน ในสายตาของการกีฬา(แห่งประเทศไทย)ด้วย                                                                                                                                                                                                                                                                    \n",
       "10  ที่เมื่อเทียบกับลิขสิทธิ์ประเทศเพื่อนบ้านที่ได้ซื้อไป\"                                                                                                                                                                                                                                                                                                                                                                                                                              \n",
       "11  หาก กสทช.จ่าย 1.6 พันล้านบาทให้คนไทยชมฟุตบอลโลก จะคุ้มค่าหรือไม่                                                                                                                                                                                                                                                                                                                                                                                                                    \n",
       "12  เหตุใดไทยอาจจะเป็นชาติเดียวในอาเซียนที่พลาดชมฟุตบอลโลก 2022 14 ปีที่รอคอยกับการชนะน็อคของ \"บัวขาว\" ในนัดล้างตากับ \"ซาโตะ\" เจ้าชายโมฮัมเหม็ด บิน ซัลมาน และกองทุนเพื่อความมั่งคั่งของซาอุดีอาระเบีย เจ้าของทีมนิวคาสเซิลรายใหม่                                                                                                                                                                                                                                                      \n",
       "13  ...                                                                                                                                                                                                                                                                                                                                                                                                                                                                                 \n",
       "14  รายงานเมื่อ 17 พ.ย. ว่าก่อนหน้านี้มีรายงานระบุว่าค่าลิขสิทธิ์และค่าดำเนินการซื้อลิขสิทธิ์ถ่ายทอดสดทั้งหมด 1,600 ล้านบาท                                                                                                                                                                                                                                                                                                                                                             \n",
       "15  ซึ่งมีจำนวน 600 ล้านบาทจากสำนักงานคณะกรรมการกิจการกระจายเสียง กิจการโทรทัศน์                                                                                                                                                                                                                                                                                                                                                                                                        \n",
       "16  และกิจการโทรคมนาคมแห่งชาติ (กสชท.) ที่มีมติอนุมัติเงินสนับสนุนจากกองทุนวิจัยและพัฒนากิจการกระจายเสียง กิจการโทรทัศน์                                                                                                                                                                                                                                                                                                                                                                \n",
       "17  และกิจการโทรคมนาคมเพื่อประโยชน์สาธารณะ (กทปส.) ให้ กกท. เพื่อถ่ายทอดสดฟุตบอลโลก 2022 และผู้สนับสนุนจากภาคเอกชนทั้งหมด 3 บริษัท ได้แก่ บริษัท ทรู คอร์ปอเรชั่น จํากัด (มหาชน), บริษัท ไทยเบฟเวอเรจ จํากัด (มหาชน), บริษัท ปตท. จำกัด (มหาชน) เป็นจำนวนเงิน 400-500 ล้านบาท                                                                                                                                                                                                           \n",
       "18  รวมเป็นจำนวน 1,100 ล้านบาท ค นไทยสนใจกีฬาฟุตบอลราว 62% ของประชากร กระแสความนิยมกีฬาของคนไทยถือว่ายังคงเพิ่มขึ้นอย่างต่อเนื่องแม้ว่าที่ผ่านมาจะเกิดการระบาดของโรคโควิด-19 บริษัทวิจัยชั้นนำจากต่างประเทศ นีลเส็น เปิดเผยข้อมูลที่จัดทำขึ้นพิเศษสำหรับเผยแพร่กับบีบีซีไทยว่า โดยข้อมูลบอกกีฬาที่คนไทยติดตามมากที่สุดของปี 2565 คือ กีฬาฟุตบอล จากการสำรวจในกลุ่มตัวอย่างที่มีอายุ 16-69 ปี                                                                                            \n",
       "19  ...                                                                                                                                                                                                                                                                                                                                                                                                                                                                                 \n",
       "20  ในปีนี้ ช่องทางสื่อสังคมออนไลน์ (Social media) เป็นอันดับ 1 ส่วนรายรายการแข่งขันฟุตบอลโลกรอบสุดท้ายยังคงครองใจคนไทย ฝ่ายประชาสัมพันธ์ของนีลเส็นบอกว่าเทศกาลฟุตบอลโลกที่กำลังจะถึงกลุ่มธุรกิจคาดว่าจะมีควา คึกคักขึ้นแน่นอน                                                                                                                                                                                                                                                          \n",
       "21  เพราะช่วงกีฬาใหญ่แห่งปี แบรนด์ต่าง ๆ จะมีการอัดโฆษณาสูงมาก                                                                                                                                                                                                                                                                                                                                                                                                                          \n",
       "22  จากข้อมูลที่จัดเก็บของนีลเส็น                                                                                                                                                                                                                                                                                                                                                                                                                                                       \n",
       "23  พบว่า มีคนไทยกว่า 59% ที่ชื่นชอบและรอการติดตามของรายการแข่งขันฟุตบอลโลกรอบสุดท้าย ซึ่งเป็นรายการที่ได้รับคะแนนสูงสุดในหมวดกีฬา อุตสาหกรรมที่เข้ามาร่วมในตลาดจะเริ่มขยายตัวมากขึ้น                                                                                                                                                                                                                                                                                                   \n",
       "24  เดิมที่จะเป็นบริษัทเครื่องดื่ม หรือแอลกอฮอล                                                                                                                                                                                                                                                                                                                                                                                                                                         \n",
       "25  นอกจากนี้ถ้าในแง่ของเรตติ้ง                                                                                                                                                                                                                                                                                                                                                                                                                                                         \n",
       "26  นีลเส็นมองว่าช่องที่จะได้ถ่ายทอดสดจะได้รับเรตติ้งสูงสุดอย่างแน่นอน                                                                                                                                                                                                                                                                                                                                                                                                                  \n",
       "27  เพราะช่วงนี้รายการถ่ายทอดสดกีฬามาแรง โดยจากข้อมูลจากการวัดความนิยมรายการโทรทัศน์ข้ามแพลตฟอร์มสื่อ (Cross platform ratings) ที่มีการวัดเรตติ้งทั้งจากทีวีและผู้ชมทางช่องทางดิจิทัล                                                                                                                                                                                                                                                                                                   \n",
       "28  ในช่วงเดือน ส.ค.-ต.ค. ที่ผ่านมาพบว่า รายการที่ได้รับเรตติ้งสูงสุดคือ การแข่งขันวอลเล่บอลชิงแชมป์โลก                                                                                                                                                                                                                                                                                                                                                                                 \n",
       "29  ...                                                                                                                                                                                                                                                                                                                                                                                                                                                                                 \n",
       "30  ...                                                                                                                                                                                                                                                                                                                                                                                                                                                                                 \n",
       "31  ...                                                                                                                                                                                                                                                                                                                                                                                                                                                                                 \n",
       "32  ฟุตบอลโลก 2022 : นักวิชาการด้านสื่อกังขา                                                                                                                                                                                                                                                                                                                                                                                                                                            \n",
       "33  หาก กสทช. จ่าย 1.6 พันล้านบาทให้คนไทยชมฟุตบอลโลก                                                                                                                                                                                                                                                                                                                                                                                                                                    \n",
       "34  คุ้มค่าหรือไม่ 8 พฤศจิกายน 2022 ซาอุดีอาระเบีย : เจ้าชายโมฮัมเหม็ด บิน ซัลมาน และกองทุนเพื่อความมั่งคั่งของซาอุดีอาระเบีย เจ้าของทีมนิวคาสเซิลรายใหม่ 11 ตุลาคม 2021 ข่าวเด่น วิเคราะห์ 7 ผลลัพธ์ที่ตามมา                                                                                                                                                                                                                                                                           \n",
       "35  หาก ประยุทธ์-ประวิตร แยกทาง เมื่อ 7 ชั่วโมงที่แล้ว                                                                                                                                                                                                                                                                                                                                                                                                                                  \n",
       "36  ความวิตกกังวลมีประโยชน์ต่อเราอย่างไร                                                                                                                                                                                                                                                                                                                                                                                                                                                \n",
       "37  ...                                                                                                                                                                                                                                                                                                                                                                                                                                                                                 \n",
       "38  ชายแดนใต้ : คาร์บอมบ์หน้าแฟลตตำรวจ จ.นราธิวาส เจ้าหน้าที่เสียชีวิตอย่างน้อย 1 นาย เมื่อ 6 ชั่วโมงที่แล้ว                                                                                                                                                                                                                                                                                                                                                                            \n",
       "39  ...                                                                                                                                                                                                                                                                                                                                                                                                                                                                                 \n",
       "40  สื่อจุดยืนประเทศ อย่าง \"จริงจังและขายขำ\" แบบเฟซบุ๊กสถานทูตสวีเดนในไทย 20 พฤศจิกายน 2022 เกษียณมาร์เก็ต ตลาดเพื่อคนสูงวัยแต่ไฟยังมีอยู่ 19 พฤศจิกายน 2022 21 ผู้นำเอเปครับรอง “เป้าหมายกรุงเทพฯ ว่าด้วยเศรษฐกิจ BCG” 19 พฤศจิกายน 2022 ดาวเคราะห์บางดวงช่วย “ชะลอวัย” ทำให้ดาวฤกษ์แก่ช้าลงได้ 19 พฤศจิกายน 2022 จับ-ปล่อย-ตามรังควาน                                                                                                                                                 \n",
       "41  ชะตากรรมคนเห็นต่างจากรัฐบาลจีน 19 พฤศจิกายน 2022 มาสโตดอน แพลตฟอร์มใหม่ที่คนแห่ไปเล่นแทนทวิตเตอร์ 19 พฤศจิกายน 2022 อย. อเมริกา ชี้ เนื้อไก่จากแล็บ \"ปลอดภัยสำหรับบริโภค\" 18 พฤศจิกายน 2022                                                                                                                                                                                                                                                                                         \n",
       "42  ทำไมวิธีการเกิดของคุณจึงส่งผลต่อประสิทธิภาพของวัคซีน 18 พฤศจิกายน 2022 ได้รับความนิยมสูงสุด 1 ฟุตบอลโลก 2022 ตารางการแข่งขันและผลการแข่งขัน 2                                                                                                                                                                                                                                                                                                                                       \n",
       "43  ทำไมวิธีการเกิดของคุณจึงส่งผลต่อประสิทธิภาพของวัคซีน 3 สิ่งมีชีวิตแรกในระบบสุริยะอาจเกิดขึ้นบนดาวอังคารก่อนโลก 4 ลำดับคดีผู้ลี้ภัย ม. 112 ฟ้อง SCB, ณพ ณรงค์เดช                                                                                                                                                                                                                                                                                                                     \n",
       "44  ...                                                                                                                                                                                                                                                                                                                                                                                                                                                                                 \n",
       "45  แม้มีเงิน กสทช. 600 ล้าน                                                                                                                                                                                                                                                                                                                                                                                                                                                            \n",
       "46  ช่วยค่าลิขสิทธิ์ยิงสด BBC News, ไทย                                                                                                                                                                                                                                                                                                                                                                                                                                                 \n",
       "47  ...                                                                                                                                                                                                                                                                                                                                                                                                                                                                                 \n",
       "48  เงื่อนไขการใช้งานของ บีบีซี เกี่ยวกับบีบีซี นโยบายความเป็นส่วนตัว คุกกีส์ ติดต่อบีบีซี AdChoices / Do Not Sell My Info ©  2022 บีบีซี.                                                                                                                                                                                                                                                                                                                                              \n",
       "49  บีบีซีไม่มีส่วนรับผิดชอบต่อเนื้อหาของเว็บไซต์ภายนอก.                                                                                                                                                                                                                                                                                                                                                                                                                                \n",
       "50  นโยบายของเราเรื่องการเชื่อมต่อไปยังลิงก์ภายนอก.                                                                                                                                                                                                                                                                                                                                                                                                                                     \n",
       "51  ...                                                                                                                                                                                                                                                                                                                                                                                                                                                                                 \n",
       "\n",
       "                                                                                                                                                   unk_words  \n",
       "0   \"เนื้อหา\"                                                                                                                                                 \n",
       "1   \"หมวด\"                                                                                                                                                    \n",
       "2   \"กกท.\", \"บรรลุ\", \"ถ่ายทอดสด\", \"ตรงกัน\", \"บรรลุ\", \"ลิขสิทธิ์\", \"ถ่ายทอดสด\", \"สหพันธ์\", \"แมตช์\", \"มูลค่า\", \"เหรียญ\"                                         \n",
       "3   \"มติชน\", \"คำแถลง\", \"ก้อง\", \"ศักด\", \"มณี\", \"ผู้ว่าการ\", \"กกท.\", \"ถ่ายทอดสด\", \"แมตช์\", \"ขั้นตอน\", \"เตรียมการ\", \"ถ่ายทอดสด\"                                  \n",
       "4                                                                                                                                                             \n",
       "5   \"ค่าเงิน\", \"ลิขสิทธิ์\"                                                                                                                                    \n",
       "6   \"อัตราแลกเปลี่ยน\", \"ราวๆ\", \"ภาษี\", \"อัตราแลกเปลี่ยน\", \"ธุรกรรม\", \"ค่าใช้จ่าย\", \"ก้อง\", \"ศักด\"                                                             \n",
       "7   \"ประวิตร\", \"วงษ์\", \"สุวรรณ\"                                                                                                                               \n",
       "8   \"ประสานงาน\", \"ภาคเอกชน\", \"รวมไปถึง\", \"ปัท\", \"ลี\", \"สวัสดิ์\", \"ตระกูล\", \"เม\", \"ศักดิ์\", \"ลี\", \"สวัสดิ์\", \"ตระกูล\", \"ประสานงาน\"                             \n",
       "9   \"รวมไปถึง\", \"ภาคเอกชน\", \"ให้การ\", \"ก้อง\", \"ศักด\", \"รา\", \"คาที่\"                                                                                           \n",
       "10  \"ลิขสิทธิ์\"                                                                                                                                               \n",
       "11  \"กสทช.\", \"คุ้มค่า\"                                                                                                                                        \n",
       "12  \"พลาด\", \"รอคอย\", \"การชนะ\", \"น็อค\", \"บัว\", \"เจ้าชาย\", \"โม\", \"เหม็ด\", \"ซัล\", \"มาน\", \"ความมั่งคั่ง\", \"นิวคาสเซิล\"                                            \n",
       "13                                                                                                                                                            \n",
       "14  \"ค่าลิขสิทธิ์\", \"ลิขสิทธิ์\", \"ถ่ายทอดสด\"                                                                                                                  \n",
       "15  \"กระจายเสียง\"                                                                                                                                             \n",
       "16  \"โทรคมนาคม\", \"(กสชท.)\", \"มีมติ\", \"อนุมัติ\", \"วิจัยและพัฒนา\", \"กระจายเสียง\"                                                                                \n",
       "17  \"โทรคมนาคม\", \"สาธารณะ\", \"(กท\", \"ปส.\", \"กกท.\", \"ถ่ายทอดสด\", \"ภาคเอกชน\", \"ทรู\", \"จํา\", \"กัด\", \"มหาชน\", \"เบฟเวอเรจ\", \"จํา\", \"กัด\", \"มหาชน\", \"ปตท.\", \"มหาชน\"  \n",
       "18  \"ประชากร\", \"ระบาด\", \"ชั้นนำ\", \"จัดทำ\", \"ติดตา\", \"มมาก\", \"กลุ่มตัวอย่าง\"                                                                                   \n",
       "19                                                                                                                                                            \n",
       "20  \"ช่องทาง\", \"การแข่งขัน\", \"โล\", \"ครองใจ\", \"ประชาสัมพันธ์\", \"บอ\", \"เทศกาล\", \"วา\"                                                                            \n",
       "21  \"การอัด\"                                                                                                                                                  \n",
       "22  \"จัดเก็บ\"                                                                                                                                                 \n",
       "23  \"ชื่นชอบ\", \"การแข่งขัน\", \"โล\", \"หมวด\", \"อุตสาหกรรม\", \"ร่วมใน\"                                                                                             \n",
       "24  \"เครื่องดื่ม\", \"กอ\"                                                                                                                                       \n",
       "25  \"ในแง่\", \"เรตติ้ง\"                                                                                                                                        \n",
       "26  \"ถ่ายทอดสด\", \"เรตติ้ง\"                                                                                                                                    \n",
       "27  \"ถ่ายทอดสด\", \"มาแรง\", \"รายการโทรทัศน์\", \"เรตติ้ง\", \"ช่องทาง\", \"ดิจิทัล\"                                                                                   \n",
       "28  \"ส.ค.\", \"เรตติ้ง\", \"การแข่งขัน\", \"วอ\", \"ลเล่\", \"ชิง\"                                                                                                      \n",
       "29                                                                                                                                                            \n",
       "30                                                                                                                                                            \n",
       "31                                                                                                                                                            \n",
       "32  \"กังขา\"                                                                                                                                                   \n",
       "33  \"กสทช.\"                                                                                                                                                   \n",
       "34  \"คุ้มค่า\", \"เจ้าชาย\", \"โม\", \"เหม็ด\", \"ซัล\", \"มาน\", \"ความมั่งคั่ง\", \"นิวคาสเซิล\", \"ผลลัพธ์\"                                                                \n",
       "35  \"ประวิตร\", \"แยกทาง\"                                                                                                                                       \n",
       "36  \"ความวิตกกังวล\"                                                                                                                                           \n",
       "37                                                                                                                                                            \n",
       "38  \"ชายแดน\", \"จ.\", \"นราธิวาส\"                                                                                                                                \n",
       "39                                                                                                                                                            \n",
       "40  \"จุดยืน\", \"ขำ\", \"สถานทูต\", \"เกษียณ\", \"สูงวัย\", \"รับรอง\", \"ดาวเคราะห์\", \"ชะลอ\", \"ดาวฤกษ์\", \"รังควาน\"                                                       \n",
       "41  \"ชะตากรรม\", \"ดอน\", \"แห่\", \"อย.\", \"เนื้อไก่\", \"แล็บ\", \"บริโภค\"                                                                                             \n",
       "42  \"ประสิทธิภาพ\", \"ตาราง\", \"การแข่งขัน\", \"ผลการแข่งขัน\"                                                                                                      \n",
       "43  \"ประสิทธิภาพ\", \"ระบบสุริยะ\", \"ดาวอังคาร\", \"ผู้ลี้ภัย\", \"ม.\", \"ฟ้อง\", \"ณพ\", \"ณรงค์\", \"เดช\"                                                                 \n",
       "44                                                                                                                                                            \n",
       "45  \"กสทช.\"                                                                                                                                                   \n",
       "46  \"ค่าลิขสิทธิ์\", \"สด\"                                                                                                                                      \n",
       "47                                                                                                                                                            \n",
       "48  \"เงื่อนไข\", \"การใช้งาน\", \"กีส์\"                                                                                                                           \n",
       "49  \"เนื้อหา\", \"นอ\", \"ก.\"                                                                                                                                     \n",
       "50  \"เชื่อม\", \"นอ\", \"ก.\"                                                                                                                                      \n",
       "51                                                                                                                                                            "
      ]
     },
     "execution_count": 28,
     "metadata": {},
     "output_type": "execute_result"
    }
   ],
   "source": [
    "#display() #percent_threshold=0.95\n",
    "filter_text(webpage,print_word_lvl=True)"
   ]
  },
  {
   "cell_type": "code",
   "execution_count": 18,
   "id": "8bce1137",
   "metadata": {},
   "outputs": [
    {
     "name": "stdout",
     "output_type": "stream",
     "text": [
      "171\n"
     ]
    }
   ],
   "source": [
    "with open(path+'unknown_thai_list.txt',\"r\") as input_file:\n",
    "    new_words = input_file.read()\n",
    "    new_words = re.sub(\"[\\n\\'\\[\\]]\",\"\",new_words)\n",
    "    new_words = new_words.split(',')\n",
    "    new_words = [line.strip() for line in new_words] #update regex\n",
    "#new_words\n",
    "print(len(new_words))\n",
    "#known_manual = get_known(new_words)"
   ]
  },
  {
   "cell_type": "code",
   "execution_count": 21,
   "id": "efd86a33",
   "metadata": {},
   "outputs": [],
   "source": [
    "import mitosheet\n",
    "unk_df = pd.DataFrame(new_words)\n",
    "unk_df.columns = ['word']\n",
    "unk_df['status'] = pd.Series(['' for word in new_words])"
   ]
  },
  {
   "cell_type": "code",
   "execution_count": 22,
   "id": "3663bb4f",
   "metadata": {
    "collapsed": true
   },
   "outputs": [
    {
     "data": {
      "application/vnd.jupyter.widget-view+json": {
       "model_id": "fcbc6c44e2a84cfabfb8f2441ba3de22",
       "version_major": 2,
       "version_minor": 0
      },
      "text/plain": [
       "MitoWidget(analysis_data_json='{\"analysisName\": \"id-veadmzbfpr\", \"analysisToReplay\": null, \"code\": [], \"stepSu…"
      ]
     },
     "metadata": {},
     "output_type": "display_data"
    }
   ],
   "source": [
    "mitosheet.sheet(unk_df, analysis_to_replay=\"id-veadmzbfpr\")"
   ]
  },
  {
   "cell_type": "code",
   "execution_count": 25,
   "id": "455c3cdb",
   "metadata": {},
   "outputs": [
    {
     "name": "stdout",
     "output_type": "stream",
     "text": [
      "28\n"
     ]
    }
   ],
   "source": [
    "add_words = list(unk_df.word[unk_df['status']=='k'])\n",
    "print(len(add_words))\n",
    "for word in add_words:\n",
    "    vocab['white_listed'].add(word)"
   ]
  },
  {
   "cell_type": "code",
   "execution_count": 56,
   "id": "27b8e0f9",
   "metadata": {},
   "outputs": [],
   "source": [
    "#manually remove from white\n",
    "remove_from_white = ['อารมณ์ดี']\n",
    "\n",
    "for word in remove_from_white:\n",
    "    if word in vocab['white_listed']:\n",
    "        vocab['white_listed'].remove(word)"
   ]
  },
  {
   "cell_type": "code",
   "execution_count": 55,
   "id": "2706f449",
   "metadata": {},
   "outputs": [],
   "source": [
    "#manually add to white\n",
    "add_to_white = ['จัดกิจกรรม','อ่านใจ']\n",
    "\n",
    "for word in add_to_white:\n",
    "    vocab['white_listed'].add(word)"
   ]
  },
  {
   "cell_type": "code",
   "execution_count": 54,
   "id": "c6403a8f",
   "metadata": {},
   "outputs": [
    {
     "name": "stdout",
     "output_type": "stream",
     "text": [
      "9\n"
     ]
    }
   ],
   "source": [
    "print(len(known_manual))\n",
    "for word in known_manual:\n",
    "    vocab['white_listed'].add(word)"
   ]
  },
  {
   "cell_type": "code",
   "execution_count": 26,
   "id": "02a15572",
   "metadata": {},
   "outputs": [
    {
     "name": "stdout",
     "output_type": "stream",
     "text": [
      "2155\n"
     ]
    }
   ],
   "source": [
    "#write to .json formats\n",
    "df = vocab\n",
    "df['white_listed'] = list(df['white_listed'])\n",
    "df['black_listed'] = list(df['black_listed'])\n",
    "with open(path+source_file, \"w\") as outfile:\n",
    "    json.dump(df,outfile)\n",
    "print(len(df['white_listed']))"
   ]
  },
  {
   "cell_type": "code",
   "execution_count": 27,
   "id": "c7f67a5d",
   "metadata": {},
   "outputs": [
    {
     "name": "stdout",
     "output_type": "stream",
     "text": [
      "2155\n"
     ]
    }
   ],
   "source": [
    "#read from existing .json formats\n",
    "with open(path+source_file, \"r\") as path_in:\n",
    "    vocab = json.loads(path_in.read())\n",
    "vocab['white_listed'] = set(vocab['white_listed'])\n",
    "vocab['black_listed'] = set(vocab['black_listed'])\n",
    "print(len(vocab['white_listed']))"
   ]
  },
  {
   "cell_type": "markdown",
   "id": "b04bfa91",
   "metadata": {},
   "source": [
    "##END"
   ]
  },
  {
   "cell_type": "code",
   "execution_count": 147,
   "id": "db36cdb8",
   "metadata": {
    "collapsed": true
   },
   "outputs": [
    {
     "name": "stdout",
     "output_type": "stream",
     "text": [
      "daily catch in word count:\n",
      "['เชิญ', 'ยิ้ม', 'ยินดี', 'รอย', 'เอกสาร', 'สนิท', 'กระดาษ', 'คอ', 'โรงพยาบาล', 'หิน', 'จด', 'ปืน', 'โต๊ะ', 'เสื้อผ้า', 'เลือด', 'สิทธิ์', 'นักเขียน', 'สนุกสนาน', 'หัวเราะ', 'หู', 'ยิง', 'สวยงาม', 'ล่า', 'แขก', 'ดอกไม้', 'ที่นั่ง', 'เสือ', 'ปกป้อง', 'รับประทาน', 'ไอ', 'สนุก', 'ลูกชาย', 'สหรัฐ', 'นิ้ว', 'ไอ้', 'รถไฟ', 'เล็กน้อย', 'โปรด', 'คะแนน', 'กรุณา', 'โรงแรม', 'จดหมาย', 'ขับ', 'ดื่ม', 'หอม', 'ระมัดระวัง', 'ฤดู', 'ฟัน', 'เท้า', 'หล่อน', 'วางแผน', 'ลับ', 'ลอย', 'ยกเว้น', 'ลูกค้า', 'ริม', 'ม้า', 'คอมพิวเตอร์']\n"
     ]
    }
   ],
   "source": [
    "#Upload from download\n",
    "with open(path+'known_thai_list.txt',\"r\") as input_file:\n",
    "    new_words = input_file.read().split(',')\n",
    "    print(\"daily catch in word count:\")\n",
    "    print(new_words)\n",
    "for line in new_words:   \n",
    "    vocab['white_listed'].add(line.replace(\"'\",\"\").strip())\n"
   ]
  },
  {
   "cell_type": "code",
   "execution_count": 154,
   "id": "0141a9c3",
   "metadata": {},
   "outputs": [
    {
     "name": "stdout",
     "output_type": "stream",
     "text": [
      "Hello Nong\n"
     ]
    }
   ],
   "source": [
    "\n",
    "wyw_text = 'สวัสดีครับน้อง'\n",
    "print(ts.google(wyw_text))\n",
    "#print(ts._google.language_map)\n",
    "#print(ts.google(wyw_text))"
   ]
  },
  {
   "cell_type": "code",
   "execution_count": 227,
   "id": "67b1cbb0",
   "metadata": {},
   "outputs": [
    {
     "name": "stdout",
     "output_type": "stream",
     "text": [
      "today's catch % of corpus:\n"
     ]
    },
    {
     "data": {
      "text/plain": [
       "'1.200344766395417%'"
      ]
     },
     "execution_count": 227,
     "metadata": {},
     "output_type": "execute_result"
    }
   ],
   "source": [
    "#Get after when adding in new words\n",
    "print(\"today's catch % of corpus:\")\n",
    "str(100*(percent-prev_percent))+\"%\""
   ]
  },
  {
   "cell_type": "code",
   "execution_count": null,
   "id": "3258e547",
   "metadata": {},
   "outputs": [],
   "source": [
    "#output newly knowns\n",
    "with open(path+\"new_known_thai_lines.txt\",\"w\") as outfile:\n",
    "    for line in list(set(knowns).difference(prev_knowns)):\n",
    "        outfile.write(line+'\\n')\n"
   ]
  },
  {
   "cell_type": "code",
   "execution_count": 105,
   "id": "1a9fb3c5",
   "metadata": {},
   "outputs": [
    {
     "name": "stdout",
     "output_type": "stream",
     "text": [
      "Sanity check. Current vocab size:\n"
     ]
    },
    {
     "data": {
      "text/plain": [
       "1462"
      ]
     },
     "execution_count": 105,
     "metadata": {},
     "output_type": "execute_result"
    }
   ],
   "source": [
    "print(\"Sanity check. Current vocab size:\")\n",
    "len(vocab['white_listed'])"
   ]
  },
  {
   "cell_type": "code",
   "execution_count": 117,
   "id": "564b37a8",
   "metadata": {},
   "outputs": [],
   "source": [
    "\"\"\"\n",
    "to do:\n",
    "\n",
    "\"\"\""
   ]
  },
  {
   "cell_type": "code",
   "execution_count": 7,
   "id": "d9799280",
   "metadata": {},
   "outputs": [
    {
     "data": {
      "text/plain": [
       "999"
      ]
     },
     "execution_count": 7,
     "metadata": {},
     "output_type": "execute_result"
    }
   ],
   "source": [
    "##INPUT-OUTPUT\n",
    "#vocab list:\n",
    "with open(\"/Users/elyebliss/Desktop/Vocabulary/vocab_dfs/thai_whitelisted.csv\",\"r\") as infile:\n",
    "    whitelisted_lemmas = infile.read()\n",
    "\n",
    "\n",
    "##VARIABLES\n",
    "vocab_all = set()\n",
    "\n",
    "\n",
    "for line in whitelisted_lemmas.split('\\n'):\n",
    "    if len(line) > 0:\n",
    "        \n",
    "        vocab = line.strip()\n",
    "        vocab_all.add(vocab)\n",
    "        \n",
    "len(whitelisted_lemmas.split('\\n'))            \n",
    "#pp.pprint(vocab_all)"
   ]
  },
  {
   "cell_type": "code",
   "execution_count": 8,
   "id": "3e37bfb9",
   "metadata": {},
   "outputs": [],
   "source": [
    "vocab = {}\n",
    "vocab['white_listed'] = list(vocab_all)\n",
    "vocab['black_listed'] = []"
   ]
  }
 ],
 "metadata": {
  "kernelspec": {
   "display_name": "Python 3 (ipykernel)",
   "language": "python",
   "name": "python3"
  },
  "language_info": {
   "codemirror_mode": {
    "name": "ipython",
    "version": 3
   },
   "file_extension": ".py",
   "mimetype": "text/x-python",
   "name": "python",
   "nbconvert_exporter": "python",
   "pygments_lexer": "ipython3",
   "version": "3.9.12"
  }
 },
 "nbformat": 4,
 "nbformat_minor": 5
}
