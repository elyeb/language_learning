{
 "cells": [
  {
   "cell_type": "code",
   "execution_count": null,
   "id": "05aba0c4",
   "metadata": {},
   "outputs": [],
   "source": [
    "\"\"\"\n",
    "\n",
    "Contents:\n",
    "-data intialization from csv file of words &\n",
    " build data structure to house info moving forward\n",
    "-write to .json formats\n",
    "-read from existing .json formats\n",
    "-get list of words to find\n",
    "-scrape BBC\n",
    "-scrape voiceTV\n",
    "\"\"\""
   ]
  },
  {
   "cell_type": "code",
   "execution_count": 1,
   "id": "ebdc6804",
   "metadata": {},
   "outputs": [
    {
     "name": "stderr",
     "output_type": "stream",
     "text": [
      "Using state Washington server backend.\n"
     ]
    }
   ],
   "source": [
    "import bs4, requests, sys, codecs, urllib.request, re\n",
    "from bs4 import SoupStrainer\n",
    "from bs4.element import Comment\n",
    "import random\n",
    "#import pythainlp\n",
    "from pythainlp.tokenize import word_tokenize, sent_tokenize\n",
    "import string\n",
    "import json\n",
    "import pandas as pd\n",
    "import os\n",
    "from os import listdir\n",
    "from os.path import isfile, join\n",
    "import pprint\n",
    "import translators as ts\n",
    "\n",
    "pp = pprint.PrettyPrinter()\n",
    "pd.set_option('display.max_rows', None)\n",
    "pd.set_option('display.max_colwidth', 0)\n",
    "\n",
    "path = \"/Users/elyebliss/Desktop/Vocabulary/language_learning/vocab_dfs/\"\n",
    "source_file = \"thai.json\""
   ]
  },
  {
   "cell_type": "code",
   "execution_count": 2,
   "id": "ce69b1b0",
   "metadata": {},
   "outputs": [],
   "source": [
    "##METHODS\n",
    "\n",
    "def tag_visible(element):\n",
    "    if element.parent.name in ['style', 'script', 'head', 'title', 'meta', '[document]']:\n",
    "        return False\n",
    "    if isinstance(element, Comment):\n",
    "        return False\n",
    "    return True\n",
    "\n",
    "\n",
    "def text_from_html(body):\n",
    "    soup = bs4.BeautifulSoup(body, 'html.parser')\n",
    "    texts = soup.findAll(text=True)\n",
    "    visible_texts = filter(tag_visible, texts)  \n",
    "    return u\" \".join(t.strip() for t in visible_texts)\n",
    "\n",
    "\n",
    "\n",
    "user_agent = 'Mozilla/5.0 (Windows NT 6.3; WOW64; rv:50.0) Gecko/20100101 Firefox/50.0'\n",
    "headers={'User-Agent':user_agent,}\n",
    "parser = 'html.parser'"
   ]
  },
  {
   "cell_type": "code",
   "execution_count": 3,
   "id": "63afba50",
   "metadata": {},
   "outputs": [],
   "source": [
    "def get_known(unknown_list):\n",
    "    \n",
    "    count_got = 0\n",
    "    known_list = []\n",
    "    for word in unknown_list:\n",
    "        decision = str(input(word+\"\\nKnown =k\"))\n",
    "        if decision =='k':\n",
    "            known_list.append(word)\n",
    "            count_got +=1\n",
    "            print(\"got \"+str(count_got))\n",
    "        elif decision=='q':\n",
    "            break\n",
    "        try:\n",
    "            print(ts.google(word))\n",
    "        except:\n",
    "            print('cant find')\n",
    "    return known_list"
   ]
  },
  {
   "cell_type": "code",
   "execution_count": 4,
   "id": "117b26f1",
   "metadata": {},
   "outputs": [],
   "source": [
    "def filter_text(webpage,start=None,stop=None,\\\n",
    "                print_word_lvl=False,percent_threshold=None,\\\n",
    "               return_percent=False):\n",
    "\n",
    "\n",
    "    try:\n",
    "        request=urllib.request.Request(webpage,None,headers) #The assembled request\n",
    "        response = urllib.request.urlopen(request)\n",
    "        data = response.read()\n",
    "        contents = text_from_html(data)\n",
    "\n",
    "        known_array = []\n",
    "        unk_array = []\n",
    "        contents_array = sent_tokenize(contents)\n",
    "\n",
    "        if (start is not None) and (stop is not None):\n",
    "            contents_array=contents_array[max(start,0):min(stop,len(contents_array))]\n",
    "\n",
    "        disallowed_words = set()\n",
    "\n",
    "        total_words = 0\n",
    "        unknown_words = 0\n",
    "        \n",
    "        lines = []\n",
    "        unknowns = []\n",
    "        for line in contents_array:\n",
    "\n",
    "\n",
    "            tokenized = word_tokenize(line)\n",
    "\n",
    "\n",
    "            add_line = True\n",
    "            line_total = 0\n",
    "            line_unks = 0\n",
    "\n",
    "            unk_str = \"\"\n",
    "            for word in tokenized:\n",
    "                \n",
    "                total_words +=1\n",
    "                line_total +=1\n",
    "\n",
    "                if bool(re.search('[\\u0E00-\\u0E7F]+', word, flags=re.UNICODE)) and not ((word in vocab['white_listed']) or\\\n",
    "                                                            (word in vocab['black_listed'])):\n",
    "\n",
    "                        unk_str += '\"'+word+'\"'+\", \"\n",
    "                        if not percent_threshold:\n",
    "                            add_line = False\n",
    "                        disallowed_words.add(word)\n",
    "                        unknown_words +=1\n",
    "                        line_unks +=1\n",
    "\n",
    "            if percent_threshold:\n",
    "                if line_total>0:\n",
    "                    if (1-(line_unks/line_total))<percent_threshold:\n",
    "                        add_line = False\n",
    "            if add_line:\n",
    "                known_array.append(line)\n",
    "                unk_array.append(\"...\")\n",
    "            else:\n",
    "                known_array.append(\"...\")\n",
    "                unk_array.append(line)\n",
    "\n",
    "            if len(unk_str)>0:\n",
    "                unk_str = unk_str[0:len(unk_str)-2]\n",
    "\n",
    "            unknowns.append(unk_str)\n",
    "\n",
    "        if print_word_lvl and total_words>0:\n",
    "            print(\"word-level % known = \"+str((1-(unknown_words/total_words))*100))\n",
    "        if return_percent and total_words>0:\n",
    "            return (1-(unknown_words/total_words))*100\n",
    "        return_pd = pd.DataFrame(list(zip(known_array,unk_array,unknowns)))\n",
    "        return_pd.columns = [\"knowns\",\"unknowns\",\"unk_words\"]\n",
    "\n",
    "        \n",
    "\n",
    "        with open(path+'unknown_thai_list.txt',\"w\") as outfile:\n",
    "            outfile.write(str(list(disallowed_words)))\n",
    "\n",
    "        return return_pd\n",
    "\n",
    "    except:\n",
    "        pass"
   ]
  },
  {
   "cell_type": "code",
   "execution_count": 5,
   "id": "826dae68",
   "metadata": {},
   "outputs": [
    {
     "name": "stdout",
     "output_type": "stream",
     "text": [
      "2267\n",
      "2520\n"
     ]
    }
   ],
   "source": [
    "\"\"\"read from existing .json formats\n",
    "white-listed\n",
    "uncovered \n",
    "2267\n",
    "2520\n",
    "\"\"\"\n",
    "with open(path+source_file, \"r\") as path_in:\n",
    "    vocab = json.loads(path_in.read())\n",
    "vocab['white_listed'] = set(vocab['white_listed'])\n",
    "vocab['black_listed'] = set(vocab['black_listed'])\n",
    "print(len(vocab['white_listed'])) \n",
    "\n",
    "#get 4k freq word info:\n",
    "with open(path+'th_freq.csv','r') as infile:\n",
    "    freq_df = pd.read_csv(infile)\n",
    "uncovered = []\n",
    "for word in freq_df.word:\n",
    "    if word not in vocab['white_listed']:\n",
    "        uncovered.append(word)\n",
    "print(len(uncovered))\n",
    "\n"
   ]
  },
  {
   "cell_type": "code",
   "execution_count": 6,
   "id": "004a939d",
   "metadata": {},
   "outputs": [
    {
     "name": "stdout",
     "output_type": "stream",
     "text": [
      "Checking BBC Thai\n",
      "Checking VoiceTV\n"
     ]
    }
   ],
   "source": [
    "pages = []\n",
    "titles = []\n",
    "\n",
    "##BBC\n",
    "print(\"Checking BBC Thai\")\n",
    "parser = 'html.parser'  # or 'lxml' (preferred) or 'html5lib', if installed\n",
    "request=urllib.request.Request('https://www.bbc.com/thai/topics/cjgn73g98rqt',None,headers)\n",
    "resp = urllib.request.urlopen(request)\n",
    "soup = bs4.BeautifulSoup(resp, parser, from_encoding=resp.info().get_param('charset'))\n",
    "\n",
    "\n",
    "for link in soup.find_all('a', href=True):\n",
    "    if 'https://www.bbc.com/thai/thailand' in str(link['href']):\n",
    "        pages.append(str(link['href']))\n",
    "        request=urllib.request.Request(str(link['href']),None,headers) #The assembled request\n",
    "\n",
    "        response = urllib.request.urlopen(request)\n",
    "        data = response.read()\n",
    "        contents = text_from_html(data)\n",
    "        if bool(re.search(\"(?<=ยอดนิยม หน้าแรก ประเทศไทย ต่างประเทศ วิทยาศาสตร์ สุขภาพ โควิด-19 วิดีโอ ยอดนิยม).{30}\",contents)):\n",
    "            titles.append(re.findall(\"(?<=ยอดนิยม หน้าแรก ประเทศไทย ต่างประเทศ วิทยาศาสตร์ สุขภาพ โควิด-19 วิดีโอ ยอดนิยม).{30}\",contents)[0].strip())\n",
    "\n",
    "    elif '/thai/thailand' in str(link['href']):\n",
    "        pages.append('https://www.bbc.com'+str(link['href']))\n",
    "\n",
    "##VoiceTV\n",
    "print(\"Checking VoiceTV\")\n",
    "parser = 'html.parser'  # or 'lxml' (preferred) or 'html5lib', if installed\n",
    "request=urllib.request.Request('https://www.voicetv.co.th/topic/%E0%B8%81%E0%B8%B2%E0%B8%A3%E0%B9%80%E0%B8%A1%E0%B8%B7%E0%B8%AD%E0%B8%87',None,headers)\n",
    "resp = urllib.request.urlopen(request)\n",
    "soup = bs4.BeautifulSoup(resp, parser, from_encoding=resp.info().get_param('charset'))\n",
    "\n",
    " \n",
    "for link in soup.find_all('a', href=True):\n",
    "    str_page = 'https://www.voicetv.co.th'+str(link['href'])\n",
    "    if '/read/' in str(link['href']) and str_page not in pages:\n",
    "        pages.append(str_page)\n",
    "        request=urllib.request.Request(str_page,None,headers) #The assembled request\n",
    "\n",
    "        response = urllib.request.urlopen(request)\n",
    "        data = response.read()\n",
    "        contents = text_from_html(data)\n",
    "        titles.append(re.findall(\"(?<=  :).{30}\",contents)[0].strip())"
   ]
  },
  {
   "cell_type": "code",
   "execution_count": 7,
   "id": "411c6c9a",
   "metadata": {},
   "outputs": [
    {
     "data": {
      "text/plain": [
       "1502"
      ]
     },
     "execution_count": 7,
     "metadata": {},
     "output_type": "execute_result"
    }
   ],
   "source": [
    "#load prev corpus and add\n",
    "known_corpus = set()\n",
    "with open(path+\"all_known_thai_lines.txt\",\"r\",encoding='utf-8') as infile:\n",
    "    for line in infile.read().split('\\n'):\n",
    "        known_corpus.add(line)\n",
    "len(known_corpus)"
   ]
  },
  {
   "cell_type": "code",
   "execution_count": 8,
   "id": "bb6ee0f7",
   "metadata": {},
   "outputs": [
    {
     "name": "stdout",
     "output_type": "stream",
     "text": [
      "percent all known= 0.18455743879472694\n"
     ]
    }
   ],
   "source": [
    "#Find % of all sentences of news\n",
    "knowns = []\n",
    "all_lines = 0\n",
    "\n",
    "known_percents = []\n",
    "\n",
    "for webpage in pages:\n",
    "    \n",
    "    test_df = filter_text(webpage)\n",
    "    all_lines += len(list(test_df.knowns))\n",
    "    \n",
    "    known_percents.append(filter_text(webpage,return_percent=True))\n",
    "    \n",
    "    for item in list(test_df.knowns[test_df.knowns != '...']):\n",
    "        knowns.append(item)\n",
    "percent = len(knowns)/float(all_lines)\n",
    "print(\"percent all known= \"+str(percent))\n"
   ]
  },
  {
   "cell_type": "code",
   "execution_count": 9,
   "id": "1fa348ef",
   "metadata": {},
   "outputs": [
    {
     "data": {
      "text/plain": [
       "['ในฐานะรองหัวหน้าพรรคยอมรับว่า หลังจากนี้คนในพรรคที่จะไปร่วมงานกับการเมืองต่างๆ นั้น อาจจะมีอยู่บ้าง แต่ไม่ใช่จำนวนที่มาก ',\n",
       " 'โดยเป็นห่วงสถานะของนายกฯ นั้น พล.อ.ประยุทธ์ กล่าวว่า ไม่ต้องเป็นห่วง ',\n",
       " 'มีนี่ ว่าเราจะทำอย่างไรหากคิดแต่ตรงนี้คิดไปข้างหน้าอย่างเดียว\\u200b ',\n",
       " 'โดยเชื่อว่าพรรคการเมืองส่วนใหญ่เข้าใจเรื่องนี้อยู่แล้ว ',\n",
       " 'และคิดว่านายกรัฐมนตรีและรัฐมนตรีในปัจจุบันก็เข้าใจดี ',\n",
       " 'หากทำต่อก็สำเร็จแน่นอนและเดินไปข้างหน้า ก็จะเร็วขึ้น ',\n",
       " 'ฉันจะฆ่าแกไอ้ลูกชาย” เมื่อ 3 ชั่วโมงที่แล้ว ',\n",
       " 'วันนี้ประเทศไทยเดินมาไกลแล้วหลายปีที่ผ่านมา ',\n",
       " 'ส่วนการประกาศความชัดเจนของ พล.อ.ประยุทธ์ ',\n",
       " 'เนื่องจากต้องการความเห็นชอบของประชาชน\\u200b ',\n",
       " 'จากที่ไม่เคยมี ส.ส. ในกรุงเทพฯ มาก่อน ',\n",
       " 'เป็นเรื่องของพรรคที่ต้องดำเนินการต่อ ',\n",
       " 'ยังเป็นพรรคร่วม ต้องเข้าใจตรงนี้นะ\\u200b ',\n",
       " 'ทำไมเราถึงจะไม่อยากให้เกิดขึ้นเร็ว ',\n",
       " 'และจะอยู่ช่วยงานนายกฯต่อหรือไม่ ',\n",
       " 'ตั้งแต่ปี พ.ศ. 2558 โดยครั้งนี้ ',\n",
       " 'เห็นสิ่งเหล่านี้ต้องมีอย่างนี้ ',\n",
       " 'ทุกพรรคก็มีคนเข้าคนออกตลอดเวลา ',\n",
       " 'เห็นชาวบ้านมีความสุขมีรอยยิ้ม ',\n",
       " 'เพราะฉะนั้นเราจะต้องเดินต่อ ',\n",
       " 'รักแม่น้ำสายนี้\\u200b ได้อย่างไร ',\n",
       " 'ข่าวเด่น “ถ้าฉันได้ยิงก่อน ',\n",
       " 'และเป็นมิตรกับสิ่งแวดล้อม ',\n",
       " 'ประกาศเปิดหน้าทางการเมือง ',\n",
       " 'วันนี้เรายังเป็นรัฐบาล\\u200b ',\n",
       " 'ขอบคุณทีมงานกรุงเทพฯ ',\n",
       " 'หากได้ทำต่อสำเร็จแน่ ',\n",
       " 'ซึ่งอายุมากแล้ว ',\n",
       " 'เหตุต้องดูแลแม่ ',\n",
       " 'ยังไปไหนไม่ได้ ',\n",
       " 'เป็นเรื่องปกติ ',\n",
       " 'ในพื้นที่ ',\n",
       " 'ในขณะนี้ ']"
      ]
     },
     "execution_count": 9,
     "metadata": {},
     "output_type": "execute_result"
    }
   ],
   "source": [
    "#sorted(list(set(knowns)),key=len,reverse=True)\n",
    "sorted(list(set(knowns).difference(known_corpus)),key=len,reverse=True)"
   ]
  },
  {
   "cell_type": "code",
   "execution_count": 10,
   "id": "ac029f06",
   "metadata": {},
   "outputs": [],
   "source": [
    "#manually remove from white\n",
    "remove_from_white = []\n",
    "\n",
    "for word in remove_from_white:\n",
    "    if word in vocab['white_listed']:\n",
    "        vocab['white_listed'].remove(word)"
   ]
  },
  {
   "cell_type": "code",
   "execution_count": 10,
   "id": "1ee450fe",
   "metadata": {},
   "outputs": [
    {
     "data": {
      "text/plain": [
       "1535"
      ]
     },
     "execution_count": 10,
     "metadata": {},
     "output_type": "execute_result"
    }
   ],
   "source": [
    "for item in list(set(knowns)):\n",
    "    known_corpus.add(item)\n",
    "\n",
    "with open(path+\"all_known_thai_lines.txt\",\"w\",encoding='utf-8') as outfile:\n",
    "    for line in list(set(known_corpus)):\n",
    "        outfile.write(line+'\\n')\n",
    "len(known_corpus)"
   ]
  },
  {
   "cell_type": "code",
   "execution_count": 11,
   "id": "2d6948c1",
   "metadata": {},
   "outputs": [
    {
     "name": "stdout",
     "output_type": "stream",
     "text": [
      "25\n"
     ]
    }
   ],
   "source": [
    "websites = set()\n",
    "\n",
    "with open(path+'viewed_websites_th.txt',\"r\") as infile:\n",
    "    for line in infile.read().split('\\n'):\n",
    "        websites.add(line)\n",
    "print(len(websites))"
   ]
  },
  {
   "cell_type": "code",
   "execution_count": 12,
   "id": "2a643828",
   "metadata": {
    "collapsed": true
   },
   "outputs": [
    {
     "data": {
      "text/plain": [
       "[(1,\n",
       "  90.8641975308642,\n",
       "  '‘สุรนันทน์’ ลาออก ‘สร้างอนาคต',\n",
       "  'https://www.voicetv.co.th/read/DiJXIF-sz'),\n",
       " (2,\n",
       "  89.97867803837953,\n",
       "  '‘ประยุทธ์’ลั่นยังเป็นนายกฯของ',\n",
       "  'https://www.voicetv.co.th/read/lUU98C2bq'),\n",
       " (4,\n",
       "  89.72972972972973,\n",
       "  '‘ประยุทธ์’ อวยพรปีใหม่สื่อทำเ',\n",
       "  'https://www.voicetv.co.th/read/DSN6Ayc9M'),\n",
       " (3,\n",
       "  89.21001926782274,\n",
       "  '‘ประยุทธ์’ มอบคำขวัญวันเด็กปี',\n",
       "  'https://www.voicetv.co.th/read/5X_myhSRN'),\n",
       " (5,\n",
       "  81.67539267015707,\n",
       "  '‘วิษณุ’แย้มประตูยุบสภาเปิดอยู',\n",
       "  'https://www.voicetv.co.th/read/bn95YMr0a'),\n",
       " (7,\n",
       "  80.96723868954759,\n",
       "  'จับตา ‘ราษฎรแรลลี่’ จาก ‘วังล',\n",
       "  'https://www.voicetv.co.th/read/rI-9LjhEh'),\n",
       " (0,\n",
       "  80.34246575342465,\n",
       "  \"'องอาจ' ยอมรับ ปชป. เลือดไหลเ\",\n",
       "  'https://www.bbc.com/thai/thailand-64064173')]"
      ]
     },
     "execution_count": 12,
     "metadata": {},
     "output_type": "execute_result"
    }
   ],
   "source": [
    "page_titles = list(zip(range(0,len(known_percents)),known_percents,titles,pages))\n",
    "# (sorted(list(zip(range(0,len(known_percents)),known_percents)),key = lambda x: x[1],reverse=True))\n",
    "page_titles = sorted(page_titles,key = lambda x: x[1],reverse=True)\n",
    "page_titles = [item for item in page_titles if not (item[3] in websites)]\n",
    "page_titles"
   ]
  },
  {
   "cell_type": "code",
   "execution_count": 13,
   "id": "1e2e7b73",
   "metadata": {},
   "outputs": [],
   "source": [
    "webpage = pages[1]\n",
    "if webpage in websites:\n",
    "    print(\"already scanned! choose another!\")\n",
    "websites.add(webpage)"
   ]
  },
  {
   "cell_type": "code",
   "execution_count": 14,
   "id": "f737a6dc",
   "metadata": {},
   "outputs": [],
   "source": [
    "\n",
    "with open(path+'viewed_websites_th.txt',\"w\") as outfile:\n",
    "    for line in websites:\n",
    "        outfile.write(line+'\\n')      \n"
   ]
  },
  {
   "cell_type": "code",
   "execution_count": 15,
   "id": "141ae514",
   "metadata": {},
   "outputs": [
    {
     "name": "stdout",
     "output_type": "stream",
     "text": [
      "word-level % known = 90.8641975308642\n"
     ]
    }
   ],
   "source": [
    "#display() #percent_threshold=0.95\n",
    "art=filter_text(webpage,print_word_lvl=True)"
   ]
  },
  {
   "cell_type": "code",
   "execution_count": 16,
   "id": "8bce1137",
   "metadata": {},
   "outputs": [
    {
     "name": "stdout",
     "output_type": "stream",
     "text": [
      "45\n"
     ]
    }
   ],
   "source": [
    "with open(path+'unknown_thai_list.txt',\"r\") as input_file:\n",
    "    new_words = input_file.read()\n",
    "    new_words = re.sub(\"[\\n\\'\\[\\]]\",\"\",new_words)\n",
    "    new_words = new_words.split(',')\n",
    "    new_words = [line.strip() for line in new_words] #update regex\n",
    "#new_words\n",
    "print(len(new_words))\n",
    "#known_manual = get_known(new_words)"
   ]
  },
  {
   "cell_type": "code",
   "execution_count": 17,
   "id": "efd86a33",
   "metadata": {},
   "outputs": [],
   "source": [
    "import mitosheet\n",
    "unk_df = pd.DataFrame(new_words)\n",
    "unk_df.columns = ['word']\n",
    "unk_df['status'] = pd.Series(['' for word in new_words])"
   ]
  },
  {
   "cell_type": "code",
   "execution_count": 18,
   "id": "3663bb4f",
   "metadata": {},
   "outputs": [
    {
     "data": {
      "application/vnd.jupyter.widget-view+json": {
       "model_id": "c6bdc08f3ede47318c6a272fe3b688cf",
       "version_major": 2,
       "version_minor": 0
      },
      "text/plain": [
       "MitoWidget(analysis_data_json='{\"analysisName\": \"id-tosxrdkrft\", \"analysisToReplay\": null, \"code\": [], \"stepSu…"
      ]
     },
     "metadata": {},
     "output_type": "display_data"
    }
   ],
   "source": [
    "mitosheet.sheet(unk_df, analysis_to_replay=\"id-tosxrdkrft\") "
   ]
  },
  {
   "cell_type": "code",
   "execution_count": null,
   "id": "a50e0cda",
   "metadata": {},
   "outputs": [],
   "source": []
  },
  {
   "cell_type": "code",
   "execution_count": 19,
   "id": "60d5d1ff",
   "metadata": {},
   "outputs": [],
   "source": [
    "add_ints = [6, 11, 16, 22, 28, 29, 37, 40]"
   ]
  },
  {
   "cell_type": "code",
   "execution_count": 20,
   "id": "77eb121a",
   "metadata": {},
   "outputs": [],
   "source": [
    "for i in add_ints:\n",
    "    # Set a cell value in status\n",
    "    unk_df.at[i, 'status'] = 'k'"
   ]
  },
  {
   "cell_type": "code",
   "execution_count": 21,
   "id": "71c577e6",
   "metadata": {},
   "outputs": [],
   "source": [
    "translations = []\n",
    "for i in range(0,len(unk_df)):\n",
    "    try:\n",
    "        translations.append(ts.google(unk_df.word.iloc[i]))\n",
    "    except:\n",
    "        translations.append('')\n",
    "unk_df['translations']=translations\n"
   ]
  },
  {
   "cell_type": "code",
   "execution_count": 22,
   "id": "fe5bce81",
   "metadata": {},
   "outputs": [
    {
     "data": {
      "application/vnd.jupyter.widget-view+json": {
       "model_id": "5f42b9b369764f708e1bd63e352baeca",
       "version_major": 2,
       "version_minor": 0
      },
      "text/plain": [
       "MitoWidget(analysis_data_json='{\"analysisName\": \"id-imrodxhtyf\", \"analysisToReplay\": null, \"code\": [], \"stepSu…"
      ]
     },
     "metadata": {},
     "output_type": "display_data"
    }
   ],
   "source": [
    "mitosheet.sheet(unk_df, analysis_to_replay=\"id-imrodxhtyf\")"
   ]
  },
  {
   "cell_type": "code",
   "execution_count": 24,
   "id": "455c3cdb",
   "metadata": {},
   "outputs": [
    {
     "name": "stdout",
     "output_type": "stream",
     "text": [
      "6\n"
     ]
    }
   ],
   "source": [
    "add_words = list(unk_df.word[unk_df['status']=='k'])\n",
    "print(len(add_words))\n",
    "for word in add_words:\n",
    "    vocab['white_listed'].add(word)"
   ]
  },
  {
   "cell_type": "code",
   "execution_count": 25,
   "id": "02a15572",
   "metadata": {},
   "outputs": [
    {
     "name": "stdout",
     "output_type": "stream",
     "text": [
      "2273\n"
     ]
    }
   ],
   "source": [
    "#write to .json formats\n",
    "df = vocab\n",
    "df['white_listed'] = list(df['white_listed'])\n",
    "df['black_listed'] = list(df['black_listed'])\n",
    "with open(path+source_file, \"w\") as outfile:\n",
    "    json.dump(df,outfile)\n",
    "print(len(df['white_listed']))"
   ]
  },
  {
   "cell_type": "code",
   "execution_count": 26,
   "id": "c7f67a5d",
   "metadata": {},
   "outputs": [
    {
     "name": "stdout",
     "output_type": "stream",
     "text": [
      "2273\n"
     ]
    }
   ],
   "source": [
    "#read from existing .json formats\n",
    "with open(path+source_file, \"r\") as path_in:\n",
    "    vocab = json.loads(path_in.read())\n",
    "vocab['white_listed'] = set(vocab['white_listed'])\n",
    "vocab['black_listed'] = set(vocab['black_listed'])\n",
    "print(len(vocab['white_listed']))"
   ]
  },
  {
   "cell_type": "code",
   "execution_count": 27,
   "id": "4f09c08d",
   "metadata": {
    "collapsed": true
   },
   "outputs": [
    {
     "name": "stdout",
     "output_type": "stream",
     "text": [
      "https://www.voicetv.co.th/read/DiJXIF-sz\n",
      "word-level % known = 91.60493827160494\n"
     ]
    },
    {
     "data": {
      "text/html": [
       "<div><div id=748e728d-6c4c-4480-8c80-45660edac644 style=\"display:none; background-color:#9D6CFF; color:white; width:200px; height:30px; padding-left:5px; border-radius:4px; flex-direction:row; justify-content:space-around; align-items:center;\" onmouseover=\"this.style.backgroundColor='#BA9BF8'\" onmouseout=\"this.style.backgroundColor='#9D6CFF'\" onclick=\"window.commands?.execute('create-mitosheet-from-dataframe-output');\">See Full Dataframe in Mito</div> <script> if (window.commands?.hasCommand('create-mitosheet-from-dataframe-output')) document.getElementById('748e728d-6c4c-4480-8c80-45660edac644').style.display = 'flex' </script> <table border=\"1\" class=\"dataframe\">\n",
       "  <thead>\n",
       "    <tr style=\"text-align: right;\">\n",
       "      <th></th>\n",
       "      <th>knowns</th>\n",
       "      <th>unknowns</th>\n",
       "      <th>unk_words</th>\n",
       "    </tr>\n",
       "  </thead>\n",
       "  <tbody>\n",
       "    <tr>\n",
       "      <th>0</th>\n",
       "      <td>POLITICS ECONOMICS WORLD ENTERTAINMENT WELL-BEING LOCAL NEWS BLOG VOICE PLAZA TV PROGRAMS LIVE POLITICS ECONOMICS WORLD ENTERTAINMENT WELL-BEING LOCAL NEWS BLOG VOICE PLAZA TV PROGRAMS ABOUT FAQ CONTACT TERM OF USE SCHEDULE ไม่พบผลการค้นหา</td>\n",
       "      <td>...</td>\n",
       "      <td></td>\n",
       "    </tr>\n",
       "    <tr>\n",
       "      <th>1</th>\n",
       "      <td>...</td>\n",
       "      <td>คุณกำลังอ่าน  : 'องอาจ' ยอมรับ ปชป. เลือดไหลเพิ่ม มั่นใจฟื้นคืนชีพใน กทม. Share Tweet Share การเมือง 'องอาจ' ยอมรับ ปชป. เลือดไหลเพิ่ม มั่นใจฟื้นคืนชีพใน กทม. Dec 24, 2022 (</td>\n",
       "      <td>\"องอาจ\", \"ปชป.\", \"ฟื้นคืนชีพ\", \"องอาจ\", \"ปชป.\", \"ฟื้นคืนชีพ\"</td>\n",
       "    </tr>\n",
       "    <tr>\n",
       "      <th>2</th>\n",
       "      <td>...</td>\n",
       "      <td>Last update Dec 24, 2022 04:45 )   'องอาจ' เชื่อ 'ประยุทธ์' ตัดสินใจถูกประกาศชัด ร่วม 'รทสช.' เตือนรัฐบาล-รมต.</td>\n",
       "      <td>\"องอาจ\", \"'รท\", \"สช.\", \"รมต.\"</td>\n",
       "    </tr>\n",
       "    <tr>\n",
       "      <th>3</th>\n",
       "      <td>...</td>\n",
       "      <td>อย่าใช้ทรัพยากรรัฐหาเสียง ยอมรับ 'ปชป.'</td>\n",
       "      <td>\"ทรัพยากร\", \"หาเสียง\", \"ปชป.\"</td>\n",
       "    </tr>\n",
       "    <tr>\n",
       "      <th>4</th>\n",
       "      <td>...</td>\n",
       "      <td>อาจมีเลือดไหลเพิ่ม แต่มั่นใจได้คืนใน กทม องอาจ คล้ามไพบูลย์</td>\n",
       "      <td>\"ได้คืน\", \"องอาจ\", \"คล้า\", \"ไพบูลย์\"</td>\n",
       "    </tr>\n",
       "    <tr>\n",
       "      <th>...</th>\n",
       "      <td>...</td>\n",
       "      <td>...</td>\n",
       "      <td>...</td>\n",
       "    </tr>\n",
       "    <tr>\n",
       "      <th>28</th>\n",
       "      <td>...</td>\n",
       "      <td>ส่งผลให้การเลือกตั้งสมัยหน้าพรรคประชาธิปัตย์มีฐานเสียงที่ดีขึ้น องอาจ ยังย้ำว่า พรรคประชาธิปัตย์ยังเตรียมการอย่างต่อเนื่อง</td>\n",
       "      <td>\"พรรคประชาธิปัตย์\", \"องอาจ\", \"พรรคประชาธิปัตย์\", \"เตรียมการ\"</td>\n",
       "    </tr>\n",
       "    <tr>\n",
       "      <th>29</th>\n",
       "      <td>...</td>\n",
       "      <td>ตั้งแต่ในการเลือกตั้งปี 2562 ที่พรรคไม่มี ส.ส. ในกรุงเทพฯ เลยแม้แต่คนเดียว แต่เบื้องต้นจากการสรรหา ผู้ว่าฯ กทม. และ ส.ก. พรรคประชาธิปัตย์ สามารถทำงานได้ผลดีในระดับหนึ่ง</td>\n",
       "      <td>\"เบื้องต้น\", \"สรรหา\", \"ผู้ว่าฯ\", \"ส.ก.\", \"พรรคประชาธิปัตย์\"</td>\n",
       "    </tr>\n",
       "    <tr>\n",
       "      <th>30</th>\n",
       "      <td>จากที่ไม่เคยมี ส.ส. ในกรุงเทพฯ มาก่อน</td>\n",
       "      <td>...</td>\n",
       "      <td></td>\n",
       "    </tr>\n",
       "    <tr>\n",
       "      <th>31</th>\n",
       "      <td>...</td>\n",
       "      <td>และถูกสบประมาทอย่างมากว่าประชาชนไม่สนับสนุนแล้ว</td>\n",
       "      <td>\"สบประมาท\"</td>\n",
       "    </tr>\n",
       "    <tr>\n",
       "      <th>32</th>\n",
       "      <td>...</td>\n",
       "      <td>คงไม่ได้ ส.ก. หรือแม้แต่ ผู้ว่าฯ คงอยู่ลำดับท้ายๆ แต่ผลชัดเจนว่าผู้ว่าฯ อันดับ 2 ส่วน ส.ก. ได้ถึง 9 ที่นั่ง Topic การเมือง , องอาจ คล้ามไพบูลย์ , พรรคประชาธิปัตย์ Author กองบรรณาธิการวอยซ์ออนไลน์ 51481 Article 1192 Video 10 Blog MOST VIEWED READ WATCH ABOUT FAQ CONTACT TERM OF USE SCHEDULE</td>\n",
       "      <td>\"ส.ก.\", \"ผู้ว่าฯ\", \"คงอยู่\", \"ๆ \", \"ผู้ว่าฯ\", \"ส.ก.\", \"องอาจ\", \"คล้า\", \"ไพบูลย์\", \"พรรคประชาธิปัตย์\"</td>\n",
       "    </tr>\n",
       "  </tbody>\n",
       "</table></div>"
      ],
      "text/plain": [
       "                                                                                                                                                                                                                                                 knowns  \\\n",
       "0      POLITICS ECONOMICS WORLD ENTERTAINMENT WELL-BEING LOCAL NEWS BLOG VOICE PLAZA TV PROGRAMS LIVE POLITICS ECONOMICS WORLD ENTERTAINMENT WELL-BEING LOCAL NEWS BLOG VOICE PLAZA TV PROGRAMS ABOUT FAQ CONTACT TERM OF USE SCHEDULE ไม่พบผลการค้นหา    \n",
       "1   ...                                                                                                                                                                                                                                                   \n",
       "2   ...                                                                                                                                                                                                                                                   \n",
       "3   ...                                                                                                                                                                                                                                                   \n",
       "4   ...                                                                                                                                                                                                                                                   \n",
       "5   ...                                                                                                                                                                                                                                                   \n",
       "6   ...                                                                                                                                                                                                                                                   \n",
       "7   ...                                                                                                                                                                                                                                                   \n",
       "8   ส่วนการประกาศความชัดเจนของ พล.อ.ประยุทธ์                                                                                                                                                                                                              \n",
       "9   ในขณะนี้                                                                                                                                                                                                                                              \n",
       "10  ...                                                                                                                                                                                                                                                   \n",
       "11  ...                                                                                                                                                                                                                                                   \n",
       "12  ...                                                                                                                                                                                                                                                   \n",
       "13  เป็นเรื่องปกติ                                                                                                                                                                                                                                        \n",
       "14  ...                                                                                                                                                                                                                                                   \n",
       "15  โดยเชื่อว่าพรรคการเมืองส่วนใหญ่เข้าใจเรื่องนี้อยู่แล้ว                                                                                                                                                                                                \n",
       "16  และคิดว่านายกรัฐมนตรีและรัฐมนตรีในปัจจุบันก็เข้าใจดี                                                                                                                                                                                                  \n",
       "17  ...                                                                                                                                                                                                                                                   \n",
       "18  ...                                                                                                                                                                                                                                                   \n",
       "19  ในฐานะรองหัวหน้าพรรคยอมรับว่า หลังจากนี้คนในพรรคที่จะไปร่วมงานกับการเมืองต่างๆ นั้น อาจจะมีอยู่บ้าง แต่ไม่ใช่จำนวนที่มาก                                                                                                                              \n",
       "20  ...                                                                                                                                                                                                                                                   \n",
       "21  ...                                                                                                                                                                                                                                                   \n",
       "22  ...                                                                                                                                                                                                                                                   \n",
       "23  ทุกพรรคก็มีคนเข้าคนออกตลอดเวลา                                                                                                                                                                                                                        \n",
       "24  ...                                                                                                                                                                                                                                                   \n",
       "25  ในพื้นที่                                                                                                                                                                                                                                             \n",
       "26  ...                                                                                                                                                                                                                                                   \n",
       "27  ...                                                                                                                                                                                                                                                   \n",
       "28  ...                                                                                                                                                                                                                                                   \n",
       "29  ...                                                                                                                                                                                                                                                   \n",
       "30  จากที่ไม่เคยมี ส.ส. ในกรุงเทพฯ มาก่อน                                                                                                                                                                                                                 \n",
       "31  ...                                                                                                                                                                                                                                                   \n",
       "32  ...                                                                                                                                                                                                                                                   \n",
       "\n",
       "                                                                                                                                                                                                                                                                                                    unknowns  \\\n",
       "0   ...                                                                                                                                                                                                                                                                                                        \n",
       "1   คุณกำลังอ่าน  : 'องอาจ' ยอมรับ ปชป. เลือดไหลเพิ่ม มั่นใจฟื้นคืนชีพใน กทม. Share Tweet Share การเมือง 'องอาจ' ยอมรับ ปชป. เลือดไหลเพิ่ม มั่นใจฟื้นคืนชีพใน กทม. Dec 24, 2022 (                                                                                                                              \n",
       "2   Last update Dec 24, 2022 04:45 )   'องอาจ' เชื่อ 'ประยุทธ์' ตัดสินใจถูกประกาศชัด ร่วม 'รทสช.' เตือนรัฐบาล-รมต.                                                                                                                                                                                             \n",
       "3   อย่าใช้ทรัพยากรรัฐหาเสียง ยอมรับ 'ปชป.'                                                                                                                                                                                                                                                                    \n",
       "4   อาจมีเลือดไหลเพิ่ม แต่มั่นใจได้คืนใน กทม องอาจ คล้ามไพบูลย์                                                                                                                                                                                                                                                \n",
       "5   ประธาน ส.ส. และรองหัวหน้าพรรคประชาธิปัตย์                                                                                                                                                                                                                                                                  \n",
       "6   กล่าวถึงการประกาศจุดยืนทางการเมืองของ พล.อ.ประยุทธ์ จันทร์โอชา นายกรัฐมนตรีที่จะไปร่วมงานกับพรรครวมไทยสร้างชาติว่า เป็นความชัดเจนในการเดินหน้าทางการเมืองของ พล.อ.ประยุทธ์ เพราะที่ผ่านมาสังคมก็มีความไม่แน่ใจ \"เชื่อว่านายกรัฐมนตรีตัดสินใจดีแล้ว เป็นทางเลือกที่ดีที่สุดของท่านในการสื่อสารกับประชาชน    \n",
       "7   มีความชัดเจนต่อทั้งตัว พล.อ.ประยุทธ์ เอง ต่อพรรคการเมืองที่จะไปสังกัด และความชัดเจนต่อประเทศชาติบ้านเมือง\"                                                                                                                                                                                                 \n",
       "8   ...                                                                                                                                                                                                                                                                                                        \n",
       "9   ...                                                                                                                                                                                                                                                                                                        \n",
       "10  จะส่งผลให้ได้เปรียบเสียเปรียบทางการเมืองหรือไม่                                                                                                                                                                                                                                                            \n",
       "11  เนื่องจากยังดำรงตำแหน่งนายกรัฐมนตรีอยู่                                                                                                                                                                                                                                                                    \n",
       "12  องอาจมองว่า                                                                                                                                                                                                                                                                                                \n",
       "13  ...                                                                                                                                                                                                                                                                                                        \n",
       "14  เพราะคนที่เป็นรัฐบาลมีโอกาสในการสร้างผลงานมากกว่า แต่คนที่เป็นรัฐบาล รวมถึงพรรคประชาธิปัตย์ที่เคยเป็นรัฐบาล ก็ต้องระมัดระวังไม่ใช้ทรัพยากรของรัฐไปเอื้อประโยชน์สำหรับการเลือกตั้ง ขณะเดียวกัน ต้องไม่ใช้เวลาราชการไปทำงานเกี่ยวกับการหาเสียงเลือกตั้ง                                                      \n",
       "15  ...                                                                                                                                                                                                                                                                                                        \n",
       "16  ...                                                                                                                                                                                                                                                                                                        \n",
       "17  น่าจะปฏิบัติตามแนวทางนี้                                                                                                                                                                                                                                                                                   \n",
       "18  ส่วนกระแสเลือดเก่าไหลออก จากประชาธิปัตย์ไปพรรครวมไทยสร้างชาติ                                                                                                                                                                                                                                              \n",
       "19  ...                                                                                                                                                                                                                                                                                                        \n",
       "20  เพราะเชื่อว่าอดีต ส.ส.ของพรรคส่วนมากยังทำงานกับประชาธิปัตย์ ซึ่งถือเป็นสิทธิของแต่ละคนที่จะตัดสินใจทางการเมือง ในวิถีทางที่เหมาะสมกับแต่ละคน                                                                                                                                                               \n",
       "21  ยอมรับอาจจะมีเลือดไหลจากประชาธิปัตย์ไปร่วมงานกับพรรครวมไทยสร้างชาติ \"ไม่ถึงขั้นวิกฤต แต่พรรคประชาธิปัตย์ก็พยายามแสวงหาบุคคลเหมาะสมอื่นๆ มาทำหน้าที่ ค่อนข้างเป็นเรื่องปกติ                                                                                                                                 \n",
       "22  คนที่ออกไปนั้นก็ทราบกันว่ามีแนวโน้มจะไปอยู่แล้ว                                                                                                                                                                                                                                                            \n",
       "23  ...                                                                                                                                                                                                                                                                                                        \n",
       "24  เป็นปรากฏการณ์ปกติในช่วงใกล้เลือกตั้ง\" สำหรับความพร้อมในยุทธศาสตร์การเลือกตั้งครั้งหน้า                                                                                                                                                                                                                    \n",
       "25  ...                                                                                                                                                                                                                                                                                                        \n",
       "26  กทม.ของพรรคประชาธิปัตย์ องอาจ ระบุว่า จะต้องรอให้คณะกรรมการการเลือกตั้ง (กกต.) ให้แบ่งเขตการเลือกตั้งที่ชัดเจน 33 เขต พรรคประชาธิปัตย์มีผู้สมัครครบทั้งหมด โดยเชื่อมั่นว่า ผลการเลือกตั้งสนามกรุงเทพฯ                                                                                                      \n",
       "27  พรรคประชาธิปัตย์จะได้รับการตอบรับที่ดี                                                                                                                                                                                                                                                                     \n",
       "28  ส่งผลให้การเลือกตั้งสมัยหน้าพรรคประชาธิปัตย์มีฐานเสียงที่ดีขึ้น องอาจ ยังย้ำว่า พรรคประชาธิปัตย์ยังเตรียมการอย่างต่อเนื่อง                                                                                                                                                                                 \n",
       "29  ตั้งแต่ในการเลือกตั้งปี 2562 ที่พรรคไม่มี ส.ส. ในกรุงเทพฯ เลยแม้แต่คนเดียว แต่เบื้องต้นจากการสรรหา ผู้ว่าฯ กทม. และ ส.ก. พรรคประชาธิปัตย์ สามารถทำงานได้ผลดีในระดับหนึ่ง                                                                                                                                   \n",
       "30  ...                                                                                                                                                                                                                                                                                                        \n",
       "31  และถูกสบประมาทอย่างมากว่าประชาชนไม่สนับสนุนแล้ว                                                                                                                                                                                                                                                            \n",
       "32  คงไม่ได้ ส.ก. หรือแม้แต่ ผู้ว่าฯ คงอยู่ลำดับท้ายๆ แต่ผลชัดเจนว่าผู้ว่าฯ อันดับ 2 ส่วน ส.ก. ได้ถึง 9 ที่นั่ง Topic การเมือง , องอาจ คล้ามไพบูลย์ , พรรคประชาธิปัตย์ Author กองบรรณาธิการวอยซ์ออนไลน์ 51481 Article 1192 Video 10 Blog MOST VIEWED READ WATCH ABOUT FAQ CONTACT TERM OF USE SCHEDULE         \n",
       "\n",
       "                                                                                               unk_words  \n",
       "0                                                                                                         \n",
       "1   \"องอาจ\", \"ปชป.\", \"ฟื้นคืนชีพ\", \"องอาจ\", \"ปชป.\", \"ฟื้นคืนชีพ\"                                          \n",
       "2   \"องอาจ\", \"'รท\", \"สช.\", \"รมต.\"                                                                         \n",
       "3   \"ทรัพยากร\", \"หาเสียง\", \"ปชป.\"                                                                         \n",
       "4   \"ได้คืน\", \"องอาจ\", \"คล้า\", \"ไพบูลย์\"                                                                  \n",
       "5   \"พรรคประชาธิปัตย์\"                                                                                    \n",
       "6   \"จุดยืน\"                                                                                              \n",
       "7   \"ทั้งตัว\", \"สังกัด\"                                                                                   \n",
       "8                                                                                                         \n",
       "9                                                                                                         \n",
       "10  \"ได้เปรียบ\", \"เสียเปรียบ\"                                                                             \n",
       "11  \"ดำรงตำแหน่ง\"                                                                                         \n",
       "12  \"องอาจ\"                                                                                               \n",
       "13                                                                                                        \n",
       "14  \"พรรคประชาธิปัตย์\", \"ทรัพยากร\", \"เอื้อประโยชน์\", \"หาเสียง\"                                            \n",
       "15                                                                                                        \n",
       "16                                                                                                        \n",
       "17  \"ปฏิบัติตาม\"                                                                                          \n",
       "18  \"ประชาธิปัตย์\"                                                                                        \n",
       "19                                                                                                        \n",
       "20  \"ประชาธิปัตย์\", \"วิถีทาง\"                                                                             \n",
       "21  \"ประชาธิปัตย์\", \"ถึงขั้น\", \"วิกฤต\", \"พรรคประชาธิปัตย์\", \"แสวงหา\"                                      \n",
       "22  \"มีแนวโน้ม\"                                                                                           \n",
       "23                                                                                                        \n",
       "24  \"ปรากฏการณ์\", \"ยุทธศาสตร์\"                                                                            \n",
       "25                                                                                                        \n",
       "26  \"พรรคประชาธิปัตย์\", \"องอาจ\", \"กกต.\", \"พรรคประชาธิปัตย์\", \"เชื่อมั่น\"                                  \n",
       "27  \"พรรคประชาธิปัตย์\", \"การตอบรับ\"                                                                       \n",
       "28  \"พรรคประชาธิปัตย์\", \"องอาจ\", \"พรรคประชาธิปัตย์\", \"เตรียมการ\"                                          \n",
       "29  \"เบื้องต้น\", \"สรรหา\", \"ผู้ว่าฯ\", \"ส.ก.\", \"พรรคประชาธิปัตย์\"                                           \n",
       "30                                                                                                        \n",
       "31  \"สบประมาท\"                                                                                            \n",
       "32  \"ส.ก.\", \"ผู้ว่าฯ\", \"คงอยู่\", \"ๆ \", \"ผู้ว่าฯ\", \"ส.ก.\", \"องอาจ\", \"คล้า\", \"ไพบูลย์\", \"พรรคประชาธิปัตย์\"  "
      ]
     },
     "execution_count": 27,
     "metadata": {},
     "output_type": "execute_result"
    }
   ],
   "source": [
    "print(webpage)\n",
    "filter_text(webpage,print_word_lvl=True)"
   ]
  },
  {
   "cell_type": "markdown",
   "id": "b04bfa91",
   "metadata": {},
   "source": [
    "##END"
   ]
  },
  {
   "cell_type": "code",
   "execution_count": 147,
   "id": "db36cdb8",
   "metadata": {
    "collapsed": true
   },
   "outputs": [
    {
     "name": "stdout",
     "output_type": "stream",
     "text": [
      "daily catch in word count:\n",
      "['เชิญ', 'ยิ้ม', 'ยินดี', 'รอย', 'เอกสาร', 'สนิท', 'กระดาษ', 'คอ', 'โรงพยาบาล', 'หิน', 'จด', 'ปืน', 'โต๊ะ', 'เสื้อผ้า', 'เลือด', 'สิทธิ์', 'นักเขียน', 'สนุกสนาน', 'หัวเราะ', 'หู', 'ยิง', 'สวยงาม', 'ล่า', 'แขก', 'ดอกไม้', 'ที่นั่ง', 'เสือ', 'ปกป้อง', 'รับประทาน', 'ไอ', 'สนุก', 'ลูกชาย', 'สหรัฐ', 'นิ้ว', 'ไอ้', 'รถไฟ', 'เล็กน้อย', 'โปรด', 'คะแนน', 'กรุณา', 'โรงแรม', 'จดหมาย', 'ขับ', 'ดื่ม', 'หอม', 'ระมัดระวัง', 'ฤดู', 'ฟัน', 'เท้า', 'หล่อน', 'วางแผน', 'ลับ', 'ลอย', 'ยกเว้น', 'ลูกค้า', 'ริม', 'ม้า', 'คอมพิวเตอร์']\n"
     ]
    }
   ],
   "source": [
    "#Upload from download\n",
    "with open(path+'known_thai_list.txt',\"r\") as input_file:\n",
    "    new_words = input_file.read().split(',')\n",
    "    print(\"daily catch in word count:\")\n",
    "    print(new_words)\n",
    "for line in new_words:   \n",
    "    vocab['white_listed'].add(line.replace(\"'\",\"\").strip())\n"
   ]
  },
  {
   "cell_type": "code",
   "execution_count": 154,
   "id": "0141a9c3",
   "metadata": {},
   "outputs": [
    {
     "name": "stdout",
     "output_type": "stream",
     "text": [
      "Hello Nong\n"
     ]
    }
   ],
   "source": [
    "\n",
    "wyw_text = 'สวัสดีครับน้อง'\n",
    "print(ts.google(wyw_text))\n",
    "#print(ts._google.language_map)\n",
    "#print(ts.google(wyw_text))"
   ]
  },
  {
   "cell_type": "code",
   "execution_count": 227,
   "id": "67b1cbb0",
   "metadata": {},
   "outputs": [
    {
     "name": "stdout",
     "output_type": "stream",
     "text": [
      "today's catch % of corpus:\n"
     ]
    },
    {
     "data": {
      "text/plain": [
       "'1.200344766395417%'"
      ]
     },
     "execution_count": 227,
     "metadata": {},
     "output_type": "execute_result"
    }
   ],
   "source": [
    "#Get after when adding in new words\n",
    "print(\"today's catch % of corpus:\")\n",
    "str(100*(percent-prev_percent))+\"%\""
   ]
  },
  {
   "cell_type": "code",
   "execution_count": null,
   "id": "3258e547",
   "metadata": {},
   "outputs": [],
   "source": [
    "#output newly knowns\n",
    "with open(path+\"new_known_thai_lines.txt\",\"w\") as outfile:\n",
    "    for line in list(set(knowns).difference(prev_knowns)):\n",
    "        outfile.write(line+'\\n')\n"
   ]
  },
  {
   "cell_type": "code",
   "execution_count": 105,
   "id": "1a9fb3c5",
   "metadata": {},
   "outputs": [
    {
     "name": "stdout",
     "output_type": "stream",
     "text": [
      "Sanity check. Current vocab size:\n"
     ]
    },
    {
     "data": {
      "text/plain": [
       "1462"
      ]
     },
     "execution_count": 105,
     "metadata": {},
     "output_type": "execute_result"
    }
   ],
   "source": [
    "print(\"Sanity check. Current vocab size:\")\n",
    "len(vocab['white_listed'])"
   ]
  },
  {
   "cell_type": "code",
   "execution_count": 117,
   "id": "564b37a8",
   "metadata": {},
   "outputs": [],
   "source": [
    "\"\"\"\n",
    "to do:\n",
    "\n",
    "\"\"\""
   ]
  },
  {
   "cell_type": "code",
   "execution_count": 7,
   "id": "d9799280",
   "metadata": {},
   "outputs": [
    {
     "data": {
      "text/plain": [
       "999"
      ]
     },
     "execution_count": 7,
     "metadata": {},
     "output_type": "execute_result"
    }
   ],
   "source": [
    "##INPUT-OUTPUT\n",
    "#vocab list:\n",
    "with open(\"/Users/elyebliss/Desktop/Vocabulary/vocab_dfs/thai_whitelisted.csv\",\"r\") as infile:\n",
    "    whitelisted_lemmas = infile.read()\n",
    "\n",
    "\n",
    "##VARIABLES\n",
    "vocab_all = set()\n",
    "\n",
    "\n",
    "for line in whitelisted_lemmas.split('\\n'):\n",
    "    if len(line) > 0:\n",
    "        \n",
    "        vocab = line.strip()\n",
    "        vocab_all.add(vocab)\n",
    "        \n",
    "len(whitelisted_lemmas.split('\\n'))            \n",
    "#pp.pprint(vocab_all)"
   ]
  },
  {
   "cell_type": "code",
   "execution_count": 8,
   "id": "3e37bfb9",
   "metadata": {},
   "outputs": [],
   "source": [
    "vocab = {}\n",
    "vocab['white_listed'] = list(vocab_all)\n",
    "vocab['black_listed'] = []"
   ]
  }
 ],
 "metadata": {
  "kernelspec": {
   "display_name": "Python 3 (ipykernel)",
   "language": "python",
   "name": "python3"
  },
  "language_info": {
   "codemirror_mode": {
    "name": "ipython",
    "version": 3
   },
   "file_extension": ".py",
   "mimetype": "text/x-python",
   "name": "python",
   "nbconvert_exporter": "python",
   "pygments_lexer": "ipython3",
   "version": "3.9.12"
  }
 },
 "nbformat": 4,
 "nbformat_minor": 5
}
