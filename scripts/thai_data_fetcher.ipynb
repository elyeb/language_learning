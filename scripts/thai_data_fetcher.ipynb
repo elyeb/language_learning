{
 "cells": [
  {
   "cell_type": "code",
   "execution_count": null,
   "id": "05aba0c4",
   "metadata": {},
   "outputs": [],
   "source": [
    "\"\"\"\n",
    "\n",
    "Contents:\n",
    "-data intialization from csv file of words &\n",
    " build data structure to house info moving forward\n",
    "-write to .json formats\n",
    "-read from existing .json formats\n",
    "-get list of words to find\n",
    "-scrape BBC\n",
    "-scrape voiceTV\n",
    "\"\"\""
   ]
  },
  {
   "cell_type": "code",
   "execution_count": 1,
   "id": "ebdc6804",
   "metadata": {},
   "outputs": [
    {
     "name": "stderr",
     "output_type": "stream",
     "text": [
      "Using state Washington server backend.\n"
     ]
    }
   ],
   "source": [
    "import bs4, requests, sys, codecs, urllib.request, re\n",
    "from bs4 import SoupStrainer\n",
    "from bs4.element import Comment\n",
    "import random\n",
    "#import pythainlp\n",
    "from pythainlp.tokenize import word_tokenize, sent_tokenize\n",
    "import string\n",
    "import json\n",
    "import pandas as pd\n",
    "import os\n",
    "from os import listdir\n",
    "from os.path import isfile, join\n",
    "import pprint\n",
    "import translators as ts\n",
    "\n",
    "pp = pprint.PrettyPrinter()\n",
    "pd.set_option('display.max_rows', None)\n",
    "pd.set_option('display.max_colwidth', 0)\n",
    "\n",
    "path = \"/Users/elyebliss/Desktop/Vocabulary/language_learning/vocab_dfs/\"\n",
    "source_file = \"thai.json\""
   ]
  },
  {
   "cell_type": "code",
   "execution_count": 2,
   "id": "ce69b1b0",
   "metadata": {},
   "outputs": [],
   "source": [
    "##METHODS\n",
    "\n",
    "def tag_visible(element):\n",
    "    if element.parent.name in ['style', 'script', 'head', 'title', 'meta', '[document]']:\n",
    "        return False\n",
    "    if isinstance(element, Comment):\n",
    "        return False\n",
    "    return True\n",
    "\n",
    "\n",
    "def text_from_html(body):\n",
    "    soup = bs4.BeautifulSoup(body, 'html.parser')\n",
    "    texts = soup.findAll(text=True)\n",
    "    visible_texts = filter(tag_visible, texts)  \n",
    "    return u\" \".join(t.strip() for t in visible_texts)\n",
    "\n",
    "\n",
    "\n",
    "user_agent = 'Mozilla/5.0 (Windows NT 6.3; WOW64; rv:50.0) Gecko/20100101 Firefox/50.0'\n",
    "headers={'User-Agent':user_agent,}\n",
    "parser = 'html.parser'"
   ]
  },
  {
   "cell_type": "code",
   "execution_count": 3,
   "id": "63afba50",
   "metadata": {},
   "outputs": [],
   "source": [
    "def get_known(unknown_list):\n",
    "    \n",
    "    count_got = 0\n",
    "    known_list = []\n",
    "    for word in unknown_list:\n",
    "        decision = str(input(word+\"\\nKnown =k\"))\n",
    "        if decision =='k':\n",
    "            known_list.append(word)\n",
    "            count_got +=1\n",
    "            print(\"got \"+str(count_got))\n",
    "        elif decision=='q':\n",
    "            break\n",
    "        try:\n",
    "            print(ts.google(word))\n",
    "        except:\n",
    "            print('cant find')\n",
    "    return known_list"
   ]
  },
  {
   "cell_type": "code",
   "execution_count": 4,
   "id": "117b26f1",
   "metadata": {},
   "outputs": [],
   "source": [
    "def filter_text(webpage,start=None,stop=None,\\\n",
    "                print_word_lvl=False,percent_threshold=None,\\\n",
    "               return_percent=False):\n",
    "\n",
    "\n",
    "    try:\n",
    "        request=urllib.request.Request(webpage,None,headers) #The assembled request\n",
    "        response = urllib.request.urlopen(request)\n",
    "        data = response.read()\n",
    "        contents = text_from_html(data)\n",
    "\n",
    "        known_array = []\n",
    "        unk_array = []\n",
    "        contents_array = sent_tokenize(contents)\n",
    "\n",
    "        if (start is not None) and (stop is not None):\n",
    "            contents_array=contents_array[max(start,0):min(stop,len(contents_array))]\n",
    "\n",
    "        disallowed_words = set()\n",
    "\n",
    "        total_words = 0\n",
    "        unknown_words = 0\n",
    "        \n",
    "        lines = []\n",
    "        unknowns = []\n",
    "        for line in contents_array:\n",
    "\n",
    "\n",
    "            tokenized = word_tokenize(line)\n",
    "\n",
    "\n",
    "            add_line = True\n",
    "            line_total = 0\n",
    "            line_unks = 0\n",
    "\n",
    "            unk_str = \"\"\n",
    "            for word in tokenized:\n",
    "                \n",
    "                total_words +=1\n",
    "                line_total +=1\n",
    "\n",
    "                if bool(re.search('[\\u0E00-\\u0E7F]+', word, flags=re.UNICODE)) and not ((word in vocab['white_listed']) or\\\n",
    "                                                            (word in vocab['black_listed'])):\n",
    "\n",
    "                        unk_str += '\"'+word+'\"'+\", \"\n",
    "                        if not percent_threshold:\n",
    "                            add_line = False\n",
    "                        disallowed_words.add(word)\n",
    "                        unknown_words +=1\n",
    "                        line_unks +=1\n",
    "\n",
    "            if percent_threshold:\n",
    "                if line_total>0:\n",
    "                    if (1-(line_unks/line_total))<percent_threshold:\n",
    "                        add_line = False\n",
    "            if add_line:\n",
    "                known_array.append(line)\n",
    "                unk_array.append(\"...\")\n",
    "            else:\n",
    "                known_array.append(\"...\")\n",
    "                unk_array.append(line)\n",
    "\n",
    "            if len(unk_str)>0:\n",
    "                unk_str = unk_str[0:len(unk_str)-2]\n",
    "\n",
    "            unknowns.append(unk_str)\n",
    "\n",
    "        if print_word_lvl and total_words>0:\n",
    "            print(\"word-level % known = \"+str((1-(unknown_words/total_words))*100))\n",
    "        if return_percent and total_words>0:\n",
    "            return (1-(unknown_words/total_words))*100\n",
    "        return_pd = pd.DataFrame(list(zip(known_array,unk_array,unknowns)))\n",
    "        return_pd.columns = [\"knowns\",\"unknowns\",\"unk_words\"]\n",
    "\n",
    "        \n",
    "\n",
    "        with open(path+'unknown_thai_list.txt',\"w\") as outfile:\n",
    "            outfile.write(str(list(disallowed_words)))\n",
    "\n",
    "        return return_pd\n",
    "\n",
    "    except:\n",
    "        pass"
   ]
  },
  {
   "cell_type": "code",
   "execution_count": 51,
   "id": "826dae68",
   "metadata": {},
   "outputs": [
    {
     "name": "stdout",
     "output_type": "stream",
     "text": [
      "2192\n",
      "2537\n"
     ]
    }
   ],
   "source": [
    "\"\"\"read from existing .json formats\n",
    "uncovered, \n",
    "2192\n",
    "2537\n",
    "\"\"\"\n",
    "with open(path+source_file, \"r\") as path_in:\n",
    "    vocab = json.loads(path_in.read())\n",
    "vocab['white_listed'] = set(vocab['white_listed'])\n",
    "vocab['black_listed'] = set(vocab['black_listed'])\n",
    "print(len(vocab['white_listed'])) \n",
    "\n",
    "#get 4k freq word info:\n",
    "with open(path+'th_freq.csv','r') as infile:\n",
    "    freq_df = pd.read_csv(infile)\n",
    "uncovered = []\n",
    "for word in freq_df.word:\n",
    "    if word not in vocab['white_listed']:\n",
    "        uncovered.append(word)\n",
    "print(len(uncovered))\n",
    "\n"
   ]
  },
  {
   "cell_type": "code",
   "execution_count": 52,
   "id": "004a939d",
   "metadata": {},
   "outputs": [
    {
     "name": "stdout",
     "output_type": "stream",
     "text": [
      "Checking BBC Thai\n",
      "Checking VoiceTV\n"
     ]
    }
   ],
   "source": [
    "pages = []\n",
    "titles = []\n",
    "\n",
    "##BBC\n",
    "print(\"Checking BBC Thai\")\n",
    "parser = 'html.parser'  # or 'lxml' (preferred) or 'html5lib', if installed\n",
    "request=urllib.request.Request('https://www.bbc.com/thai/topics/cjgn73g98rqt',None,headers)\n",
    "resp = urllib.request.urlopen(request)\n",
    "soup = bs4.BeautifulSoup(resp, parser, from_encoding=resp.info().get_param('charset'))\n",
    "\n",
    "\n",
    "for link in soup.find_all('a', href=True):\n",
    "    if 'https://www.bbc.com/thai/thailand' in str(link['href']):\n",
    "        pages.append(str(link['href']))\n",
    "        request=urllib.request.Request(str(link['href']),None,headers) #The assembled request\n",
    "\n",
    "        response = urllib.request.urlopen(request)\n",
    "        data = response.read()\n",
    "        contents = text_from_html(data)\n",
    "        if bool(re.search(\"(?<=ยอดนิยม หน้าแรก ประเทศไทย ต่างประเทศ วิทยาศาสตร์ สุขภาพ โควิด-19 วิดีโอ ยอดนิยม).{30}\",contents)):\n",
    "            titles.append(re.findall(\"(?<=ยอดนิยม หน้าแรก ประเทศไทย ต่างประเทศ วิทยาศาสตร์ สุขภาพ โควิด-19 วิดีโอ ยอดนิยม).{30}\",contents)[0].strip())\n",
    "\n",
    "    elif '/thai/thailand' in str(link['href']):\n",
    "        pages.append('https://www.bbc.com'+str(link['href']))\n",
    "\n",
    "##VoiceTV\n",
    "print(\"Checking VoiceTV\")\n",
    "parser = 'html.parser'  # or 'lxml' (preferred) or 'html5lib', if installed\n",
    "request=urllib.request.Request('https://www.voicetv.co.th/topic/%E0%B8%81%E0%B8%B2%E0%B8%A3%E0%B9%80%E0%B8%A1%E0%B8%B7%E0%B8%AD%E0%B8%87',None,headers)\n",
    "resp = urllib.request.urlopen(request)\n",
    "soup = bs4.BeautifulSoup(resp, parser, from_encoding=resp.info().get_param('charset'))\n",
    "\n",
    " \n",
    "for link in soup.find_all('a', href=True):\n",
    "    str_page = 'https://www.voicetv.co.th'+str(link['href'])\n",
    "    if '/read/' in str(link['href']) and str_page not in pages:\n",
    "        pages.append(str_page)\n",
    "        request=urllib.request.Request(str_page,None,headers) #The assembled request\n",
    "\n",
    "        response = urllib.request.urlopen(request)\n",
    "        data = response.read()\n",
    "        contents = text_from_html(data)\n",
    "        titles.append(re.findall(\"(?<=  :).{30}\",contents)[0].strip())"
   ]
  },
  {
   "cell_type": "code",
   "execution_count": 53,
   "id": "411c6c9a",
   "metadata": {},
   "outputs": [
    {
     "data": {
      "text/plain": [
       "1215"
      ]
     },
     "execution_count": 53,
     "metadata": {},
     "output_type": "execute_result"
    }
   ],
   "source": [
    "#load prev corpus and add\n",
    "known_corpus = set()\n",
    "with open(path+\"all_known_thai_lines.txt\",\"r\",encoding='utf-8') as infile:\n",
    "    for line in infile.read().split('\\n'):\n",
    "        known_corpus.add(line)\n",
    "len(known_corpus)"
   ]
  },
  {
   "cell_type": "code",
   "execution_count": 54,
   "id": "bb6ee0f7",
   "metadata": {},
   "outputs": [
    {
     "name": "stdout",
     "output_type": "stream",
     "text": [
      "percent all known= 0.14629629629629629\n"
     ]
    }
   ],
   "source": [
    "#Find % of all sentences of news\n",
    "knowns = []\n",
    "all_lines = 0\n",
    "\n",
    "known_percents = []\n",
    "\n",
    "for webpage in pages:\n",
    "    \n",
    "    test_df = filter_text(webpage)\n",
    "    all_lines += len(list(test_df.knowns))\n",
    "    \n",
    "    known_percents.append(filter_text(webpage,return_percent=True))\n",
    "    \n",
    "    for item in list(test_df.knowns[test_df.knowns != '...']):\n",
    "        knowns.append(item)\n",
    "percent = len(knowns)/float(all_lines)\n",
    "print(\"percent all known= \"+str(percent))\n"
   ]
  },
  {
   "cell_type": "code",
   "execution_count": 55,
   "id": "1fa348ef",
   "metadata": {},
   "outputs": [
    {
     "data": {
      "text/plain": [
       "['พบข้อความที่เข้ามาจำนวน 5,185,853 ข้อความ โดยมีข้อความที่ต้องดำเนินการตรวจสอบ (Verify) ทั้งสิ้น 225 ข้อความ แบ่งเป็นข้อความที่มาจาก Social listening จำนวน 207 ข้อความ และข้อความที่มาจาก Line Official จำนวน 18 ข้อความ รวมเรื่องที่ต้องดำเนินการตรวจสอบ 100 เรื่อง ในจำนวนนี้เป็นเรื่องโควิด -19 จำนวน 3 เรื่อง ',\n",
       " 'ยังไม่เพียงพอต่อการมีคุณภาพชีวิตที่ดีของแรงงานทั้งหลาย เพราะที่ผ่านมา ',\n",
       " 'มีจำนวนหญิงข้ามเพศในประเทศไทยทั้งหมดประมาณ 313,747 คน ',\n",
       " 'คิดว่าเวลานี้เป็นเวลาพบข้อมูลใหม่ ได้พบหลักฐานใหม่ ',\n",
       " 'อันดับที่ 10 เรื่อง\\xa0ใช้น้ำมัน E85 ขัดผิวหลังคอ ',\n",
       " 'เป็นนโยบายรัฐมากกว่าครึ่ง Nov 27, 2022 ( ',\n",
       " 'คุณกำลังอ่าน  : ‘เพื่อไทย’ ',\n",
       " 'อันดับที่ 9 เรื่อง ',\n",
       " 'อันดับที่ 3 เรื่อง ',\n",
       " 'อันดับที่ 8 เรื่อง ',\n",
       " 'การพัฒนาธุรกิจ ',\n",
       " 'อะไรจะเกิดขึ้น ',\n",
       " 'เข้าถึงได้ง่าย ',\n",
       " 'เดินทางมาร่วม ',\n",
       " 'ไม่ปลอดภัย ',\n",
       " 'อาหารไทย ',\n",
       " 'เพศวิถี ']"
      ]
     },
     "execution_count": 55,
     "metadata": {},
     "output_type": "execute_result"
    }
   ],
   "source": [
    "#sorted(list(set(knowns)),key=len,reverse=True)\n",
    "sorted(list(set(knowns).difference(known_corpus)),key=len,reverse=True)"
   ]
  },
  {
   "cell_type": "code",
   "execution_count": 56,
   "id": "1ee450fe",
   "metadata": {},
   "outputs": [
    {
     "data": {
      "text/plain": [
       "1232"
      ]
     },
     "execution_count": 56,
     "metadata": {},
     "output_type": "execute_result"
    }
   ],
   "source": [
    "for item in list(set(knowns)):\n",
    "    known_corpus.add(item)\n",
    "\n",
    "with open(path+\"all_known_thai_lines.txt\",\"w\",encoding='utf-8') as outfile:\n",
    "    for line in list(set(known_corpus)):\n",
    "        outfile.write(line+'\\n')\n",
    "len(known_corpus)"
   ]
  },
  {
   "cell_type": "code",
   "execution_count": 57,
   "id": "2d6948c1",
   "metadata": {},
   "outputs": [
    {
     "name": "stdout",
     "output_type": "stream",
     "text": [
      "18\n"
     ]
    }
   ],
   "source": [
    "websites = set()\n",
    "\n",
    "with open(path+'viewed_websites_th.txt',\"r\") as infile:\n",
    "    for line in infile.read().split('\\n'):\n",
    "        websites.add(line)\n",
    "print(len(websites))"
   ]
  },
  {
   "cell_type": "code",
   "execution_count": 58,
   "id": "2a643828",
   "metadata": {
    "collapsed": true
   },
   "outputs": [
    {
     "data": {
      "text/plain": [
       "[(3,\n",
       "  87.78135048231512,\n",
       "  \"'ทวี' ลงพื้นที่นครนายก พบกลุ่\",\n",
       "  'https://www.voicetv.co.th/read/vsRx86al4'),\n",
       " (2,\n",
       "  85.26398739164696,\n",
       "  'DES พบข่าวปลอมกว่า 5 ล้านข้อค',\n",
       "  'https://www.voicetv.co.th/read/5OmF88m1f'),\n",
       " (0,\n",
       "  85.2576647097195,\n",
       "  \"ชู 'ไทยรักไทย' ดันครัวไทยสู่ค\",\n",
       "  'https://www.bbc.com/thai/thailand-63662204'),\n",
       " (1,\n",
       "  83.56573705179284,\n",
       "  \"‘เพื่อไทย’ ดันนโยบาย LGBTQ+ '\",\n",
       "  'https://www.voicetv.co.th/read/bOd70J94L'),\n",
       " (4,\n",
       "  81.41391106043329,\n",
       "  '‘ประยุทธ์’ อวยพรปีใหม่สื่อทำเ',\n",
       "  'https://www.voicetv.co.th/read/iDIdoJMVi'),\n",
       " (7,\n",
       "  80.78003120124805,\n",
       "  'จับตา ‘ราษฎรแรลลี่’ จาก ‘วังล',\n",
       "  'https://www.voicetv.co.th/read/rI-9LjhEh'),\n",
       " (5,\n",
       "  80.27923211169285,\n",
       "  '‘วิษณุ’แย้มประตูยุบสภาเปิดอยู',\n",
       "  'https://www.voicetv.co.th/read/bn95YMr0a')]"
      ]
     },
     "execution_count": 58,
     "metadata": {},
     "output_type": "execute_result"
    }
   ],
   "source": [
    "page_titles = list(zip(range(0,len(known_percents)),known_percents,titles,pages))\n",
    "# (sorted(list(zip(range(0,len(known_percents)),known_percents)),key = lambda x: x[1],reverse=True))\n",
    "page_titles = sorted(page_titles,key = lambda x: x[1],reverse=True)\n",
    "page_titles = [item for item in page_titles if not (item[3] in websites)]\n",
    "page_titles"
   ]
  },
  {
   "cell_type": "code",
   "execution_count": 59,
   "id": "1e2e7b73",
   "metadata": {},
   "outputs": [],
   "source": [
    "webpage = pages[3]\n",
    "if webpage in websites:\n",
    "    print(\"already scanned! choose another!\")\n",
    "websites.add(webpage)"
   ]
  },
  {
   "cell_type": "code",
   "execution_count": 60,
   "id": "f737a6dc",
   "metadata": {},
   "outputs": [],
   "source": [
    "\n",
    "with open(path+'viewed_websites_th.txt',\"w\") as outfile:\n",
    "    for line in websites:\n",
    "        outfile.write(line+'\\n')      \n"
   ]
  },
  {
   "cell_type": "code",
   "execution_count": 61,
   "id": "141ae514",
   "metadata": {},
   "outputs": [
    {
     "name": "stdout",
     "output_type": "stream",
     "text": [
      "word-level % known = 87.78135048231512\n"
     ]
    }
   ],
   "source": [
    "#display() #percent_threshold=0.95\n",
    "art=filter_text(webpage,print_word_lvl=True)"
   ]
  },
  {
   "cell_type": "code",
   "execution_count": 62,
   "id": "8bce1137",
   "metadata": {},
   "outputs": [
    {
     "name": "stdout",
     "output_type": "stream",
     "text": [
      "74\n"
     ]
    }
   ],
   "source": [
    "with open(path+'unknown_thai_list.txt',\"r\") as input_file:\n",
    "    new_words = input_file.read()\n",
    "    new_words = re.sub(\"[\\n\\'\\[\\]]\",\"\",new_words)\n",
    "    new_words = new_words.split(',')\n",
    "    new_words = [line.strip() for line in new_words] #update regex\n",
    "#new_words\n",
    "print(len(new_words))\n",
    "#known_manual = get_known(new_words)"
   ]
  },
  {
   "cell_type": "code",
   "execution_count": 63,
   "id": "efd86a33",
   "metadata": {},
   "outputs": [],
   "source": [
    "import mitosheet\n",
    "unk_df = pd.DataFrame(new_words)\n",
    "unk_df.columns = ['word']\n",
    "unk_df['status'] = pd.Series(['' for word in new_words])"
   ]
  },
  {
   "cell_type": "code",
   "execution_count": 64,
   "id": "3663bb4f",
   "metadata": {},
   "outputs": [
    {
     "data": {
      "application/vnd.jupyter.widget-view+json": {
       "model_id": "ae8fac3c5af5476c8788800e9553ac59",
       "version_major": 2,
       "version_minor": 0
      },
      "text/plain": [
       "MitoWidget(analysis_data_json='{\"analysisName\": \"id-ibjdxnepnx\", \"analysisToReplay\": null, \"code\": [], \"stepSu…"
      ]
     },
     "metadata": {},
     "output_type": "display_data"
    }
   ],
   "source": [
    "mitosheet.sheet(unk_df, analysis_to_replay=\"id-ibjdxnepnx\") "
   ]
  },
  {
   "cell_type": "code",
   "execution_count": 65,
   "id": "60d5d1ff",
   "metadata": {},
   "outputs": [],
   "source": [
    "add_ints = [1, 2, 3, 4, 6, 20, 21, 27, 28, 34, 37, 41, 46, 56, 61, 70, 71]"
   ]
  },
  {
   "cell_type": "code",
   "execution_count": 66,
   "id": "77eb121a",
   "metadata": {},
   "outputs": [],
   "source": [
    "for i in add_ints:\n",
    "    # Set a cell value in status\n",
    "    unk_df.at[i, 'status'] = 'k'"
   ]
  },
  {
   "cell_type": "code",
   "execution_count": 67,
   "id": "71c577e6",
   "metadata": {},
   "outputs": [],
   "source": [
    "translations = []\n",
    "for i in range(0,len(unk_df)):\n",
    "    try:\n",
    "        translations.append(ts.google(unk_df.word.iloc[i]))\n",
    "    except:\n",
    "        translations.append('')\n",
    "unk_df['translations']=translations\n"
   ]
  },
  {
   "cell_type": "code",
   "execution_count": 68,
   "id": "fe5bce81",
   "metadata": {
    "collapsed": true
   },
   "outputs": [
    {
     "data": {
      "application/vnd.jupyter.widget-view+json": {
       "model_id": "c3800b6dca4d423fb0e1a0da19066f44",
       "version_major": 2,
       "version_minor": 0
      },
      "text/plain": [
       "MitoWidget(analysis_data_json='{\"analysisName\": \"id-nyrsaozwfi\", \"analysisToReplay\": null, \"code\": [], \"stepSu…"
      ]
     },
     "metadata": {},
     "output_type": "display_data"
    }
   ],
   "source": [
    "mitosheet.sheet(unk_df, analysis_to_replay=\"id-nyrsaozwfi\")"
   ]
  },
  {
   "cell_type": "code",
   "execution_count": 69,
   "id": "455c3cdb",
   "metadata": {},
   "outputs": [
    {
     "name": "stdout",
     "output_type": "stream",
     "text": [
      "17\n"
     ]
    }
   ],
   "source": [
    "add_words = list(unk_df.word[unk_df['status']=='k'])\n",
    "print(len(add_words))\n",
    "for word in add_words:\n",
    "    vocab['white_listed'].add(word)"
   ]
  },
  {
   "cell_type": "code",
   "execution_count": 56,
   "id": "27b8e0f9",
   "metadata": {},
   "outputs": [],
   "source": [
    "#manually remove from white\n",
    "remove_from_white = []\n",
    "\n",
    "for word in remove_from_white:\n",
    "    if word in vocab['white_listed']:\n",
    "        vocab['white_listed'].remove(word)"
   ]
  },
  {
   "cell_type": "code",
   "execution_count": 55,
   "id": "2706f449",
   "metadata": {},
   "outputs": [],
   "source": [
    "#manually add to white\n",
    "add_to_white = []\n",
    "\n",
    "for word in add_to_white:\n",
    "    vocab['white_listed'].add(word)"
   ]
  },
  {
   "cell_type": "code",
   "execution_count": 70,
   "id": "02a15572",
   "metadata": {},
   "outputs": [
    {
     "name": "stdout",
     "output_type": "stream",
     "text": [
      "2209\n"
     ]
    }
   ],
   "source": [
    "#write to .json formats\n",
    "df = vocab\n",
    "df['white_listed'] = list(df['white_listed'])\n",
    "df['black_listed'] = list(df['black_listed'])\n",
    "with open(path+source_file, \"w\") as outfile:\n",
    "    json.dump(df,outfile)\n",
    "print(len(df['white_listed']))"
   ]
  },
  {
   "cell_type": "code",
   "execution_count": 71,
   "id": "c7f67a5d",
   "metadata": {},
   "outputs": [
    {
     "name": "stdout",
     "output_type": "stream",
     "text": [
      "2209\n"
     ]
    }
   ],
   "source": [
    "#read from existing .json formats\n",
    "with open(path+source_file, \"r\") as path_in:\n",
    "    vocab = json.loads(path_in.read())\n",
    "vocab['white_listed'] = set(vocab['white_listed'])\n",
    "vocab['black_listed'] = set(vocab['black_listed'])\n",
    "print(len(vocab['white_listed']))"
   ]
  },
  {
   "cell_type": "code",
   "execution_count": 72,
   "id": "4f09c08d",
   "metadata": {},
   "outputs": [
    {
     "name": "stdout",
     "output_type": "stream",
     "text": [
      "https://www.voicetv.co.th/read/vsRx86al4\n",
      "word-level % known = 90.46087888531619\n"
     ]
    },
    {
     "data": {
      "text/html": [
       "<div><div id=2cf6e74b-f526-4565-935f-87672e4f4f01 style=\"display:none; background-color:#9D6CFF; color:white; width:200px; height:30px; padding-left:5px; border-radius:4px; flex-direction:row; justify-content:space-around; align-items:center;\" onmouseover=\"this.style.backgroundColor='#BA9BF8'\" onmouseout=\"this.style.backgroundColor='#9D6CFF'\" onclick=\"window.commands?.execute('create-mitosheet-from-dataframe-output');\">See Full Dataframe in Mito</div> <script> if (window.commands?.hasCommand('create-mitosheet-from-dataframe-output')) document.getElementById('2cf6e74b-f526-4565-935f-87672e4f4f01').style.display = 'flex' </script> <table border=\"1\" class=\"dataframe\">\n",
       "  <thead>\n",
       "    <tr style=\"text-align: right;\">\n",
       "      <th></th>\n",
       "      <th>knowns</th>\n",
       "      <th>unknowns</th>\n",
       "      <th>unk_words</th>\n",
       "    </tr>\n",
       "  </thead>\n",
       "  <tbody>\n",
       "    <tr>\n",
       "      <th>0</th>\n",
       "      <td>POLITICS ECONOMICS WORLD ENTERTAINMENT WELL-BEING LOCAL NEWS BLOG VOICE PLAZA TV PROGRAMS LIVE POLITICS ECONOMICS WORLD ENTERTAINMENT WELL-BEING LOCAL NEWS BLOG VOICE PLAZA TV PROGRAMS ABOUT FAQ CONTACT TERM OF USE SCHEDULE ไม่พบผลการค้นหา</td>\n",
       "      <td>...</td>\n",
       "      <td></td>\n",
       "    </tr>\n",
       "    <tr>\n",
       "      <th>1</th>\n",
       "      <td>...</td>\n",
       "      <td>คุณกำลังอ่าน  : DES พบข่าวปลอมกว่า 5 ล้านข้อความในสัปดาห์เดียว</td>\n",
       "      <td>\"ปลอม\", \"ความใน\"</td>\n",
       "    </tr>\n",
       "    <tr>\n",
       "      <th>2</th>\n",
       "      <td>...</td>\n",
       "      <td>เป็นนโยบายรัฐมากกว่าครึ่ง Share Tweet Share การเมือง DES พบข่าวปลอมกว่า 5 ล้านข้อความในสัปดาห์เดียว</td>\n",
       "      <td>\"ปลอม\", \"ความใน\"</td>\n",
       "    </tr>\n",
       "    <tr>\n",
       "      <th>3</th>\n",
       "      <td>เป็นนโยบายรัฐมากกว่าครึ่ง Nov 27, 2022 (</td>\n",
       "      <td>...</td>\n",
       "      <td></td>\n",
       "    </tr>\n",
       "    <tr>\n",
       "      <th>4</th>\n",
       "      <td>Last update Nov 27, 2022 12:22 )   ดีอีเอส</td>\n",
       "      <td>...</td>\n",
       "      <td></td>\n",
       "    </tr>\n",
       "    <tr>\n",
       "      <th>...</th>\n",
       "      <td>...</td>\n",
       "      <td>...</td>\n",
       "      <td>...</td>\n",
       "    </tr>\n",
       "    <tr>\n",
       "      <th>37</th>\n",
       "      <td>...</td>\n",
       "      <td>ติดตามความเคลื่อนไหวข้อความที่ปิดปรกติในทุกช่องทางอย่างต่อเนื่อง</td>\n",
       "      <td>\"ความเคลื่อนไหว\", \"ปรกติ\", \"ช่องทาง\"</td>\n",
       "    </tr>\n",
       "    <tr>\n",
       "      <th>38</th>\n",
       "      <td>...</td>\n",
       "      <td>หากท่านได้รับการแจ้งข้อมูลที่ผิดปรกติ ผ่านโชเชียลมีเดีย เอสเอ็มเอส หรือทางโทรศัพท์ เพื่อป้องกันความเสียหายที่จะเกิดขึ้น</td>\n",
       "      <td>\"แจ้ง\", \"ผิดปรกติ\", \"โช\"</td>\n",
       "    </tr>\n",
       "    <tr>\n",
       "      <th>39</th>\n",
       "      <td>...</td>\n",
       "      <td>และขอให้ท่านตระหนักรู้เท่าทันข้อมูลที่ผิดปรกติ</td>\n",
       "      <td>\"ตระหนัก\", \"รู้เท่าทัน\", \"ผิดปรกติ\"</td>\n",
       "    </tr>\n",
       "    <tr>\n",
       "      <th>40</th>\n",
       "      <td>...</td>\n",
       "      <td>ตลอดจนข่าวปลอมที่ถูกแพร่กระจายอยู่บนโซเชียลมีเดีย</td>\n",
       "      <td>\"ปลอม\", \"แพร่กระจาย\"</td>\n",
       "    </tr>\n",
       "    <tr>\n",
       "      <th>41</th>\n",
       "      <td>...</td>\n",
       "      <td>ท่านสามารถติดตามและแจ้งเบาะแสข่าวปลอม ได้ผ่านช่องทางต่างๆ ของศูนย์ต่อต้านข่าวปลอม ดังนี้ ไลน์ @antifakenewscenter เว็บไซต์ https://www.antifakenewscenter.com/ทวิตเตอร์ https://twitter.com/AFNCThailand และช่องทางโทรศัพท์โทรสายด่วน GCC 1111 ต่อ 87” นพวรรณ กล่าว Topic การเมือง Author กองบรรณาธิการวอยซ์ออนไลน์ 51009 Article 1192 Video 10 Blog MOST VIEWED READ WATCH ABOUT FAQ CONTACT TERM OF USE SCHEDULE</td>\n",
       "      <td>\"แจ้ง\", \"เบาะแส\", \"ปลอม\", \"ช่องทาง\", \"ต่อต้าน\", \"ปลอม\", \"ช่องทาง\", \"สายด่วน\", \"นพ\", \"วรรณ\", \"กองบรรณาธิการ\"</td>\n",
       "    </tr>\n",
       "  </tbody>\n",
       "</table></div>"
      ],
      "text/plain": [
       "                                                                                                                                                                                                                                                                                                                knowns  \\\n",
       "0      POLITICS ECONOMICS WORLD ENTERTAINMENT WELL-BEING LOCAL NEWS BLOG VOICE PLAZA TV PROGRAMS LIVE POLITICS ECONOMICS WORLD ENTERTAINMENT WELL-BEING LOCAL NEWS BLOG VOICE PLAZA TV PROGRAMS ABOUT FAQ CONTACT TERM OF USE SCHEDULE ไม่พบผลการค้นหา                                                                   \n",
       "1   ...                                                                                                                                                                                                                                                                                                                  \n",
       "2   ...                                                                                                                                                                                                                                                                                                                  \n",
       "3   เป็นนโยบายรัฐมากกว่าครึ่ง Nov 27, 2022 (                                                                                                                                                                                                                                                                             \n",
       "4   Last update Nov 27, 2022 12:22 )   ดีอีเอส                                                                                                                                                                                                                                                                           \n",
       "5   ...                                                                                                                                                                                                                                                                                                                  \n",
       "6   ...                                                                                                                                                                                                                                                                                                                  \n",
       "7   ...                                                                                                                                                                                                                                                                                                                  \n",
       "8   พบข้อความที่เข้ามาจำนวน 5,185,853 ข้อความ โดยมีข้อความที่ต้องดำเนินการตรวจสอบ (Verify) ทั้งสิ้น 225 ข้อความ แบ่งเป็นข้อความที่มาจาก Social listening จำนวน 207 ข้อความ และข้อความที่มาจาก Line Official จำนวน 18 ข้อความ รวมเรื่องที่ต้องดำเนินการตรวจสอบ 100 เรื่อง ในจำนวนนี้เป็นเรื่องโควิด -19 จำนวน 3 เรื่อง    \n",
       "9   ...                                                                                                                                                                                                                                                                                                                  \n",
       "10  ความสงบเรียบร้อยของสังคม                                                                                                                                                                                                                                                                                             \n",
       "11  ...                                                                                                                                                                                                                                                                                                                  \n",
       "12  ...                                                                                                                                                                                                                                                                                                                  \n",
       "13  ...                                                                                                                                                                                                                                                                                                                  \n",
       "14  ...                                                                                                                                                                                                                                                                                                                  \n",
       "15  ...                                                                                                                                                                                                                                                                                                                  \n",
       "16  ...                                                                                                                                                                                                                                                                                                                  \n",
       "17  ...                                                                                                                                                                                                                                                                                                                  \n",
       "18  อันดับที่ 1 เรื่อง สูบบุหรี่ไฟฟ้าช่วยให้เลิกบุหรี่ได้                                                                                                                                                                                                                                                                \n",
       "19  ...                                                                                                                                                                                                                                                                                                                  \n",
       "20  อันดับที่ 3 เรื่อง                                                                                                                                                                                                                                                                                                   \n",
       "21  ...                                                                                                                                                                                                                                                                                                                  \n",
       "22  ...                                                                                                                                                                                                                                                                                                                  \n",
       "23  ...                                                                                                                                                                                                                                                                                                                  \n",
       "24  ...                                                                                                                                                                                                                                                                                                                  \n",
       "25  ...                                                                                                                                                                                                                                                                                                                  \n",
       "26  ...                                                                                                                                                                                                                                                                                                                  \n",
       "27  ...                                                                                                                                                                                                                                                                                                                  \n",
       "28  อันดับที่ 8 เรื่อง                                                                                                                                                                                                                                                                                                   \n",
       "29  ...                                                                                                                                                                                                                                                                                                                  \n",
       "30  ...                                                                                                                                                                                                                                                                                                                  \n",
       "31  อันดับที่ 9 เรื่อง                                                                                                                                                                                                                                                                                                   \n",
       "32  ...                                                                                                                                                                                                                                                                                                                  \n",
       "33  อันดับที่ 10 เรื่อง ใช้น้ำมัน E85 ขัดผิวหลังคอ                                                                                                                                                                                                                                                                       \n",
       "34  ...                                                                                                                                                                                                                                                                                                                  \n",
       "35  ...                                                                                                                                                                                                                                                                                                                  \n",
       "36  ...                                                                                                                                                                                                                                                                                                                  \n",
       "37  ...                                                                                                                                                                                                                                                                                                                  \n",
       "38  ...                                                                                                                                                                                                                                                                                                                  \n",
       "39  ...                                                                                                                                                                                                                                                                                                                  \n",
       "40  ...                                                                                                                                                                                                                                                                                                                  \n",
       "41  ...                                                                                                                                                                                                                                                                                                                  \n",
       "\n",
       "                                                                                                                                                                                                                                                                                                                                                                                                                    unknowns  \\\n",
       "0   ...                                                                                                                                                                                                                                                                                                                                                                                                                        \n",
       "1   คุณกำลังอ่าน  : DES พบข่าวปลอมกว่า 5 ล้านข้อความในสัปดาห์เดียว                                                                                                                                                                                                                                                                                                                                                             \n",
       "2   เป็นนโยบายรัฐมากกว่าครึ่ง Share Tweet Share การเมือง DES พบข่าวปลอมกว่า 5 ล้านข้อความในสัปดาห์เดียว                                                                                                                                                                                                                                                                                                                        \n",
       "3   ...                                                                                                                                                                                                                                                                                                                                                                                                                        \n",
       "4   ...                                                                                                                                                                                                                                                                                                                                                                                                                        \n",
       "5   สรุปสถานการณ์ข่าวปลอมสัปดาห์ล่าสุด                                                                                                                                                                                                                                                                                                                                                                                         \n",
       "6   พบข่าวปลอมนโยบายรัฐบาล มากกว่าครึ่ง                                                                                                                                                                                                                                                                                                                                                                                        \n",
       "7   ขณะที่ข่าวปลอมเรื่องสุขภาพมากแรง ด้านข่าวปลอมโควิด-19 มี 3 เรื่อง นพวรรณ หัวใจมั่น โฆษกกระทรวงดิจิทัลเพื่อเศรษฐกิจและสังคมฝ่ายการเมือง (ดีอีเอส) กล่าวว่า สรุปผลการมอนิเตอร์ และรับแจ้งข่าวปลอมประจำสัปดาห์ ระหว่างวันที่ 18-24 พฤศจิกายน 2565 โดยศูนย์ต่อต้านข่าวปลอม                                                                                                                                                     \n",
       "8   ...                                                                                                                                                                                                                                                                                                                                                                                                                        \n",
       "9   ทั้งนี้ ดีอีเอสได้แบ่งข่าวปลอมที่ได้รับความสนใจ เป็น 4 กลุ่ม ประกอบด้วย กลุ่มที่ 1 ข่าวปลอมเรื่องนโยบายรัฐบาล ข่าวสารทางราชการ                                                                                                                                                                                                                                                                                             \n",
       "10  ...                                                                                                                                                                                                                                                                                                                                                                                                                        \n",
       "11  ขัดศีลธรรมอันดี และความมั่นคงภายในประเทศจำนวน 64 เรื่อง                                                                                                                                                                                                                                                                                                                                                                    \n",
       "12  กลุ่มที่ 2 ข่าวปลอมเรื่องผลิตภัณฑ์สุขภาพ วัตถุอันตราย เครื่องสำอาง รวมถึงสินค้าและบริการที่ผิดกฎหมาย จำนวน 24 เรื่อง                                                                                                                                                                                                                                                                                                       \n",
       "13  กลุ่มที่ 3 ข่าวปลอมเศรษฐกิจ จำนวน 7 เรื่อง                                                                                                                                                                                                                                                                                                                                                                                 \n",
       "14  กลุ่มที่ 4 ข่าวปลอมเรื่องภัยพิบัติ จำนวน 5 เรื่อง                                                                                                                                                                                                                                                                                                                                                                          \n",
       "15  สำหรับข่าวปลอมทั้ง 4 กลุ่มมีความเกี่ยวเนื่องกับเรื่องโควิค-19 จำนวน 3 เรื่อง นางสาวนพวรรณ กล่าวต่อว่า เมื่อพิจารณาจากข่าวปลอมที่ได้รับความสนใจลำดับต้นๆ ในสัปดาห์ล่าสุดนี้                                                                                                                                                                                                                                                 \n",
       "16  พบว่าส่วนใหญ่เป็นข่าวปลอมด้านเศรษฐกิจ                                                                                                                                                                                                                                                                                                                                                                                      \n",
       "17  สำหรับข่าวปลอมที่มีคนสนใจสูงสุด 10 อันดับระหว่างวันที่ 18-24 พฤศจิกายน ดังนี้                                                                                                                                                                                                                                                                                                                                              \n",
       "18  ...                                                                                                                                                                                                                                                                                                                                                                                                                        \n",
       "19  อันดับที่ 2 เรื่อง ยาฆ่าเชื้อพยาธิ Ivermectin ใช้รักษาโควิด 19 ได้                                                                                                                                                                                                                                                                                                                                                         \n",
       "20  ...                                                                                                                                                                                                                                                                                                                                                                                                                        \n",
       "21  น้ำมะนาวใช้ล้างไตได้                                                                                                                                                                                                                                                                                                                                                                                                       \n",
       "22  อันดับที่ 4 เรื่อง กระทรวงแรงงานเปิดรับสมัครงานแบบ WFH เพื่อหารายได้เสริม                                                                                                                                                                                                                                                                                                                                                  \n",
       "23  อันดับที่ 5 เรื่อง ดื่มน้ำต้มหญ้าไข่เหา รักษาโรคมะเร็งทุกชนิด                                                                                                                                                                                                                                                                                                                                                              \n",
       "24  อันดับที่ 6 ผู้อื่นรู้ยอดเงินในธนาคารได้                                                                                                                                                                                                                                                                                                                                                                                   \n",
       "25  หากรู้เบอร์มือถือที่ผูกพร้อมเพย์                                                                                                                                                                                                                                                                                                                                                                                           \n",
       "26  อันดับที่ 7 เรื่อง ต้นหนอนตายหยาก                                                                                                                                                                                                                                                                                                                                                                                          \n",
       "27  รักษามะเร็งในมนุษย์ได้                                                                                                                                                                                                                                                                                                                                                                                                     \n",
       "28  ...                                                                                                                                                                                                                                                                                                                                                                                                                        \n",
       "29  พ่อแม่สามารถลงทะเบียนขอรับเงิน 1,400 บาท                                                                                                                                                                                                                                                                                                                                                                                   \n",
       "30  ในทุกเดือน ให้บุตรได้จนถึงอายุ 6 ขวบ                                                                                                                                                                                                                                                                                                                                                                                       \n",
       "31  ...                                                                                                                                                                                                                                                                                                                                                                                                                        \n",
       "32  กินวิตามินซีพร้อมกุ้ง ทำให้ตายเฉียบพลันจากสารหนู                                                                                                                                                                                                                                                                                                                                                                           \n",
       "33  ...                                                                                                                                                                                                                                                                                                                                                                                                                        \n",
       "34  ทำให้คราบดำที่คอออกได้ไวขึ้น                                                                                                                                                                                                                                                                                                                                                                                               \n",
       "35  “ดีอีเอส ขอให้ประชาชนอย่าหลงเชื่อข่าวปลอมสูบบุหรี่ไฟฟ้าช่วยให้เลิกบุหรี่ได้                                                                                                                                                                                                                                                                                                                                                \n",
       "36  เนื่องจาก จากการวิจัยพบว่าการสูบบุหรี่ไฟฟ้าเพิ่มความเสี่ยงในการเกิดโรคต่างๆ ไม่ต่างจากบุหรี่ธรรมดา และ ดีอีเอส                                                                                                                                                                                                                                                                                                             \n",
       "37  ติดตามความเคลื่อนไหวข้อความที่ปิดปรกติในทุกช่องทางอย่างต่อเนื่อง                                                                                                                                                                                                                                                                                                                                                           \n",
       "38  หากท่านได้รับการแจ้งข้อมูลที่ผิดปรกติ ผ่านโชเชียลมีเดีย เอสเอ็มเอส หรือทางโทรศัพท์ เพื่อป้องกันความเสียหายที่จะเกิดขึ้น                                                                                                                                                                                                                                                                                                    \n",
       "39  และขอให้ท่านตระหนักรู้เท่าทันข้อมูลที่ผิดปรกติ                                                                                                                                                                                                                                                                                                                                                                             \n",
       "40  ตลอดจนข่าวปลอมที่ถูกแพร่กระจายอยู่บนโซเชียลมีเดีย                                                                                                                                                                                                                                                                                                                                                                          \n",
       "41  ท่านสามารถติดตามและแจ้งเบาะแสข่าวปลอม ได้ผ่านช่องทางต่างๆ ของศูนย์ต่อต้านข่าวปลอม ดังนี้ ไลน์ @antifakenewscenter เว็บไซต์ https://www.antifakenewscenter.com/ทวิตเตอร์ https://twitter.com/AFNCThailand และช่องทางโทรศัพท์โทรสายด่วน GCC 1111 ต่อ 87” นพวรรณ กล่าว Topic การเมือง Author กองบรรณาธิการวอยซ์ออนไลน์ 51009 Article 1192 Video 10 Blog MOST VIEWED READ WATCH ABOUT FAQ CONTACT TERM OF USE SCHEDULE         \n",
       "\n",
       "                                                                                                                                 unk_words  \n",
       "0                                                                                                                                           \n",
       "1   \"ปลอม\", \"ความใน\"                                                                                                                        \n",
       "2   \"ปลอม\", \"ความใน\"                                                                                                                        \n",
       "3                                                                                                                                           \n",
       "4                                                                                                                                           \n",
       "5   \"ปลอม\", \"ล่าสุด\"                                                                                                                        \n",
       "6   \"ปลอม\"                                                                                                                                  \n",
       "7   \"ปลอม\", \"ปลอม\", \"นพ\", \"วรรณ\", \"มั่น\", \"โฆษก\", \"กระทรวงดิจิทัลเพื่อเศรษฐกิจและสังคม\", \"แจ้ง\", \"ปลอม\", \"ประจำสัปดาห์\", \"ต่อต้าน\", \"ปลอม\"  \n",
       "8                                                                                                                                           \n",
       "9   \"ปลอม\", \"ปลอม\", \"ทางราชการ\"                                                                                                             \n",
       "10                                                                                                                                          \n",
       "11  \"ศีลธรรม\"                                                                                                                               \n",
       "12  \"ปลอม\", \"ผลิตภัณฑ์\", \"วัตถุ\", \"เครื่องสำอาง\"                                                                                            \n",
       "13  \"ปลอม\"                                                                                                                                  \n",
       "14  \"ปลอม\", \"ภัยพิบัติ\"                                                                                                                     \n",
       "15  \"ปลอม\", \"ความเกี่ยวเนื่อง\", \"โค\", \"วิ\", \"นพ\", \"วรรณ\", \"ต่อว่า\", \"ปลอม\", \"ล่าสุด\"                                                        \n",
       "16  \"ปลอม\"                                                                                                                                  \n",
       "17  \"ปลอม\"                                                                                                                                  \n",
       "18                                                                                                                                          \n",
       "19  \"ยาฆ่าเชื้อ\", \"พยาธิ\"                                                                                                                   \n",
       "20                                                                                                                                          \n",
       "21  \"มะนาว\", \"ไต\"                                                                                                                           \n",
       "22  \"เปิดรับ\", \"สมัครงาน\", \"หารายได้\"                                                                                                       \n",
       "23  \"น้ำต้ม\", \"หญ้า\", \"ไข่เหา\", \"โรคมะเร็ง\"                                                                                                 \n",
       "24  \"ยอดเงิน\"                                                                                                                               \n",
       "25  \"ผูก\", \"เพย์\"                                                                                                                           \n",
       "26  \"หนอนตายหยาก\"                                                                                                                           \n",
       "27  \"มะเร็ง\"                                                                                                                                \n",
       "28                                                                                                                                          \n",
       "29  \"ลงทะเบียน\"                                                                                                                             \n",
       "30  \"ขวบ\"                                                                                                                                   \n",
       "31                                                                                                                                          \n",
       "32  \"วิตามิน\", \"เฉียบพลัน\", \"สารหนู\"                                                                                                        \n",
       "33                                                                                                                                          \n",
       "34  \"คราบ\", \"ไว\"                                                                                                                            \n",
       "35  \"หลงเชื่อ\", \"ปลอม\"                                                                                                                      \n",
       "36  \"การวิจัย\"                                                                                                                              \n",
       "37  \"ความเคลื่อนไหว\", \"ปรกติ\", \"ช่องทาง\"                                                                                                    \n",
       "38  \"แจ้ง\", \"ผิดปรกติ\", \"โช\"                                                                                                                \n",
       "39  \"ตระหนัก\", \"รู้เท่าทัน\", \"ผิดปรกติ\"                                                                                                     \n",
       "40  \"ปลอม\", \"แพร่กระจาย\"                                                                                                                    \n",
       "41  \"แจ้ง\", \"เบาะแส\", \"ปลอม\", \"ช่องทาง\", \"ต่อต้าน\", \"ปลอม\", \"ช่องทาง\", \"สายด่วน\", \"นพ\", \"วรรณ\", \"กองบรรณาธิการ\"                             "
      ]
     },
     "execution_count": 72,
     "metadata": {},
     "output_type": "execute_result"
    }
   ],
   "source": [
    "print(webpage)\n",
    "filter_text(webpage,print_word_lvl=True)"
   ]
  },
  {
   "cell_type": "markdown",
   "id": "b04bfa91",
   "metadata": {},
   "source": [
    "##END"
   ]
  },
  {
   "cell_type": "code",
   "execution_count": 147,
   "id": "db36cdb8",
   "metadata": {
    "collapsed": true
   },
   "outputs": [
    {
     "name": "stdout",
     "output_type": "stream",
     "text": [
      "daily catch in word count:\n",
      "['เชิญ', 'ยิ้ม', 'ยินดี', 'รอย', 'เอกสาร', 'สนิท', 'กระดาษ', 'คอ', 'โรงพยาบาล', 'หิน', 'จด', 'ปืน', 'โต๊ะ', 'เสื้อผ้า', 'เลือด', 'สิทธิ์', 'นักเขียน', 'สนุกสนาน', 'หัวเราะ', 'หู', 'ยิง', 'สวยงาม', 'ล่า', 'แขก', 'ดอกไม้', 'ที่นั่ง', 'เสือ', 'ปกป้อง', 'รับประทาน', 'ไอ', 'สนุก', 'ลูกชาย', 'สหรัฐ', 'นิ้ว', 'ไอ้', 'รถไฟ', 'เล็กน้อย', 'โปรด', 'คะแนน', 'กรุณา', 'โรงแรม', 'จดหมาย', 'ขับ', 'ดื่ม', 'หอม', 'ระมัดระวัง', 'ฤดู', 'ฟัน', 'เท้า', 'หล่อน', 'วางแผน', 'ลับ', 'ลอย', 'ยกเว้น', 'ลูกค้า', 'ริม', 'ม้า', 'คอมพิวเตอร์']\n"
     ]
    }
   ],
   "source": [
    "#Upload from download\n",
    "with open(path+'known_thai_list.txt',\"r\") as input_file:\n",
    "    new_words = input_file.read().split(',')\n",
    "    print(\"daily catch in word count:\")\n",
    "    print(new_words)\n",
    "for line in new_words:   \n",
    "    vocab['white_listed'].add(line.replace(\"'\",\"\").strip())\n"
   ]
  },
  {
   "cell_type": "code",
   "execution_count": 154,
   "id": "0141a9c3",
   "metadata": {},
   "outputs": [
    {
     "name": "stdout",
     "output_type": "stream",
     "text": [
      "Hello Nong\n"
     ]
    }
   ],
   "source": [
    "\n",
    "wyw_text = 'สวัสดีครับน้อง'\n",
    "print(ts.google(wyw_text))\n",
    "#print(ts._google.language_map)\n",
    "#print(ts.google(wyw_text))"
   ]
  },
  {
   "cell_type": "code",
   "execution_count": 227,
   "id": "67b1cbb0",
   "metadata": {},
   "outputs": [
    {
     "name": "stdout",
     "output_type": "stream",
     "text": [
      "today's catch % of corpus:\n"
     ]
    },
    {
     "data": {
      "text/plain": [
       "'1.200344766395417%'"
      ]
     },
     "execution_count": 227,
     "metadata": {},
     "output_type": "execute_result"
    }
   ],
   "source": [
    "#Get after when adding in new words\n",
    "print(\"today's catch % of corpus:\")\n",
    "str(100*(percent-prev_percent))+\"%\""
   ]
  },
  {
   "cell_type": "code",
   "execution_count": null,
   "id": "3258e547",
   "metadata": {},
   "outputs": [],
   "source": [
    "#output newly knowns\n",
    "with open(path+\"new_known_thai_lines.txt\",\"w\") as outfile:\n",
    "    for line in list(set(knowns).difference(prev_knowns)):\n",
    "        outfile.write(line+'\\n')\n"
   ]
  },
  {
   "cell_type": "code",
   "execution_count": 105,
   "id": "1a9fb3c5",
   "metadata": {},
   "outputs": [
    {
     "name": "stdout",
     "output_type": "stream",
     "text": [
      "Sanity check. Current vocab size:\n"
     ]
    },
    {
     "data": {
      "text/plain": [
       "1462"
      ]
     },
     "execution_count": 105,
     "metadata": {},
     "output_type": "execute_result"
    }
   ],
   "source": [
    "print(\"Sanity check. Current vocab size:\")\n",
    "len(vocab['white_listed'])"
   ]
  },
  {
   "cell_type": "code",
   "execution_count": 117,
   "id": "564b37a8",
   "metadata": {},
   "outputs": [],
   "source": [
    "\"\"\"\n",
    "to do:\n",
    "\n",
    "\"\"\""
   ]
  },
  {
   "cell_type": "code",
   "execution_count": 7,
   "id": "d9799280",
   "metadata": {},
   "outputs": [
    {
     "data": {
      "text/plain": [
       "999"
      ]
     },
     "execution_count": 7,
     "metadata": {},
     "output_type": "execute_result"
    }
   ],
   "source": [
    "##INPUT-OUTPUT\n",
    "#vocab list:\n",
    "with open(\"/Users/elyebliss/Desktop/Vocabulary/vocab_dfs/thai_whitelisted.csv\",\"r\") as infile:\n",
    "    whitelisted_lemmas = infile.read()\n",
    "\n",
    "\n",
    "##VARIABLES\n",
    "vocab_all = set()\n",
    "\n",
    "\n",
    "for line in whitelisted_lemmas.split('\\n'):\n",
    "    if len(line) > 0:\n",
    "        \n",
    "        vocab = line.strip()\n",
    "        vocab_all.add(vocab)\n",
    "        \n",
    "len(whitelisted_lemmas.split('\\n'))            \n",
    "#pp.pprint(vocab_all)"
   ]
  },
  {
   "cell_type": "code",
   "execution_count": 8,
   "id": "3e37bfb9",
   "metadata": {},
   "outputs": [],
   "source": [
    "vocab = {}\n",
    "vocab['white_listed'] = list(vocab_all)\n",
    "vocab['black_listed'] = []"
   ]
  }
 ],
 "metadata": {
  "kernelspec": {
   "display_name": "Python 3 (ipykernel)",
   "language": "python",
   "name": "python3"
  },
  "language_info": {
   "codemirror_mode": {
    "name": "ipython",
    "version": 3
   },
   "file_extension": ".py",
   "mimetype": "text/x-python",
   "name": "python",
   "nbconvert_exporter": "python",
   "pygments_lexer": "ipython3",
   "version": "3.9.12"
  }
 },
 "nbformat": 4,
 "nbformat_minor": 5
}
