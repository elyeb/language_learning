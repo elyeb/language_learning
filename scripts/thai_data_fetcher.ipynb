{
 "cells": [
  {
   "cell_type": "code",
   "execution_count": null,
   "id": "05aba0c4",
   "metadata": {},
   "outputs": [],
   "source": [
    "\"\"\"\n",
    "\n",
    "Contents:\n",
    "-data intialization from csv file of words &\n",
    " build data structure to house info moving forward\n",
    "-write to .json formats\n",
    "-read from existing .json formats\n",
    "-get list of words to find\n",
    "-scrape BBC\n",
    "-scrape voiceTV\n",
    "\"\"\""
   ]
  },
  {
   "cell_type": "code",
   "execution_count": 76,
   "id": "ebdc6804",
   "metadata": {},
   "outputs": [],
   "source": [
    "import bs4, requests, sys, codecs, urllib.request, re\n",
    "from bs4 import SoupStrainer\n",
    "from bs4.element import Comment\n",
    "import random\n",
    "#import pythainlp\n",
    "from pythainlp.tokenize import word_tokenize, sent_tokenize\n",
    "import string\n",
    "import json\n",
    "import pandas as pd\n",
    "import os\n",
    "from os import listdir\n",
    "from os.path import isfile, join\n",
    "import pprint\n",
    "import translators as ts\n",
    "\n",
    "pp = pprint.PrettyPrinter()\n",
    "pd.set_option('display.max_rows', None)\n",
    "pd.set_option('display.max_colwidth', 0)\n",
    "\n",
    "path = \"/Users/elyebliss/Desktop/Vocabulary/language_learning/vocab_dfs/\"\n",
    "source_file = \"thai.json\""
   ]
  },
  {
   "cell_type": "code",
   "execution_count": 77,
   "id": "ce69b1b0",
   "metadata": {},
   "outputs": [],
   "source": [
    "##METHODS\n",
    "\n",
    "def tag_visible(element):\n",
    "    if element.parent.name in ['style', 'script', 'head', 'title', 'meta', '[document]']:\n",
    "        return False\n",
    "    if isinstance(element, Comment):\n",
    "        return False\n",
    "    return True\n",
    "\n",
    "\n",
    "def text_from_html(body):\n",
    "    soup = bs4.BeautifulSoup(body, 'html.parser')\n",
    "    texts = soup.findAll(text=True)\n",
    "    visible_texts = filter(tag_visible, texts)  \n",
    "    return u\" \".join(t.strip() for t in visible_texts)\n",
    "\n",
    "\n",
    "\n",
    "user_agent = 'Mozilla/5.0 (Windows NT 6.3; WOW64; rv:50.0) Gecko/20100101 Firefox/50.0'\n",
    "headers={'User-Agent':user_agent,}\n",
    "parser = 'html.parser'"
   ]
  },
  {
   "cell_type": "code",
   "execution_count": 78,
   "id": "63afba50",
   "metadata": {},
   "outputs": [],
   "source": [
    "def get_known(unknown_list):\n",
    "    \n",
    "    count_got = 0\n",
    "    known_list = []\n",
    "    for word in unknown_list:\n",
    "        decision = str(input(word+\"\\nKnown =k\"))\n",
    "        if decision =='k':\n",
    "            known_list.append(word)\n",
    "            count_got +=1\n",
    "            print(\"got \"+str(count_got))\n",
    "        elif decision=='q':\n",
    "            break\n",
    "        try:\n",
    "            print(ts.google(word))\n",
    "        except:\n",
    "            print('cant find')\n",
    "    return known_list"
   ]
  },
  {
   "cell_type": "code",
   "execution_count": 79,
   "id": "117b26f1",
   "metadata": {},
   "outputs": [],
   "source": [
    "def filter_text(webpage,start=None,stop=None,\\\n",
    "                print_word_lvl=False,percent_threshold=None,\\\n",
    "               return_percent=False):\n",
    "\n",
    "\n",
    "    try:\n",
    "        request=urllib.request.Request(webpage,None,headers) #The assembled request\n",
    "        response = urllib.request.urlopen(request)\n",
    "        data = response.read()\n",
    "        contents = text_from_html(data)\n",
    "\n",
    "        known_array = []\n",
    "        unk_array = []\n",
    "        contents_array = sent_tokenize(contents)\n",
    "\n",
    "        if (start is not None) and (stop is not None):\n",
    "            contents_array=contents_array[max(start,0):min(stop,len(contents_array))]\n",
    "\n",
    "        disallowed_words = set()\n",
    "\n",
    "        total_words = 0\n",
    "        unknown_words = 0\n",
    "        \n",
    "        lines = []\n",
    "        unknowns = []\n",
    "        for line in contents_array:\n",
    "\n",
    "\n",
    "            tokenized = word_tokenize(line)\n",
    "\n",
    "\n",
    "            add_line = True\n",
    "            line_total = 0\n",
    "            line_unks = 0\n",
    "\n",
    "            unk_str = \"\"\n",
    "            for word in tokenized:\n",
    "                \n",
    "                total_words +=1\n",
    "                line_total +=1\n",
    "\n",
    "                if bool(re.search('[\\u0E00-\\u0E7F]+', word, flags=re.UNICODE)) and not ((word in vocab['white_listed']) or\\\n",
    "                                                            (word in vocab['black_listed'])):\n",
    "\n",
    "                        unk_str += '\"'+word+'\"'+\", \"\n",
    "                        if not percent_threshold:\n",
    "                            add_line = False\n",
    "                        disallowed_words.add(word)\n",
    "                        unknown_words +=1\n",
    "                        line_unks +=1\n",
    "\n",
    "            if percent_threshold:\n",
    "                if line_total>0:\n",
    "                    if (1-(line_unks/line_total))<percent_threshold:\n",
    "                        add_line = False\n",
    "            if add_line:\n",
    "                known_array.append(line)\n",
    "                unk_array.append(\"...\")\n",
    "            else:\n",
    "                known_array.append(\"...\")\n",
    "                unk_array.append(line)\n",
    "\n",
    "            if len(unk_str)>0:\n",
    "                unk_str = unk_str[0:len(unk_str)-2]\n",
    "\n",
    "            unknowns.append(unk_str)\n",
    "\n",
    "        if print_word_lvl and total_words>0:\n",
    "            print(\"word-level % known = \"+str((1-(unknown_words/total_words))*100))\n",
    "        if return_percent and total_words>0:\n",
    "            return (1-(unknown_words/total_words))*100\n",
    "        return_pd = pd.DataFrame(list(zip(known_array,unk_array,unknowns)))\n",
    "        return_pd.columns = [\"knowns\",\"unknowns\",\"unk_words\"]\n",
    "\n",
    "        \n",
    "\n",
    "        with open(path+'unknown_thai_list.txt',\"w\") as outfile:\n",
    "            outfile.write(str(list(disallowed_words)))\n",
    "\n",
    "        return return_pd\n",
    "\n",
    "    except:\n",
    "        pass"
   ]
  },
  {
   "cell_type": "code",
   "execution_count": 80,
   "id": "826dae68",
   "metadata": {},
   "outputs": [
    {
     "name": "stdout",
     "output_type": "stream",
     "text": [
      "2288\n",
      "2518\n"
     ]
    }
   ],
   "source": [
    "\"\"\"read from existing .json formats\n",
    "white-listed\n",
    "uncovered \n",
    "2288\n",
    "2518\n",
    "\"\"\"\n",
    "with open(path+source_file, \"r\") as path_in:\n",
    "    vocab = json.loads(path_in.read())\n",
    "vocab['white_listed'] = set(vocab['white_listed'])\n",
    "vocab['black_listed'] = set(vocab['black_listed'])\n",
    "print(len(vocab['white_listed'])) \n",
    "\n",
    "#get 4k freq word info:\n",
    "with open(path+'th_freq.csv','r') as infile:\n",
    "    freq_df = pd.read_csv(infile)\n",
    "uncovered = []\n",
    "for word in freq_df.word:\n",
    "    if word not in vocab['white_listed']:\n",
    "        uncovered.append(word)\n",
    "print(len(uncovered))\n",
    "\n"
   ]
  },
  {
   "cell_type": "code",
   "execution_count": 81,
   "id": "004a939d",
   "metadata": {},
   "outputs": [
    {
     "name": "stdout",
     "output_type": "stream",
     "text": [
      "Checking BBC Thai\n",
      "Checking VoiceTV\n"
     ]
    }
   ],
   "source": [
    "pages = []\n",
    "titles = []\n",
    "\n",
    "##BBC\n",
    "print(\"Checking BBC Thai\")\n",
    "parser = 'html.parser'  # or 'lxml' (preferred) or 'html5lib', if installed\n",
    "request=urllib.request.Request('https://www.bbc.com/thai/topics/cjgn73g98rqt',None,headers)\n",
    "resp = urllib.request.urlopen(request)\n",
    "soup = bs4.BeautifulSoup(resp, parser, from_encoding=resp.info().get_param('charset'))\n",
    "\n",
    "\n",
    "for link in soup.find_all('a', href=True):\n",
    "    if 'https://www.bbc.com/thai/thailand' in str(link['href']):\n",
    "        pages.append(str(link['href']))\n",
    "        request=urllib.request.Request(str(link['href']),None,headers) #The assembled request\n",
    "\n",
    "        response = urllib.request.urlopen(request)\n",
    "        data = response.read()\n",
    "        contents = text_from_html(data)\n",
    "        if bool(re.search(\"(?<=ยอดนิยม หน้าแรก ประเทศไทย ต่างประเทศ วิทยาศาสตร์ สุขภาพ โควิด-19 วิดีโอ ยอดนิยม).{30}\",contents)):\n",
    "            titles.append(re.findall(\"(?<=ยอดนิยม หน้าแรก ประเทศไทย ต่างประเทศ วิทยาศาสตร์ สุขภาพ โควิด-19 วิดีโอ ยอดนิยม).{30}\",contents)[0].strip())\n",
    "\n",
    "    elif '/thai/thailand' in str(link['href']):\n",
    "        pages.append('https://www.bbc.com'+str(link['href']))\n",
    "\n",
    "##VoiceTV\n",
    "print(\"Checking VoiceTV\")\n",
    "parser = 'html.parser'  # or 'lxml' (preferred) or 'html5lib', if installed\n",
    "request=urllib.request.Request('https://www.voicetv.co.th/topic/%E0%B8%81%E0%B8%B2%E0%B8%A3%E0%B9%80%E0%B8%A1%E0%B8%B7%E0%B8%AD%E0%B8%87',None,headers)\n",
    "resp = urllib.request.urlopen(request)\n",
    "soup = bs4.BeautifulSoup(resp, parser, from_encoding=resp.info().get_param('charset'))\n",
    "\n",
    " \n",
    "for link in soup.find_all('a', href=True):\n",
    "    str_page = 'https://www.voicetv.co.th'+str(link['href'])\n",
    "    if '/read/' in str(link['href']) and str_page not in pages:\n",
    "        pages.append(str_page)\n",
    "        request=urllib.request.Request(str_page,None,headers) #The assembled request\n",
    "\n",
    "        response = urllib.request.urlopen(request)\n",
    "        data = response.read()\n",
    "        contents = text_from_html(data)\n",
    "        titles.append(re.findall(\"(?<=  :).{30}\",contents)[0].strip())"
   ]
  },
  {
   "cell_type": "code",
   "execution_count": 82,
   "id": "411c6c9a",
   "metadata": {},
   "outputs": [
    {
     "data": {
      "text/plain": [
       "1613"
      ]
     },
     "execution_count": 82,
     "metadata": {},
     "output_type": "execute_result"
    }
   ],
   "source": [
    "#load prev corpus and add\n",
    "known_corpus = set()\n",
    "with open(path+\"all_known_thai_lines.txt\",\"r\",encoding='utf-8') as infile:\n",
    "    for line in infile.read().split('\\n'):\n",
    "        known_corpus.add(line)\n",
    "len(known_corpus)"
   ]
  },
  {
   "cell_type": "code",
   "execution_count": 83,
   "id": "bb6ee0f7",
   "metadata": {},
   "outputs": [
    {
     "name": "stdout",
     "output_type": "stream",
     "text": [
      "percent all known= 0.15430622009569378\n"
     ]
    }
   ],
   "source": [
    "#Find % of all sentences of news\n",
    "knowns = []\n",
    "all_lines = 0\n",
    "\n",
    "known_percents = []\n",
    "\n",
    "for webpage in pages:\n",
    "    \n",
    "    test_df = filter_text(webpage)\n",
    "    all_lines += len(list(test_df.knowns))\n",
    "    \n",
    "    known_percents.append(filter_text(webpage,return_percent=True))\n",
    "    \n",
    "    for item in list(test_df.knowns[test_df.knowns != '...']):\n",
    "        knowns.append(item)\n",
    "percent = len(knowns)/float(all_lines)\n",
    "print(\"percent all known= \"+str(percent))\n"
   ]
  },
  {
   "cell_type": "code",
   "execution_count": 85,
   "id": "1fa348ef",
   "metadata": {},
   "outputs": [
    {
     "data": {
      "text/plain": [
       "['จึงต้องใช้วันนี้และพรุ่งนี้ (28-29 ธ.ค.65) เป็นวันประชุมสภาผู้แทนราษฎรแทนการประชุมร่วมรัฐสภา ',\n",
       " 'ข่าวที่เกี่ยวข้อง ประเทศไทย กฎหมาย ประยุทธ์ จันทร์โอชา การเมือง ',\n",
       " 'มีอะไรที่ให้ประชาชนให้ไว้วางใจเข้ามาทำงานเพื่อประชาชน ',\n",
       " 'หลายเรื่องเราได้เตรียมพร้อมไว้หมดเจาะลึกทุกประเด็น ',\n",
       " 'คงจะไม่มีใครเชื่อว่าลงไปดูเพื่อไม่ให้เกิดปัญหา ',\n",
       " 'เป็นเรื่องที่ไม่สามารถจับมือและบังคับกันได้ ',\n",
       " 'เราพร้อมตรวจสอบและดำเนินการช่วยเหลือต่อไป ',\n",
       " 'เมื่อเข้ามาบริหารราชการแผ่นดินเป็นอย่างไร ',\n",
       " \"Last update Dec 28, 2022 10:54 )   'ชวน' \",\n",
       " 'ซึ่งบางเรื่องใช้เวลาพิจารณามาแล้วเป็นปี ',\n",
       " 'หลังจากนั้น เมื่อรัฐบาลมีความพร้อมแล้ว ',\n",
       " 'และเพื่อสอบถาม หารือ แนะนำ ให้ความเห็น ',\n",
       " 'ดังนั้น เมื่อเกิดเหตุการณ์เช่นนี้ขึ้น ',\n",
       " 'เพราะฉะนั้นจะต้องหารือกับทุกฝ่าย ',\n",
       " 'รัฐมนตรีประจำสำนักนายกรัฐมนตรี ',\n",
       " 'ดังนั้น การพูด และกระทำเช่นนี้ ',\n",
       " 'ซึ่งจะเป็นประโยชน์กับทุกฝ่าย ',\n",
       " 'ประเทศจะเสียหายมากเท่าไหร่ ',\n",
       " 'โดยเฉพาะในการแก้รัฐธรรมนูญ ',\n",
       " 'ทำความเข้าใจในทุกประเด็น ',\n",
       " 'หรือส่งผลกระทบกับรัฐบาล ',\n",
       " 'ทั้งนี้ส่วนตัวมองว่า ',\n",
       " 'หากทราบข้อเท็จจริง ',\n",
       " 'ไม่ได้รับการยอมรับ ',\n",
       " 'อยู่มา 8 ปีไม่ทำ ',\n",
       " 'ซึ่งภายใน 7 วัน ',\n",
       " 'ไม่มีปัญหา ',\n",
       " 'ก็ถือว่าจบ ',\n",
       " 'ด้วยตนเอง ',\n",
       " 'กรณี ']"
      ]
     },
     "execution_count": 85,
     "metadata": {},
     "output_type": "execute_result"
    }
   ],
   "source": [
    "#sorted(list(set(knowns)),key=len,reverse=True)\n",
    "sorted(list(set(knowns).difference(known_corpus)),key=len,reverse=True)"
   ]
  },
  {
   "cell_type": "code",
   "execution_count": 10,
   "id": "ac029f06",
   "metadata": {},
   "outputs": [],
   "source": [
    "#manually remove from white\n",
    "remove_from_white = []\n",
    "\n",
    "for word in remove_from_white:\n",
    "    if word in vocab['white_listed']:\n",
    "        vocab['white_listed'].remove(word)"
   ]
  },
  {
   "cell_type": "code",
   "execution_count": 86,
   "id": "1ee450fe",
   "metadata": {},
   "outputs": [
    {
     "data": {
      "text/plain": [
       "1643"
      ]
     },
     "execution_count": 86,
     "metadata": {},
     "output_type": "execute_result"
    }
   ],
   "source": [
    "for item in list(set(knowns)):\n",
    "    known_corpus.add(item)\n",
    "\n",
    "with open(path+\"all_known_thai_lines.txt\",\"w\",encoding='utf-8') as outfile:\n",
    "    for line in list(set(known_corpus)):\n",
    "        outfile.write(line+'\\n')\n",
    "len(known_corpus)"
   ]
  },
  {
   "cell_type": "code",
   "execution_count": 87,
   "id": "2d6948c1",
   "metadata": {},
   "outputs": [
    {
     "name": "stdout",
     "output_type": "stream",
     "text": [
      "28\n"
     ]
    }
   ],
   "source": [
    "websites = set()\n",
    "\n",
    "with open(path+'viewed_websites_th.txt',\"r\") as infile:\n",
    "    for line in infile.read().split('\\n'):\n",
    "        websites.add(line)\n",
    "print(len(websites))"
   ]
  },
  {
   "cell_type": "code",
   "execution_count": 88,
   "id": "2a643828",
   "metadata": {
    "collapsed": true
   },
   "outputs": [
    {
     "data": {
      "text/plain": [
       "[(6,\n",
       "  87.04986149584487,\n",
       "  \"รีวิว 'Collective': นักข่าวไม\",\n",
       "  'https://www.voicetv.co.th/read/xXXHEREJ8'),\n",
       " (4,\n",
       "  84.27184466019418,\n",
       "  '‘ประยุทธ์’ อวยพรปีใหม่สื่อทำเ',\n",
       "  'https://www.voicetv.co.th/read/2QOjAgJrW'),\n",
       " (0,\n",
       "  82.1559633027523,\n",
       "  'ขรก.ข้องใจ ‘สุพิศ’ ขึ้นอธิบดี',\n",
       "  'https://www.bbc.com/thai/thailand-64106538'),\n",
       " (7,\n",
       "  81.67539267015707,\n",
       "  'จับตา ‘ราษฎรแรลลี่’ จาก ‘วังล',\n",
       "  'https://www.voicetv.co.th/read/bn95YMr0a'),\n",
       " (3,\n",
       "  81.52866242038218,\n",
       "  \"'ฝ่ายค้าน' เปิดฉากปี 66 'ถอดห\",\n",
       "  'https://www.voicetv.co.th/read/qd1OHM25R'),\n",
       " (5,\n",
       "  80.91787439613528,\n",
       "  '‘วิษณุ’แย้มประตูยุบสภาเปิดอยู',\n",
       "  'https://www.voicetv.co.th/read/zZQFHdY6H'),\n",
       " (1,\n",
       "  80.68283917340521,\n",
       "  'นโยบายชัด ทส. ไม่รับของขวัญ-ข',\n",
       "  'https://www.bbc.com/thai/thailand-64090269'),\n",
       " (2,\n",
       "  80.29522828698936,\n",
       "  \"‘ลิณธิภรณ์’ ซัด 'ประยุทธ์' ปร\",\n",
       "  'https://www.bbc.com/thai/thailand-64064173')]"
      ]
     },
     "execution_count": 88,
     "metadata": {},
     "output_type": "execute_result"
    }
   ],
   "source": [
    "page_titles = list(zip(range(0,len(known_percents)),known_percents,titles,pages))\n",
    "# (sorted(list(zip(range(0,len(known_percents)),known_percents)),key = lambda x: x[1],reverse=True))\n",
    "page_titles = sorted(page_titles,key = lambda x: x[1],reverse=True)\n",
    "page_titles = [item for item in page_titles if not (item[3] in websites)]\n",
    "page_titles"
   ]
  },
  {
   "cell_type": "code",
   "execution_count": 89,
   "id": "1e2e7b73",
   "metadata": {},
   "outputs": [],
   "source": [
    "webpage = pages[6]\n",
    "if webpage in websites:\n",
    "    print(\"already scanned! choose another!\")\n",
    "websites.add(webpage)"
   ]
  },
  {
   "cell_type": "code",
   "execution_count": 90,
   "id": "f737a6dc",
   "metadata": {},
   "outputs": [],
   "source": [
    "\n",
    "with open(path+'viewed_websites_th.txt',\"w\") as outfile:\n",
    "    for line in websites:\n",
    "        outfile.write(line+'\\n')      \n"
   ]
  },
  {
   "cell_type": "code",
   "execution_count": 91,
   "id": "141ae514",
   "metadata": {},
   "outputs": [
    {
     "name": "stdout",
     "output_type": "stream",
     "text": [
      "word-level % known = 87.04986149584487\n"
     ]
    }
   ],
   "source": [
    "#display() #percent_threshold=0.95\n",
    "art=filter_text(webpage,print_word_lvl=True)"
   ]
  },
  {
   "cell_type": "code",
   "execution_count": 92,
   "id": "8bce1137",
   "metadata": {},
   "outputs": [
    {
     "name": "stdout",
     "output_type": "stream",
     "text": [
      "106\n"
     ]
    }
   ],
   "source": [
    "with open(path+'unknown_thai_list.txt',\"r\") as input_file:\n",
    "    new_words = input_file.read()\n",
    "    new_words = re.sub(\"[\\n\\'\\[\\]]\",\"\",new_words)\n",
    "    new_words = new_words.split(',')\n",
    "    new_words = [line.strip() for line in new_words] #update regex\n",
    "#new_words\n",
    "print(len(new_words))\n",
    "#known_manual = get_known(new_words)"
   ]
  },
  {
   "cell_type": "code",
   "execution_count": 93,
   "id": "efd86a33",
   "metadata": {},
   "outputs": [],
   "source": [
    "import mitosheet\n",
    "unk_df = pd.DataFrame(new_words)\n",
    "unk_df.columns = ['word']\n",
    "unk_df['status'] = pd.Series(['' for word in new_words])"
   ]
  },
  {
   "cell_type": "code",
   "execution_count": 94,
   "id": "3663bb4f",
   "metadata": {},
   "outputs": [
    {
     "data": {
      "application/vnd.jupyter.widget-view+json": {
       "model_id": "239e197b4fb14300ab2fd4879b4a1456",
       "version_major": 2,
       "version_minor": 0
      },
      "text/plain": [
       "MitoWidget(analysis_data_json='{\"analysisName\": \"id-mdcwaxyktu\", \"analysisToReplay\": null, \"code\": [], \"stepSu…"
      ]
     },
     "metadata": {},
     "output_type": "display_data"
    }
   ],
   "source": [
    "mitosheet.sheet(unk_df, analysis_to_replay=\"id-mdcwaxyktu\") "
   ]
  },
  {
   "cell_type": "code",
   "execution_count": 67,
   "id": "60d5d1ff",
   "metadata": {},
   "outputs": [],
   "source": [
    "add_ints = [1,2,13]"
   ]
  },
  {
   "cell_type": "code",
   "execution_count": 68,
   "id": "77eb121a",
   "metadata": {},
   "outputs": [],
   "source": [
    "for i in add_ints:\n",
    "    # Set a cell value in status\n",
    "    unk_df.at[i, 'status'] = 'k'"
   ]
  },
  {
   "cell_type": "code",
   "execution_count": 96,
   "id": "71c577e6",
   "metadata": {},
   "outputs": [],
   "source": [
    "translations = []\n",
    "for i in range(0,len(unk_df)):\n",
    "    try:\n",
    "        translations.append(ts.google(unk_df.word.iloc[i]))\n",
    "    except:\n",
    "        translations.append('')\n",
    "unk_df['translations']=translations\n"
   ]
  },
  {
   "cell_type": "code",
   "execution_count": 97,
   "id": "fe5bce81",
   "metadata": {},
   "outputs": [
    {
     "data": {
      "application/vnd.jupyter.widget-view+json": {
       "model_id": "aa5805053fc848708dbc562ca97dbec6",
       "version_major": 2,
       "version_minor": 0
      },
      "text/plain": [
       "MitoWidget(analysis_data_json='{\"analysisName\": \"id-cazwopgobm\", \"analysisToReplay\": null, \"code\": [], \"stepSu…"
      ]
     },
     "metadata": {},
     "output_type": "display_data"
    }
   ],
   "source": [
    "mitosheet.sheet(unk_df, analysis_to_replay=\"id-cazwopgobm\")"
   ]
  },
  {
   "cell_type": "code",
   "execution_count": null,
   "id": "a37fd592",
   "metadata": {},
   "outputs": [],
   "source": []
  },
  {
   "cell_type": "code",
   "execution_count": 98,
   "id": "455c3cdb",
   "metadata": {},
   "outputs": [
    {
     "name": "stdout",
     "output_type": "stream",
     "text": [
      "7\n"
     ]
    }
   ],
   "source": [
    "add_words = list(unk_df.word[unk_df['status']=='k'])\n",
    "print(len(add_words))\n",
    "for word in add_words:\n",
    "    vocab['white_listed'].add(word)"
   ]
  },
  {
   "cell_type": "code",
   "execution_count": 99,
   "id": "02a15572",
   "metadata": {},
   "outputs": [
    {
     "name": "stdout",
     "output_type": "stream",
     "text": [
      "2295\n"
     ]
    }
   ],
   "source": [
    "#write to .json formats\n",
    "df = vocab\n",
    "df['white_listed'] = list(df['white_listed'])\n",
    "df['black_listed'] = list(df['black_listed'])\n",
    "with open(path+source_file, \"w\") as outfile:\n",
    "    json.dump(df,outfile)\n",
    "print(len(df['white_listed']))"
   ]
  },
  {
   "cell_type": "code",
   "execution_count": 100,
   "id": "c7f67a5d",
   "metadata": {},
   "outputs": [
    {
     "name": "stdout",
     "output_type": "stream",
     "text": [
      "2295\n"
     ]
    }
   ],
   "source": [
    "#read from existing .json formats\n",
    "with open(path+source_file, \"r\") as path_in:\n",
    "    vocab = json.loads(path_in.read())\n",
    "vocab['white_listed'] = set(vocab['white_listed'])\n",
    "vocab['black_listed'] = set(vocab['black_listed'])\n",
    "print(len(vocab['white_listed']))"
   ]
  },
  {
   "cell_type": "code",
   "execution_count": 101,
   "id": "4f09c08d",
   "metadata": {},
   "outputs": [
    {
     "name": "stdout",
     "output_type": "stream",
     "text": [
      "https://www.voicetv.co.th/read/xXXHEREJ8\n",
      "word-level % known = 88.01939058171745\n"
     ]
    },
    {
     "data": {
      "text/html": [
       "<div><div id=91654859-ee61-43c3-bcc1-c76914a467b6 style=\"display:none; background-color:#9D6CFF; color:white; width:200px; height:30px; padding-left:5px; border-radius:4px; flex-direction:row; justify-content:space-around; align-items:center;\" onmouseover=\"this.style.backgroundColor='#BA9BF8'\" onmouseout=\"this.style.backgroundColor='#9D6CFF'\" onclick=\"window.commands?.execute('create-mitosheet-from-dataframe-output');\">See Full Dataframe in Mito</div> <script> if (window.commands?.hasCommand('create-mitosheet-from-dataframe-output')) document.getElementById('91654859-ee61-43c3-bcc1-c76914a467b6').style.display = 'flex' </script> <table border=\"1\" class=\"dataframe\">\n",
       "  <thead>\n",
       "    <tr style=\"text-align: right;\">\n",
       "      <th></th>\n",
       "      <th>knowns</th>\n",
       "      <th>unknowns</th>\n",
       "      <th>unk_words</th>\n",
       "    </tr>\n",
       "  </thead>\n",
       "  <tbody>\n",
       "    <tr>\n",
       "      <th>0</th>\n",
       "      <td>POLITICS ECONOMICS WORLD ENTERTAINMENT WELL-BEING LOCAL NEWS BLOG VOICE PLAZA TV PROGRAMS LIVE POLITICS ECONOMICS WORLD ENTERTAINMENT WELL-BEING LOCAL NEWS BLOG VOICE PLAZA TV PROGRAMS ABOUT FAQ CONTACT TERM OF USE SCHEDULE ไม่พบผลการค้นหา</td>\n",
       "      <td>...</td>\n",
       "      <td></td>\n",
       "    </tr>\n",
       "    <tr>\n",
       "      <th>1</th>\n",
       "      <td>...</td>\n",
       "      <td>คุณกำลังอ่าน  : 'ฝ่ายค้าน' เปิดฉากปี 66 'ถอดหน้ากากคนดี'-'ชวน' ไฟเขียวรับญัตติซักฟอก Share Tweet Share การเมือง 'ฝ่ายค้าน' เปิดฉากปี 66 'ถอดหน้ากากคนดี'-'ชวน' ไฟเขียวรับญัตติซักฟอก Dec 28, 2022 (</td>\n",
       "      <td>\"ฝ่ายค้าน\", \"เปิดฉาก\", \"ถอด\", \"ไฟเขียว\", \"ญัตติ\", \"ซักฟอก\", \"ฝ่ายค้าน\", \"เปิดฉาก\", \"ถอด\", \"ไฟเขียว\", \"ญัตติ\", \"ซักฟอก\"</td>\n",
       "    </tr>\n",
       "    <tr>\n",
       "      <th>2</th>\n",
       "      <td>Last update Dec 28, 2022 10:54 )   'ชวน'</td>\n",
       "      <td>...</td>\n",
       "      <td></td>\n",
       "    </tr>\n",
       "    <tr>\n",
       "      <th>3</th>\n",
       "      <td>...</td>\n",
       "      <td>รับญัตติอภิปรายม. 152 ฝ่ายค้าน เตรียมหารือวิป 2 ฝ่าย คาดช่วงกลางเดือน ม.ค.66 ด้านฝ่ายค้าน</td>\n",
       "      <td>\"ญัตติ\", \"อภิปราย\", \"ม.\", \"ฝ่ายค้าน\", \"วิป\", \"กลางเดือน\", \"ฝ่ายค้าน\"</td>\n",
       "    </tr>\n",
       "    <tr>\n",
       "      <th>4</th>\n",
       "      <td>...</td>\n",
       "      <td>เปิดยุทธการ 'ถอดหน้ากากคนดี' ระบุ 'ประยุทธ์' เป็นจำเลยหมายเลข 1 ยันไม่เว้น 'ประวิตร' แน่นอน ที่รัฐสภา ชวน หลีกภัย ประธานสภาฯ</td>\n",
       "      <td>\"ยุทธการ\", \"ถอด\", \"จำเลย\", \"ยัน\", \"เว้น\", \"ประวิตร\", \"หลีก\"</td>\n",
       "    </tr>\n",
       "    <tr>\n",
       "      <th>...</th>\n",
       "      <td>...</td>\n",
       "      <td>...</td>\n",
       "      <td>...</td>\n",
       "    </tr>\n",
       "    <tr>\n",
       "      <th>61</th>\n",
       "      <td>ทำความเข้าใจในทุกประเด็น</td>\n",
       "      <td>...</td>\n",
       "      <td></td>\n",
       "    </tr>\n",
       "    <tr>\n",
       "      <th>62</th>\n",
       "      <td>ทั้งนี้ส่วนตัวมองว่า</td>\n",
       "      <td>...</td>\n",
       "      <td></td>\n",
       "    </tr>\n",
       "    <tr>\n",
       "      <th>63</th>\n",
       "      <td>ไม่มีปัญหา</td>\n",
       "      <td>...</td>\n",
       "      <td></td>\n",
       "    </tr>\n",
       "    <tr>\n",
       "      <th>64</th>\n",
       "      <td>หรือส่งผลกระทบกับรัฐบาล</td>\n",
       "      <td>...</td>\n",
       "      <td></td>\n",
       "    </tr>\n",
       "    <tr>\n",
       "      <th>65</th>\n",
       "      <td>...</td>\n",
       "      <td>เพราะเชื่อว่านายกรัฐมนตรี จะสามารถตอบได้ทุกเรื่อง Topic การเมือง , ฝ่ายค้าน People ชลน่าน ศรีแก้ว Author กองบรรณาธิการวอยซ์ออนไลน์ 51558 Article 1192 Video 10 Blog MOST VIEWED READ WATCH ABOUT FAQ CONTACT TERM OF USE SCHEDULE</td>\n",
       "      <td>\"ฝ่ายค้าน\", \"ชล\", \"น่าน\", \"ศรี\"</td>\n",
       "    </tr>\n",
       "  </tbody>\n",
       "</table></div>"
      ],
      "text/plain": [
       "                                                                                                                                                                                                                                                 knowns  \\\n",
       "0      POLITICS ECONOMICS WORLD ENTERTAINMENT WELL-BEING LOCAL NEWS BLOG VOICE PLAZA TV PROGRAMS LIVE POLITICS ECONOMICS WORLD ENTERTAINMENT WELL-BEING LOCAL NEWS BLOG VOICE PLAZA TV PROGRAMS ABOUT FAQ CONTACT TERM OF USE SCHEDULE ไม่พบผลการค้นหา    \n",
       "1   ...                                                                                                                                                                                                                                                   \n",
       "2   Last update Dec 28, 2022 10:54 )   'ชวน'                                                                                                                                                                                                              \n",
       "3   ...                                                                                                                                                                                                                                                   \n",
       "4   ...                                                                                                                                                                                                                                                   \n",
       "5   ...                                                                                                                                                                                                                                                   \n",
       "6   ...                                                                                                                                                                                                                                                   \n",
       "7   และเพื่อสอบถาม หารือ แนะนำ ให้ความเห็น                                                                                                                                                                                                                \n",
       "8   ซึ่งจะเป็นประโยชน์กับทุกฝ่าย                                                                                                                                                                                                                          \n",
       "9   ...                                                                                                                                                                                                                                                   \n",
       "10  ...                                                                                                                                                                                                                                                   \n",
       "11  ...                                                                                                                                                                                                                                                   \n",
       "12  หลังจากนั้น เมื่อรัฐบาลมีความพร้อมแล้ว                                                                                                                                                                                                                \n",
       "13  ...                                                                                                                                                                                                                                                   \n",
       "14  ...                                                                                                                                                                                                                                                   \n",
       "15  ...                                                                                                                                                                                                                                                   \n",
       "16  ...                                                                                                                                                                                                                                                   \n",
       "17  ก็ถือว่าจบ                                                                                                                                                                                                                                            \n",
       "18  ...                                                                                                                                                                                                                                                   \n",
       "19  ...                                                                                                                                                                                                                                                   \n",
       "20  จึงต้องใช้วันนี้และพรุ่งนี้ (28-29 ธ.ค.65) เป็นวันประชุมสภาผู้แทนราษฎรแทนการประชุมร่วมรัฐสภา                                                                                                                                                          \n",
       "21  ...                                                                                                                                                                                                                                                   \n",
       "22  ...                                                                                                                                                                                                                                                   \n",
       "23  ...                                                                                                                                                                                                                                                   \n",
       "24  ...                                                                                                                                                                                                                                                   \n",
       "25  เพราะฉะนั้นจะต้องหารือกับทุกฝ่าย                                                                                                                                                                                                                      \n",
       "26  ...                                                                                                                                                                                                                                                   \n",
       "27  ...                                                                                                                                                                                                                                                   \n",
       "28  ...                                                                                                                                                                                                                                                   \n",
       "29  ...                                                                                                                                                                                                                                                   \n",
       "30  ซึ่งบางเรื่องใช้เวลาพิจารณามาแล้วเป็นปี                                                                                                                                                                                                               \n",
       "31  ...                                                                                                                                                                                                                                                   \n",
       "32  ...                                                                                                                                                                                                                                                   \n",
       "33  ...                                                                                                                                                                                                                                                   \n",
       "34  ...                                                                                                                                                                                                                                                   \n",
       "35  ...                                                                                                                                                                                                                                                   \n",
       "36  ...                                                                                                                                                                                                                                                   \n",
       "37  ...                                                                                                                                                                                                                                                   \n",
       "38  ...                                                                                                                                                                                                                                                   \n",
       "39  ...                                                                                                                                                                                                                                                   \n",
       "40  ...                                                                                                                                                                                                                                                   \n",
       "41  ...                                                                                                                                                                                                                                                   \n",
       "42  เมื่อเข้ามาบริหารราชการแผ่นดินเป็นอย่างไร                                                                                                                                                                                                             \n",
       "43  ...                                                                                                                                                                                                                                                   \n",
       "44  หลายเรื่องเราได้เตรียมพร้อมไว้หมดเจาะลึกทุกประเด็น                                                                                                                                                                                                    \n",
       "45  ...                                                                                                                                                                                                                                                   \n",
       "46  ...                                                                                                                                                                                                                                                   \n",
       "47  ...                                                                                                                                                                                                                                                   \n",
       "48  ...                                                                                                                                                                                                                                                   \n",
       "49  ...                                                                                                                                                                                                                                                   \n",
       "50  ...                                                                                                                                                                                                                                                   \n",
       "51  ...                                                                                                                                                                                                                                                   \n",
       "52  ...                                                                                                                                                                                                                                                   \n",
       "53  ...                                                                                                                                                                                                                                                   \n",
       "54  ...                                                                                                                                                                                                                                                   \n",
       "55  ...                                                                                                                                                                                                                                                   \n",
       "56  มีอะไรที่ให้ประชาชนให้ไว้วางใจเข้ามาทำงานเพื่อประชาชน                                                                                                                                                                                                 \n",
       "57  ...                                                                                                                                                                                                                                                   \n",
       "58  รัฐมนตรีประจำสำนักนายกรัฐมนตรี                                                                                                                                                                                                                        \n",
       "59  ...                                                                                                                                                                                                                                                   \n",
       "60  ...                                                                                                                                                                                                                                                   \n",
       "61  ทำความเข้าใจในทุกประเด็น                                                                                                                                                                                                                              \n",
       "62  ทั้งนี้ส่วนตัวมองว่า                                                                                                                                                                                                                                  \n",
       "63  ไม่มีปัญหา                                                                                                                                                                                                                                            \n",
       "64  หรือส่งผลกระทบกับรัฐบาล                                                                                                                                                                                                                               \n",
       "65  ...                                                                                                                                                                                                                                                   \n",
       "\n",
       "                                                                                                                                                                                                                                                                                                                                                                                                                       unknowns  \\\n",
       "0   ...                                                                                                                                                                                                                                                                                                                                                                                                                           \n",
       "1   คุณกำลังอ่าน  : 'ฝ่ายค้าน' เปิดฉากปี 66 'ถอดหน้ากากคนดี'-'ชวน' ไฟเขียวรับญัตติซักฟอก Share Tweet Share การเมือง 'ฝ่ายค้าน' เปิดฉากปี 66 'ถอดหน้ากากคนดี'-'ชวน' ไฟเขียวรับญัตติซักฟอก Dec 28, 2022 (                                                                                                                                                                                                                           \n",
       "2   ...                                                                                                                                                                                                                                                                                                                                                                                                                           \n",
       "3   รับญัตติอภิปรายม. 152 ฝ่ายค้าน เตรียมหารือวิป 2 ฝ่าย คาดช่วงกลางเดือน ม.ค.66 ด้านฝ่ายค้าน                                                                                                                                                                                                                                                                                                                                     \n",
       "4   เปิดยุทธการ 'ถอดหน้ากากคนดี' ระบุ 'ประยุทธ์' เป็นจำเลยหมายเลข 1 ยันไม่เว้น 'ประวิตร' แน่นอน ที่รัฐสภา ชวน หลีกภัย ประธานสภาฯ                                                                                                                                                                                                                                                                                                  \n",
       "5   รับญัตติยื่นอภิปรายทั่วไปตามมาตรา                                                                                                                                                                                                                                                                                                                                                                                             \n",
       "6   152 จากพรรคร่วมฝ่ายค้าน พร้อมกล่าวว่า เป็นการอภิปรายเแบบไม่ลงมติ                                                                                                                                                                                                                                                                                                                                                              \n",
       "7   ...                                                                                                                                                                                                                                                                                                                                                                                                                           \n",
       "8   ...                                                                                                                                                                                                                                                                                                                                                                                                                           \n",
       "9   นอกเหนือจากฝ่ายค้านจะมีข้อมูลแล้ว                                                                                                                                                                                                                                                                                                                                                                                             \n",
       "10  ฝ่ายรัฐบาลก็จะมีโอกาสได้ชี้แจงด้วย ซึ่งสภาก็จะเตรียมการในเวลาที่เหลืออยู่                                                                                                                                                                                                                                                                                                                                                     \n",
       "11  ซึ่งในช่วงของกลางเดือนมกราคมจะมีการประชุมร่วมรัฐสภา                                                                                                                                                                                                                                                                                                                                                                           \n",
       "12  ...                                                                                                                                                                                                                                                                                                                                                                                                                           \n",
       "13  ก็จะบรรจุญัตติมาตรา 152                                                                                                                                                                                                                                                                                                                                                                                                       \n",
       "14  ส่วนจะเป็นช่วงเวลาใดนั้นต้องให้กรรมการประสานงานของทั้งสองฝ่ายได้หารือกัน ว่าแต่ละฝ่ายจะใช้เวลาเท่าไหร่                                                                                                                                                                                                                                                                                                                        \n",
       "15  ส่วนการประชุมในวันนี้ก็จะเห็นแล้วว่าองค์ประชุมครบถ้วน                                                                                                                                                                                                                                                                                                                                                                         \n",
       "16  เมื่อพิจารณากฎหมาย 5 ฉบับในวาระจบ                                                                                                                                                                                                                                                                                                                                                                                             \n",
       "17  ...                                                                                                                                                                                                                                                                                                                                                                                                                           \n",
       "18  ซึ่งถือว่าเป็นเจตนารมย์ของทั้งสองฝ่าย ซึ่งปกติตามที่ตกลงกันไว้                                                                                                                                                                                                                                                                                                                                                                \n",
       "19  จะมีการประชุมนัดพิเศษในทุกวันศุกร์ แต่ศุกร์นี้เป็นวันหยุดและเป็นสิ้นปี                                                                                                                                                                                                                                                                                                                                                        \n",
       "20  ...                                                                                                                                                                                                                                                                                                                                                                                                                           \n",
       "21  ส่วนร่างอื่นๆ รวมไปถึงร่างพ.ร.บ.กัญชา กัญชง รวม 3 ร่าง ที่จะมีการประชุมร่วมรัฐสภาในวันพุธ                                                                                                                                                                                                                                                                                                                                     \n",
       "22  ตนได้หารือกับ ศุภชัย                                                                                                                                                                                                                                                                                                                                                                                                          \n",
       "23  ใจสมุทร                                                                                                                                                                                                                                                                                                                                                                                                                       \n",
       "24  ประธานกรรมาธิการ ว่าอย่างไรกฎหมายฉบับนี้ก็ต้องใช้เวลา จึงหารือว่า จะนัดประชุมพิเศษวันใดได้บ้าง                                                                                                                                                                                                                                                                                                                                \n",
       "25  ...                                                                                                                                                                                                                                                                                                                                                                                                                           \n",
       "26  หากมีการประชุมพิเศษและองค์ประชุมไม่ครบก็มีปัญหา                                                                                                                                                                                                                                                                                                                                                                               \n",
       "27  พร้อมทั้งขอความร่วมมือสมาชิก                                                                                                                                                                                                                                                                                                                                                                                                  \n",
       "28  ขอร้องว่า เราจะหยุดไม่ได้                                                                                                                                                                                                                                                                                                                                                                                                     \n",
       "29  เพราะประชาชนจะตำหนิได้ว่าไม่รับผิดชอบ เรื่องที่กรรมาธิการพิจารณาผ่านพ้นไปด้วยดี                                                                                                                                                                                                                                                                                                                                               \n",
       "30  ...                                                                                                                                                                                                                                                                                                                                                                                                                           \n",
       "31  ดังนั้นไม่มีเหตุผลใดที่จะปล่อยไว้ เพราะท้ายที่สุดเมื่อปล่อยให้ค้างไว้สมาชิกก็พูดไม่สามารถพูดได้ว่ามีผลงาน                                                                                                                                                                                                                                                                                                                     \n",
       "32  เพราะทำมาในชั้นกรรมาธิการแล้ว                                                                                                                                                                                                                                                                                                                                                                                                 \n",
       "33  ไม่ผ่านรัฐสภา  \"ถอดหน้ากากคนดี\" ด้านนายแพทย์ชลน่าน ศรีแก้ว ผู้นำฝ่ายค้านในสภาฯ กล่าวว่า จากการเปิดอภิปรายไม่ไว้วางใจ มาตรา 151 ที่มีการเปิดยุทธการ                                                                                                                                                                                                                                                                            \n",
       "34  เด็ดหัวสอยนั่งร้าน                                                                                                                                                                                                                                                                                                                                                                                                            \n",
       "35  ครั้งนี้จะเป็นการอภิปรายทั่วไปแบบไม่ลงมติ ตามมาตรา 152 เปิดยุทธการ \"ถอดหน้ากากคนดี\" หรือหลายคนอาจจะใช้คำว่ากระชาก เพื่อสอบถามข้อเท็จจริงและเสนอแนะต่อคณะรัฐมนตรีในการบริหารราชการแผ่นดิน เนื้อหาโดยรวมที่เราเสนอไปคือความล้มเหลวการบริหารราชการแผ่นดิน ซึ่งเรามีข้อคำถามที่จะสอบถามต่อคณะรัฐมนตรี                                                                                                                             \n",
       "36  และหลายเรื่องมีข้อเสนอแนะที่จะครอบคลุมทุกมิติ                                                                                                                                                                                                                                                                                                                                                                                 \n",
       "37  เพราะเป็นปีสุดท้าย จะใช้นโยบายที่รัฐบาลแถลงต่อรัฐสภาเป็นกรอบในการเสนอญัตติ                                                                                                                                                                                                                                                                                                                                                    \n",
       "38  โดยเฉพาะนโยบาย 12 ประการเร่งด่วน ที่ตรวจสอบว่า ไม่เป็นไปตามที่แถลงไว้                                                                                                                                                                                                                                                                                                                                                         \n",
       "39  ถือว่าเป็นความล้มเหลว ทั้งด้านเศรษฐกิจ สังคม การเมือง สิ่งแวดล้อม และเทคโนโลยี                                                                                                                                                                                                                                                                                                                                                \n",
       "40  \"การถอดหน้ากากคนดีในครั้งนี้                                                                                                                                                                                                                                                                                                                                                                                                  \n",
       "41  จะให้เห็นว่าคนดีที่ใส่หน้ากากให้กับพวกเราดูมา 4 ปีหรือนับย้อนหลังไป 8 ปี โดยอ้างว่าเป็นคนดีเข้ามาแก้ไขปัญหาบ้านเมืองยื้อแย่งอำนาจจากประชาชน                                                                                                                                                                                                                                                                                   \n",
       "42  ...                                                                                                                                                                                                                                                                                                                                                                                                                           \n",
       "43  เนื้อแท้คนดีเป็นอย่างไร ผลงานที่คนดีมอบให้ประชาชนเป็นอย่างไร                                                                                                                                                                                                                                                                                                                                                                  \n",
       "44  ...                                                                                                                                                                                                                                                                                                                                                                                                                           \n",
       "45  และหากถามว่าใกล้เคียงกับการอภิปรายตามมาตรา 151 หรือไม่นั้น \"เนื้อหาสาระจะไม่แตกต่างกันเพียงแต่เราจะไม่มีการลงมติ                                                                                                                                                                                                                                                                                                              \n",
       "46  เราจะถอดหน้ากากคนดีกันเพื่อให้ประชาชนได้เห็นโดยเฉพาะปีนี้เป็นปีสุดท้ายที่จะเข้าสู่การเลือกตั้งใหญ่ ซึ่งประชาชนจะได้ใช้โอกาสนี้ในการตรวจสอบและได้ดูคนดีที่แท้จริงเป็นอย่างไรและจะได้ตัดสินใจในการเลือกตั้งได้                                                                                                                                                                                                                  \n",
       "47  พรรคร่วมฝ่ายค้านนับเป็นฝ่ายประชาธิปไตย                                                                                                                                                                                                                                                                                                                                                                                        \n",
       "48  ใจว่าจะทำหน้าที่แทนประชาชนให้สมบูรณ์ที่สุดเพื่อให้ประชาชนได้ข้อมูลที่ดีที่สุด                                                                                                                                                                                                                                                                                                                                                 \n",
       "49  แล้วหวังว่าพรรคร่วมฝ่ายค้านเราในฐานะฝ่ายประชาธิปไตยจะได้รับโอกาสจากประชาชน\" นายแพทย์ชลน่าน กล่าว เมื่อถามว่าในการเลือกตั้งครั้งหน้าจะเห็นรัฐบาลที่มาจากพรรคร่วมฝ่ายค้านหรือไม่                                                                                                                                                                                                                                                \n",
       "50  นายแพทย์ชลน่าน กล่าวว่า เป็นการตัดสินหลังจากที่มีการเลือกตั้งถ้าพรรคร่วมฝ่ายค้านได้รับโอกาสและมอบหมายอำนาจจากประชาชน ซึ่งเป็นเงื่อนไขที่สำคัญที่สุด และมั่นใจว่าสามารถทำงานร่วมกันได้อยู่แล้ว ที่มีการตั้งข้อสังเกตว่าในการอภิปรายครั้งนี้จะมีอาจจะละเว้นพลเอกประวิตร วงษ์สุวรรณรองนายกรัฐมนตรี นายแพทย์ชลน่าน กล่าวว่า เนื้อหาในญัตติมีการเขียนในกรอบที่เกี่ยวกับรองนายกรัฐมนตรี                                             \n",
       "51  เราพูดในนามของคณะรัฐมนตรีเป็นความรับผิดชอบร่วมตามมาตรา 164 แต่สิ่งที่จะหยิบยกมาให้เห็นที่เป็นภาพเด่นชัดอาจจะเจาะเป็นบางคน แต่ภาพใหญ่จะมีการรวมอยู่แล้ว และการอภิปรายตามมาตร 152 นี้พลเอกประยุทธ์ จันทร์โอชา นายกรัฐมนตรีและรัฐมนตรีว่าการกระทรวงกลาโหม เป็นจำเลยหมายเลข 1 ซึ่งพรรคร่วมฝ่ายค้านไม่อยากเป็นเครื่องซักล้างให้ใคร แต่เราจำเป็นต้องล้างสิ่งที่แปดเปื้อนออกจากระบบรัฐสภา ในระบบประชาธิปไตย รวมถึงโอกาสของประชาชน    \n",
       "52  ซึ่งเราจะต้องซักล้างให้ได้ดังนั้นพลเอกประยุทธ์ จึงเป็นเป้าหลัก เพราะถือเป็นผู้รับผิดชอบหลักโดย ทุกพรรคจะพุ่งเป้าไปที่พลเอกประยุทธ์                                                                                                                                                                                                                                                                                            \n",
       "53  ส่วนรัฐมนตรีคนอื่นจะเป็นการหยิบยกตัวอย่างให้เห็นในแต่ละประเด็น                                                                                                                                                                                                                                                                                                                                                                \n",
       "54  ทั้งนี้แม่ว่าจะไม่มีการลงมติในสภา แต่เราหวังให้ประชาชนลงคะแนนตัดสินว่า การทำงานภายใต้ของรัฐบาลพลเอกประยุทธ์มีอะไรไว้วางใจให้สืบทอดอำนาจต่อไปหรือไม่                                                                                                                                                                                                                                                                           \n",
       "55  และพรรคร่วมฝ่ายค้านทีานำเสนอ                                                                                                                                                                                                                                                                                                                                                                                                  \n",
       "56  ...                                                                                                                                                                                                                                                                                                                                                                                                                           \n",
       "57  ซึ่งจะชี้ให้เห็นแต่อาจจะแตกต่างจากดารอภิปราวตามมาตรา 151 ที่ผ่านมา 'ธนกร' มั่นใจ 'ประยุทธ์' ตอบได้ทุกเรื่อง ธนกร วังบุญคงชนะ                                                                                                                                                                                                                                                                                                  \n",
       "58  ...                                                                                                                                                                                                                                                                                                                                                                                                                           \n",
       "59  กล่าวถึงกรณีที่ฝ่ายค้านยื่นอภิปรายทั่วไปแบบไม่ลงมติ ว่า เป็นเพียงแค่เกมการเมือง ที่ฝ่ายค้านหวังใช้เวทีนี้ดิสเครดิตรัฐบาล และลดความน่าเชื่อถือของรัฐบาล แต่ยอมรับว่าเป็นกลไกตามระบอบประชาธิปไตย ซึ่งตนเองเห็นด้วยกับวิธีการ และรัฐบาลจะใช้เวทีนี้                                                                                                                                                                              \n",
       "60  เป็นโอกาสในการชี้แจง                                                                                                                                                                                                                                                                                                                                                                                                          \n",
       "61  ...                                                                                                                                                                                                                                                                                                                                                                                                                           \n",
       "62  ...                                                                                                                                                                                                                                                                                                                                                                                                                           \n",
       "63  ...                                                                                                                                                                                                                                                                                                                                                                                                                           \n",
       "64  ...                                                                                                                                                                                                                                                                                                                                                                                                                           \n",
       "65  เพราะเชื่อว่านายกรัฐมนตรี จะสามารถตอบได้ทุกเรื่อง Topic การเมือง , ฝ่ายค้าน People ชลน่าน ศรีแก้ว Author กองบรรณาธิการวอยซ์ออนไลน์ 51558 Article 1192 Video 10 Blog MOST VIEWED READ WATCH ABOUT FAQ CONTACT TERM OF USE SCHEDULE                                                                                                                                                                                             \n",
       "\n",
       "                                                                                                                                                               unk_words  \n",
       "0                                                                                                                                                                         \n",
       "1   \"ฝ่ายค้าน\", \"เปิดฉาก\", \"ถอด\", \"ไฟเขียว\", \"ญัตติ\", \"ซักฟอก\", \"ฝ่ายค้าน\", \"เปิดฉาก\", \"ถอด\", \"ไฟเขียว\", \"ญัตติ\", \"ซักฟอก\"                                                \n",
       "2                                                                                                                                                                         \n",
       "3   \"ญัตติ\", \"อภิปราย\", \"ม.\", \"ฝ่ายค้าน\", \"วิป\", \"กลางเดือน\", \"ฝ่ายค้าน\"                                                                                                  \n",
       "4   \"ยุทธการ\", \"ถอด\", \"จำเลย\", \"ยัน\", \"เว้น\", \"ประวิตร\", \"หลีก\"                                                                                                           \n",
       "5   \"ญัตติ\", \"ยื่น\", \"อภิปราย\"                                                                                                                                            \n",
       "6   \"ฝ่ายค้าน\", \"อภิปราย\", \"ลงมติ\"                                                                                                                                        \n",
       "7                                                                                                                                                                         \n",
       "8                                                                                                                                                                         \n",
       "9   \"นอกเหนือจาก\", \"ฝ่ายค้าน\"                                                                                                                                             \n",
       "10  \"ชี้แจง\", \"เตรียมการ\"                                                                                                                                                 \n",
       "11  \"กลางเดือน\"                                                                                                                                                           \n",
       "12                                                                                                                                                                        \n",
       "13  \"บรรจุ\", \"ญัตติ\"                                                                                                                                                      \n",
       "14  \"การประสานงาน\"                                                                                                                                                        \n",
       "15  \"องค์ประชุม\", \"ครบถ้วน\"                                                                                                                                               \n",
       "16  \"วาระ\"                                                                                                                                                                \n",
       "17                                                                                                                                                                        \n",
       "18  \"รมย์\", \"ตามที่\"                                                                                                                                                      \n",
       "19  \"ศุกร์\", \"ศุกร์\"                                                                                                                                                      \n",
       "20                                                                                                                                                                        \n",
       "21  \"รวมไปถึง\", \"พ.ร.บ.\", \"กัญชา\", \"กัญ\", \"ชง\"                                                                                                                            \n",
       "22  \"ศุภ\"                                                                                                                                                                 \n",
       "23  \"สมุทร\"                                                                                                                                                               \n",
       "24  \"กรรมาธิการ\"                                                                                                                                                          \n",
       "25                                                                                                                                                                        \n",
       "26  \"องค์ประชุม\"                                                                                                                                                          \n",
       "27  \"พร้อมทั้ง\", \"ขอความร่วมมือ\"                                                                                                                                          \n",
       "28  \"ขอร้อง\"                                                                                                                                                              \n",
       "29  \"ตำหนิ\", \"กรรมาธิการ\", \"พ้นไป\"                                                                                                                                        \n",
       "30                                                                                                                                                                        \n",
       "31  \"ท้ายที่สุด\", \"ค้าง\"                                                                                                                                                  \n",
       "32  \"กรรมาธิการ\"                                                                                                                                                          \n",
       "33  \"ถอด\", \"นายแพทย์\", \"ชล\", \"น่าน\", \"ศรี\", \"ฝ่ายค้าน\", \"อภิปราย\", \"ยุทธการ\"                                                                                              \n",
       "34  \"เด็ดหัว\", \"สอย\", \"นั่งร้าน\"                                                                                                                                          \n",
       "35  \"อภิปราย\", \"ลงมติ\", \"ยุทธการ\", \"ถอด\", \"กระชาก\", \"เสนอแนะ\", \"เนื้อหา\", \"โดยรวม\", \"ความล้มเหลว\"                                                                         \n",
       "36  \"ข้อเสนอแนะ\", \"ครอบคลุม\", \"มิติ\"                                                                                                                                      \n",
       "37  \"แถลง\", \"ญัตติ\"                                                                                                                                                       \n",
       "38  \"เร่งด่วน\", \"ตามที่\", \"แถลง\"                                                                                                                                          \n",
       "39  \"ความล้มเหลว\"                                                                                                                                                         \n",
       "40  \"ถอด\"                                                                                                                                                                 \n",
       "41  \"ใส่หน้ากาก\", \"ย้อนหลัง\", \"อ้างว่า\", \"ยื้อแย่ง\"                                                                                                                       \n",
       "42                                                                                                                                                                        \n",
       "43  \"เนื้อแท้\", \"มอบให้\"                                                                                                                                                  \n",
       "44                                                                                                                                                                        \n",
       "45  \"ใกล้เคียง\", \"อภิปราย\", \"เนื้อหาสาระ\", \"ลงมติ\"                                                                                                                        \n",
       "46  \"ถอด\", \"ดีกัน\"                                                                                                                                                        \n",
       "47  \"ฝ่ายค้าน\"                                                                                                                                                            \n",
       "48  \"ทำหน้าที่แทน\"                                                                                                                                                        \n",
       "49  \"ฝ่ายค้าน\", \"นายแพทย์\", \"ชล\", \"น่าน\", \"ฝ่ายค้าน\"                                                                                                                      \n",
       "50  \"นายแพทย์\", \"ชล\", \"น่าน\", \"ฝ่ายค้าน\", \"มอบหมาย\", \"เงื่อนไข\", \"อภิปราย\", \"ละเว้น\", \"พลเอก\", \"ประวิตร\", \"วงษ์\", \"สุวรรณ\", \"นายแพทย์\", \"ชล\", \"น่าน\", \"เนื้อหา\", \"ญัตติ\"  \n",
       "51  \"หยิบยก\", \"เด่นชัด\", \"เจาะ\", \"อภิปราย\", \"มาตร\", \"พลเอก\", \"จำเลย\", \"ฝ่ายค้าน\", \"ซักล้าง\", \"แปดเปื้อน\"                                                                  \n",
       "52  \"ซักล้าง\", \"พลเอก\", \"เป้า\", \"พุ่ง\", \"เป้า\", \"พลเอก\"                                                                                                                   \n",
       "53  \"การหยิบยก\"                                                                                                                                                           \n",
       "54  \"ลงมติ\", \"ลงคะแนน\", \"พลเอก\", \"สืบทอด\"                                                                                                                                 \n",
       "55  \"ฝ่ายค้าน\", \"า\"                                                                                                                                                       \n",
       "56                                                                                                                                                                        \n",
       "57  \"ดาร\", \"อภิ\", \"'ธนกร'\", \"ธน\", \"วัง\"                                                                                                                                   \n",
       "58                                                                                                                                                                        \n",
       "59  \"ฝ่ายค้าน\", \"ยื่น\", \"อภิปราย\", \"ลงมติ\", \"ฝ่ายค้าน\", \"ดิสเครดิต\", \"ความน่าเชื่อถือ\", \"กลไก\", \"ระบอบประชาธิปไตย\"                                                        \n",
       "60  \"การชี้แจง\"                                                                                                                                                           \n",
       "61                                                                                                                                                                        \n",
       "62                                                                                                                                                                        \n",
       "63                                                                                                                                                                        \n",
       "64                                                                                                                                                                        \n",
       "65  \"ฝ่ายค้าน\", \"ชล\", \"น่าน\", \"ศรี\"                                                                                                                                       "
      ]
     },
     "execution_count": 101,
     "metadata": {},
     "output_type": "execute_result"
    }
   ],
   "source": [
    "print(webpage)\n",
    "filter_text(webpage,print_word_lvl=True)"
   ]
  },
  {
   "cell_type": "markdown",
   "id": "b04bfa91",
   "metadata": {},
   "source": [
    "##END"
   ]
  },
  {
   "cell_type": "code",
   "execution_count": 147,
   "id": "db36cdb8",
   "metadata": {
    "collapsed": true
   },
   "outputs": [
    {
     "name": "stdout",
     "output_type": "stream",
     "text": [
      "daily catch in word count:\n",
      "['เชิญ', 'ยิ้ม', 'ยินดี', 'รอย', 'เอกสาร', 'สนิท', 'กระดาษ', 'คอ', 'โรงพยาบาล', 'หิน', 'จด', 'ปืน', 'โต๊ะ', 'เสื้อผ้า', 'เลือด', 'สิทธิ์', 'นักเขียน', 'สนุกสนาน', 'หัวเราะ', 'หู', 'ยิง', 'สวยงาม', 'ล่า', 'แขก', 'ดอกไม้', 'ที่นั่ง', 'เสือ', 'ปกป้อง', 'รับประทาน', 'ไอ', 'สนุก', 'ลูกชาย', 'สหรัฐ', 'นิ้ว', 'ไอ้', 'รถไฟ', 'เล็กน้อย', 'โปรด', 'คะแนน', 'กรุณา', 'โรงแรม', 'จดหมาย', 'ขับ', 'ดื่ม', 'หอม', 'ระมัดระวัง', 'ฤดู', 'ฟัน', 'เท้า', 'หล่อน', 'วางแผน', 'ลับ', 'ลอย', 'ยกเว้น', 'ลูกค้า', 'ริม', 'ม้า', 'คอมพิวเตอร์']\n"
     ]
    }
   ],
   "source": [
    "#Upload from download\n",
    "with open(path+'known_thai_list.txt',\"r\") as input_file:\n",
    "    new_words = input_file.read().split(',')\n",
    "    print(\"daily catch in word count:\")\n",
    "    print(new_words)\n",
    "for line in new_words:   \n",
    "    vocab['white_listed'].add(line.replace(\"'\",\"\").strip())\n"
   ]
  },
  {
   "cell_type": "code",
   "execution_count": 154,
   "id": "0141a9c3",
   "metadata": {},
   "outputs": [
    {
     "name": "stdout",
     "output_type": "stream",
     "text": [
      "Hello Nong\n"
     ]
    }
   ],
   "source": [
    "\n",
    "wyw_text = 'สวัสดีครับน้อง'\n",
    "print(ts.google(wyw_text))\n",
    "#print(ts._google.language_map)\n",
    "#print(ts.google(wyw_text))"
   ]
  },
  {
   "cell_type": "code",
   "execution_count": 227,
   "id": "67b1cbb0",
   "metadata": {},
   "outputs": [
    {
     "name": "stdout",
     "output_type": "stream",
     "text": [
      "today's catch % of corpus:\n"
     ]
    },
    {
     "data": {
      "text/plain": [
       "'1.200344766395417%'"
      ]
     },
     "execution_count": 227,
     "metadata": {},
     "output_type": "execute_result"
    }
   ],
   "source": [
    "#Get after when adding in new words\n",
    "print(\"today's catch % of corpus:\")\n",
    "str(100*(percent-prev_percent))+\"%\""
   ]
  },
  {
   "cell_type": "code",
   "execution_count": null,
   "id": "3258e547",
   "metadata": {},
   "outputs": [],
   "source": [
    "#output newly knowns\n",
    "with open(path+\"new_known_thai_lines.txt\",\"w\") as outfile:\n",
    "    for line in list(set(knowns).difference(prev_knowns)):\n",
    "        outfile.write(line+'\\n')\n"
   ]
  },
  {
   "cell_type": "code",
   "execution_count": 105,
   "id": "1a9fb3c5",
   "metadata": {},
   "outputs": [
    {
     "name": "stdout",
     "output_type": "stream",
     "text": [
      "Sanity check. Current vocab size:\n"
     ]
    },
    {
     "data": {
      "text/plain": [
       "1462"
      ]
     },
     "execution_count": 105,
     "metadata": {},
     "output_type": "execute_result"
    }
   ],
   "source": [
    "print(\"Sanity check. Current vocab size:\")\n",
    "len(vocab['white_listed'])"
   ]
  },
  {
   "cell_type": "code",
   "execution_count": 117,
   "id": "564b37a8",
   "metadata": {},
   "outputs": [],
   "source": [
    "\"\"\"\n",
    "to do:\n",
    "\n",
    "\"\"\""
   ]
  },
  {
   "cell_type": "code",
   "execution_count": 7,
   "id": "d9799280",
   "metadata": {},
   "outputs": [
    {
     "data": {
      "text/plain": [
       "999"
      ]
     },
     "execution_count": 7,
     "metadata": {},
     "output_type": "execute_result"
    }
   ],
   "source": [
    "##INPUT-OUTPUT\n",
    "#vocab list:\n",
    "with open(\"/Users/elyebliss/Desktop/Vocabulary/vocab_dfs/thai_whitelisted.csv\",\"r\") as infile:\n",
    "    whitelisted_lemmas = infile.read()\n",
    "\n",
    "\n",
    "##VARIABLES\n",
    "vocab_all = set()\n",
    "\n",
    "\n",
    "for line in whitelisted_lemmas.split('\\n'):\n",
    "    if len(line) > 0:\n",
    "        \n",
    "        vocab = line.strip()\n",
    "        vocab_all.add(vocab)\n",
    "        \n",
    "len(whitelisted_lemmas.split('\\n'))            \n",
    "#pp.pprint(vocab_all)"
   ]
  },
  {
   "cell_type": "code",
   "execution_count": 8,
   "id": "3e37bfb9",
   "metadata": {},
   "outputs": [],
   "source": [
    "vocab = {}\n",
    "vocab['white_listed'] = list(vocab_all)\n",
    "vocab['black_listed'] = []"
   ]
  }
 ],
 "metadata": {
  "kernelspec": {
   "display_name": "Python 3 (ipykernel)",
   "language": "python",
   "name": "python3"
  },
  "language_info": {
   "codemirror_mode": {
    "name": "ipython",
    "version": 3
   },
   "file_extension": ".py",
   "mimetype": "text/x-python",
   "name": "python",
   "nbconvert_exporter": "python",
   "pygments_lexer": "ipython3",
   "version": "3.9.12"
  }
 },
 "nbformat": 4,
 "nbformat_minor": 5
}
