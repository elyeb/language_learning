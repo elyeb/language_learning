{
 "cells": [
  {
   "cell_type": "code",
   "execution_count": null,
   "id": "05aba0c4",
   "metadata": {},
   "outputs": [],
   "source": [
    "\"\"\"\n",
    "\n",
    "Contents:\n",
    "-data intialization from csv file of words &\n",
    " build data structure to house info moving forward\n",
    "-write to .json formats\n",
    "-read from existing .json formats\n",
    "-get list of words to find\n",
    "-scrape BBC\n",
    "-scrape voiceTV\n",
    "\"\"\""
   ]
  },
  {
   "cell_type": "code",
   "execution_count": 1,
   "id": "ebdc6804",
   "metadata": {},
   "outputs": [
    {
     "name": "stderr",
     "output_type": "stream",
     "text": [
      "Using state Washington server backend.\n"
     ]
    }
   ],
   "source": [
    "import bs4, requests, sys, codecs, urllib.request, re\n",
    "from bs4 import SoupStrainer\n",
    "from bs4.element import Comment\n",
    "import random\n",
    "#import pythainlp\n",
    "from pythainlp.tokenize import word_tokenize, sent_tokenize\n",
    "import string\n",
    "import json\n",
    "import pandas as pd\n",
    "import os\n",
    "from os import listdir\n",
    "from os.path import isfile, join\n",
    "import pprint\n",
    "import translators as ts\n",
    "\n",
    "pp = pprint.PrettyPrinter()\n",
    "pd.set_option('display.max_rows', None)\n",
    "pd.set_option('display.max_colwidth', 0)\n",
    "\n",
    "path = \"/Users/elyebliss/Desktop/Vocabulary/language_learning/vocab_dfs/\"\n",
    "source_file = \"thai.json\""
   ]
  },
  {
   "cell_type": "code",
   "execution_count": 2,
   "id": "ce69b1b0",
   "metadata": {},
   "outputs": [],
   "source": [
    "##METHODS\n",
    "\n",
    "def tag_visible(element):\n",
    "    if element.parent.name in ['style', 'script', 'head', 'title', 'meta', '[document]']:\n",
    "        return False\n",
    "    if isinstance(element, Comment):\n",
    "        return False\n",
    "    return True\n",
    "\n",
    "\n",
    "def text_from_html(body):\n",
    "    soup = bs4.BeautifulSoup(body, 'html.parser')\n",
    "    texts = soup.findAll(text=True)\n",
    "    visible_texts = filter(tag_visible, texts)  \n",
    "    return u\" \".join(t.strip() for t in visible_texts)\n",
    "\n",
    "\n",
    "\n",
    "user_agent = 'Mozilla/5.0 (Windows NT 6.3; WOW64; rv:50.0) Gecko/20100101 Firefox/50.0'\n",
    "headers={'User-Agent':user_agent,}\n",
    "parser = 'html.parser'"
   ]
  },
  {
   "cell_type": "code",
   "execution_count": 3,
   "id": "63afba50",
   "metadata": {},
   "outputs": [],
   "source": [
    "def get_known(unknown_list):\n",
    "    \n",
    "    count_got = 0\n",
    "    known_list = []\n",
    "    for word in unknown_list:\n",
    "        decision = str(input(word+\"\\nKnown =k\"))\n",
    "        if decision =='k':\n",
    "            known_list.append(word)\n",
    "            count_got +=1\n",
    "            print(\"got \"+str(count_got))\n",
    "        elif decision=='q':\n",
    "            break\n",
    "        try:\n",
    "            print(ts.google(word))\n",
    "        except:\n",
    "            print('cant find')\n",
    "    return known_list"
   ]
  },
  {
   "cell_type": "code",
   "execution_count": 4,
   "id": "117b26f1",
   "metadata": {},
   "outputs": [],
   "source": [
    "def filter_text(webpage,start=None,stop=None,\\\n",
    "                print_word_lvl=False,percent_threshold=None,\\\n",
    "               return_percent=False):\n",
    "\n",
    "\n",
    "    try:\n",
    "        request=urllib.request.Request(webpage,None,headers) #The assembled request\n",
    "        response = urllib.request.urlopen(request)\n",
    "        data = response.read()\n",
    "        contents = text_from_html(data)\n",
    "\n",
    "        known_array = []\n",
    "        unk_array = []\n",
    "        contents_array = sent_tokenize(contents)\n",
    "\n",
    "        if (start is not None) and (stop is not None):\n",
    "            contents_array=contents_array[max(start,0):min(stop,len(contents_array))]\n",
    "\n",
    "        disallowed_words = set()\n",
    "\n",
    "        total_words = 0\n",
    "        unknown_words = 0\n",
    "        \n",
    "        lines = []\n",
    "        unknowns = []\n",
    "        for line in contents_array:\n",
    "\n",
    "\n",
    "            tokenized = word_tokenize(line)\n",
    "\n",
    "\n",
    "            add_line = True\n",
    "            line_total = 0\n",
    "            line_unks = 0\n",
    "\n",
    "            unk_str = \"\"\n",
    "            for word in tokenized:\n",
    "                \n",
    "                total_words +=1\n",
    "                line_total +=1\n",
    "\n",
    "                if bool(re.search('[\\u0E00-\\u0E7F]+', word, flags=re.UNICODE)) and not ((word in vocab['white_listed']) or\\\n",
    "                                                            (word in vocab['black_listed'])):\n",
    "\n",
    "                        unk_str += '\"'+word+'\"'+\", \"\n",
    "                        if not percent_threshold:\n",
    "                            add_line = False\n",
    "                        disallowed_words.add(word)\n",
    "                        unknown_words +=1\n",
    "                        line_unks +=1\n",
    "\n",
    "            if percent_threshold:\n",
    "                if line_total>0:\n",
    "                    if (1-(line_unks/line_total))<percent_threshold:\n",
    "                        add_line = False\n",
    "            if add_line:\n",
    "                known_array.append(line)\n",
    "                unk_array.append(\"...\")\n",
    "            else:\n",
    "                known_array.append(\"...\")\n",
    "                unk_array.append(line)\n",
    "\n",
    "            if len(unk_str)>0:\n",
    "                unk_str = unk_str[0:len(unk_str)-2]\n",
    "\n",
    "            unknowns.append(unk_str)\n",
    "\n",
    "        if print_word_lvl and total_words>0:\n",
    "            print(\"word-level % known = \"+str((1-(unknown_words/total_words))*100))\n",
    "        if return_percent and total_words>0:\n",
    "            return (1-(unknown_words/total_words))*100\n",
    "        return_pd = pd.DataFrame(list(zip(known_array,unk_array,unknowns)))\n",
    "        return_pd.columns = [\"knowns\",\"unknowns\",\"unk_words\"]\n",
    "\n",
    "        \n",
    "\n",
    "        with open(path+'unknown_thai_list.txt',\"w\") as outfile:\n",
    "            outfile.write(str(list(disallowed_words)))\n",
    "\n",
    "        return return_pd\n",
    "\n",
    "    except:\n",
    "        pass"
   ]
  },
  {
   "cell_type": "code",
   "execution_count": 50,
   "id": "826dae68",
   "metadata": {},
   "outputs": [
    {
     "name": "stdout",
     "output_type": "stream",
     "text": [
      "2192\n",
      "2537\n"
     ]
    }
   ],
   "source": [
    "\"\"\"read from existing .json formats\n",
    "uncovered, \n",
    "2192\n",
    "2537\n",
    "\"\"\"\n",
    "with open(path+source_file, \"r\") as path_in:\n",
    "    vocab = json.loads(path_in.read())\n",
    "vocab['white_listed'] = set(vocab['white_listed'])\n",
    "vocab['black_listed'] = set(vocab['black_listed'])\n",
    "print(len(vocab['white_listed'])) \n",
    "\n",
    "#get 4k freq word info:\n",
    "with open(path+'th_freq.csv','r') as infile:\n",
    "    freq_df = pd.read_csv(infile)\n",
    "uncovered = []\n",
    "for word in freq_df.word:\n",
    "    if word not in vocab['white_listed']:\n",
    "        uncovered.append(word)\n",
    "print(len(uncovered))\n",
    "\n"
   ]
  },
  {
   "cell_type": "code",
   "execution_count": 29,
   "id": "004a939d",
   "metadata": {},
   "outputs": [
    {
     "name": "stdout",
     "output_type": "stream",
     "text": [
      "Checking BBC Thai\n",
      "Checking VoiceTV\n"
     ]
    }
   ],
   "source": [
    "pages = []\n",
    "titles = []\n",
    "\n",
    "##BBC\n",
    "print(\"Checking BBC Thai\")\n",
    "parser = 'html.parser'  # or 'lxml' (preferred) or 'html5lib', if installed\n",
    "request=urllib.request.Request('https://www.bbc.com/thai/topics/cjgn73g98rqt',None,headers)\n",
    "resp = urllib.request.urlopen(request)\n",
    "soup = bs4.BeautifulSoup(resp, parser, from_encoding=resp.info().get_param('charset'))\n",
    "\n",
    "\n",
    "for link in soup.find_all('a', href=True):\n",
    "    if 'https://www.bbc.com/thai/thailand' in str(link['href']):\n",
    "        pages.append(str(link['href']))\n",
    "        request=urllib.request.Request(str(link['href']),None,headers) #The assembled request\n",
    "\n",
    "        response = urllib.request.urlopen(request)\n",
    "        data = response.read()\n",
    "        contents = text_from_html(data)\n",
    "        if bool(re.search(\"(?<=ยอดนิยม หน้าแรก ประเทศไทย ต่างประเทศ วิทยาศาสตร์ สุขภาพ โควิด-19 วิดีโอ ยอดนิยม).{30}\",contents)):\n",
    "            titles.append(re.findall(\"(?<=ยอดนิยม หน้าแรก ประเทศไทย ต่างประเทศ วิทยาศาสตร์ สุขภาพ โควิด-19 วิดีโอ ยอดนิยม).{30}\",contents)[0].strip())\n",
    "\n",
    "    elif '/thai/thailand' in str(link['href']):\n",
    "        pages.append('https://www.bbc.com'+str(link['href']))\n",
    "\n",
    "##VoiceTV\n",
    "print(\"Checking VoiceTV\")\n",
    "parser = 'html.parser'  # or 'lxml' (preferred) or 'html5lib', if installed\n",
    "request=urllib.request.Request('https://www.voicetv.co.th/topic/%E0%B8%81%E0%B8%B2%E0%B8%A3%E0%B9%80%E0%B8%A1%E0%B8%B7%E0%B8%AD%E0%B8%87',None,headers)\n",
    "resp = urllib.request.urlopen(request)\n",
    "soup = bs4.BeautifulSoup(resp, parser, from_encoding=resp.info().get_param('charset'))\n",
    "\n",
    " \n",
    "for link in soup.find_all('a', href=True):\n",
    "    str_page = 'https://www.voicetv.co.th'+str(link['href'])\n",
    "    if '/read/' in str(link['href']) and str_page not in pages:\n",
    "        pages.append(str_page)\n",
    "        request=urllib.request.Request(str_page,None,headers) #The assembled request\n",
    "\n",
    "        response = urllib.request.urlopen(request)\n",
    "        data = response.read()\n",
    "        contents = text_from_html(data)\n",
    "        titles.append(re.findall(\"(?<=  :).{30}\",contents)[0].strip())"
   ]
  },
  {
   "cell_type": "code",
   "execution_count": 30,
   "id": "411c6c9a",
   "metadata": {},
   "outputs": [
    {
     "data": {
      "text/plain": [
       "1164"
      ]
     },
     "execution_count": 30,
     "metadata": {},
     "output_type": "execute_result"
    }
   ],
   "source": [
    "#load prev corpus and add\n",
    "known_corpus = set()\n",
    "with open(path+\"all_known_thai_lines.txt\",\"r\",encoding='utf-8') as infile:\n",
    "    for line in infile.read().split('\\n'):\n",
    "        known_corpus.add(line)\n",
    "len(known_corpus)"
   ]
  },
  {
   "cell_type": "code",
   "execution_count": 31,
   "id": "bb6ee0f7",
   "metadata": {},
   "outputs": [
    {
     "name": "stdout",
     "output_type": "stream",
     "text": [
      "percent all known= 0.16248348745046234\n"
     ]
    }
   ],
   "source": [
    "#Find % of all sentences of news\n",
    "knowns = []\n",
    "all_lines = 0\n",
    "\n",
    "known_percents = []\n",
    "\n",
    "for webpage in pages:\n",
    "    \n",
    "    test_df = filter_text(webpage)\n",
    "    all_lines += len(list(test_df.knowns))\n",
    "    \n",
    "    known_percents.append(filter_text(webpage,return_percent=True))\n",
    "    \n",
    "    for item in list(test_df.knowns[test_df.knowns != '...']):\n",
    "        knowns.append(item)\n",
    "percent = len(knowns)/float(all_lines)\n",
    "print(\"percent all known= \"+str(percent))\n"
   ]
  },
  {
   "cell_type": "code",
   "execution_count": 32,
   "id": "1fa348ef",
   "metadata": {
    "collapsed": true
   },
   "outputs": [
    {
     "data": {
      "text/plain": [
       "['เพราะฉะนั้น ถ้าไม่ลงจากหลังเสือตอนนี้ก็จะไม่สามารถลงได้อย่างสวยงาม ',\n",
       " 'ก็รู้แล้วว่าเป็นดาวคนละดวง แต่ตรงนี้เหมือนเป็นนายกฯ คนละครึ่ง ',\n",
       " 'การที่จะเป็นรัฐบาลจะต้องได้หลายพื้นที่มากขึ้น เดินมากขึ้น ',\n",
       " 'แน่นอนว่า รัฐบาลนี้มีอำนาจรัฐจึงพยายามปิดเสียงประชาชน ',\n",
       " 'Last update Nov 25, 2022 11:28 )   นายกรัฐมนตรี ',\n",
       " 'เพื่อให้ทุกอย่างในประเทศไทยเดินไปข้างหน้าให้ได้ ',\n",
       " 'เพราะตอนนั้นมีเวลาน้อย แต่ตอนนี้ทำงานมาปีครึ่ง ',\n",
       " 'แม้ว่าสภาฯ จะมีเวลาเหลืออีกไม่กี่เดือนก็ตาม ',\n",
       " 'นั่นคือสิ่งที่ทำให้จิตใจผมอยู่ถึงวันนี้ได้ ',\n",
       " 'ถึงไม่ชอบก็ยิ้มไว้ก่อนเดี๋ยวก็คุยกันได้เอง ',\n",
       " 'ทำให้รู้ว่าโลกใบนี้ไม่ใช่โลกใบเดิมของเรา ',\n",
       " 'ประชาชนต้องมีส่วนรู้ และเข้าใจมากที่สุด ',\n",
       " 'ตนค่อนข้างกังวลที่บางครั้งพูดกันไม่ได้ ',\n",
       " 'เราต้องลดของเราให้ได้ โอกาสจึงจะมาถึง ',\n",
       " 'ตนทราบถึงปัญหาดีว่าเกิดอะไรขึ้นบ้าง ',\n",
       " 'วันนี้จึงขอให้ติดตามกันในเรื่องนี้ ',\n",
       " 'เราจึงต้องช่วยกันว่าอะไรทำได้บ้าง ',\n",
       " 'การจำกัดสิทธิต้องไม่เลือกปฏิบัติ ',\n",
       " 'มันพร้อมมาตั้งแต่ 6 เดือนที่แล้ว ',\n",
       " 'มันจะถูกควบคุมการทำงานจากรัฐบาล ',\n",
       " 'ส่วนต่อมา นโยบายเศรษฐกิจสีเขียว ',\n",
       " 'ตลอดจนเรื่องนโยบายและการบริหาร ',\n",
       " 'เนื่องจากเรามีพื้นที่ไม่มากนัก ',\n",
       " 'และสุดท้ายประชาชนจะไม่ได้อะไร ',\n",
       " 'แนะควรภูมิใจที่อยู่แผ่นดินนี้ ',\n",
       " 'แล้วเพิ่มเรื่องประชาชนมากขึ้น ',\n",
       " 'และแผนอย่างไรในการปฏิบัติงาน ',\n",
       " 'หากการชุมนุมนั้นมีความเสี่ยง ',\n",
       " 'ในเมื่อเราแก้รัฐธรรมนูญแล้ว ',\n",
       " 'จะเห็นว่าก่อนการประชุมเอเปค ',\n",
       " 'เป็นการดำเนินการตามกฎหมาย ',\n",
       " 'ดูเหมือนเป็นกลางแต่ไม่ใช่ ',\n",
       " 'ทุกอย่างจะมาที่ประเทศไทย ',\n",
       " 'นี่คือสิ่งที่สำคัญที่สุด ',\n",
       " 'สิ่งที่ต่อสู้ในเอเปคนั้น ',\n",
       " 'แต่ถ้าเกิดมีเวลามากกว่า ',\n",
       " 'เชื่อผม ผมอยู่มาหลายปี ',\n",
       " 'เมื่อ 7 ชั่วโมงที่แล้ว ',\n",
       " 'เราจึงต้องปรับวิธีการ ',\n",
       " 'ไม่มีความสุขหรอกตนรู้ ',\n",
       " 'ทุกอย่างมีก้าวแรกเสมอ ',\n",
       " 'เราจะเสนอให้มีรายงาน ',\n",
       " 'ต่างจากตอนอนาคตใหม่ ',\n",
       " 'เพื่อให้นาทีสุดท้าย ',\n",
       " 'เราเป็นหนึ่งในโอกาส ',\n",
       " 'และมีแนวคิดร่วมกัน ',\n",
       " 'ไม่มีสำเร็จสักอัน ',\n",
       " 'มันเป็นไปได้ยาก ',\n",
       " 'เราก็อย่าไปหลง ',\n",
       " 'ถ้าเราไม่ยิ้ม ',\n",
       " 'ไม่ถึง 2 นาที ']"
      ]
     },
     "execution_count": 32,
     "metadata": {},
     "output_type": "execute_result"
    }
   ],
   "source": [
    "#sorted(list(set(knowns)),key=len,reverse=True)\n",
    "sorted(list(set(knowns).difference(known_corpus)),key=len,reverse=True)"
   ]
  },
  {
   "cell_type": "code",
   "execution_count": 33,
   "id": "1ee450fe",
   "metadata": {},
   "outputs": [
    {
     "data": {
      "text/plain": [
       "1215"
      ]
     },
     "execution_count": 33,
     "metadata": {},
     "output_type": "execute_result"
    }
   ],
   "source": [
    "for item in list(set(knowns)):\n",
    "    known_corpus.add(item)\n",
    "\n",
    "with open(path+\"all_known_thai_lines.txt\",\"w\",encoding='utf-8') as outfile:\n",
    "    for line in list(set(known_corpus)):\n",
    "        outfile.write(line+'\\n')\n",
    "len(known_corpus)"
   ]
  },
  {
   "cell_type": "code",
   "execution_count": 34,
   "id": "2d6948c1",
   "metadata": {},
   "outputs": [
    {
     "name": "stdout",
     "output_type": "stream",
     "text": [
      "18\n"
     ]
    }
   ],
   "source": [
    "websites = set()\n",
    "\n",
    "with open(path+'viewed_websites_th.txt',\"r\") as infile:\n",
    "    for line in infile.read().split('\\n'):\n",
    "        websites.add(line)\n",
    "print(len(websites))"
   ]
  },
  {
   "cell_type": "code",
   "execution_count": 35,
   "id": "2a643828",
   "metadata": {
    "collapsed": true
   },
   "outputs": [
    {
     "data": {
      "text/plain": [
       "[(4,\n",
       "  89.43364327979712,\n",
       "  '‘ประยุทธ์’ อวยพรปีใหม่สื่อทำเ',\n",
       "  'https://www.voicetv.co.th/read/0kUrVxJCm'),\n",
       " (3,\n",
       "  88.23529411764706,\n",
       "  \"'ชัยวุฒิ' ยื่นลาออก ส.ส.พปชร.\",\n",
       "  'https://www.voicetv.co.th/read/zf066gWT7'),\n",
       " (5,\n",
       "  85.68329718004338,\n",
       "  '‘วิษณุ’แย้มประตูยุบสภาเปิดอยู',\n",
       "  'https://www.voicetv.co.th/read/HpsxqnPFI'),\n",
       " (0,\n",
       "  85.48593350383632,\n",
       "  'ถอดบทเรียนเอเปค สาวไส้ BCG ฟอ',\n",
       "  'https://www.bbc.com/thai/thailand-63662204'),\n",
       " (2,\n",
       "  83.0300465509945,\n",
       "  '\\'ประยุทธ์\\' ลั่น \"นายกฯ ไม่ใช่',\n",
       "  'https://www.voicetv.co.th/read/NseVwZrF2'),\n",
       " (1,\n",
       "  81.66345536287733,\n",
       "  '‘พิธา’ มอง ‘ประยุทธ์’ เหมือนย',\n",
       "  'https://www.bbc.com/thai/thailand-63566397'),\n",
       " (6,\n",
       "  80.27923211169285,\n",
       "  \"รีวิว 'Collective': นักข่าวไม\",\n",
       "  'https://www.voicetv.co.th/read/bn95YMr0a')]"
      ]
     },
     "execution_count": 35,
     "metadata": {},
     "output_type": "execute_result"
    }
   ],
   "source": [
    "page_titles = list(zip(range(0,len(known_percents)),known_percents,titles,pages))\n",
    "# (sorted(list(zip(range(0,len(known_percents)),known_percents)),key = lambda x: x[1],reverse=True))\n",
    "page_titles = sorted(page_titles,key = lambda x: x[1],reverse=True)\n",
    "page_titles = [item for item in page_titles if not (item[3] in websites)]\n",
    "page_titles"
   ]
  },
  {
   "cell_type": "code",
   "execution_count": 37,
   "id": "1e2e7b73",
   "metadata": {},
   "outputs": [
    {
     "name": "stdout",
     "output_type": "stream",
     "text": [
      "already scanned! choose another!\n"
     ]
    }
   ],
   "source": [
    "webpage = pages[4]\n",
    "if webpage in websites:\n",
    "    print(\"already scanned! choose another!\")\n",
    "websites.add(webpage)"
   ]
  },
  {
   "cell_type": "code",
   "execution_count": 14,
   "id": "f737a6dc",
   "metadata": {},
   "outputs": [],
   "source": [
    "\n",
    "with open(path+'viewed_websites_th.txt',\"w\") as outfile:\n",
    "    for line in websites:\n",
    "        outfile.write(line+'\\n')      \n"
   ]
  },
  {
   "cell_type": "code",
   "execution_count": 38,
   "id": "141ae514",
   "metadata": {},
   "outputs": [
    {
     "name": "stdout",
     "output_type": "stream",
     "text": [
      "word-level % known = 89.43364327979712\n"
     ]
    }
   ],
   "source": [
    "#display() #percent_threshold=0.95\n",
    "art=filter_text(webpage,print_word_lvl=True)"
   ]
  },
  {
   "cell_type": "code",
   "execution_count": 39,
   "id": "8bce1137",
   "metadata": {},
   "outputs": [
    {
     "name": "stdout",
     "output_type": "stream",
     "text": [
      "88\n"
     ]
    }
   ],
   "source": [
    "with open(path+'unknown_thai_list.txt',\"r\") as input_file:\n",
    "    new_words = input_file.read()\n",
    "    new_words = re.sub(\"[\\n\\'\\[\\]]\",\"\",new_words)\n",
    "    new_words = new_words.split(',')\n",
    "    new_words = [line.strip() for line in new_words] #update regex\n",
    "#new_words\n",
    "print(len(new_words))\n",
    "#known_manual = get_known(new_words)"
   ]
  },
  {
   "cell_type": "code",
   "execution_count": 40,
   "id": "efd86a33",
   "metadata": {},
   "outputs": [],
   "source": [
    "import mitosheet\n",
    "unk_df = pd.DataFrame(new_words)\n",
    "unk_df.columns = ['word']\n",
    "unk_df['status'] = pd.Series(['' for word in new_words])"
   ]
  },
  {
   "cell_type": "code",
   "execution_count": 41,
   "id": "3663bb4f",
   "metadata": {
    "collapsed": true
   },
   "outputs": [
    {
     "data": {
      "application/vnd.jupyter.widget-view+json": {
       "model_id": "65aa2cffe8b84caf806d498ed1fe689e",
       "version_major": 2,
       "version_minor": 0
      },
      "text/plain": [
       "MitoWidget(analysis_data_json='{\"analysisName\": \"id-zdmuiplscs\", \"analysisToReplay\": null, \"code\": [], \"stepSu…"
      ]
     },
     "metadata": {},
     "output_type": "display_data"
    }
   ],
   "source": [
    "mitosheet.sheet(unk_df, analysis_to_replay=\"id-zdmuiplscs\")"
   ]
  },
  {
   "cell_type": "code",
   "execution_count": null,
   "id": "fa12bb73",
   "metadata": {},
   "outputs": [],
   "source": []
  },
  {
   "cell_type": "code",
   "execution_count": 42,
   "id": "60d5d1ff",
   "metadata": {},
   "outputs": [],
   "source": [
    "add_ints = [0, 2, 5, 8, 13, 17, 19, 23, 32, 35, 39, 42, 45, 48, 49, 51, 52, 54, 57, 58, 60, 66, 67, 68, 75, 79, 82, 85]"
   ]
  },
  {
   "cell_type": "code",
   "execution_count": 43,
   "id": "77eb121a",
   "metadata": {},
   "outputs": [],
   "source": [
    "for i in add_ints:\n",
    "    # Set a cell value in status\n",
    "    unk_df.at[i, 'status'] = 'k'"
   ]
  },
  {
   "cell_type": "code",
   "execution_count": 44,
   "id": "71c577e6",
   "metadata": {},
   "outputs": [],
   "source": [
    "translations = []\n",
    "for i in range(0,len(unk_df)):\n",
    "    try:\n",
    "        translations.append(ts.google(unk_df.word.iloc[i]))\n",
    "    except:\n",
    "        translations.append('')\n",
    "unk_df['translations']=translations\n"
   ]
  },
  {
   "cell_type": "code",
   "execution_count": 45,
   "id": "fe5bce81",
   "metadata": {
    "collapsed": true
   },
   "outputs": [
    {
     "data": {
      "application/vnd.jupyter.widget-view+json": {
       "model_id": "dfd998e7af6a40d7b5830d1a1d07e6c6",
       "version_major": 2,
       "version_minor": 0
      },
      "text/plain": [
       "MitoWidget(analysis_data_json='{\"analysisName\": \"id-eeiwaalmsp\", \"analysisToReplay\": null, \"code\": [], \"stepSu…"
      ]
     },
     "metadata": {},
     "output_type": "display_data"
    }
   ],
   "source": [
    "mitosheet.sheet(unk_df, analysis_to_replay=\"id-eeiwaalmsp\")"
   ]
  },
  {
   "cell_type": "code",
   "execution_count": null,
   "id": "79123da9",
   "metadata": {},
   "outputs": [],
   "source": []
  },
  {
   "cell_type": "code",
   "execution_count": 46,
   "id": "455c3cdb",
   "metadata": {},
   "outputs": [
    {
     "name": "stdout",
     "output_type": "stream",
     "text": [
      "28\n"
     ]
    }
   ],
   "source": [
    "add_words = list(unk_df.word[unk_df['status']=='k'])\n",
    "print(len(add_words))\n",
    "for word in add_words:\n",
    "    vocab['white_listed'].add(word)"
   ]
  },
  {
   "cell_type": "code",
   "execution_count": 56,
   "id": "27b8e0f9",
   "metadata": {},
   "outputs": [],
   "source": [
    "#manually remove from white\n",
    "remove_from_white = []\n",
    "\n",
    "for word in remove_from_white:\n",
    "    if word in vocab['white_listed']:\n",
    "        vocab['white_listed'].remove(word)"
   ]
  },
  {
   "cell_type": "code",
   "execution_count": 55,
   "id": "2706f449",
   "metadata": {},
   "outputs": [],
   "source": [
    "#manually add to white\n",
    "add_to_white = []\n",
    "\n",
    "for word in add_to_white:\n",
    "    vocab['white_listed'].add(word)"
   ]
  },
  {
   "cell_type": "code",
   "execution_count": 47,
   "id": "02a15572",
   "metadata": {},
   "outputs": [
    {
     "name": "stdout",
     "output_type": "stream",
     "text": [
      "2192\n"
     ]
    }
   ],
   "source": [
    "#write to .json formats\n",
    "df = vocab\n",
    "df['white_listed'] = list(df['white_listed'])\n",
    "df['black_listed'] = list(df['black_listed'])\n",
    "with open(path+source_file, \"w\") as outfile:\n",
    "    json.dump(df,outfile)\n",
    "print(len(df['white_listed']))"
   ]
  },
  {
   "cell_type": "code",
   "execution_count": 48,
   "id": "c7f67a5d",
   "metadata": {},
   "outputs": [
    {
     "name": "stdout",
     "output_type": "stream",
     "text": [
      "2192\n"
     ]
    }
   ],
   "source": [
    "#read from existing .json formats\n",
    "with open(path+source_file, \"r\") as path_in:\n",
    "    vocab = json.loads(path_in.read())\n",
    "vocab['white_listed'] = set(vocab['white_listed'])\n",
    "vocab['black_listed'] = set(vocab['black_listed'])\n",
    "print(len(vocab['white_listed']))"
   ]
  },
  {
   "cell_type": "code",
   "execution_count": 49,
   "id": "4f09c08d",
   "metadata": {
    "collapsed": true
   },
   "outputs": [
    {
     "name": "stdout",
     "output_type": "stream",
     "text": [
      "https://www.voicetv.co.th/read/0kUrVxJCm\n",
      "word-level % known = 92.73034657650042\n"
     ]
    },
    {
     "data": {
      "text/html": [
       "<div><div id=688efe05-cbbf-4032-b3b4-f9b2d24449b8 style=\"display:none; background-color:#9D6CFF; color:white; width:200px; height:30px; padding-left:5px; border-radius:4px; flex-direction:row; justify-content:space-around; align-items:center;\" onmouseover=\"this.style.backgroundColor='#BA9BF8'\" onmouseout=\"this.style.backgroundColor='#9D6CFF'\" onclick=\"window.commands?.execute('create-mitosheet-from-dataframe-output');\">See Full Dataframe in Mito</div> <script> if (window.commands?.hasCommand('create-mitosheet-from-dataframe-output')) document.getElementById('688efe05-cbbf-4032-b3b4-f9b2d24449b8').style.display = 'flex' </script> <table border=\"1\" class=\"dataframe\">\n",
       "  <thead>\n",
       "    <tr style=\"text-align: right;\">\n",
       "      <th></th>\n",
       "      <th>knowns</th>\n",
       "      <th>unknowns</th>\n",
       "      <th>unk_words</th>\n",
       "    </tr>\n",
       "  </thead>\n",
       "  <tbody>\n",
       "    <tr>\n",
       "      <th>0</th>\n",
       "      <td>POLITICS ECONOMICS WORLD ENTERTAINMENT WELL-BEING LOCAL NEWS BLOG VOICE PLAZA TV PROGRAMS LIVE POLITICS ECONOMICS WORLD ENTERTAINMENT WELL-BEING LOCAL NEWS BLOG VOICE PLAZA TV PROGRAMS ABOUT FAQ CONTACT TERM OF USE SCHEDULE ไม่พบผลการค้นหา</td>\n",
       "      <td>...</td>\n",
       "      <td></td>\n",
       "    </tr>\n",
       "    <tr>\n",
       "      <th>1</th>\n",
       "      <td>...</td>\n",
       "      <td>คุณกำลังอ่าน  : 'ประยุทธ์' ลั่น \"นายกฯ ไม่ใช่คนใจร้าย\" เผยไหว้พระขอพรทุกวันให้ประเทศเดินหน้า Share Tweet Share การเมือง 'ประยุทธ์' ลั่น \"นายกฯ ไม่ใช่คนใจร้าย\" เผยไหว้พระขอพรทุกวันให้ประเทศเดินหน้า Nov 25, 2022 (</td>\n",
       "      <td>\"ลั่น\", \"ไหว้พระ\", \"ขอพร\", \"ลั่น\", \"ไหว้พระ\", \"ขอพร\"</td>\n",
       "    </tr>\n",
       "    <tr>\n",
       "      <th>2</th>\n",
       "      <td>Last update Nov 25, 2022 11:28 )   นายกรัฐมนตรี</td>\n",
       "      <td>...</td>\n",
       "      <td></td>\n",
       "    </tr>\n",
       "    <tr>\n",
       "      <th>3</th>\n",
       "      <td>...</td>\n",
       "      <td>มอบนโยบายเลือกตั้งสมาชิกสภาเกษตรกรฯ ขอให้สุจริต บอกไทยไม่มีภูเขาไฟ แต่ระเบิดกันเอง</td>\n",
       "      <td>\"มอบ\", \"เกษตรกร\", \"สุจริต\"</td>\n",
       "    </tr>\n",
       "    <tr>\n",
       "      <th>4</th>\n",
       "      <td>แนะควรภูมิใจที่อยู่แผ่นดินนี้</td>\n",
       "      <td>...</td>\n",
       "      <td></td>\n",
       "    </tr>\n",
       "    <tr>\n",
       "      <th>...</th>\n",
       "      <td>...</td>\n",
       "      <td>...</td>\n",
       "      <td>...</td>\n",
       "    </tr>\n",
       "    <tr>\n",
       "      <th>68</th>\n",
       "      <td>ไม่มีสำเร็จสักอัน</td>\n",
       "      <td>...</td>\n",
       "      <td></td>\n",
       "    </tr>\n",
       "    <tr>\n",
       "      <th>69</th>\n",
       "      <td>เชื่อผม ผมอยู่มาหลายปี</td>\n",
       "      <td>...</td>\n",
       "      <td></td>\n",
       "    </tr>\n",
       "    <tr>\n",
       "      <th>70</th>\n",
       "      <td>ผมรู้ว่ามันมีปัญหาเยอะพอสมควรกับความไม่เข้าใจ ก็ขอให้ทุกคนทำความเข้าใจ</td>\n",
       "      <td>...</td>\n",
       "      <td></td>\n",
       "    </tr>\n",
       "    <tr>\n",
       "      <th>71</th>\n",
       "      <td>...</td>\n",
       "      <td>เราต้องร่วมมือและจับมือกันเดินไปข้างหน้าพร้อมกัน</td>\n",
       "      <td>\"ร่วมมือ\"</td>\n",
       "    </tr>\n",
       "    <tr>\n",
       "      <th>72</th>\n",
       "      <td>...</td>\n",
       "      <td>ไม่มีใครทำสำเร็จด้วยคนๆเดียว หรือโดยประเทศใดประเทศหนึ่งประเทศเดียว\" Topic การเมือง Author กองบรรณาธิการวอยซ์ออนไลน์ 50995 Article 1192 Video 10 Blog MOST VIEWED READ WATCH ABOUT FAQ CONTACT TERM OF USE SCHEDULE</td>\n",
       "      <td>\"กองบรรณาธิการ\"</td>\n",
       "    </tr>\n",
       "  </tbody>\n",
       "</table></div>"
      ],
      "text/plain": [
       "                                                                                                                                                                                                                                                 knowns  \\\n",
       "0      POLITICS ECONOMICS WORLD ENTERTAINMENT WELL-BEING LOCAL NEWS BLOG VOICE PLAZA TV PROGRAMS LIVE POLITICS ECONOMICS WORLD ENTERTAINMENT WELL-BEING LOCAL NEWS BLOG VOICE PLAZA TV PROGRAMS ABOUT FAQ CONTACT TERM OF USE SCHEDULE ไม่พบผลการค้นหา    \n",
       "1   ...                                                                                                                                                                                                                                                   \n",
       "2   Last update Nov 25, 2022 11:28 )   นายกรัฐมนตรี                                                                                                                                                                                                       \n",
       "3   ...                                                                                                                                                                                                                                                   \n",
       "4   แนะควรภูมิใจที่อยู่แผ่นดินนี้                                                                                                                                                                                                                         \n",
       "5   พูดเปิดอกอยากให้รู้ว่านายกฯ                                                                                                                                                                                                                           \n",
       "6   ...                                                                                                                                                                                                                                                   \n",
       "7   ...                                                                                                                                                                                                                                                   \n",
       "8   ...                                                                                                                                                                                                                                                   \n",
       "9   ...                                                                                                                                                                                                                                                   \n",
       "10  ทุกครั้งที่ตนไปต่างจังหวัดตนจะหาข้อมูลแล้วไปพูดคุยหารือเป็นทางการและไม่เป็นทางการ                                                                                                                                                                     \n",
       "11  ตนทราบถึงปัญหาดีว่าเกิดอะไรขึ้นบ้าง                                                                                                                                                                                                                   \n",
       "12  ...                                                                                                                                                                                                                                                   \n",
       "13  เป็นการดำเนินการตามกฎหมาย                                                                                                                                                                                                                             \n",
       "14  ...                                                                                                                                                                                                                                                   \n",
       "15  ...                                                                                                                                                                                                                                                   \n",
       "16  และมีแนวคิดร่วมกัน                                                                                                                                                                                                                                    \n",
       "17  ตนค่อนข้างกังวลที่บางครั้งพูดกันไม่ได้                                                                                                                                                                                                                \n",
       "18  เราจึงต้องปรับวิธีการ                                                                                                                                                                                                                                 \n",
       "19  ...                                                                                                                                                                                                                                                   \n",
       "20  ...                                                                                                                                                                                                                                                   \n",
       "21  เนื่องจากเรามีพื้นที่ไม่มากนัก                                                                                                                                                                                                                        \n",
       "22  ...                                                                                                                                                                                                                                                   \n",
       "23  มันเป็นไปได้ยาก                                                                                                                                                                                                                                       \n",
       "24  วันนี้จึงขอให้ติดตามกันในเรื่องนี้                                                                                                                                                                                                                    \n",
       "25  ...                                                                                                                                                                                                                                                   \n",
       "26  ทำให้รู้ว่าโลกใบนี้ไม่ใช่โลกใบเดิมของเรา                                                                                                                                                                                                              \n",
       "27  ...                                                                                                                                                                                                                                                   \n",
       "28  ...                                                                                                                                                                                                                                                   \n",
       "29  นี่คือสิ่งที่สำคัญที่สุด                                                                                                                                                                                                                              \n",
       "30  ...                                                                                                                                                                                                                                                   \n",
       "31  ...                                                                                                                                                                                                                                                   \n",
       "32  ไม่มีความสุขหรอกตนรู้                                                                                                                                                                                                                                 \n",
       "33  ...                                                                                                                                                                                                                                                   \n",
       "34  ...                                                                                                                                                                                                                                                   \n",
       "35  ...                                                                                                                                                                                                                                                   \n",
       "36  เราเป็นหนึ่งในโอกาส                                                                                                                                                                                                                                   \n",
       "37  ...                                                                                                                                                                                                                                                   \n",
       "38  ...                                                                                                                                                                                                                                                   \n",
       "39  เราต้องลดของเราให้ได้ โอกาสจึงจะมาถึง                                                                                                                                                                                                                 \n",
       "40  ...                                                                                                                                                                                                                                                   \n",
       "41  ...                                                                                                                                                                                                                                                   \n",
       "42  ...                                                                                                                                                                                                                                                   \n",
       "43  เราจึงต้องช่วยกันว่าอะไรทำได้บ้าง                                                                                                                                                                                                                     \n",
       "44  ...                                                                                                                                                                                                                                                   \n",
       "45  ...                                                                                                                                                                                                                                                   \n",
       "46  ...                                                                                                                                                                                                                                                   \n",
       "47  ...                                                                                                                                                                                                                                                   \n",
       "48  รัฐบาลนี้ทำทุกอย่างให้ลดลงไปบ้างแต่ไม่เป็นศูนย์                                                                                                                                                                                                       \n",
       "49  ...                                                                                                                                                                                                                                                   \n",
       "50  ทุกอย่างจะมาที่ประเทศไทย                                                                                                                                                                                                                              \n",
       "51  ...                                                                                                                                                                                                                                                   \n",
       "52  ถ้าเราไม่ยิ้ม                                                                                                                                                                                                                                         \n",
       "53  ...                                                                                                                                                                                                                                                   \n",
       "54  ถึงไม่ชอบก็ยิ้มไว้ก่อนเดี๋ยวก็คุยกันได้เอง                                                                                                                                                                                                            \n",
       "55  ...                                                                                                                                                                                                                                                   \n",
       "56  ...                                                                                                                                                                                                                                                   \n",
       "57  ทุกอย่างมีก้าวแรกเสมอ                                                                                                                                                                                                                                 \n",
       "58  เราต้องก้าวให้ไกลและไปให้ถึง ที่เขาเขียนสคริปต์มาไม่ได้เอาพูดเลย                                                                                                                                                                                      \n",
       "59  เพราะวันนี้อยากเปิดอก และให้รู้ว่านายกฯ                                                                                                                                                                                                               \n",
       "60  ...                                                                                                                                                                                                                                                   \n",
       "61  ...                                                                                                                                                                                                                                                   \n",
       "62  ...                                                                                                                                                                                                                                                   \n",
       "63  ...                                                                                                                                                                                                                                                   \n",
       "64  ...                                                                                                                                                                                                                                                   \n",
       "65  เพื่อให้ทุกอย่างในประเทศไทยเดินไปข้างหน้าให้ได้                                                                                                                                                                                                       \n",
       "66  นั่นคือสิ่งที่ทำให้จิตใจผมอยู่ถึงวันนี้ได้                                                                                                                                                                                                            \n",
       "67  ...                                                                                                                                                                                                                                                   \n",
       "68  ไม่มีสำเร็จสักอัน                                                                                                                                                                                                                                     \n",
       "69  เชื่อผม ผมอยู่มาหลายปี                                                                                                                                                                                                                                \n",
       "70  ผมรู้ว่ามันมีปัญหาเยอะพอสมควรกับความไม่เข้าใจ ก็ขอให้ทุกคนทำความเข้าใจ                                                                                                                                                                                \n",
       "71  ...                                                                                                                                                                                                                                                   \n",
       "72  ...                                                                                                                                                                                                                                                   \n",
       "\n",
       "                                                                                                                                                                                                                                                                 unknowns  \\\n",
       "0   ...                                                                                                                                                                                                                                                                     \n",
       "1   คุณกำลังอ่าน  : 'ประยุทธ์' ลั่น \"นายกฯ ไม่ใช่คนใจร้าย\" เผยไหว้พระขอพรทุกวันให้ประเทศเดินหน้า Share Tweet Share การเมือง 'ประยุทธ์' ลั่น \"นายกฯ ไม่ใช่คนใจร้าย\" เผยไหว้พระขอพรทุกวันให้ประเทศเดินหน้า Nov 25, 2022 (                                                     \n",
       "2   ...                                                                                                                                                                                                                                                                     \n",
       "3   มอบนโยบายเลือกตั้งสมาชิกสภาเกษตรกรฯ ขอให้สุจริต บอกไทยไม่มีภูเขาไฟ แต่ระเบิดกันเอง                                                                                                                                                                                      \n",
       "4   ...                                                                                                                                                                                                                                                                     \n",
       "5   ...                                                                                                                                                                                                                                                                     \n",
       "6   ไม่ใช่คนใจร้าย เผยไหว้พระขอพรทุกวันให้ประเทศเดินไปข้างหน้า พล.อ.ประยุทธ์ จันทร์โอชา นายกรัฐมนตรี และรัฐมนตรีว่าการกระทรวงกลาโหม กล่าวปาฐกถามอบนโยบายเพื่อขับเคลื่อนการบริหารจัดการเลือกตั้งสมาชิกสภาเกษตรกรจังหวัด และการเลือกสมาชิกสภาเกษตรกรแห่งชาติ ว่า ประเทศไทย    \n",
       "7   เป็นประเทศเกษตรกรรม                                                                                                                                                                                                                                                     \n",
       "8   ดังนั้นสิ่งที่รัฐบาลและตนเป็นห่วงคือทำอย่างไรให้เกษตรกรมีรายได้พอเพียงเพื่อดำรงชีวิตอยู่ในโลกปัจจุบัน หลายๆ อย่างก็เปลี่ยนแปลงไปเยอะเราจึงต้องปรับเปลี่ยนไป                                                                                                             \n",
       "9   วันนี้เป็นโอกาสอันดีที่ได้มาพบกัน และที่ผ่านมาตนไม่เคยทอดทิ้งท่าน อยู่ที่ว่าเราจะร่วมมือกันได้อย่างไร                                                                                                                                                                   \n",
       "10  ...                                                                                                                                                                                                                                                                     \n",
       "11  ...                                                                                                                                                                                                                                                                     \n",
       "12  วันนี้ต้องปรับเปลี่ยนอะไรบ้าง ในเรื่องของการเลือกตั้งสมาชิกสภาเกษตรกรแห่งชาติ                                                                                                                                                                                           \n",
       "13  ...                                                                                                                                                                                                                                                                     \n",
       "14  ในหลายจังหวัดตนได้พบว่าแต่ละจังหวัดมีปัญหาเราจึงต้องแก้ไปทีละเปราะ                                                                                                                                                                                                      \n",
       "15  ซึ่งต้องร่วมมือกัน                                                                                                                                                                                                                                                      \n",
       "16  ...                                                                                                                                                                                                                                                                     \n",
       "17  ...                                                                                                                                                                                                                                                                     \n",
       "18  ...                                                                                                                                                                                                                                                                     \n",
       "19  และปรับหลักคิดต่างๆ ให้สอดคล้องกับปัญหา เช่น ปัญหาหนี้สิน                                                                                                                                                                                                               \n",
       "20  ปัญหาแหล่งน้ำ และปัญหาที่ดินทำกินของเกษตรกร                                                                                                                                                                                                                             \n",
       "21  ...                                                                                                                                                                                                                                                                     \n",
       "22  ดังนั้นเราจึงมีกลไกจัดหาที่ดินให้ประชาชน เพราะเราไม่สามารถให้ทุกคนได้                                                                                                                                                                                                   \n",
       "23  ...                                                                                                                                                                                                                                                                     \n",
       "24  ...                                                                                                                                                                                                                                                                     \n",
       "25  ในส่วนของภัยธรรมชาติ และโรคระบาด                                                                                                                                                                                                                                        \n",
       "26  ...                                                                                                                                                                                                                                                                     \n",
       "27  รัฐบาลจึงต้องหาทางแก้ปัญหา ซึ่งเราได้ให้การช่วยเหลือเยียวยา ออกมาตรการระยะสั้น และระยะยาว จากต้นทางถึงปลายทาง ไปบ้างแล้ว นายกฯ กล่าวต่อว่า                                                                                                                              \n",
       "28  การตลาดวันนี้ก็เป็นตลาดออนไลน์และขายตรง เป็นภาพใหญ่ที่ทุกคนต้องเข้าใจเพื่อให้เราสามารถแข่งขัน มีความเข้มแข็งและพึ่งพาตัวเองได้                                                                                                                                          \n",
       "29  ...                                                                                                                                                                                                                                                                     \n",
       "30  สิ่งที่เรากังวลที่สุดคือการแก้ปัญหาความยากจน ทั้งในครัวเรือน และอาชีพต่างๆ ซึ่งกระทรวงมหาดไทยดูแลปัญหาเรื่องนี้อยู่แล้ว                                                                                                                                                 \n",
       "31  วันนี้เราทุกคนมีหนี้มีสิน                                                                                                                                                                                                                                               \n",
       "32  ...                                                                                                                                                                                                                                                                     \n",
       "33  เราจึงจะต้องแก้ปัญหาหนี้สินและทำให้ราคาสินค้าเกษตรเพิ่มขึ้น                                                                                                                                                                                                             \n",
       "34  เรามีเกษตรกรจำนวนมากที่จะเข้าไม่ถึงในเรื่องเหล่านี้                                                                                                                                                                                                                     \n",
       "35  เราจึงต้องรวมกลุ่มกันให้ได้ เรื่องต่างๆ ที่เสนอกันมาตนก็รับไปพิจารณาไปแล้ว นายกฯ กล่าวว่า ในอาเซียน                                                                                                                                                                     \n",
       "36  ...                                                                                                                                                                                                                                                                     \n",
       "37  โดยเฉพาะในช่วงเวลานี้เพราะตอนนี้ในภูมิภาคต่างๆ มีความขัดแย้งสูง                                                                                                                                                                                                         \n",
       "38  การรวมกลุ่มของประเทศต่างๆ ภูมิภาคต่างๆ มีปัญหาหมด                                                                                                                                                                                                                       \n",
       "39  ...                                                                                                                                                                                                                                                                     \n",
       "40  ซึ่งรัฐบาลไม่ได้มุ่งหวังที่จะควบคุม                                                                                                                                                                                                                                     \n",
       "41  นอกจากนี้ เราต้องคำนึงถึงการสร้างเกษตรสมัยใหม่                                                                                                                                                                                                                          \n",
       "42  สมาร์ทฟาร์มมิ่ง และเกษตรอัจฉริยะ เพื่อทำทุกอย่างให้ครบวงจร บ้านเราไม่ขาดแคลน แต่เราจะทำอย่างไรให้มูลค่าอาหารของเรามีมูลค่าสูงขึ้นในตลาด                                                                                                                                 \n",
       "43  ...                                                                                                                                                                                                                                                                     \n",
       "44  รวมถึงต้องมีการรักษาสิ่งแวดล้อม \"เราควรจะภูมิใจที่อยู่ในแผ่นดินผืนนี้                                                                                                                                                                                                   \n",
       "45  สุวรรณภูมินี่แหละ ของเราภูเขาไฟไม่มี แต่ระเบิดกันเอง                                                                                                                                                                                                                    \n",
       "46  ความคิดไง ทำให้โทษใครไม่ได้                                                                                                                                                                                                                                             \n",
       "47  เราจะต้องรักแผ่นดินผืนนี้ ที่เป็นแผ่นดินของคนไทย\" นายกฯ กล่าวอีกว่า                                                                                                                                                                                                     \n",
       "48  ...                                                                                                                                                                                                                                                                     \n",
       "49  ถ้าประเทศไทยสันติมีความสงบ                                                                                                                                                                                                                                              \n",
       "50  ...                                                                                                                                                                                                                                                                     \n",
       "51  วันนี้ลองส่องกระจกดูว่ารอยยิ้มของเรายิ้มสวยหรือไม่                                                                                                                                                                                                                      \n",
       "52  ...                                                                                                                                                                                                                                                                     \n",
       "53  พลังงานลบจะออกจากตัว                                                                                                                                                                                                                                                    \n",
       "54  ...                                                                                                                                                                                                                                                                     \n",
       "55  วันนี้กลับไปก็ยิ้มให้ภรรยายิ้มให้สามีด้วย นายกฯ กล่าวว่า ตนขอให้การเลือกตั้งสมาชิกสภาเกษตรกรแห่งชาติครั้งนี้เป็นไปโดยสงบเรียบร้อย และสุจริต                                                                                                                             \n",
       "56  สิ่งสำคัญที่สุดคือให้ทุกคนได้มีส่วนร่วมในวงจรภาคการเกษตร                                                                                                                                                                                                                \n",
       "57  ...                                                                                                                                                                                                                                                                     \n",
       "58  ...                                                                                                                                                                                                                                                                     \n",
       "59  ...                                                                                                                                                                                                                                                                     \n",
       "60  ไม่ใช่คนใจร้าย นายกฯ กล่าวว่า ทั้งนี้ การเลือกตั้งสภาสมาชิกเกษตรกรแห่งชาติ ก็เป็นการเลือกตั้งตามกฎหมาย และคิดว่าน่าจะเรียบร้อย                                                                                                                                          \n",
       "61  ส่วนงบประมาณสำหรับจัดการเลือกตั้งสภาเกษตรฯ คณะรัฐมนตรี (ครม.) ก็อนุมัติไปแล้ว                                                                                                                                                                                           \n",
       "62  โดยให้กระทรวงมหาดไทยดูแล และกฎหมายก็มีแล้ว                                                                                                                                                                                                                              \n",
       "63  ตนจึงขออวยพรให้คนที่ลงเลือกตั้งสมาชิกสภาเกษตรกรฯ ประสบความสำเร็จทุกคน                                                                                                                                                                                                   \n",
       "64  \"ผมไหว้พระขอพร พระแม่คงคา พระแม่ธรณี และพระสยามเทวาธิราชทุกวัน                                                                                                                                                                                                          \n",
       "65  ...                                                                                                                                                                                                                                                                     \n",
       "66  ...                                                                                                                                                                                                                                                                     \n",
       "67  การทำงานก็คือการทำงาน ถ้าปราศจากความร่วมมือ                                                                                                                                                                                                                             \n",
       "68  ...                                                                                                                                                                                                                                                                     \n",
       "69  ...                                                                                                                                                                                                                                                                     \n",
       "70  ...                                                                                                                                                                                                                                                                     \n",
       "71  เราต้องร่วมมือและจับมือกันเดินไปข้างหน้าพร้อมกัน                                                                                                                                                                                                                        \n",
       "72  ไม่มีใครทำสำเร็จด้วยคนๆเดียว หรือโดยประเทศใดประเทศหนึ่งประเทศเดียว\" Topic การเมือง Author กองบรรณาธิการวอยซ์ออนไลน์ 50995 Article 1192 Video 10 Blog MOST VIEWED READ WATCH ABOUT FAQ CONTACT TERM OF USE SCHEDULE                                                      \n",
       "\n",
       "                                                                 unk_words  \n",
       "0                                                                           \n",
       "1   \"ลั่น\", \"ไหว้พระ\", \"ขอพร\", \"ลั่น\", \"ไหว้พระ\", \"ขอพร\"                    \n",
       "2                                                                           \n",
       "3   \"มอบ\", \"เกษตรกร\", \"สุจริต\"                                              \n",
       "4                                                                           \n",
       "5                                                                           \n",
       "6   \"ไหว้พระ\", \"ขอพร\", \"ปาฐกถา\", \"มอบ\", \"ขับเคลื่อน\", \"เกษตรกร\", \"เกษตรกร\"  \n",
       "7   \"ประเทศเกษตรกรรม\"                                                       \n",
       "8   \"เกษตรกร\", \"พอเพียง\", \"ดำรงชีวิต\"                                       \n",
       "9   \"ทอดทิ้ง\", \"ร่วมมือ\"                                                    \n",
       "10                                                                          \n",
       "11                                                                          \n",
       "12  \"เกษตรกร\"                                                               \n",
       "13                                                                          \n",
       "14  \"เปราะ\"                                                                 \n",
       "15  \"ร่วมมือ\"                                                               \n",
       "16                                                                          \n",
       "17                                                                          \n",
       "18                                                                          \n",
       "19  \"สอดคล้อง\", \"หนี้สิน\"                                                   \n",
       "20  \"เกษตรกร\"                                                               \n",
       "21                                                                          \n",
       "22  \"กลไก\", \"จัดหา\"                                                         \n",
       "23                                                                          \n",
       "24                                                                          \n",
       "25  \"ภัยธรรมชาติ\", \"โรคระบาด\"                                               \n",
       "26                                                                          \n",
       "27  \"ให้การ\", \"เยียวยา\", \"มาตรการ\", \"ปลายทาง\", \"ต่อว่า\"                     \n",
       "28  \"ขายตรง\", \"ความเข้มแข็ง\", \"พึ่งพา\"                                      \n",
       "29                                                                          \n",
       "30  \"ความยากจน\", \"ครัวเรือน\", \"กระทรวงมหาดไทย\"                              \n",
       "31  \"หนี้\", \"สิน\"                                                           \n",
       "32                                                                          \n",
       "33  \"หนี้สิน\", \"ให้ราคา\"                                                    \n",
       "34  \"เกษตรกร\"                                                               \n",
       "35  \"รวมกลุ่ม\"                                                              \n",
       "36                                                                          \n",
       "37  \"ภูมิภาค\"                                                               \n",
       "38  \"รวมกลุ่ม\", \"ภูมิภาค\"                                                   \n",
       "39                                                                          \n",
       "40  \"มุ่งหวัง\"                                                              \n",
       "41  \"คำนึงถึง\"                                                              \n",
       "42  \"มิ่ง\", \"อัจฉริยะ\", \"ครบวงจร\", \"ขาดแคลน\", \"มูลค่า\", \"มูลค่า\"            \n",
       "43                                                                          \n",
       "44  \"ผืน\"                                                                   \n",
       "45  \"สุวรรณภูมิ\"                                                            \n",
       "46  \"ให้โทษ\"                                                                \n",
       "47  \"ผืน\"                                                                   \n",
       "48                                                                          \n",
       "49  \"สันติ\"                                                                 \n",
       "50                                                                          \n",
       "51  \"ส่องกระจก\"                                                             \n",
       "52                                                                          \n",
       "53  \"พลังงาน\"                                                               \n",
       "54                                                                          \n",
       "55  \"เกษตรกร\", \"สุจริต\"                                                     \n",
       "56  \"วงจร\", \"การเกษตร\"                                                      \n",
       "57                                                                          \n",
       "58                                                                          \n",
       "59                                                                          \n",
       "60  \"เกษตรกร\"                                                               \n",
       "61  \"งบประมาณ\", \"ครม.\", \"อนุมัติ\"                                           \n",
       "62  \"กระทรวงมหาดไทย\"                                                        \n",
       "63  \"อวยพร\", \"เกษตรกร\"                                                      \n",
       "64  \"ไหว้พระ\", \"ขอพร\", \"แม่คงคา\", \"แม่ธรณี\", \"พระสยามเทวาธิราช\"             \n",
       "65                                                                          \n",
       "66                                                                          \n",
       "67  \"ปราศจาก\"                                                               \n",
       "68                                                                          \n",
       "69                                                                          \n",
       "70                                                                          \n",
       "71  \"ร่วมมือ\"                                                               \n",
       "72  \"กองบรรณาธิการ\"                                                         "
      ]
     },
     "execution_count": 49,
     "metadata": {},
     "output_type": "execute_result"
    }
   ],
   "source": [
    "print(webpage)\n",
    "filter_text(webpage,print_word_lvl=True)"
   ]
  },
  {
   "cell_type": "markdown",
   "id": "b04bfa91",
   "metadata": {},
   "source": [
    "##END"
   ]
  },
  {
   "cell_type": "code",
   "execution_count": 147,
   "id": "db36cdb8",
   "metadata": {
    "collapsed": true
   },
   "outputs": [
    {
     "name": "stdout",
     "output_type": "stream",
     "text": [
      "daily catch in word count:\n",
      "['เชิญ', 'ยิ้ม', 'ยินดี', 'รอย', 'เอกสาร', 'สนิท', 'กระดาษ', 'คอ', 'โรงพยาบาล', 'หิน', 'จด', 'ปืน', 'โต๊ะ', 'เสื้อผ้า', 'เลือด', 'สิทธิ์', 'นักเขียน', 'สนุกสนาน', 'หัวเราะ', 'หู', 'ยิง', 'สวยงาม', 'ล่า', 'แขก', 'ดอกไม้', 'ที่นั่ง', 'เสือ', 'ปกป้อง', 'รับประทาน', 'ไอ', 'สนุก', 'ลูกชาย', 'สหรัฐ', 'นิ้ว', 'ไอ้', 'รถไฟ', 'เล็กน้อย', 'โปรด', 'คะแนน', 'กรุณา', 'โรงแรม', 'จดหมาย', 'ขับ', 'ดื่ม', 'หอม', 'ระมัดระวัง', 'ฤดู', 'ฟัน', 'เท้า', 'หล่อน', 'วางแผน', 'ลับ', 'ลอย', 'ยกเว้น', 'ลูกค้า', 'ริม', 'ม้า', 'คอมพิวเตอร์']\n"
     ]
    }
   ],
   "source": [
    "#Upload from download\n",
    "with open(path+'known_thai_list.txt',\"r\") as input_file:\n",
    "    new_words = input_file.read().split(',')\n",
    "    print(\"daily catch in word count:\")\n",
    "    print(new_words)\n",
    "for line in new_words:   \n",
    "    vocab['white_listed'].add(line.replace(\"'\",\"\").strip())\n"
   ]
  },
  {
   "cell_type": "code",
   "execution_count": 154,
   "id": "0141a9c3",
   "metadata": {},
   "outputs": [
    {
     "name": "stdout",
     "output_type": "stream",
     "text": [
      "Hello Nong\n"
     ]
    }
   ],
   "source": [
    "\n",
    "wyw_text = 'สวัสดีครับน้อง'\n",
    "print(ts.google(wyw_text))\n",
    "#print(ts._google.language_map)\n",
    "#print(ts.google(wyw_text))"
   ]
  },
  {
   "cell_type": "code",
   "execution_count": 227,
   "id": "67b1cbb0",
   "metadata": {},
   "outputs": [
    {
     "name": "stdout",
     "output_type": "stream",
     "text": [
      "today's catch % of corpus:\n"
     ]
    },
    {
     "data": {
      "text/plain": [
       "'1.200344766395417%'"
      ]
     },
     "execution_count": 227,
     "metadata": {},
     "output_type": "execute_result"
    }
   ],
   "source": [
    "#Get after when adding in new words\n",
    "print(\"today's catch % of corpus:\")\n",
    "str(100*(percent-prev_percent))+\"%\""
   ]
  },
  {
   "cell_type": "code",
   "execution_count": null,
   "id": "3258e547",
   "metadata": {},
   "outputs": [],
   "source": [
    "#output newly knowns\n",
    "with open(path+\"new_known_thai_lines.txt\",\"w\") as outfile:\n",
    "    for line in list(set(knowns).difference(prev_knowns)):\n",
    "        outfile.write(line+'\\n')\n"
   ]
  },
  {
   "cell_type": "code",
   "execution_count": 105,
   "id": "1a9fb3c5",
   "metadata": {},
   "outputs": [
    {
     "name": "stdout",
     "output_type": "stream",
     "text": [
      "Sanity check. Current vocab size:\n"
     ]
    },
    {
     "data": {
      "text/plain": [
       "1462"
      ]
     },
     "execution_count": 105,
     "metadata": {},
     "output_type": "execute_result"
    }
   ],
   "source": [
    "print(\"Sanity check. Current vocab size:\")\n",
    "len(vocab['white_listed'])"
   ]
  },
  {
   "cell_type": "code",
   "execution_count": 117,
   "id": "564b37a8",
   "metadata": {},
   "outputs": [],
   "source": [
    "\"\"\"\n",
    "to do:\n",
    "\n",
    "\"\"\""
   ]
  },
  {
   "cell_type": "code",
   "execution_count": 7,
   "id": "d9799280",
   "metadata": {},
   "outputs": [
    {
     "data": {
      "text/plain": [
       "999"
      ]
     },
     "execution_count": 7,
     "metadata": {},
     "output_type": "execute_result"
    }
   ],
   "source": [
    "##INPUT-OUTPUT\n",
    "#vocab list:\n",
    "with open(\"/Users/elyebliss/Desktop/Vocabulary/vocab_dfs/thai_whitelisted.csv\",\"r\") as infile:\n",
    "    whitelisted_lemmas = infile.read()\n",
    "\n",
    "\n",
    "##VARIABLES\n",
    "vocab_all = set()\n",
    "\n",
    "\n",
    "for line in whitelisted_lemmas.split('\\n'):\n",
    "    if len(line) > 0:\n",
    "        \n",
    "        vocab = line.strip()\n",
    "        vocab_all.add(vocab)\n",
    "        \n",
    "len(whitelisted_lemmas.split('\\n'))            \n",
    "#pp.pprint(vocab_all)"
   ]
  },
  {
   "cell_type": "code",
   "execution_count": 8,
   "id": "3e37bfb9",
   "metadata": {},
   "outputs": [],
   "source": [
    "vocab = {}\n",
    "vocab['white_listed'] = list(vocab_all)\n",
    "vocab['black_listed'] = []"
   ]
  }
 ],
 "metadata": {
  "kernelspec": {
   "display_name": "Python 3 (ipykernel)",
   "language": "python",
   "name": "python3"
  },
  "language_info": {
   "codemirror_mode": {
    "name": "ipython",
    "version": 3
   },
   "file_extension": ".py",
   "mimetype": "text/x-python",
   "name": "python",
   "nbconvert_exporter": "python",
   "pygments_lexer": "ipython3",
   "version": "3.9.12"
  }
 },
 "nbformat": 4,
 "nbformat_minor": 5
}
