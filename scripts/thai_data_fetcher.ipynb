{
 "cells": [
  {
   "cell_type": "code",
   "execution_count": null,
   "id": "05aba0c4",
   "metadata": {},
   "outputs": [],
   "source": [
    "\"\"\"\n",
    "\n",
    "Contents:\n",
    "-data intialization from csv file of words &\n",
    " build data structure to house info moving forward\n",
    "-write to .json formats\n",
    "-read from existing .json formats\n",
    "-get list of words to find\n",
    "-scrape BBC\n",
    "-scrape voiceTV\n",
    "\"\"\""
   ]
  },
  {
   "cell_type": "code",
   "execution_count": 1,
   "id": "ebdc6804",
   "metadata": {},
   "outputs": [
    {
     "name": "stderr",
     "output_type": "stream",
     "text": [
      "Using state Washington server backend.\n"
     ]
    }
   ],
   "source": [
    "import bs4, requests, sys, codecs, urllib.request, re\n",
    "from bs4 import SoupStrainer\n",
    "from bs4.element import Comment\n",
    "import random\n",
    "#import pythainlp\n",
    "from pythainlp.tokenize import word_tokenize, sent_tokenize\n",
    "import string\n",
    "import json\n",
    "import pandas as pd\n",
    "import os\n",
    "from os import listdir\n",
    "from os.path import isfile, join\n",
    "import pprint\n",
    "import translators as ts\n",
    "\n",
    "pp = pprint.PrettyPrinter()\n",
    "pd.set_option('display.max_rows', None)\n",
    "pd.set_option('display.max_colwidth', 0)\n",
    "\n",
    "path = \"/Users/elyebliss/Desktop/Vocabulary/language_learning/vocab_dfs/\"\n",
    "source_file = \"thai.json\""
   ]
  },
  {
   "cell_type": "code",
   "execution_count": 2,
   "id": "ce69b1b0",
   "metadata": {},
   "outputs": [],
   "source": [
    "##METHODS\n",
    "\n",
    "def tag_visible(element):\n",
    "    if element.parent.name in ['style', 'script', 'head', 'title', 'meta', '[document]']:\n",
    "        return False\n",
    "    if isinstance(element, Comment):\n",
    "        return False\n",
    "    return True\n",
    "\n",
    "\n",
    "def text_from_html(body):\n",
    "    soup = bs4.BeautifulSoup(body, 'html.parser')\n",
    "    texts = soup.findAll(text=True)\n",
    "    visible_texts = filter(tag_visible, texts)  \n",
    "    return u\" \".join(t.strip() for t in visible_texts)\n",
    "\n",
    "\n",
    "\n",
    "user_agent = 'Mozilla/5.0 (Windows NT 6.3; WOW64; rv:50.0) Gecko/20100101 Firefox/50.0'\n",
    "headers={'User-Agent':user_agent,}\n",
    "parser = 'html.parser'"
   ]
  },
  {
   "cell_type": "code",
   "execution_count": 3,
   "id": "63afba50",
   "metadata": {},
   "outputs": [],
   "source": [
    "def get_known(unknown_list):\n",
    "    \n",
    "    count_got = 0\n",
    "    known_list = []\n",
    "    for word in unknown_list:\n",
    "        decision = str(input(word+\"\\nKnown =k\"))\n",
    "        if decision =='k':\n",
    "            known_list.append(word)\n",
    "            count_got +=1\n",
    "            print(\"got \"+str(count_got))\n",
    "        elif decision=='q':\n",
    "            break\n",
    "        try:\n",
    "            print(ts.google(word))\n",
    "        except:\n",
    "            print('cant find')\n",
    "    return known_list"
   ]
  },
  {
   "cell_type": "code",
   "execution_count": 4,
   "id": "117b26f1",
   "metadata": {},
   "outputs": [],
   "source": [
    "def filter_text(webpage,start=None,stop=None,\\\n",
    "                print_word_lvl=False,percent_threshold=None,\\\n",
    "               return_percent=False):\n",
    "\n",
    "\n",
    "    try:\n",
    "        request=urllib.request.Request(webpage,None,headers) #The assembled request\n",
    "        response = urllib.request.urlopen(request)\n",
    "        data = response.read()\n",
    "        contents = text_from_html(data)\n",
    "\n",
    "        known_array = []\n",
    "        unk_array = []\n",
    "        contents_array = sent_tokenize(contents)\n",
    "\n",
    "        if (start is not None) and (stop is not None):\n",
    "            contents_array=contents_array[max(start,0):min(stop,len(contents_array))]\n",
    "\n",
    "        disallowed_words = set()\n",
    "\n",
    "        total_words = 0\n",
    "        unknown_words = 0\n",
    "        \n",
    "        lines = []\n",
    "        unknowns = []\n",
    "        for line in contents_array:\n",
    "\n",
    "\n",
    "            tokenized = word_tokenize(line)\n",
    "\n",
    "\n",
    "            add_line = True\n",
    "            line_total = 0\n",
    "            line_unks = 0\n",
    "\n",
    "            unk_str = \"\"\n",
    "            for word in tokenized:\n",
    "                \n",
    "                total_words +=1\n",
    "                line_total +=1\n",
    "\n",
    "                if bool(re.search('[\\u0E00-\\u0E7F]+', word, flags=re.UNICODE)) and not ((word in vocab['white_listed']) or\\\n",
    "                                                            (word in vocab['black_listed'])):\n",
    "\n",
    "                        unk_str += '\"'+word+'\"'+\", \"\n",
    "                        if not percent_threshold:\n",
    "                            add_line = False\n",
    "                        disallowed_words.add(word)\n",
    "                        unknown_words +=1\n",
    "                        line_unks +=1\n",
    "\n",
    "            if percent_threshold:\n",
    "                if line_total>0:\n",
    "                    if (1-(line_unks/line_total))<percent_threshold:\n",
    "                        add_line = False\n",
    "            if add_line:\n",
    "                known_array.append(line)\n",
    "                unk_array.append(\"...\")\n",
    "            else:\n",
    "                known_array.append(\"...\")\n",
    "                unk_array.append(line)\n",
    "\n",
    "            if len(unk_str)>0:\n",
    "                unk_str = unk_str[0:len(unk_str)-2]\n",
    "\n",
    "            unknowns.append(unk_str)\n",
    "\n",
    "        if print_word_lvl and total_words>0:\n",
    "            print(\"word-level % known = \"+str((1-(unknown_words/total_words))*100))\n",
    "        if return_percent and total_words>0:\n",
    "            return (1-(unknown_words/total_words))*100\n",
    "        return_pd = pd.DataFrame(list(zip(known_array,unk_array,unknowns)))\n",
    "        return_pd.columns = [\"knowns\",\"unknowns\",\"unk_words\"]\n",
    "\n",
    "        \n",
    "\n",
    "        with open(path+'unknown_thai_list.txt',\"w\") as outfile:\n",
    "            outfile.write(str(list(disallowed_words)))\n",
    "\n",
    "        return return_pd\n",
    "\n",
    "    except:\n",
    "        pass"
   ]
  },
  {
   "cell_type": "code",
   "execution_count": 126,
   "id": "826dae68",
   "metadata": {},
   "outputs": [
    {
     "name": "stdout",
     "output_type": "stream",
     "text": [
      "2223\n",
      "2532\n"
     ]
    }
   ],
   "source": [
    "\"\"\"read from existing .json formats\n",
    "uncovered, \n",
    "2223\n",
    "2532\n",
    "\"\"\"\n",
    "with open(path+source_file, \"r\") as path_in:\n",
    "    vocab = json.loads(path_in.read())\n",
    "vocab['white_listed'] = set(vocab['white_listed'])\n",
    "vocab['black_listed'] = set(vocab['black_listed'])\n",
    "print(len(vocab['white_listed'])) \n",
    "\n",
    "#get 4k freq word info:\n",
    "with open(path+'th_freq.csv','r') as infile:\n",
    "    freq_df = pd.read_csv(infile)\n",
    "uncovered = []\n",
    "for word in freq_df.word:\n",
    "    if word not in vocab['white_listed']:\n",
    "        uncovered.append(word)\n",
    "print(len(uncovered))\n",
    "\n"
   ]
  },
  {
   "cell_type": "code",
   "execution_count": 97,
   "id": "004a939d",
   "metadata": {},
   "outputs": [
    {
     "name": "stdout",
     "output_type": "stream",
     "text": [
      "Checking BBC Thai\n",
      "Checking VoiceTV\n"
     ]
    }
   ],
   "source": [
    "pages = []\n",
    "titles = []\n",
    "\n",
    "##BBC\n",
    "print(\"Checking BBC Thai\")\n",
    "parser = 'html.parser'  # or 'lxml' (preferred) or 'html5lib', if installed\n",
    "request=urllib.request.Request('https://www.bbc.com/thai/topics/cjgn73g98rqt',None,headers)\n",
    "resp = urllib.request.urlopen(request)\n",
    "soup = bs4.BeautifulSoup(resp, parser, from_encoding=resp.info().get_param('charset'))\n",
    "\n",
    "\n",
    "for link in soup.find_all('a', href=True):\n",
    "    if 'https://www.bbc.com/thai/thailand' in str(link['href']):\n",
    "        pages.append(str(link['href']))\n",
    "        request=urllib.request.Request(str(link['href']),None,headers) #The assembled request\n",
    "\n",
    "        response = urllib.request.urlopen(request)\n",
    "        data = response.read()\n",
    "        contents = text_from_html(data)\n",
    "        if bool(re.search(\"(?<=ยอดนิยม หน้าแรก ประเทศไทย ต่างประเทศ วิทยาศาสตร์ สุขภาพ โควิด-19 วิดีโอ ยอดนิยม).{30}\",contents)):\n",
    "            titles.append(re.findall(\"(?<=ยอดนิยม หน้าแรก ประเทศไทย ต่างประเทศ วิทยาศาสตร์ สุขภาพ โควิด-19 วิดีโอ ยอดนิยม).{30}\",contents)[0].strip())\n",
    "\n",
    "    elif '/thai/thailand' in str(link['href']):\n",
    "        pages.append('https://www.bbc.com'+str(link['href']))\n",
    "\n",
    "##VoiceTV\n",
    "print(\"Checking VoiceTV\")\n",
    "parser = 'html.parser'  # or 'lxml' (preferred) or 'html5lib', if installed\n",
    "request=urllib.request.Request('https://www.voicetv.co.th/topic/%E0%B8%81%E0%B8%B2%E0%B8%A3%E0%B9%80%E0%B8%A1%E0%B8%B7%E0%B8%AD%E0%B8%87',None,headers)\n",
    "resp = urllib.request.urlopen(request)\n",
    "soup = bs4.BeautifulSoup(resp, parser, from_encoding=resp.info().get_param('charset'))\n",
    "\n",
    " \n",
    "for link in soup.find_all('a', href=True):\n",
    "    str_page = 'https://www.voicetv.co.th'+str(link['href'])\n",
    "    if '/read/' in str(link['href']) and str_page not in pages:\n",
    "        pages.append(str_page)\n",
    "        request=urllib.request.Request(str_page,None,headers) #The assembled request\n",
    "\n",
    "        response = urllib.request.urlopen(request)\n",
    "        data = response.read()\n",
    "        contents = text_from_html(data)\n",
    "        titles.append(re.findall(\"(?<=  :).{30}\",contents)[0].strip())"
   ]
  },
  {
   "cell_type": "code",
   "execution_count": 98,
   "id": "411c6c9a",
   "metadata": {},
   "outputs": [
    {
     "data": {
      "text/plain": [
       "1272"
      ]
     },
     "execution_count": 98,
     "metadata": {},
     "output_type": "execute_result"
    }
   ],
   "source": [
    "#load prev corpus and add\n",
    "known_corpus = set()\n",
    "with open(path+\"all_known_thai_lines.txt\",\"r\",encoding='utf-8') as infile:\n",
    "    for line in infile.read().split('\\n'):\n",
    "        known_corpus.add(line)\n",
    "len(known_corpus)"
   ]
  },
  {
   "cell_type": "code",
   "execution_count": 99,
   "id": "bb6ee0f7",
   "metadata": {},
   "outputs": [
    {
     "name": "stdout",
     "output_type": "stream",
     "text": [
      "percent all known= 0.17796610169491525\n"
     ]
    }
   ],
   "source": [
    "#Find % of all sentences of news\n",
    "knowns = []\n",
    "all_lines = 0\n",
    "\n",
    "known_percents = []\n",
    "\n",
    "for webpage in pages:\n",
    "    \n",
    "    test_df = filter_text(webpage)\n",
    "    all_lines += len(list(test_df.knowns))\n",
    "    \n",
    "    known_percents.append(filter_text(webpage,return_percent=True))\n",
    "    \n",
    "    for item in list(test_df.knowns[test_df.knowns != '...']):\n",
    "        knowns.append(item)\n",
    "percent = len(knowns)/float(all_lines)\n",
    "print(\"percent all known= \"+str(percent))\n"
   ]
  },
  {
   "cell_type": "code",
   "execution_count": 100,
   "id": "1fa348ef",
   "metadata": {},
   "outputs": [
    {
     "data": {
      "text/plain": [
       "['Topic การเมือง Author กองบรรณาธิการวอยซ์ออนไลน์ 51030 Article 1192 Video 10 Blog MOST VIEWED READ WATCH ABOUT FAQ CONTACT TERM OF USE SCHEDULE      ',\n",
       " 'ในส่วนพรรคภูมิใจไทยยังยืนยันหรือไม่ที่จะไม่ปรับในตำแหน่งของพรรค ว่า ก็ยังยืนยันอยู่ ',\n",
       " 'กรณีหนึ่งใน 3 กรณี ดังนี้ (1) กรณีที่อยู่อาศัยประจำอยู่ในพื้นที่น้ำท่วมขัง ',\n",
       " 'ในเมื่อเราไม่เคยมีปัญหาเรื่องนี้ ก็ไม่ต้องไปกังวลอะไร ',\n",
       " 'ในส่วนพรรคภูมิใจไทยได้เตรียมความพร้อมไว้ ',\n",
       " 'และสิ่งที่กระทรวงศึกษากำลังคิดจะทำอยู่ ',\n",
       " 'เราเตรียมความพร้อมมาระดับหนึ่งแล้ว ',\n",
       " 'ที่ถูกศาลสั่งหยุดปฏิบัติหน้าที่ ',\n",
       " 'เมื่อถามว่า ในส่วนพรรคภูมิใจไทย ',\n",
       " 'ไม่ใช่มีแต่เรื่องใครรบกับใคร ',\n",
       " 'ที่ถูกสั่งหยุดปฏิบัติหน้าที่ ',\n",
       " 'ในฐานะหัวหน้าพรรคภูมิใจไทย ',\n",
       " '“ตอนนี้โลกเราเปลี่ยนไปมาก ',\n",
       " 'ชี้ประตูยุบสภายังเปิดอยู่ ',\n",
       " 'เมื่อถามว่า กังวลหรือไม่ ',\n",
       " 'ส่วนในเรื่องของอำนาจ ',\n",
       " 'เนื่องจาก ส.ส.หลายคน ',\n",
       " 'รวดเร็ว และหลากหลาย ',\n",
       " 'ต้องมาเรียนแบบใหม่ ',\n",
       " 'อยากให้ยุบสภา ',\n",
       " 'ก็ไม่มีปัญหา ',\n",
       " 'แม้จะยุบสภา ']"
      ]
     },
     "execution_count": 100,
     "metadata": {},
     "output_type": "execute_result"
    }
   ],
   "source": [
    "#sorted(list(set(knowns)),key=len,reverse=True)\n",
    "sorted(list(set(knowns).difference(known_corpus)),key=len,reverse=True)"
   ]
  },
  {
   "cell_type": "code",
   "execution_count": 101,
   "id": "3f2ef244",
   "metadata": {},
   "outputs": [],
   "source": [
    "#manually remove from white\n",
    "remove_from_white = ['ขัง']\n",
    "\n",
    "for word in remove_from_white:\n",
    "    if word in vocab['white_listed']:\n",
    "        vocab['white_listed'].remove(word)"
   ]
  },
  {
   "cell_type": "code",
   "execution_count": 102,
   "id": "1ee450fe",
   "metadata": {},
   "outputs": [
    {
     "data": {
      "text/plain": [
       "1294"
      ]
     },
     "execution_count": 102,
     "metadata": {},
     "output_type": "execute_result"
    }
   ],
   "source": [
    "for item in list(set(knowns)):\n",
    "    known_corpus.add(item)\n",
    "\n",
    "with open(path+\"all_known_thai_lines.txt\",\"w\",encoding='utf-8') as outfile:\n",
    "    for line in list(set(known_corpus)):\n",
    "        outfile.write(line+'\\n')\n",
    "len(known_corpus)"
   ]
  },
  {
   "cell_type": "code",
   "execution_count": 103,
   "id": "2d6948c1",
   "metadata": {},
   "outputs": [
    {
     "name": "stdout",
     "output_type": "stream",
     "text": [
      "20\n"
     ]
    }
   ],
   "source": [
    "websites = set()\n",
    "\n",
    "with open(path+'viewed_websites_th.txt',\"r\") as infile:\n",
    "    for line in infile.read().split('\\n'):\n",
    "        websites.add(line)\n",
    "print(len(websites))"
   ]
  },
  {
   "cell_type": "code",
   "execution_count": 104,
   "id": "2a643828",
   "metadata": {
    "collapsed": true
   },
   "outputs": [
    {
     "data": {
      "text/plain": [
       "[(3,\n",
       "  88.78116343490305,\n",
       "  '‘สิริน ก้าวไกล’ อัด ศธ.จ่อแยก',\n",
       "  'https://www.voicetv.co.th/read/CN7n1iH21'),\n",
       " (1,\n",
       "  87.30904817861341,\n",
       "  \"'ธนาธร-ปิยบุตร-ช่อ' เข้าสภาฯ\",\n",
       "  'https://www.voicetv.co.th/read/J2XdpZP8c'),\n",
       " (2,\n",
       "  86.70953912111469,\n",
       "  \"'อนุทิน' ยัน 'ภูมิใจไทย' ไม่ป\",\n",
       "  'https://www.voicetv.co.th/read/3PwjTZAvB'),\n",
       " (0,\n",
       "  85.97194388777555,\n",
       "  'ครม. เคาะช่วยผู้ประสบอุทกภัย',\n",
       "  'https://www.bbc.com/thai/thailand-63662204'),\n",
       " (4,\n",
       "  85.03311258278146,\n",
       "  '‘ประยุทธ์’ อวยพรปีใหม่สื่อทำเ',\n",
       "  'https://www.voicetv.co.th/read/x0vVE19Rm'),\n",
       " (7,\n",
       "  80.81123244929798,\n",
       "  'จับตา ‘ราษฎรแรลลี่’ จาก ‘วังล',\n",
       "  'https://www.voicetv.co.th/read/rI-9LjhEh'),\n",
       " (5,\n",
       "  80.45375218150087,\n",
       "  '‘วิษณุ’แย้มประตูยุบสภาเปิดอยู',\n",
       "  'https://www.voicetv.co.th/read/bn95YMr0a')]"
      ]
     },
     "execution_count": 104,
     "metadata": {},
     "output_type": "execute_result"
    }
   ],
   "source": [
    "page_titles = list(zip(range(0,len(known_percents)),known_percents,titles,pages))\n",
    "# (sorted(list(zip(range(0,len(known_percents)),known_percents)),key = lambda x: x[1],reverse=True))\n",
    "page_titles = sorted(page_titles,key = lambda x: x[1],reverse=True)\n",
    "page_titles = [item for item in page_titles if not (item[3] in websites)]\n",
    "page_titles"
   ]
  },
  {
   "cell_type": "code",
   "execution_count": 105,
   "id": "1e2e7b73",
   "metadata": {},
   "outputs": [],
   "source": [
    "webpage = pages[3]\n",
    "if webpage in websites:\n",
    "    print(\"already scanned! choose another!\")\n",
    "websites.add(webpage)"
   ]
  },
  {
   "cell_type": "code",
   "execution_count": 106,
   "id": "f737a6dc",
   "metadata": {},
   "outputs": [],
   "source": [
    "\n",
    "with open(path+'viewed_websites_th.txt',\"w\") as outfile:\n",
    "    for line in websites:\n",
    "        outfile.write(line+'\\n')      \n"
   ]
  },
  {
   "cell_type": "code",
   "execution_count": 107,
   "id": "141ae514",
   "metadata": {},
   "outputs": [
    {
     "name": "stdout",
     "output_type": "stream",
     "text": [
      "word-level % known = 88.78116343490305\n"
     ]
    }
   ],
   "source": [
    "#display() #percent_threshold=0.95\n",
    "art=filter_text(webpage,print_word_lvl=True)"
   ]
  },
  {
   "cell_type": "code",
   "execution_count": 108,
   "id": "8bce1137",
   "metadata": {},
   "outputs": [
    {
     "name": "stdout",
     "output_type": "stream",
     "text": [
      "54\n"
     ]
    }
   ],
   "source": [
    "with open(path+'unknown_thai_list.txt',\"r\") as input_file:\n",
    "    new_words = input_file.read()\n",
    "    new_words = re.sub(\"[\\n\\'\\[\\]]\",\"\",new_words)\n",
    "    new_words = new_words.split(',')\n",
    "    new_words = [line.strip() for line in new_words] #update regex\n",
    "#new_words\n",
    "print(len(new_words))\n",
    "#known_manual = get_known(new_words)"
   ]
  },
  {
   "cell_type": "code",
   "execution_count": 109,
   "id": "efd86a33",
   "metadata": {},
   "outputs": [],
   "source": [
    "import mitosheet\n",
    "unk_df = pd.DataFrame(new_words)\n",
    "unk_df.columns = ['word']\n",
    "unk_df['status'] = pd.Series(['' for word in new_words])"
   ]
  },
  {
   "cell_type": "code",
   "execution_count": 110,
   "id": "3663bb4f",
   "metadata": {},
   "outputs": [
    {
     "data": {
      "application/vnd.jupyter.widget-view+json": {
       "model_id": "06af1d06dcd7425ca6aa33a09bd21570",
       "version_major": 2,
       "version_minor": 0
      },
      "text/plain": [
       "MitoWidget(analysis_data_json='{\"analysisName\": \"id-skgnbmmmoh\", \"analysisToReplay\": null, \"code\": [], \"stepSu…"
      ]
     },
     "metadata": {},
     "output_type": "display_data"
    }
   ],
   "source": [
    "mitosheet.sheet(unk_df, analysis_to_replay=\"id-skgnbmmmoh\") "
   ]
  },
  {
   "cell_type": "code",
   "execution_count": null,
   "id": "88ddd259",
   "metadata": {},
   "outputs": [],
   "source": []
  },
  {
   "cell_type": "code",
   "execution_count": 115,
   "id": "60d5d1ff",
   "metadata": {},
   "outputs": [],
   "source": [
    "add_ints = [0, 2, 5, 8, 16, 18, 26, 38, 39, 41, 45]"
   ]
  },
  {
   "cell_type": "code",
   "execution_count": 119,
   "id": "77eb121a",
   "metadata": {},
   "outputs": [],
   "source": [
    "for i in add_ints:\n",
    "    # Set a cell value in status\n",
    "    unk_df.at[i, 'status'] = 'k'"
   ]
  },
  {
   "cell_type": "code",
   "execution_count": 112,
   "id": "71c577e6",
   "metadata": {},
   "outputs": [],
   "source": [
    "translations = []\n",
    "for i in range(0,len(unk_df)):\n",
    "    try:\n",
    "        translations.append(ts.google(unk_df.word.iloc[i]))\n",
    "    except:\n",
    "        translations.append('')\n",
    "unk_df['translations']=translations\n"
   ]
  },
  {
   "cell_type": "code",
   "execution_count": 120,
   "id": "fe5bce81",
   "metadata": {},
   "outputs": [
    {
     "data": {
      "application/vnd.jupyter.widget-view+json": {
       "model_id": "92854b4e383c45569a59d9011825358e",
       "version_major": 2,
       "version_minor": 0
      },
      "text/plain": [
       "MitoWidget(analysis_data_json='{\"analysisName\": \"id-pmlxenofsc\", \"analysisToReplay\": null, \"code\": [], \"stepSu…"
      ]
     },
     "metadata": {},
     "output_type": "display_data"
    }
   ],
   "source": [
    "mitosheet.sheet(unk_df, analysis_to_replay=\"id-pmlxenofsc\")"
   ]
  },
  {
   "cell_type": "code",
   "execution_count": 122,
   "id": "455c3cdb",
   "metadata": {},
   "outputs": [
    {
     "name": "stdout",
     "output_type": "stream",
     "text": [
      "12\n"
     ]
    }
   ],
   "source": [
    "add_words = list(unk_df.word[unk_df['status']=='k'])\n",
    "print(len(add_words))\n",
    "for word in add_words:\n",
    "    vocab['white_listed'].add(word)"
   ]
  },
  {
   "cell_type": "code",
   "execution_count": 55,
   "id": "2706f449",
   "metadata": {},
   "outputs": [],
   "source": [
    "#manually add to white\n",
    "add_to_white = []\n",
    "\n",
    "for word in add_to_white:\n",
    "    vocab['white_listed'].add(word)"
   ]
  },
  {
   "cell_type": "code",
   "execution_count": 123,
   "id": "02a15572",
   "metadata": {},
   "outputs": [
    {
     "name": "stdout",
     "output_type": "stream",
     "text": [
      "2223\n"
     ]
    }
   ],
   "source": [
    "#write to .json formats\n",
    "df = vocab\n",
    "df['white_listed'] = list(df['white_listed'])\n",
    "df['black_listed'] = list(df['black_listed'])\n",
    "with open(path+source_file, \"w\") as outfile:\n",
    "    json.dump(df,outfile)\n",
    "print(len(df['white_listed']))"
   ]
  },
  {
   "cell_type": "code",
   "execution_count": 124,
   "id": "c7f67a5d",
   "metadata": {},
   "outputs": [
    {
     "name": "stdout",
     "output_type": "stream",
     "text": [
      "2223\n"
     ]
    }
   ],
   "source": [
    "#read from existing .json formats\n",
    "with open(path+source_file, \"r\") as path_in:\n",
    "    vocab = json.loads(path_in.read())\n",
    "vocab['white_listed'] = set(vocab['white_listed'])\n",
    "vocab['black_listed'] = set(vocab['black_listed'])\n",
    "print(len(vocab['white_listed']))"
   ]
  },
  {
   "cell_type": "code",
   "execution_count": 125,
   "id": "4f09c08d",
   "metadata": {},
   "outputs": [
    {
     "name": "stdout",
     "output_type": "stream",
     "text": [
      "https://www.voicetv.co.th/read/CN7n1iH21\n",
      "word-level % known = 90.85872576177285\n"
     ]
    },
    {
     "data": {
      "text/html": [
       "<div><div id=760c8189-b478-4ff8-bd0c-df0e010c111a style=\"display:none; background-color:#9D6CFF; color:white; width:200px; height:30px; padding-left:5px; border-radius:4px; flex-direction:row; justify-content:space-around; align-items:center;\" onmouseover=\"this.style.backgroundColor='#BA9BF8'\" onmouseout=\"this.style.backgroundColor='#9D6CFF'\" onclick=\"window.commands?.execute('create-mitosheet-from-dataframe-output');\">See Full Dataframe in Mito</div> <script> if (window.commands?.hasCommand('create-mitosheet-from-dataframe-output')) document.getElementById('760c8189-b478-4ff8-bd0c-df0e010c111a').style.display = 'flex' </script> <table border=\"1\" class=\"dataframe\">\n",
       "  <thead>\n",
       "    <tr style=\"text-align: right;\">\n",
       "      <th></th>\n",
       "      <th>knowns</th>\n",
       "      <th>unknowns</th>\n",
       "      <th>unk_words</th>\n",
       "    </tr>\n",
       "  </thead>\n",
       "  <tbody>\n",
       "    <tr>\n",
       "      <th>0</th>\n",
       "      <td>POLITICS ECONOMICS WORLD ENTERTAINMENT WELL-BEING LOCAL NEWS BLOG VOICE PLAZA TV PROGRAMS LIVE POLITICS ECONOMICS WORLD ENTERTAINMENT WELL-BEING LOCAL NEWS BLOG VOICE PLAZA TV PROGRAMS ABOUT FAQ CONTACT TERM OF USE SCHEDULE ไม่พบผลการค้นหา</td>\n",
       "      <td>...</td>\n",
       "      <td></td>\n",
       "    </tr>\n",
       "    <tr>\n",
       "      <th>1</th>\n",
       "      <td>...</td>\n",
       "      <td>คุณกำลังอ่าน  : 'อนุทิน' ยัน 'ภูมิใจไทย'</td>\n",
       "      <td>\"อนุทิน\", \"ยัน\"</td>\n",
       "    </tr>\n",
       "    <tr>\n",
       "      <th>2</th>\n",
       "      <td>...</td>\n",
       "      <td>ไม่ปรับ ครม. ลั่นพร้อมเลือกตั้งทุกเมื่อ Share Tweet Share การเมือง 'อนุทิน' ยัน 'ภูมิใจไทย'</td>\n",
       "      <td>\"ครม.\", \"ลั่น\", \"อนุทิน\", \"ยัน\"</td>\n",
       "    </tr>\n",
       "    <tr>\n",
       "      <th>3</th>\n",
       "      <td>...</td>\n",
       "      <td>ไม่ปรับ ครม. ลั่นพร้อมเลือกตั้งทุกเมื่อ Nov 29, 2022 (</td>\n",
       "      <td>\"ครม.\", \"ลั่น\"</td>\n",
       "    </tr>\n",
       "    <tr>\n",
       "      <th>4</th>\n",
       "      <td>...</td>\n",
       "      <td>Last update Nov 29, 2022 06:00 )   ‘อนุทิน’ ยัน ‘ภูมิใจไทย’</td>\n",
       "      <td>\"อนุทิน\", \"ยัน\"</td>\n",
       "    </tr>\n",
       "    <tr>\n",
       "      <th>...</th>\n",
       "      <td>...</td>\n",
       "      <td>...</td>\n",
       "      <td>...</td>\n",
       "    </tr>\n",
       "    <tr>\n",
       "      <th>39</th>\n",
       "      <td>...</td>\n",
       "      <td>เมื่อถามว่า หากสมัครสมาชิกพรรคไม่ทัน อนุทิน กล่าว่า ตนเชื่อว่าทัน การคาดการของพรรคภูมิใจไทย ตั้งอยู่บนความไม่ประมาท</td>\n",
       "      <td>\"สมัคร\", \"อนุทิน\", \"กล่า\", \"ตั้งอยู่\", \"ประมาท\"</td>\n",
       "    </tr>\n",
       "    <tr>\n",
       "      <th>40</th>\n",
       "      <td>...</td>\n",
       "      <td>สมมุติว่านายกฯยุบสภา ก็มีเวลาแค่ 30 วัน แต่ตอนนี้ก็ยังไม่เห็นว่าใครจะฟันธงได้ว่านายกฯจะอยู่ครบวาระสภาฯ ต่อให้ครบก็ไม่มีปัญหาอะไร</td>\n",
       "      <td>\"สมมุติ\", \"ฟันธง\", \"ครบวาระ\", \"ต่อให้\"</td>\n",
       "    </tr>\n",
       "    <tr>\n",
       "      <th>41</th>\n",
       "      <td>...</td>\n",
       "      <td>พรรคภูมิใจไทยมีผู้สมัครในปัจจุบันมากเพียงพอที่จะมาทำงานเมือง ให้เป็นประโยชน์ต่อประเทศ หรือจะออกมารูปแบบไหน</td>\n",
       "      <td>\"พอที่จะ\"</td>\n",
       "    </tr>\n",
       "    <tr>\n",
       "      <th>42</th>\n",
       "      <td>ก็ไม่มีปัญหา</td>\n",
       "      <td>...</td>\n",
       "      <td></td>\n",
       "    </tr>\n",
       "    <tr>\n",
       "      <th>43</th>\n",
       "      <td>Topic การเมือง Author กองบรรณาธิการวอยซ์ออนไลน์ 51030 Article 1192 Video 10 Blog MOST VIEWED READ WATCH ABOUT FAQ CONTACT TERM OF USE SCHEDULE</td>\n",
       "      <td>...</td>\n",
       "      <td></td>\n",
       "    </tr>\n",
       "  </tbody>\n",
       "</table></div>"
      ],
      "text/plain": [
       "                                                                                                                                                                                                                                                 knowns  \\\n",
       "0      POLITICS ECONOMICS WORLD ENTERTAINMENT WELL-BEING LOCAL NEWS BLOG VOICE PLAZA TV PROGRAMS LIVE POLITICS ECONOMICS WORLD ENTERTAINMENT WELL-BEING LOCAL NEWS BLOG VOICE PLAZA TV PROGRAMS ABOUT FAQ CONTACT TERM OF USE SCHEDULE ไม่พบผลการค้นหา    \n",
       "1   ...                                                                                                                                                                                                                                                   \n",
       "2   ...                                                                                                                                                                                                                                                   \n",
       "3   ...                                                                                                                                                                                                                                                   \n",
       "4   ...                                                                                                                                                                                                                                                   \n",
       "5   ...                                                                                                                                                                                                                                                   \n",
       "6   ...                                                                                                                                                                                                                                                   \n",
       "7   ในฐานะหัวหน้าพรรคภูมิใจไทย                                                                                                                                                                                                                            \n",
       "8   ...                                                                                                                                                                                                                                                   \n",
       "9   ในส่วนพรรคภูมิใจไทยยังยืนยันหรือไม่ที่จะไม่ปรับในตำแหน่งของพรรค ว่า ก็ยังยืนยันอยู่                                                                                                                                                                   \n",
       "10  ...                                                                                                                                                                                                                                                   \n",
       "11  ...                                                                                                                                                                                                                                                   \n",
       "12  ที่ถูกสั่งหยุดปฏิบัติหน้าที่                                                                                                                                                                                                                          \n",
       "13  ...                                                                                                                                                                                                                                                   \n",
       "14  เมื่อถามว่า ในส่วนพรรคภูมิใจไทย                                                                                                                                                                                                                       \n",
       "15  ...                                                                                                                                                                                                                                                   \n",
       "16  เมื่อถามว่า กังวลหรือไม่                                                                                                                                                                                                                              \n",
       "17  ...                                                                                                                                                                                                                                                   \n",
       "18  ที่ถูกศาลสั่งหยุดปฏิบัติหน้าที่                                                                                                                                                                                                                       \n",
       "19  ...                                                                                                                                                                                                                                                   \n",
       "20  เมื่อถามว่า มองรูปแบบการยุบสภาจะเกิดขึ้นอย่างไร                                                                                                                                                                                                       \n",
       "21  เนื่องจาก ส.ส.หลายคน                                                                                                                                                                                                                                  \n",
       "22  อยากให้ยุบสภา                                                                                                                                                                                                                                         \n",
       "23  ...                                                                                                                                                                                                                                                   \n",
       "24  ...                                                                                                                                                                                                                                                   \n",
       "25  ในส่วนพรรคภูมิใจไทยได้เตรียมความพร้อมไว้                                                                                                                                                                                                              \n",
       "26  เมื่อไหร่ก็เมื่อนั้น วันไหนก็วันนั้น                                                                                                                                                                                                                  \n",
       "27  เราเตรียมความพร้อมมาระดับหนึ่งแล้ว                                                                                                                                                                                                                    \n",
       "28  ในเมื่อเราไม่เคยมีปัญหาเรื่องนี้ ก็ไม่ต้องไปกังวลอะไร                                                                                                                                                                                                 \n",
       "29  เมื่อถามว่า พรรคภูมิใจไทยมี ส.ส.ต่างพรรค มาร่วมงานจำนวนมาก                                                                                                                                                                                            \n",
       "30  ...                                                                                                                                                                                                                                                   \n",
       "31  ...                                                                                                                                                                                                                                                   \n",
       "32  ไม่ใช่ไปเที่ยวดูดใคร                                                                                                                                                                                                                                  \n",
       "33  คนนู้นคนนี้                                                                                                                                                                                                                                           \n",
       "34  ...                                                                                                                                                                                                                                                   \n",
       "35  ...                                                                                                                                                                                                                                                   \n",
       "36  ...                                                                                                                                                                                                                                                   \n",
       "37  ...                                                                                                                                                                                                                                                   \n",
       "38  ...                                                                                                                                                                                                                                                   \n",
       "39  ...                                                                                                                                                                                                                                                   \n",
       "40  ...                                                                                                                                                                                                                                                   \n",
       "41  ...                                                                                                                                                                                                                                                   \n",
       "42  ก็ไม่มีปัญหา                                                                                                                                                                                                                                          \n",
       "43  Topic การเมือง Author กองบรรณาธิการวอยซ์ออนไลน์ 51030 Article 1192 Video 10 Blog MOST VIEWED READ WATCH ABOUT FAQ CONTACT TERM OF USE SCHEDULE                                                                                                        \n",
       "\n",
       "                                                                                                                                                                             unknowns  \\\n",
       "0   ...                                                                                                                                                                                 \n",
       "1   คุณกำลังอ่าน  : 'อนุทิน' ยัน 'ภูมิใจไทย'                                                                                                                                            \n",
       "2   ไม่ปรับ ครม. ลั่นพร้อมเลือกตั้งทุกเมื่อ Share Tweet Share การเมือง 'อนุทิน' ยัน 'ภูมิใจไทย'                                                                                         \n",
       "3   ไม่ปรับ ครม. ลั่นพร้อมเลือกตั้งทุกเมื่อ Nov 29, 2022 (                                                                                                                              \n",
       "4   Last update Nov 29, 2022 06:00 )   ‘อนุทิน’ ยัน ‘ภูมิใจไทย’                                                                                                                         \n",
       "5   ไม่ปรับ ครม. แม้ ‘กนกวรรณ’ ถูกสั่งหยุดปฏิบัติหน้าที่ ลั่นพร้อมเลือกตั้งทุกเมื่อ ชี้อำนาจนายกฯ ยุบสภา หรืออยู่ครบวาระ ย้ำ ‘ภูมิใจไทย’                                                \n",
       "6   ไม่เที่ยวดูดใคร อนุทิน ชาญวีรกูล รองนายกรัฐมนตรี และรมว.สาธารณสุข                                                                                                                   \n",
       "7   ...                                                                                                                                                                                 \n",
       "8   กล่าวถึงนายกรัฐมนตรีระบุว่าเตรียมปรับคณะรัฐมนตรี (ครม.) ก่อนปีใหม่                                                                                                                  \n",
       "9   ...                                                                                                                                                                                 \n",
       "10  พรรคภูมิใจไทยยังไม่มี ครม.คนใดพ้นจากตำแหน่ง                                                                                                                                         \n",
       "11  ในส่วนของ กนกวรรณ วิลาวัลย์ รมช.ศึกษาธิการ                                                                                                                                          \n",
       "12  ...                                                                                                                                                                                 \n",
       "13  จนกว่าเรื่องที่เป็นคดีจะคลี่คลาย                                                                                                                                                    \n",
       "14  ...                                                                                                                                                                                 \n",
       "15  จะมีการขยับเปลี่ยนตำแหน่งรัฐมนตรีภายในพรรคหรือไม่ อนุทิน ย้ำว่า ไม่มีครับ                                                                                                           \n",
       "16  ...                                                                                                                                                                                 \n",
       "17  ตำแหน่งของ กนกวรรณ                                                                                                                                                                  \n",
       "18  ...                                                                                                                                                                                 \n",
       "19  จะกระทบการปฏิบัติราชการหรือไม่ อนุทิน กล่าวว่า กนกวรรณ เป็นรัฐมนตรีช่วย ซึ่งรัฐมนตรีว่าการศึกษาธิการ ก็คงได้มีการแบ่งงานให้รัฐมนตรีที่เหลือ ซึ่งกระทรวงศึกษาธิการมีรีฐมนตรี 3 คน    \n",
       "20  ...                                                                                                                                                                                 \n",
       "21  ...                                                                                                                                                                                 \n",
       "22  ...                                                                                                                                                                                 \n",
       "23  แล้วใช้วิธีทยอยลาออกจากตำแหน่งเพื่อกดดันให้เสียงในสภาไม่พอ อนุทิน กล่าวว่า เรื่องยุบสภาเป็นอำนาจนายกฯ                                                                               \n",
       "24  เราไปก้าวล่วงไม่ได้                                                                                                                                                                 \n",
       "25  ...                                                                                                                                                                                 \n",
       "26  ...                                                                                                                                                                                 \n",
       "27  ...                                                                                                                                                                                 \n",
       "28  ...                                                                                                                                                                                 \n",
       "29  ...                                                                                                                                                                                 \n",
       "30  จะมีเส้นตายให้ลาออกหรือไม่ อนุทิน กล่าวว่า ไม่มี ส.ส. ทุกคนมีวุฒิภาวะ                                                                                                               \n",
       "31  มีเอกสิทธิ์ และพรรคภูมิใจไทย                                                                                                                                                        \n",
       "32  ...                                                                                                                                                                                 \n",
       "33  ...                                                                                                                                                                                 \n",
       "34  ตามที่เป็นที่ข่าว                                                                                                                                                                   \n",
       "35  พรรคภูมิใจไทยเป็นพรรคการเมืองที่ใครก็เห็นว่ามีนโยบายที่เป็นประโยชน์ต่อส่วนรวม                                                                                                       \n",
       "36  สามารถมาร่วมผลักดันนโยบายกับประชาชน                                                                                                                                                 \n",
       "37  เขาก็มาคุยกัน หาแนวทางไปกันได้ ก็มาร่วมงานกัน                                                                                                                                       \n",
       "38  ซึ่งตรงไปตรงมามาก                                                                                                                                                                   \n",
       "39  เมื่อถามว่า หากสมัครสมาชิกพรรคไม่ทัน อนุทิน กล่าว่า ตนเชื่อว่าทัน การคาดการของพรรคภูมิใจไทย ตั้งอยู่บนความไม่ประมาท                                                                 \n",
       "40  สมมุติว่านายกฯยุบสภา ก็มีเวลาแค่ 30 วัน แต่ตอนนี้ก็ยังไม่เห็นว่าใครจะฟันธงได้ว่านายกฯจะอยู่ครบวาระสภาฯ ต่อให้ครบก็ไม่มีปัญหาอะไร                                                    \n",
       "41  พรรคภูมิใจไทยมีผู้สมัครในปัจจุบันมากเพียงพอที่จะมาทำงานเมือง ให้เป็นประโยชน์ต่อประเทศ หรือจะออกมารูปแบบไหน                                                                          \n",
       "42  ...                                                                                                                                                                                 \n",
       "43  ...                                                                                                                                                                                 \n",
       "\n",
       "                                                                               unk_words  \n",
       "0                                                                                         \n",
       "1   \"อนุทิน\", \"ยัน\"                                                                       \n",
       "2   \"ครม.\", \"ลั่น\", \"อนุทิน\", \"ยัน\"                                                       \n",
       "3   \"ครม.\", \"ลั่น\"                                                                        \n",
       "4   \"อนุทิน\", \"ยัน\"                                                                       \n",
       "5   \"ครม.\", \"กนก\", \"วรรณ\", \"ลั่น\", \"ครบวาระ\"                                              \n",
       "6   \"อนุทิน\", \"ชาญ\", \"วีร\", \"รมว.\", \"สาธารณสุข\"                                           \n",
       "7                                                                                         \n",
       "8   \"ครม.\"                                                                                \n",
       "9                                                                                         \n",
       "10  \"ครม.\"                                                                                \n",
       "11  \"กนก\", \"วรรณ\", \"วิ\", \"วัลย์\", \"รมช.\", \"ศึกษาธิการ\"                                    \n",
       "12                                                                                        \n",
       "13  \"จนกว่า\", \"คลี่คลาย\"                                                                  \n",
       "14                                                                                        \n",
       "15  \"การขยับ\", \"อนุทิน\"                                                                   \n",
       "16                                                                                        \n",
       "17  \"กนก\", \"วรรณ\"                                                                         \n",
       "18                                                                                        \n",
       "19  \"อนุทิน\", \"กนก\", \"วรรณ\", \"ศึกษาธิการ\", \"แบ่งงาน\", \"กระทรวงศึกษาธิการ\", \"รี\", \"มนตรี\"  \n",
       "20                                                                                        \n",
       "21                                                                                        \n",
       "22                                                                                        \n",
       "23  \"ทยอย\", \"กดดัน\", \"ให้เสียง\", \"อนุทิน\"                                                 \n",
       "24  \"ก้าวล่วง\"                                                                            \n",
       "25                                                                                        \n",
       "26                                                                                        \n",
       "27                                                                                        \n",
       "28                                                                                        \n",
       "29                                                                                        \n",
       "30  \"เส้นตาย\", \"อนุทิน\", \"วุฒิภาวะ\"                                                       \n",
       "31  \"เอกสิทธิ์\"                                                                           \n",
       "32                                                                                        \n",
       "33                                                                                        \n",
       "34  \"ตามที่\"                                                                              \n",
       "35  \"ส่วนรวม\"                                                                             \n",
       "36  \"ผลักดัน\"                                                                             \n",
       "37  \"ไปกันได้\"                                                                            \n",
       "38  \"ตรงไปตรงมา\"                                                                          \n",
       "39  \"สมัคร\", \"อนุทิน\", \"กล่า\", \"ตั้งอยู่\", \"ประมาท\"                                       \n",
       "40  \"สมมุติ\", \"ฟันธง\", \"ครบวาระ\", \"ต่อให้\"                                                \n",
       "41  \"พอที่จะ\"                                                                             \n",
       "42                                                                                        \n",
       "43                                                                                        "
      ]
     },
     "execution_count": 125,
     "metadata": {},
     "output_type": "execute_result"
    }
   ],
   "source": [
    "print(webpage)\n",
    "filter_text(webpage,print_word_lvl=True)"
   ]
  },
  {
   "cell_type": "markdown",
   "id": "b04bfa91",
   "metadata": {},
   "source": [
    "##END"
   ]
  },
  {
   "cell_type": "code",
   "execution_count": 147,
   "id": "db36cdb8",
   "metadata": {
    "collapsed": true
   },
   "outputs": [
    {
     "name": "stdout",
     "output_type": "stream",
     "text": [
      "daily catch in word count:\n",
      "['เชิญ', 'ยิ้ม', 'ยินดี', 'รอย', 'เอกสาร', 'สนิท', 'กระดาษ', 'คอ', 'โรงพยาบาล', 'หิน', 'จด', 'ปืน', 'โต๊ะ', 'เสื้อผ้า', 'เลือด', 'สิทธิ์', 'นักเขียน', 'สนุกสนาน', 'หัวเราะ', 'หู', 'ยิง', 'สวยงาม', 'ล่า', 'แขก', 'ดอกไม้', 'ที่นั่ง', 'เสือ', 'ปกป้อง', 'รับประทาน', 'ไอ', 'สนุก', 'ลูกชาย', 'สหรัฐ', 'นิ้ว', 'ไอ้', 'รถไฟ', 'เล็กน้อย', 'โปรด', 'คะแนน', 'กรุณา', 'โรงแรม', 'จดหมาย', 'ขับ', 'ดื่ม', 'หอม', 'ระมัดระวัง', 'ฤดู', 'ฟัน', 'เท้า', 'หล่อน', 'วางแผน', 'ลับ', 'ลอย', 'ยกเว้น', 'ลูกค้า', 'ริม', 'ม้า', 'คอมพิวเตอร์']\n"
     ]
    }
   ],
   "source": [
    "#Upload from download\n",
    "with open(path+'known_thai_list.txt',\"r\") as input_file:\n",
    "    new_words = input_file.read().split(',')\n",
    "    print(\"daily catch in word count:\")\n",
    "    print(new_words)\n",
    "for line in new_words:   \n",
    "    vocab['white_listed'].add(line.replace(\"'\",\"\").strip())\n"
   ]
  },
  {
   "cell_type": "code",
   "execution_count": 154,
   "id": "0141a9c3",
   "metadata": {},
   "outputs": [
    {
     "name": "stdout",
     "output_type": "stream",
     "text": [
      "Hello Nong\n"
     ]
    }
   ],
   "source": [
    "\n",
    "wyw_text = 'สวัสดีครับน้อง'\n",
    "print(ts.google(wyw_text))\n",
    "#print(ts._google.language_map)\n",
    "#print(ts.google(wyw_text))"
   ]
  },
  {
   "cell_type": "code",
   "execution_count": 227,
   "id": "67b1cbb0",
   "metadata": {},
   "outputs": [
    {
     "name": "stdout",
     "output_type": "stream",
     "text": [
      "today's catch % of corpus:\n"
     ]
    },
    {
     "data": {
      "text/plain": [
       "'1.200344766395417%'"
      ]
     },
     "execution_count": 227,
     "metadata": {},
     "output_type": "execute_result"
    }
   ],
   "source": [
    "#Get after when adding in new words\n",
    "print(\"today's catch % of corpus:\")\n",
    "str(100*(percent-prev_percent))+\"%\""
   ]
  },
  {
   "cell_type": "code",
   "execution_count": null,
   "id": "3258e547",
   "metadata": {},
   "outputs": [],
   "source": [
    "#output newly knowns\n",
    "with open(path+\"new_known_thai_lines.txt\",\"w\") as outfile:\n",
    "    for line in list(set(knowns).difference(prev_knowns)):\n",
    "        outfile.write(line+'\\n')\n"
   ]
  },
  {
   "cell_type": "code",
   "execution_count": 105,
   "id": "1a9fb3c5",
   "metadata": {},
   "outputs": [
    {
     "name": "stdout",
     "output_type": "stream",
     "text": [
      "Sanity check. Current vocab size:\n"
     ]
    },
    {
     "data": {
      "text/plain": [
       "1462"
      ]
     },
     "execution_count": 105,
     "metadata": {},
     "output_type": "execute_result"
    }
   ],
   "source": [
    "print(\"Sanity check. Current vocab size:\")\n",
    "len(vocab['white_listed'])"
   ]
  },
  {
   "cell_type": "code",
   "execution_count": 117,
   "id": "564b37a8",
   "metadata": {},
   "outputs": [],
   "source": [
    "\"\"\"\n",
    "to do:\n",
    "\n",
    "\"\"\""
   ]
  },
  {
   "cell_type": "code",
   "execution_count": 7,
   "id": "d9799280",
   "metadata": {},
   "outputs": [
    {
     "data": {
      "text/plain": [
       "999"
      ]
     },
     "execution_count": 7,
     "metadata": {},
     "output_type": "execute_result"
    }
   ],
   "source": [
    "##INPUT-OUTPUT\n",
    "#vocab list:\n",
    "with open(\"/Users/elyebliss/Desktop/Vocabulary/vocab_dfs/thai_whitelisted.csv\",\"r\") as infile:\n",
    "    whitelisted_lemmas = infile.read()\n",
    "\n",
    "\n",
    "##VARIABLES\n",
    "vocab_all = set()\n",
    "\n",
    "\n",
    "for line in whitelisted_lemmas.split('\\n'):\n",
    "    if len(line) > 0:\n",
    "        \n",
    "        vocab = line.strip()\n",
    "        vocab_all.add(vocab)\n",
    "        \n",
    "len(whitelisted_lemmas.split('\\n'))            \n",
    "#pp.pprint(vocab_all)"
   ]
  },
  {
   "cell_type": "code",
   "execution_count": 8,
   "id": "3e37bfb9",
   "metadata": {},
   "outputs": [],
   "source": [
    "vocab = {}\n",
    "vocab['white_listed'] = list(vocab_all)\n",
    "vocab['black_listed'] = []"
   ]
  }
 ],
 "metadata": {
  "kernelspec": {
   "display_name": "Python 3 (ipykernel)",
   "language": "python",
   "name": "python3"
  },
  "language_info": {
   "codemirror_mode": {
    "name": "ipython",
    "version": 3
   },
   "file_extension": ".py",
   "mimetype": "text/x-python",
   "name": "python",
   "nbconvert_exporter": "python",
   "pygments_lexer": "ipython3",
   "version": "3.9.12"
  }
 },
 "nbformat": 4,
 "nbformat_minor": 5
}
