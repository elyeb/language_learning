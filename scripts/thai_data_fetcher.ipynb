{
 "cells": [
  {
   "cell_type": "code",
   "execution_count": null,
   "id": "05aba0c4",
   "metadata": {},
   "outputs": [],
   "source": [
    "\"\"\"\n",
    "\n",
    "Contents:\n",
    "-data intialization from csv file of words &\n",
    " build data structure to house info moving forward\n",
    "-write to .json formats\n",
    "-read from existing .json formats\n",
    "-get list of words to find\n",
    "-scrape BBC\n",
    "-scrape voiceTV\n",
    "\"\"\""
   ]
  },
  {
   "cell_type": "code",
   "execution_count": 1,
   "id": "ebdc6804",
   "metadata": {},
   "outputs": [
    {
     "name": "stderr",
     "output_type": "stream",
     "text": [
      "Using state Washington server backend.\n"
     ]
    }
   ],
   "source": [
    "import bs4, requests, sys, codecs, urllib.request, re\n",
    "from bs4 import SoupStrainer\n",
    "from bs4.element import Comment\n",
    "import random\n",
    "#import pythainlp\n",
    "from pythainlp.tokenize import word_tokenize, sent_tokenize\n",
    "import string\n",
    "import json\n",
    "import pandas as pd\n",
    "import os\n",
    "from os import listdir\n",
    "from os.path import isfile, join\n",
    "import pprint\n",
    "import translators as ts\n",
    "\n",
    "pp = pprint.PrettyPrinter()\n",
    "pd.set_option('display.max_rows', None)\n",
    "pd.set_option('display.max_colwidth', 0)\n",
    "\n",
    "path = \"/Users/elyebliss/Desktop/Vocabulary/language_learning/vocab_dfs/\"\n",
    "source_file = \"thai.json\""
   ]
  },
  {
   "cell_type": "code",
   "execution_count": 2,
   "id": "ce69b1b0",
   "metadata": {},
   "outputs": [],
   "source": [
    "##METHODS\n",
    "\n",
    "def tag_visible(element):\n",
    "    if element.parent.name in ['style', 'script', 'head', 'title', 'meta', '[document]']:\n",
    "        return False\n",
    "    if isinstance(element, Comment):\n",
    "        return False\n",
    "    return True\n",
    "\n",
    "\n",
    "def text_from_html(body):\n",
    "    soup = bs4.BeautifulSoup(body, 'html.parser')\n",
    "    texts = soup.findAll(text=True)\n",
    "    visible_texts = filter(tag_visible, texts)  \n",
    "    return u\" \".join(t.strip() for t in visible_texts)\n",
    "\n",
    "\n",
    "\n",
    "user_agent = 'Mozilla/5.0 (Windows NT 6.3; WOW64; rv:50.0) Gecko/20100101 Firefox/50.0'\n",
    "headers={'User-Agent':user_agent,}\n",
    "parser = 'html.parser'"
   ]
  },
  {
   "cell_type": "code",
   "execution_count": 3,
   "id": "63afba50",
   "metadata": {},
   "outputs": [],
   "source": [
    "def get_known(unknown_list):\n",
    "    \n",
    "    count_got = 0\n",
    "    known_list = []\n",
    "    for word in unknown_list:\n",
    "        decision = str(input(word+\"\\nKnown =k\"))\n",
    "        if decision =='k':\n",
    "            known_list.append(word)\n",
    "            count_got +=1\n",
    "            print(\"got \"+str(count_got))\n",
    "        elif decision=='q':\n",
    "            break\n",
    "        try:\n",
    "            print(ts.google(word))\n",
    "        except:\n",
    "            print('cant find')\n",
    "    return known_list"
   ]
  },
  {
   "cell_type": "code",
   "execution_count": 4,
   "id": "117b26f1",
   "metadata": {},
   "outputs": [],
   "source": [
    "def filter_text(webpage,start=None,stop=None,\\\n",
    "                print_word_lvl=False,percent_threshold=None,\\\n",
    "               return_percent=False):\n",
    "\n",
    "\n",
    "    try:\n",
    "        request=urllib.request.Request(webpage,None,headers) #The assembled request\n",
    "        response = urllib.request.urlopen(request)\n",
    "        data = response.read()\n",
    "        contents = text_from_html(data)\n",
    "\n",
    "        known_array = []\n",
    "        unk_array = []\n",
    "        contents_array = sent_tokenize(contents)\n",
    "\n",
    "        if (start is not None) and (stop is not None):\n",
    "            contents_array=contents_array[max(start,0):min(stop,len(contents_array))]\n",
    "\n",
    "        disallowed_words = set()\n",
    "\n",
    "        total_words = 0\n",
    "        unknown_words = 0\n",
    "        \n",
    "        lines = []\n",
    "        unknowns = []\n",
    "        for line in contents_array:\n",
    "\n",
    "\n",
    "            tokenized = word_tokenize(line)\n",
    "\n",
    "\n",
    "            add_line = True\n",
    "            line_total = 0\n",
    "            line_unks = 0\n",
    "\n",
    "            unk_str = \"\"\n",
    "            for word in tokenized:\n",
    "                \n",
    "                total_words +=1\n",
    "                line_total +=1\n",
    "\n",
    "                if bool(re.search('[\\u0E00-\\u0E7F]+', word, flags=re.UNICODE)) and not ((word in vocab['white_listed']) or\\\n",
    "                                                            (word in vocab['black_listed'])):\n",
    "\n",
    "                        unk_str += '\"'+word+'\"'+\", \"\n",
    "                        if not percent_threshold:\n",
    "                            add_line = False\n",
    "                        disallowed_words.add(word)\n",
    "                        unknown_words +=1\n",
    "                        line_unks +=1\n",
    "\n",
    "            if percent_threshold:\n",
    "                if line_total>0:\n",
    "                    if (1-(line_unks/line_total))<percent_threshold:\n",
    "                        add_line = False\n",
    "            if add_line:\n",
    "                known_array.append(line)\n",
    "                unk_array.append(\"...\")\n",
    "            else:\n",
    "                known_array.append(\"...\")\n",
    "                unk_array.append(line)\n",
    "\n",
    "            if len(unk_str)>0:\n",
    "                unk_str = unk_str[0:len(unk_str)-2]\n",
    "\n",
    "            unknowns.append(unk_str)\n",
    "\n",
    "        if print_word_lvl and total_words>0:\n",
    "            print(\"word-level % known = \"+str((1-(unknown_words/total_words))*100))\n",
    "        if return_percent and total_words>0:\n",
    "            return (1-(unknown_words/total_words))*100\n",
    "        return_pd = pd.DataFrame(list(zip(known_array,unk_array,unknowns)))\n",
    "        return_pd.columns = [\"knowns\",\"unknowns\",\"unk_words\"]\n",
    "\n",
    "        \n",
    "\n",
    "        with open(path+'unknown_thai_list.txt',\"w\") as outfile:\n",
    "            outfile.write(str(list(disallowed_words)))\n",
    "\n",
    "        return return_pd\n",
    "\n",
    "    except:\n",
    "        pass"
   ]
  },
  {
   "cell_type": "code",
   "execution_count": 29,
   "id": "826dae68",
   "metadata": {},
   "outputs": [
    {
     "name": "stdout",
     "output_type": "stream",
     "text": [
      "2256\n",
      "2523\n"
     ]
    }
   ],
   "source": [
    "\"\"\"read from existing .json formats\n",
    "uncovered, \n",
    "2256\n",
    "2523\n",
    "\"\"\"\n",
    "with open(path+source_file, \"r\") as path_in:\n",
    "    vocab = json.loads(path_in.read())\n",
    "vocab['white_listed'] = set(vocab['white_listed'])\n",
    "vocab['black_listed'] = set(vocab['black_listed'])\n",
    "print(len(vocab['white_listed'])) \n",
    "\n",
    "#get 4k freq word info:\n",
    "with open(path+'th_freq.csv','r') as infile:\n",
    "    freq_df = pd.read_csv(infile)\n",
    "uncovered = []\n",
    "for word in freq_df.word:\n",
    "    if word not in vocab['white_listed']:\n",
    "        uncovered.append(word)\n",
    "print(len(uncovered))\n",
    "\n"
   ]
  },
  {
   "cell_type": "code",
   "execution_count": 30,
   "id": "004a939d",
   "metadata": {},
   "outputs": [
    {
     "name": "stdout",
     "output_type": "stream",
     "text": [
      "Checking BBC Thai\n",
      "Checking VoiceTV\n"
     ]
    }
   ],
   "source": [
    "pages = []\n",
    "titles = []\n",
    "\n",
    "##BBC\n",
    "print(\"Checking BBC Thai\")\n",
    "parser = 'html.parser'  # or 'lxml' (preferred) or 'html5lib', if installed\n",
    "request=urllib.request.Request('https://www.bbc.com/thai/topics/cjgn73g98rqt',None,headers)\n",
    "resp = urllib.request.urlopen(request)\n",
    "soup = bs4.BeautifulSoup(resp, parser, from_encoding=resp.info().get_param('charset'))\n",
    "\n",
    "\n",
    "for link in soup.find_all('a', href=True):\n",
    "    if 'https://www.bbc.com/thai/thailand' in str(link['href']):\n",
    "        pages.append(str(link['href']))\n",
    "        request=urllib.request.Request(str(link['href']),None,headers) #The assembled request\n",
    "\n",
    "        response = urllib.request.urlopen(request)\n",
    "        data = response.read()\n",
    "        contents = text_from_html(data)\n",
    "        if bool(re.search(\"(?<=ยอดนิยม หน้าแรก ประเทศไทย ต่างประเทศ วิทยาศาสตร์ สุขภาพ โควิด-19 วิดีโอ ยอดนิยม).{30}\",contents)):\n",
    "            titles.append(re.findall(\"(?<=ยอดนิยม หน้าแรก ประเทศไทย ต่างประเทศ วิทยาศาสตร์ สุขภาพ โควิด-19 วิดีโอ ยอดนิยม).{30}\",contents)[0].strip())\n",
    "\n",
    "    elif '/thai/thailand' in str(link['href']):\n",
    "        pages.append('https://www.bbc.com'+str(link['href']))\n",
    "\n",
    "##VoiceTV\n",
    "print(\"Checking VoiceTV\")\n",
    "parser = 'html.parser'  # or 'lxml' (preferred) or 'html5lib', if installed\n",
    "request=urllib.request.Request('https://www.voicetv.co.th/topic/%E0%B8%81%E0%B8%B2%E0%B8%A3%E0%B9%80%E0%B8%A1%E0%B8%B7%E0%B8%AD%E0%B8%87',None,headers)\n",
    "resp = urllib.request.urlopen(request)\n",
    "soup = bs4.BeautifulSoup(resp, parser, from_encoding=resp.info().get_param('charset'))\n",
    "\n",
    " \n",
    "for link in soup.find_all('a', href=True):\n",
    "    str_page = 'https://www.voicetv.co.th'+str(link['href'])\n",
    "    if '/read/' in str(link['href']) and str_page not in pages:\n",
    "        pages.append(str_page)\n",
    "        request=urllib.request.Request(str_page,None,headers) #The assembled request\n",
    "\n",
    "        response = urllib.request.urlopen(request)\n",
    "        data = response.read()\n",
    "        contents = text_from_html(data)\n",
    "        titles.append(re.findall(\"(?<=  :).{30}\",contents)[0].strip())"
   ]
  },
  {
   "cell_type": "code",
   "execution_count": 31,
   "id": "411c6c9a",
   "metadata": {},
   "outputs": [
    {
     "data": {
      "text/plain": [
       "1417"
      ]
     },
     "execution_count": 31,
     "metadata": {},
     "output_type": "execute_result"
    }
   ],
   "source": [
    "#load prev corpus and add\n",
    "known_corpus = set()\n",
    "with open(path+\"all_known_thai_lines.txt\",\"r\",encoding='utf-8') as infile:\n",
    "    for line in infile.read().split('\\n'):\n",
    "        known_corpus.add(line)\n",
    "len(known_corpus)"
   ]
  },
  {
   "cell_type": "code",
   "execution_count": 32,
   "id": "bb6ee0f7",
   "metadata": {},
   "outputs": [
    {
     "name": "stdout",
     "output_type": "stream",
     "text": [
      "percent all known= 0.17706821480406387\n"
     ]
    }
   ],
   "source": [
    "#Find % of all sentences of news\n",
    "knowns = []\n",
    "all_lines = 0\n",
    "\n",
    "known_percents = []\n",
    "\n",
    "for webpage in pages:\n",
    "    \n",
    "    test_df = filter_text(webpage)\n",
    "    all_lines += len(list(test_df.knowns))\n",
    "    \n",
    "    known_percents.append(filter_text(webpage,return_percent=True))\n",
    "    \n",
    "    for item in list(test_df.knowns[test_df.knowns != '...']):\n",
    "        knowns.append(item)\n",
    "percent = len(knowns)/float(all_lines)\n",
    "print(\"percent all known= \"+str(percent))\n"
   ]
  },
  {
   "cell_type": "code",
   "execution_count": 33,
   "id": "1fa348ef",
   "metadata": {},
   "outputs": [
    {
     "data": {
      "text/plain": [
       "['ซึ่งจะเป็นโอกาสที่ดีในด้านการท่องเที่ยวและเป็นการสร้างโอกาสให้พี่น้องประชาชนในพื้นที่ด้วยเช่นกัน ',\n",
       " 'และให้ตัวแทนพรรคการเมืองได้นำเสนอนโยบายของพรรคในการแก้ไขปัญหาของคนจน ',\n",
       " 'แพทย์และพยาบาลที่ส่วนใหญ่ทำงานไม่ต่ำกว่า 90 ชั่วโมงต่อสัปดาห์ ',\n",
       " 'สิทธิของที่ดินทำกิน เป็นสิ่งสำคัญที่รัฐธรรมนูญฉบับนี้ลบหายไป ',\n",
       " 'ไม่ว่าจะเป็น ชั่วโมงการทำงานไม่เกิน 40 ชั่วโมงต่อสัปดาห์ ',\n",
       " 'อย่างไรก็ตาม การผลิตอาหารก็ก่อให้เกิดภาวะโลกร้อนเช่นกัน ',\n",
       " 'จึงเป็นเรื่องยากที่จะตัดสินคำตอบที่ถูกต้องได้ ',\n",
       " 'เพราะหากมีผู้ไม่พอใจเมื่อไหร่ ก็ยึดอำนาจทันที ',\n",
       " 'ไม่ใช่ทิ้งปัญหาเก่าไว้เหมือน พล.อ.ประยุทธ์ ',\n",
       " 'ต้องมีส่วนร่วมในการแก้ไขรัฐธรรมนูญฉบับใหม่ ',\n",
       " 'ซึ่งปัจจุบันสูงมากถึง 70% ของต้นทุนทั้งหมด ',\n",
       " 'วันนี้ปัญหาต่างๆ ก็ยังไม่ได้รับการแก้ไข ',\n",
       " 'เราให้ความสำคัญกับพี่น้องแรงงานอย่างมาก ',\n",
       " 'โลกร้อนเกี่ยวกับอาหารที่เรากินอย่างไร ',\n",
       " 'จึงต้องแก้มาตรา 256 ของฉบับปัจจุบัน ',\n",
       " 'หนึ่งในนั้นคือเรื่องของการลดโลกร้อน ',\n",
       " 'ทำให้ประชาชนมีคุณภาพชีวิตที่ดีขึ้น ',\n",
       " 'ไม่ส่งตัวแทนร่วม Dec 11, 2022 ( ',\n",
       " 'ดังนั้น ควรยกเลิกให้หมดทั้งฉบับ ',\n",
       " 'เรามีนโยบายเฉพาะในแต่ละพื้นที่ ',\n",
       " 'รวมทั้งเรื่องการรับประทานอาหาร ',\n",
       " 'ภาคประชาชนต้องมีส่วนเกี่ยวข้อง ',\n",
       " 'ซึ่งในอดีตรัฐบาลพรรคไทยรักไทย ',\n",
       " \"'สุดยอดอาหาร' 5 อย่างในอนาคต \",\n",
       " 'และตนเป็นผู้คิดชื่อพรรคด้วย ',\n",
       " 'ดูแลคนทำงานทุกคนในประเทศนี้ ',\n",
       " 'ย้ำว่า ต้องยกเลิกทั้งฉบับ ',\n",
       " 'สำหรับรัฐธรรมนูญ ฉบับคนจน ',\n",
       " 'ต้องให้ ส.ส.เลือกเท่านั้น ',\n",
       " 'ทุกจังหวัดทุกสาขาวิชาชีพ ',\n",
       " 'แก้ไขของพรรคไทยสร้างไทย ',\n",
       " 'เพราะมาตรา 255 และ 256 ',\n",
       " 'หากวันนี้พรรคเพื่อไทย ',\n",
       " 'ถือว่ามากที่สุดในโลก ',\n",
       " 'ควรจะแก้ก็แก้ตรงนั้น ',\n",
       " 'ถ้าไม่ได้ก็ทีละมาตรา ',\n",
       " '\"กฎหมายใดที่มีปัญหา ',\n",
       " 'ต้องเปิดเผยทั้งหมด ',\n",
       " 'ฝนที่ตกมากขึ้น ',\n",
       " 'การเลือกนายกฯ ',\n",
       " 'สิทธิวันหยุด ',\n",
       " 'สิทธิชุมชน ',\n",
       " 'เราก็จะทำ\" ',\n",
       " 'ต้องแก้ไข ',\n",
       " 'ต้องร่าง ',\n",
       " 'ทุกมาตรา ',\n",
       " 'ร่างฯ ',\n",
       " 'ลดน้ำ ']"
      ]
     },
     "execution_count": 33,
     "metadata": {},
     "output_type": "execute_result"
    }
   ],
   "source": [
    "#sorted(list(set(knowns)),key=len,reverse=True)\n",
    "sorted(list(set(knowns).difference(known_corpus)),key=len,reverse=True)"
   ]
  },
  {
   "cell_type": "code",
   "execution_count": 10,
   "id": "ac029f06",
   "metadata": {},
   "outputs": [],
   "source": [
    "#manually remove from white\n",
    "remove_from_white = []\n",
    "\n",
    "for word in remove_from_white:\n",
    "    if word in vocab['white_listed']:\n",
    "        vocab['white_listed'].remove(word)"
   ]
  },
  {
   "cell_type": "code",
   "execution_count": 11,
   "id": "1ee450fe",
   "metadata": {},
   "outputs": [
    {
     "data": {
      "text/plain": [
       "1417"
      ]
     },
     "execution_count": 11,
     "metadata": {},
     "output_type": "execute_result"
    }
   ],
   "source": [
    "for item in list(set(knowns)):\n",
    "    known_corpus.add(item)\n",
    "\n",
    "with open(path+\"all_known_thai_lines.txt\",\"w\",encoding='utf-8') as outfile:\n",
    "    for line in list(set(known_corpus)):\n",
    "        outfile.write(line+'\\n')\n",
    "len(known_corpus)"
   ]
  },
  {
   "cell_type": "code",
   "execution_count": 12,
   "id": "2d6948c1",
   "metadata": {},
   "outputs": [
    {
     "name": "stdout",
     "output_type": "stream",
     "text": [
      "23\n"
     ]
    }
   ],
   "source": [
    "websites = set()\n",
    "\n",
    "with open(path+'viewed_websites_th.txt',\"r\") as infile:\n",
    "    for line in infile.read().split('\\n'):\n",
    "        websites.add(line)\n",
    "print(len(websites))"
   ]
  },
  {
   "cell_type": "code",
   "execution_count": 13,
   "id": "2a643828",
   "metadata": {
    "collapsed": true
   },
   "outputs": [
    {
     "data": {
      "text/plain": [
       "[(2,\n",
       "  87.12871287128714,\n",
       "  \"'ฝ่ายค้าน-กมธ.กยศ.' รับหนังสื\",\n",
       "  'https://www.voicetv.co.th/read/Va11U-_CZ'),\n",
       " (0,\n",
       "  85.41772151898735,\n",
       "  \"'ประยุทธ์' ประกาศเจตนารมณ์ต้า\",\n",
       "  'https://www.bbc.com/thai/thailand-63823292'),\n",
       " (4,\n",
       "  85.12696493349456,\n",
       "  '‘ประยุทธ์’ อวยพรปีใหม่สื่อทำเ',\n",
       "  'https://www.voicetv.co.th/read/xxVaQJArU'),\n",
       " (1,\n",
       "  82.4478816408877,\n",
       "  \"'เพื่อไทย' ชี้ค่าแรงขึ้นควบคู\",\n",
       "  'https://www.voicetv.co.th/read/fss_lpZGO'),\n",
       " (5,\n",
       "  81.67539267015707,\n",
       "  '‘วิษณุ’แย้มประตูยุบสภาเปิดอยู',\n",
       "  'https://www.voicetv.co.th/read/bn95YMr0a'),\n",
       " (7,\n",
       "  80.90483619344774,\n",
       "  'จับตา ‘ราษฎรแรลลี่’ จาก ‘วังล',\n",
       "  'https://www.voicetv.co.th/read/rI-9LjhEh'),\n",
       " (3,\n",
       "  80.23529411764706,\n",
       "  \"'ไทยสร้างไทย' ชู 'สุดารัตน์โม\",\n",
       "  'https://www.voicetv.co.th/read/HeRH8xeGe')]"
      ]
     },
     "execution_count": 13,
     "metadata": {},
     "output_type": "execute_result"
    }
   ],
   "source": [
    "page_titles = list(zip(range(0,len(known_percents)),known_percents,titles,pages))\n",
    "# (sorted(list(zip(range(0,len(known_percents)),known_percents)),key = lambda x: x[1],reverse=True))\n",
    "page_titles = sorted(page_titles,key = lambda x: x[1],reverse=True)\n",
    "page_titles = [item for item in page_titles if not (item[3] in websites)]\n",
    "page_titles"
   ]
  },
  {
   "cell_type": "code",
   "execution_count": 14,
   "id": "1e2e7b73",
   "metadata": {},
   "outputs": [],
   "source": [
    "webpage = pages[2]\n",
    "if webpage in websites:\n",
    "    print(\"already scanned! choose another!\")\n",
    "websites.add(webpage)"
   ]
  },
  {
   "cell_type": "code",
   "execution_count": 15,
   "id": "f737a6dc",
   "metadata": {},
   "outputs": [],
   "source": [
    "\n",
    "with open(path+'viewed_websites_th.txt',\"w\") as outfile:\n",
    "    for line in websites:\n",
    "        outfile.write(line+'\\n')      \n"
   ]
  },
  {
   "cell_type": "code",
   "execution_count": 16,
   "id": "141ae514",
   "metadata": {},
   "outputs": [
    {
     "name": "stdout",
     "output_type": "stream",
     "text": [
      "word-level % known = 87.12871287128714\n"
     ]
    }
   ],
   "source": [
    "#display() #percent_threshold=0.95\n",
    "art=filter_text(webpage,print_word_lvl=True)"
   ]
  },
  {
   "cell_type": "code",
   "execution_count": 17,
   "id": "8bce1137",
   "metadata": {},
   "outputs": [
    {
     "name": "stdout",
     "output_type": "stream",
     "text": [
      "67\n"
     ]
    }
   ],
   "source": [
    "with open(path+'unknown_thai_list.txt',\"r\") as input_file:\n",
    "    new_words = input_file.read()\n",
    "    new_words = re.sub(\"[\\n\\'\\[\\]]\",\"\",new_words)\n",
    "    new_words = new_words.split(',')\n",
    "    new_words = [line.strip() for line in new_words] #update regex\n",
    "#new_words\n",
    "print(len(new_words))\n",
    "#known_manual = get_known(new_words)"
   ]
  },
  {
   "cell_type": "code",
   "execution_count": 18,
   "id": "efd86a33",
   "metadata": {},
   "outputs": [],
   "source": [
    "import mitosheet\n",
    "unk_df = pd.DataFrame(new_words)\n",
    "unk_df.columns = ['word']\n",
    "unk_df['status'] = pd.Series(['' for word in new_words])"
   ]
  },
  {
   "cell_type": "code",
   "execution_count": 19,
   "id": "3663bb4f",
   "metadata": {},
   "outputs": [
    {
     "data": {
      "application/vnd.jupyter.widget-view+json": {
       "model_id": "969d9f7a009f40d3b6777055faa09c0c",
       "version_major": 2,
       "version_minor": 0
      },
      "text/plain": [
       "MitoWidget(analysis_data_json='{\"analysisName\": \"id-cfpophysnt\", \"analysisToReplay\": null, \"code\": [], \"stepSu…"
      ]
     },
     "metadata": {},
     "output_type": "display_data"
    }
   ],
   "source": [
    "mitosheet.sheet(unk_df, analysis_to_replay=\"id-cfpophysnt\") "
   ]
  },
  {
   "cell_type": "code",
   "execution_count": null,
   "id": "b442e3e7",
   "metadata": {},
   "outputs": [],
   "source": []
  },
  {
   "cell_type": "code",
   "execution_count": 20,
   "id": "60d5d1ff",
   "metadata": {},
   "outputs": [],
   "source": [
    "add_ints = [3, 4, 11, 19, 22, 46, 53, 62]"
   ]
  },
  {
   "cell_type": "code",
   "execution_count": 21,
   "id": "77eb121a",
   "metadata": {},
   "outputs": [],
   "source": [
    "for i in add_ints:\n",
    "    # Set a cell value in status\n",
    "    unk_df.at[i, 'status'] = 'k'"
   ]
  },
  {
   "cell_type": "code",
   "execution_count": 22,
   "id": "71c577e6",
   "metadata": {},
   "outputs": [],
   "source": [
    "translations = []\n",
    "for i in range(0,len(unk_df)):\n",
    "    try:\n",
    "        translations.append(ts.google(unk_df.word.iloc[i]))\n",
    "    except:\n",
    "        translations.append('')\n",
    "unk_df['translations']=translations\n"
   ]
  },
  {
   "cell_type": "code",
   "execution_count": 23,
   "id": "fe5bce81",
   "metadata": {
    "collapsed": true
   },
   "outputs": [
    {
     "data": {
      "application/vnd.jupyter.widget-view+json": {
       "model_id": "67e310c8b9c44d3bb14cc1c448ab9021",
       "version_major": 2,
       "version_minor": 0
      },
      "text/plain": [
       "MitoWidget(analysis_data_json='{\"analysisName\": \"id-xfhrljwdgr\", \"analysisToReplay\": null, \"code\": [], \"stepSu…"
      ]
     },
     "metadata": {},
     "output_type": "display_data"
    }
   ],
   "source": [
    "mitosheet.sheet(unk_df, analysis_to_replay=\"id-xfhrljwdgr\")"
   ]
  },
  {
   "cell_type": "code",
   "execution_count": 24,
   "id": "9cc3da13",
   "metadata": {},
   "outputs": [],
   "source": [
    "from mitosheet import *; register_analysis(\"id-xfhrljwdgr\");\n",
    "    \n",
    "# Set a cell value in status\n",
    "unk_df.at[4, 'status'] = None\n"
   ]
  },
  {
   "cell_type": "code",
   "execution_count": 25,
   "id": "455c3cdb",
   "metadata": {},
   "outputs": [
    {
     "name": "stdout",
     "output_type": "stream",
     "text": [
      "7\n"
     ]
    }
   ],
   "source": [
    "add_words = list(unk_df.word[unk_df['status']=='k'])\n",
    "print(len(add_words))\n",
    "for word in add_words:\n",
    "    vocab['white_listed'].add(word)"
   ]
  },
  {
   "cell_type": "code",
   "execution_count": 26,
   "id": "02a15572",
   "metadata": {},
   "outputs": [
    {
     "name": "stdout",
     "output_type": "stream",
     "text": [
      "2256\n"
     ]
    }
   ],
   "source": [
    "#write to .json formats\n",
    "df = vocab\n",
    "df['white_listed'] = list(df['white_listed'])\n",
    "df['black_listed'] = list(df['black_listed'])\n",
    "with open(path+source_file, \"w\") as outfile:\n",
    "    json.dump(df,outfile)\n",
    "print(len(df['white_listed']))"
   ]
  },
  {
   "cell_type": "code",
   "execution_count": 27,
   "id": "c7f67a5d",
   "metadata": {},
   "outputs": [
    {
     "name": "stdout",
     "output_type": "stream",
     "text": [
      "2256\n"
     ]
    }
   ],
   "source": [
    "#read from existing .json formats\n",
    "with open(path+source_file, \"r\") as path_in:\n",
    "    vocab = json.loads(path_in.read())\n",
    "vocab['white_listed'] = set(vocab['white_listed'])\n",
    "vocab['black_listed'] = set(vocab['black_listed'])\n",
    "print(len(vocab['white_listed']))"
   ]
  },
  {
   "cell_type": "code",
   "execution_count": 28,
   "id": "4f09c08d",
   "metadata": {
    "collapsed": true
   },
   "outputs": [
    {
     "name": "stdout",
     "output_type": "stream",
     "text": [
      "https://www.voicetv.co.th/read/Va11U-_CZ\n",
      "word-level % known = 88.11881188118812\n"
     ]
    },
    {
     "data": {
      "text/html": [
       "<div><div id=aab5c3db-20d8-4e55-a45d-d2fc93ffe67d style=\"display:none; background-color:#9D6CFF; color:white; width:200px; height:30px; padding-left:5px; border-radius:4px; flex-direction:row; justify-content:space-around; align-items:center;\" onmouseover=\"this.style.backgroundColor='#BA9BF8'\" onmouseout=\"this.style.backgroundColor='#9D6CFF'\" onclick=\"window.commands?.execute('create-mitosheet-from-dataframe-output');\">See Full Dataframe in Mito</div> <script> if (window.commands?.hasCommand('create-mitosheet-from-dataframe-output')) document.getElementById('aab5c3db-20d8-4e55-a45d-d2fc93ffe67d').style.display = 'flex' </script> <table border=\"1\" class=\"dataframe\">\n",
       "  <thead>\n",
       "    <tr style=\"text-align: right;\">\n",
       "      <th></th>\n",
       "      <th>knowns</th>\n",
       "      <th>unknowns</th>\n",
       "      <th>unk_words</th>\n",
       "    </tr>\n",
       "  </thead>\n",
       "  <tbody>\n",
       "    <tr>\n",
       "      <th>0</th>\n",
       "      <td>POLITICS ECONOMICS WORLD ENTERTAINMENT WELL-BEING LOCAL NEWS BLOG VOICE PLAZA TV PROGRAMS LIVE POLITICS ECONOMICS WORLD ENTERTAINMENT WELL-BEING LOCAL NEWS BLOG VOICE PLAZA TV PROGRAMS ABOUT FAQ CONTACT TERM OF USE SCHEDULE ไม่พบผลการค้นหา</td>\n",
       "      <td>...</td>\n",
       "      <td></td>\n",
       "    </tr>\n",
       "    <tr>\n",
       "      <th>1</th>\n",
       "      <td>...</td>\n",
       "      <td>คุณกำลังอ่าน  : 'เพื่อไทย' ชี้ค่าแรงขึ้นควบคู่รายได้ วอนผู้ประกอบการมองภาพรวม</td>\n",
       "      <td>\"ค่าแรง\", \"ควบคู่\", \"วอน\", \"ผู้ประกอบการ\", \"ภาพรวม\"</td>\n",
       "    </tr>\n",
       "    <tr>\n",
       "      <th>2</th>\n",
       "      <td>...</td>\n",
       "      <td>ศก.ประเทศ Share Tweet Share การเมือง 'เพื่อไทย' ชี้ค่าแรงขึ้นควบคู่รายได้ วอนผู้ประกอบการมองภาพรวม</td>\n",
       "      <td>\"ศก.\", \"ค่าแรง\", \"ควบคู่\", \"วอน\", \"ผู้ประกอบการ\", \"ภาพรวม\"</td>\n",
       "    </tr>\n",
       "    <tr>\n",
       "      <th>3</th>\n",
       "      <td>...</td>\n",
       "      <td>ศก.ประเทศ Dec 9, 2022 (</td>\n",
       "      <td>\"ศก.\"</td>\n",
       "    </tr>\n",
       "    <tr>\n",
       "      <th>4</th>\n",
       "      <td>...</td>\n",
       "      <td>Last update Dec 9, 2022 03:25 )   'เพื่อไทย' ระบุค่าแรงขึ้นควบคู่รายได้ วอนผู้ประกอบการมองภาพรวมเศรษฐกิจประเทศ</td>\n",
       "      <td>\"ค่าแรง\", \"ควบคู่\", \"วอน\", \"ผู้ประกอบการ\", \"ภาพรวม\"</td>\n",
       "    </tr>\n",
       "    <tr>\n",
       "      <th>...</th>\n",
       "      <td>...</td>\n",
       "      <td>...</td>\n",
       "      <td>...</td>\n",
       "    </tr>\n",
       "    <tr>\n",
       "      <th>32</th>\n",
       "      <td>...</td>\n",
       "      <td>การขึ้นค่าแรงก็ทำให้ผู้ประกอบการไปไม่รอด</td>\n",
       "      <td>\"ค่าแรง\", \"ผู้ประกอบการ\"</td>\n",
       "    </tr>\n",
       "    <tr>\n",
       "      <th>33</th>\n",
       "      <td>...</td>\n",
       "      <td>แต่การเพิ่มค่าแรงขั้นต่ำภายใต้การนำของรัฐบาลเพื่อไทยไม่ได้เป็นการผลักภาระให้เอกชน แต่เป็นการร่วมมือกันกับภาครัฐที่มีเคยประสบความสำเร็จในการพลิกฟื้นเศรษฐกิจมาแล้วในอดีต</td>\n",
       "      <td>\"ค่าแรงขั้นต่ำ\", \"ผลักภาระ\", \"ภาครัฐ\", \"พลิกฟื้น\"</td>\n",
       "    </tr>\n",
       "    <tr>\n",
       "      <th>34</th>\n",
       "      <td>...</td>\n",
       "      <td>เพื่อกลับมาสร้างรายได้ให้ประเทศ ให้ภาคเอกชน และประชาชนทุกคนอีกครั้ง</td>\n",
       "      <td>\"ภาคเอกชน\"</td>\n",
       "    </tr>\n",
       "    <tr>\n",
       "      <th>35</th>\n",
       "      <td>...</td>\n",
       "      <td>จึงอยากขอร้องให้ผู้ประกอบการมองภาพใหญ่ของประเทศด้วยแพคเกจนโยบายที่นำเสนอโดยรวมซึ่งทำหน้าที่เสมือนฟันเฟืองต่างๆของรถยนต์ร่วมกัน</td>\n",
       "      <td>\"ขอร้อง\", \"ผู้ประกอบการ\", \"โดยรวม\", \"เสมือน\", \"ฟันเฟือง\"</td>\n",
       "    </tr>\n",
       "    <tr>\n",
       "      <th>36</th>\n",
       "      <td>...</td>\n",
       "      <td>การจะขับเคลื่อนประเทศได้นั้น คงใช้เพียงเฟืองตัวใดตัวหนึ่งไม่ได้” กฤษฎา กล่าว Topic การเมือง , พรรคเพื่อไทย Author กองบรรณาธิการวอยซ์ออนไลน์ 51217 Article 1192 Video 10 Blog MOST VIEWED READ WATCH ABOUT FAQ CONTACT TERM OF USE SCHEDULE</td>\n",
       "      <td>\"ขับเคลื่อน\", \"เฟือง\", \"กฤษฎา\"</td>\n",
       "    </tr>\n",
       "  </tbody>\n",
       "</table></div>"
      ],
      "text/plain": [
       "                                                                                                                                                                                                                                                 knowns  \\\n",
       "0      POLITICS ECONOMICS WORLD ENTERTAINMENT WELL-BEING LOCAL NEWS BLOG VOICE PLAZA TV PROGRAMS LIVE POLITICS ECONOMICS WORLD ENTERTAINMENT WELL-BEING LOCAL NEWS BLOG VOICE PLAZA TV PROGRAMS ABOUT FAQ CONTACT TERM OF USE SCHEDULE ไม่พบผลการค้นหา    \n",
       "1   ...                                                                                                                                                                                                                                                   \n",
       "2   ...                                                                                                                                                                                                                                                   \n",
       "3   ...                                                                                                                                                                                                                                                   \n",
       "4   ...                                                                                                                                                                                                                                                   \n",
       "5   ...                                                                                                                                                                                                                                                   \n",
       "6   ...                                                                                                                                                                                                                                                   \n",
       "7   ...                                                                                                                                                                                                                                                   \n",
       "8   ซึ่งในข้อเท็จจริงแล้วหากพรรคเพื่อไทยเป็นรัฐบาล                                                                                                                                                                                                        \n",
       "9   ...                                                                                                                                                                                                                                                   \n",
       "10  1.                                                                                                                                                                                                                                                    \n",
       "11  ...                                                                                                                                                                                                                                                   \n",
       "12  ...                                                                                                                                                                                                                                                   \n",
       "13  มีรายได้มากขึ้น                                                                                                                                                                                                                                       \n",
       "14  เมื่อมีรายได้มากขึ้น                                                                                                                                                                                                                                  \n",
       "15  ...                                                                                                                                                                                                                                                   \n",
       "16  ...                                                                                                                                                                                                                                                   \n",
       "17  ...                                                                                                                                                                                                                                                   \n",
       "18  ...                                                                                                                                                                                                                                                   \n",
       "19  ...                                                                                                                                                                                                                                                   \n",
       "20  ...                                                                                                                                                                                                                                                   \n",
       "21  ...                                                                                                                                                                                                                                                   \n",
       "22  ...                                                                                                                                                                                                                                                   \n",
       "23  ...                                                                                                                                                                                                                                                   \n",
       "24  ...                                                                                                                                                                                                                                                   \n",
       "25  ...                                                                                                                                                                                                                                                   \n",
       "26  ...                                                                                                                                                                                                                                                   \n",
       "27  ...                                                                                                                                                                                                                                                   \n",
       "28  ...                                                                                                                                                                                                                                                   \n",
       "29  ...                                                                                                                                                                                                                                                   \n",
       "30  ...                                                                                                                                                                                                                                                   \n",
       "31  ...                                                                                                                                                                                                                                                   \n",
       "32  ...                                                                                                                                                                                                                                                   \n",
       "33  ...                                                                                                                                                                                                                                                   \n",
       "34  ...                                                                                                                                                                                                                                                   \n",
       "35  ...                                                                                                                                                                                                                                                   \n",
       "36  ...                                                                                                                                                                                                                                                   \n",
       "\n",
       "                                                                                                                                                                                                                                            unknowns  \\\n",
       "0   ...                                                                                                                                                                                                                                                \n",
       "1   คุณกำลังอ่าน  : 'เพื่อไทย' ชี้ค่าแรงขึ้นควบคู่รายได้ วอนผู้ประกอบการมองภาพรวม                                                                                                                                                                      \n",
       "2   ศก.ประเทศ Share Tweet Share การเมือง 'เพื่อไทย' ชี้ค่าแรงขึ้นควบคู่รายได้ วอนผู้ประกอบการมองภาพรวม                                                                                                                                                 \n",
       "3   ศก.ประเทศ Dec 9, 2022 (                                                                                                                                                                                                                            \n",
       "4   Last update Dec 9, 2022 03:25 )   'เพื่อไทย' ระบุค่าแรงขึ้นควบคู่รายได้ วอนผู้ประกอบการมองภาพรวมเศรษฐกิจประเทศ                                                                                                                                     \n",
       "5   จากกรณีที่ผู้ประกอบการมีข้อกังวลเรื่องนโยบายค่าแรงขั้นต่ำ 600 บาท และเงินเดือนปริญญาตรี 25,000 บาท                                                                                                                                                 \n",
       "6   ในขณะที่เศรษฐกิจประเทศไทยมีแนวโน้มยังไม่ฟื้นตัวจากสถานการณ์โควิดนั้น กฤษฎา ตันเทอดทิตย์ ส.ส. หนองคาย และอดีตกรรมการสภาอุตสาหกรรม กล่าวว่าหากพิจารณาเพียงมุมต้นทุนค่าแรงที่สูงขึ้นเพียงด้านเดียว                                                    \n",
       "7   โดยรายได้ไม่ได้สูงขึ้นตามไปด้วย ในหมวกของผู้ประกอบการเองก็คงต้องกังวลและสามารถเข้าใจได้ว่า พรรคเพื่อไทยกำลังจะหาเสียงแบบผลักภาระให้กับภาคเอกชน                                                                                                     \n",
       "8   ...                                                                                                                                                                                                                                                \n",
       "9   สิ่งที่จะดำเนินการควบคู่กันไปคือการหารายได้ให้กับประเทศ ดังนี้                                                                                                                                                                                     \n",
       "10  ...                                                                                                                                                                                                                                                \n",
       "11  การปรับค่าจ้างแรงงานขั้นต่ำเป็นการปรับตามค่าครองชีพ และการขยายตัวของเศรษฐกิจ                                                                                                                                                                       \n",
       "12  หากเพื่อไทยเป็นรัฐบาลจะส่งเสริมให้ผู้กอบการ โดยเฉพาะอย่างยิ่ง SME                                                                                                                                                                                  \n",
       "13  ...                                                                                                                                                                                                                                                \n",
       "14  ...                                                                                                                                                                                                                                                \n",
       "15  ผู้ประกอบการก็สามารถจ่ายค่าแรงที่เพิ่มขึ้นได้                                                                                                                                                                                                      \n",
       "16  ประกอบกับการปรับค่าแรงไม่ได้ขึ้นทีเดียว                                                                                                                                                                                                            \n",
       "17  จะปรับขึ้นตามเพดานสูงสุดในปี 2570 คืออีก 5 ปีข้างหน้า                                                                                                                                                                                              \n",
       "18  ตามการขยายตัวของเศรษฐกิจ ผู้ประกอบการจึงจะมีเวลาปรับตัว 2.                                                                                                                                                                                         \n",
       "19  หากพรรคเพื่อไทยเป็นรัฐบาล ประเทศกลับคืนสู่ประชาธิปไตย                                                                                                                                                                                              \n",
       "20  ประเทศจะสามารถดึงดูดนักลงทุนต่างชาติได้มากขึ้น                                                                                                                                                                                                     \n",
       "21  ผ่านการยกระดับอุตสาหกรรมเปลี่ยนจากประเทศที่ดึงดูดนักลงทุนจากค่าแรงที่ถูกเป็นแรงงานศักยภาพสูง ซึ่งเพื่อไทยจะผลักดันนโยบายเขตธุรกิจใหม่ 4 ภาค เพื่อมาต่อยอดกลุ่มธุรกิจ SME ในไทยที่เน้นนวัตกรรม และเทคโนโลยี ให้เกิดการสร้างรายได้ใหม่               \n",
       "22  เกิดการสร้างงานใหม่จำนวนมากที่ใช้และถ่ายทอดทักษะแรงงานขั้นสูงให้กับแรงงานไทย 3. ภายใต้การนำของรัฐบาลเพื่อไทย                                                                                                                                       \n",
       "23  ภาคการเกษตร ภาคบริการและการท่องเที่ยวจะมีรายได้เพิ่มขึ้นเป็นเท่าตัว                                                                                                                                                                                \n",
       "24  เมื่อคนไทยมีรายได้เพิ่มขึ้น ก็จะสามารถจ่ายต้นทุนค่าแรง และค่าครองชีพอื่นๆที่เพิ่มขึ้นได้ตามไปด้วย 4.                                                                                                                                               \n",
       "25  ที่ผ่านมาสมัยรัฐบาลยิ่งลักษณ์                                                                                                                                                                                                                      \n",
       "26  มีการผ่อนปรนภาษีนิติบุคคล จาก 30% เป็น 23% ในปีแรก                                                                                                                                                                                                 \n",
       "27  และในปีต่อมาเป็น 20% เพื่อชดเชยกับค่าแรงที่เพิ่มขึ้น                                                                                                                                                                                               \n",
       "28  พรรคเพื่อไทยในวันนี้ก็มีแนวคิดที่ออกมาตรการส่งเสริมสนับสนุนภาคเอกชนและผู้ประกอบการ SME ด้วยเช่นกัน 5.                                                                                                                                              \n",
       "29  พรรคฯ ยังมีแนวคิดที่จะมุ่งเน้นการพัฒนาทักษะให้กับแรงงานที่ยังคงมีทักษะไม่สูงมากนัก                                                                                                                                                                 \n",
       "30  และเพิ่มผลิตภาพแรงงานให้สอดรับกับความต้องการของตลาดแรงงานในปัจจุบันและอนาคต                                                                                                                                                                        \n",
       "31  “หากเรามองประเทศในวันนี้ภายใต้การนำของรัฐบาลประยุทธ์ที่กักขังศักยภาพของประเทศไทยเอาไว้                                                                                                                                                             \n",
       "32  การขึ้นค่าแรงก็ทำให้ผู้ประกอบการไปไม่รอด                                                                                                                                                                                                           \n",
       "33  แต่การเพิ่มค่าแรงขั้นต่ำภายใต้การนำของรัฐบาลเพื่อไทยไม่ได้เป็นการผลักภาระให้เอกชน แต่เป็นการร่วมมือกันกับภาครัฐที่มีเคยประสบความสำเร็จในการพลิกฟื้นเศรษฐกิจมาแล้วในอดีต                                                                            \n",
       "34  เพื่อกลับมาสร้างรายได้ให้ประเทศ ให้ภาคเอกชน และประชาชนทุกคนอีกครั้ง                                                                                                                                                                                \n",
       "35  จึงอยากขอร้องให้ผู้ประกอบการมองภาพใหญ่ของประเทศด้วยแพคเกจนโยบายที่นำเสนอโดยรวมซึ่งทำหน้าที่เสมือนฟันเฟืองต่างๆของรถยนต์ร่วมกัน                                                                                                                     \n",
       "36  การจะขับเคลื่อนประเทศได้นั้น คงใช้เพียงเฟืองตัวใดตัวหนึ่งไม่ได้” กฤษฎา กล่าว Topic การเมือง , พรรคเพื่อไทย Author กองบรรณาธิการวอยซ์ออนไลน์ 51217 Article 1192 Video 10 Blog MOST VIEWED READ WATCH ABOUT FAQ CONTACT TERM OF USE SCHEDULE         \n",
       "\n",
       "                                                                                                     unk_words  \n",
       "0                                                                                                               \n",
       "1   \"ค่าแรง\", \"ควบคู่\", \"วอน\", \"ผู้ประกอบการ\", \"ภาพรวม\"                                                         \n",
       "2   \"ศก.\", \"ค่าแรง\", \"ควบคู่\", \"วอน\", \"ผู้ประกอบการ\", \"ภาพรวม\"                                                  \n",
       "3   \"ศก.\"                                                                                                       \n",
       "4   \"ค่าแรง\", \"ควบคู่\", \"วอน\", \"ผู้ประกอบการ\", \"ภาพรวม\"                                                         \n",
       "5   \"ผู้ประกอบการ\", \"ค่าแรงขั้นต่ำ\", \"ปริญญาตรี\"                                                                \n",
       "6   \"มีแนวโน้ม\", \"ฟื้นตัว\", \"กฤษฎา\", \"ตัน\", \"อด\", \"ทิตย์\", \"หนองคาย\", \"กรรมการ\", \"อุตสาหกรรม\", \"มุม\", \"ค่าแรง\"  \n",
       "7   \"หมวก\", \"ผู้ประกอบการ\", \"หาเสียง\", \"ผลักภาระ\", \"ภาคเอกชน\"                                                   \n",
       "8                                                                                                               \n",
       "9   \"ควบคู่กันไป\"                                                                                               \n",
       "10                                                                                                              \n",
       "11  \"จ้างแรงงาน\", \"ขั้นต่ำ\", \"ค่าครองชีพ\"                                                                       \n",
       "12  \"กอบ\", \"โดยเฉพาะอย่างยิ่ง\"                                                                                  \n",
       "13                                                                                                              \n",
       "14                                                                                                              \n",
       "15  \"ผู้ประกอบการ\", \"ค่าแรง\"                                                                                    \n",
       "16  \"ค่าแรง\", \"ทีเดียว\"                                                                                         \n",
       "17  \"เพดาน\"                                                                                                     \n",
       "18  \"ผู้ประกอบการ\", \"ปรับตัว\"                                                                                   \n",
       "19  \"กลับคืน\"                                                                                                   \n",
       "20  \"ดึงดูด\"                                                                                                    \n",
       "21  \"ยกระดับ\", \"อุตสาหกรรม\", \"ดึงดูด\", \"ค่าแรง\", \"ศักยภาพ\", \"ผลักดัน\", \"ต่อยอด\", \"นวัตกรรม\"                     \n",
       "22  \"ถ่ายทอด\", \"ทักษะ\", \"ขั้นสูง\"                                                                               \n",
       "23  \"เท่าตัว\"                                                                                                   \n",
       "24  \"ค่าแรง\", \"ค่าครองชีพ\"                                                                                      \n",
       "25  \"ลักษณ์\"                                                                                                    \n",
       "26  \"การผ่อนปรน\", \"ภาษี\", \"นิติบุคคล\"                                                                           \n",
       "27  \"ชดเชย\", \"ค่าแรง\"                                                                                           \n",
       "28  \"มาตรการ\", \"ภาคเอกชน\", \"ผู้ประกอบการ\"                                                                       \n",
       "29  \"มุ่งเน้น\", \"ทักษะ\", \"ทักษะ\"                                                                                \n",
       "30  \"สอด\", \"ตลาดแรงงาน\"                                                                                         \n",
       "31  \"กักขัง\", \"ศักยภาพ\"                                                                                         \n",
       "32  \"ค่าแรง\", \"ผู้ประกอบการ\"                                                                                    \n",
       "33  \"ค่าแรงขั้นต่ำ\", \"ผลักภาระ\", \"ภาครัฐ\", \"พลิกฟื้น\"                                                           \n",
       "34  \"ภาคเอกชน\"                                                                                                  \n",
       "35  \"ขอร้อง\", \"ผู้ประกอบการ\", \"โดยรวม\", \"เสมือน\", \"ฟันเฟือง\"                                                    \n",
       "36  \"ขับเคลื่อน\", \"เฟือง\", \"กฤษฎา\"                                                                              "
      ]
     },
     "execution_count": 28,
     "metadata": {},
     "output_type": "execute_result"
    }
   ],
   "source": [
    "print(webpage)\n",
    "filter_text(webpage,print_word_lvl=True)"
   ]
  },
  {
   "cell_type": "markdown",
   "id": "b04bfa91",
   "metadata": {},
   "source": [
    "##END"
   ]
  },
  {
   "cell_type": "code",
   "execution_count": 147,
   "id": "db36cdb8",
   "metadata": {
    "collapsed": true
   },
   "outputs": [
    {
     "name": "stdout",
     "output_type": "stream",
     "text": [
      "daily catch in word count:\n",
      "['เชิญ', 'ยิ้ม', 'ยินดี', 'รอย', 'เอกสาร', 'สนิท', 'กระดาษ', 'คอ', 'โรงพยาบาล', 'หิน', 'จด', 'ปืน', 'โต๊ะ', 'เสื้อผ้า', 'เลือด', 'สิทธิ์', 'นักเขียน', 'สนุกสนาน', 'หัวเราะ', 'หู', 'ยิง', 'สวยงาม', 'ล่า', 'แขก', 'ดอกไม้', 'ที่นั่ง', 'เสือ', 'ปกป้อง', 'รับประทาน', 'ไอ', 'สนุก', 'ลูกชาย', 'สหรัฐ', 'นิ้ว', 'ไอ้', 'รถไฟ', 'เล็กน้อย', 'โปรด', 'คะแนน', 'กรุณา', 'โรงแรม', 'จดหมาย', 'ขับ', 'ดื่ม', 'หอม', 'ระมัดระวัง', 'ฤดู', 'ฟัน', 'เท้า', 'หล่อน', 'วางแผน', 'ลับ', 'ลอย', 'ยกเว้น', 'ลูกค้า', 'ริม', 'ม้า', 'คอมพิวเตอร์']\n"
     ]
    }
   ],
   "source": [
    "#Upload from download\n",
    "with open(path+'known_thai_list.txt',\"r\") as input_file:\n",
    "    new_words = input_file.read().split(',')\n",
    "    print(\"daily catch in word count:\")\n",
    "    print(new_words)\n",
    "for line in new_words:   \n",
    "    vocab['white_listed'].add(line.replace(\"'\",\"\").strip())\n"
   ]
  },
  {
   "cell_type": "code",
   "execution_count": 154,
   "id": "0141a9c3",
   "metadata": {},
   "outputs": [
    {
     "name": "stdout",
     "output_type": "stream",
     "text": [
      "Hello Nong\n"
     ]
    }
   ],
   "source": [
    "\n",
    "wyw_text = 'สวัสดีครับน้อง'\n",
    "print(ts.google(wyw_text))\n",
    "#print(ts._google.language_map)\n",
    "#print(ts.google(wyw_text))"
   ]
  },
  {
   "cell_type": "code",
   "execution_count": 227,
   "id": "67b1cbb0",
   "metadata": {},
   "outputs": [
    {
     "name": "stdout",
     "output_type": "stream",
     "text": [
      "today's catch % of corpus:\n"
     ]
    },
    {
     "data": {
      "text/plain": [
       "'1.200344766395417%'"
      ]
     },
     "execution_count": 227,
     "metadata": {},
     "output_type": "execute_result"
    }
   ],
   "source": [
    "#Get after when adding in new words\n",
    "print(\"today's catch % of corpus:\")\n",
    "str(100*(percent-prev_percent))+\"%\""
   ]
  },
  {
   "cell_type": "code",
   "execution_count": null,
   "id": "3258e547",
   "metadata": {},
   "outputs": [],
   "source": [
    "#output newly knowns\n",
    "with open(path+\"new_known_thai_lines.txt\",\"w\") as outfile:\n",
    "    for line in list(set(knowns).difference(prev_knowns)):\n",
    "        outfile.write(line+'\\n')\n"
   ]
  },
  {
   "cell_type": "code",
   "execution_count": 105,
   "id": "1a9fb3c5",
   "metadata": {},
   "outputs": [
    {
     "name": "stdout",
     "output_type": "stream",
     "text": [
      "Sanity check. Current vocab size:\n"
     ]
    },
    {
     "data": {
      "text/plain": [
       "1462"
      ]
     },
     "execution_count": 105,
     "metadata": {},
     "output_type": "execute_result"
    }
   ],
   "source": [
    "print(\"Sanity check. Current vocab size:\")\n",
    "len(vocab['white_listed'])"
   ]
  },
  {
   "cell_type": "code",
   "execution_count": 117,
   "id": "564b37a8",
   "metadata": {},
   "outputs": [],
   "source": [
    "\"\"\"\n",
    "to do:\n",
    "\n",
    "\"\"\""
   ]
  },
  {
   "cell_type": "code",
   "execution_count": 7,
   "id": "d9799280",
   "metadata": {},
   "outputs": [
    {
     "data": {
      "text/plain": [
       "999"
      ]
     },
     "execution_count": 7,
     "metadata": {},
     "output_type": "execute_result"
    }
   ],
   "source": [
    "##INPUT-OUTPUT\n",
    "#vocab list:\n",
    "with open(\"/Users/elyebliss/Desktop/Vocabulary/vocab_dfs/thai_whitelisted.csv\",\"r\") as infile:\n",
    "    whitelisted_lemmas = infile.read()\n",
    "\n",
    "\n",
    "##VARIABLES\n",
    "vocab_all = set()\n",
    "\n",
    "\n",
    "for line in whitelisted_lemmas.split('\\n'):\n",
    "    if len(line) > 0:\n",
    "        \n",
    "        vocab = line.strip()\n",
    "        vocab_all.add(vocab)\n",
    "        \n",
    "len(whitelisted_lemmas.split('\\n'))            \n",
    "#pp.pprint(vocab_all)"
   ]
  },
  {
   "cell_type": "code",
   "execution_count": 8,
   "id": "3e37bfb9",
   "metadata": {},
   "outputs": [],
   "source": [
    "vocab = {}\n",
    "vocab['white_listed'] = list(vocab_all)\n",
    "vocab['black_listed'] = []"
   ]
  }
 ],
 "metadata": {
  "kernelspec": {
   "display_name": "Python 3 (ipykernel)",
   "language": "python",
   "name": "python3"
  },
  "language_info": {
   "codemirror_mode": {
    "name": "ipython",
    "version": 3
   },
   "file_extension": ".py",
   "mimetype": "text/x-python",
   "name": "python",
   "nbconvert_exporter": "python",
   "pygments_lexer": "ipython3",
   "version": "3.9.12"
  }
 },
 "nbformat": 4,
 "nbformat_minor": 5
}
